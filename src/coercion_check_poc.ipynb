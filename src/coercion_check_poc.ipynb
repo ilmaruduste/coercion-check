{
 "cells": [
  {
   "cell_type": "markdown",
   "id": "4458587f",
   "metadata": {},
   "source": [
    "# Intro\n",
    "## Coercion check\n",
    "\n",
    "In identity verification systems, we need to ensure that people are who they say they are. However, given the range of services that verifying oneself can give access to, it's also important to establish that people verifying themselves are doing so out of their own volition (as opposed to being coerced or incentivised into doing so). A common indicator of this kind of fraud pattern is the presence of multiple people during the verification process.\n",
    "\n",
    "This notebook is meant for proof-of-concepting a sort of a coercion check."
   ]
  },
  {
   "cell_type": "markdown",
   "id": "01adbe6a",
   "metadata": {},
   "source": [
    "# Setup \n",
    "## Dependancies"
   ]
  },
  {
   "cell_type": "code",
   "execution_count": 72,
   "id": "3d1c11e0",
   "metadata": {},
   "outputs": [],
   "source": [
    "from ultralytics import YOLO\n",
    "import cv2\n",
    "import numpy as np\n",
    "import pandas as pd\n",
    "from tqdm import tqdm\n",
    "from deep_sort_realtime.deepsort_tracker import DeepSort\n",
    "from collections import defaultdict\n",
    "import glob"
   ]
  },
  {
   "cell_type": "markdown",
   "id": "2c3791a1",
   "metadata": {},
   "source": [
    "## GPU\n",
    "Making sure we're using the GPU for any CUDA calculations."
   ]
  },
  {
   "cell_type": "code",
   "execution_count": 2,
   "id": "3945ab75",
   "metadata": {},
   "outputs": [
    {
     "name": "stdout",
     "output_type": "stream",
     "text": [
      "CUDA available: True\n",
      "CUDA device count: 1\n",
      "Current CUDA device: 0\n",
      "CUDA device name: NVIDIA GeForce RTX 4070\n"
     ]
    }
   ],
   "source": [
    "import torch\n",
    "print(f\"CUDA available: {torch.cuda.is_available()}\")\n",
    "print(f\"CUDA device count: {torch.cuda.device_count()}\")\n",
    "if torch.cuda.is_available():\n",
    "    print(f\"Current CUDA device: {torch.cuda.current_device()}\")\n",
    "    print(f\"CUDA device name: {torch.cuda.get_device_name(0)}\")"
   ]
  },
  {
   "cell_type": "markdown",
   "id": "99d00d84",
   "metadata": {},
   "source": [
    "# Object Detection\n",
    "## Model initialisation\n",
    "\n",
    "For object detection, The YOLO series of models is really easy to set up and use. Here I am using the pretrained Yolov8 (Ultralytics) model and specifically the medium sized variant (nano, small and large models also exist, with model size leading to better object detection with diminishing returns)."
   ]
  },
  {
   "cell_type": "code",
   "execution_count": 6,
   "id": "63c1290b",
   "metadata": {},
   "outputs": [],
   "source": [
    "model = YOLO(\"models/yolov8m.pt\")  # yolov8n.pt, yolov8s.pt or yolov8m.pt for better accuracy"
   ]
  },
  {
   "cell_type": "markdown",
   "id": "f85e8682",
   "metadata": {},
   "source": [
    "## Initial test"
   ]
  },
  {
   "cell_type": "code",
   "execution_count": 7,
   "id": "e903bc39",
   "metadata": {},
   "outputs": [
    {
     "name": "stdout",
     "output_type": "stream",
     "text": [
      "\n",
      "video 1/1 (frame 1/253) c:\\Users\\Ilmar\\hobby_projects\\coercion-check\\src\\videos\\veriff1.mp4: 384x640 1 person, 53.2ms\n",
      "tensor([0.], device='cuda:0')\n",
      "video 1/1 (frame 2/253) c:\\Users\\Ilmar\\hobby_projects\\coercion-check\\src\\videos\\veriff1.mp4: 384x640 1 person, 14.2ms\n",
      "tensor([0.], device='cuda:0')\n",
      "video 1/1 (frame 3/253) c:\\Users\\Ilmar\\hobby_projects\\coercion-check\\src\\videos\\veriff1.mp4: 384x640 1 person, 14.2ms\n",
      "tensor([0.], device='cuda:0')\n",
      "video 1/1 (frame 4/253) c:\\Users\\Ilmar\\hobby_projects\\coercion-check\\src\\videos\\veriff1.mp4: 384x640 1 person, 11.9ms\n",
      "tensor([0.], device='cuda:0')\n",
      "video 1/1 (frame 5/253) c:\\Users\\Ilmar\\hobby_projects\\coercion-check\\src\\videos\\veriff1.mp4: 384x640 1 person, 11.5ms\n",
      "tensor([0.], device='cuda:0')\n",
      "video 1/1 (frame 6/253) c:\\Users\\Ilmar\\hobby_projects\\coercion-check\\src\\videos\\veriff1.mp4: 384x640 1 person, 16.4ms\n",
      "tensor([0.], device='cuda:0')\n",
      "video 1/1 (frame 7/253) c:\\Users\\Ilmar\\hobby_projects\\coercion-check\\src\\videos\\veriff1.mp4: 384x640 1 person, 11.7ms\n",
      "tensor([0.], device='cuda:0')\n",
      "video 1/1 (frame 8/253) c:\\Users\\Ilmar\\hobby_projects\\coercion-check\\src\\videos\\veriff1.mp4: 384x640 1 person, 11.6ms\n",
      "tensor([0.], device='cuda:0')\n",
      "video 1/1 (frame 9/253) c:\\Users\\Ilmar\\hobby_projects\\coercion-check\\src\\videos\\veriff1.mp4: 384x640 1 person, 11.5ms\n",
      "tensor([0.], device='cuda:0')\n",
      "video 1/1 (frame 10/253) c:\\Users\\Ilmar\\hobby_projects\\coercion-check\\src\\videos\\veriff1.mp4: 384x640 1 person, 11.8ms\n",
      "tensor([0.], device='cuda:0')\n",
      "video 1/1 (frame 11/253) c:\\Users\\Ilmar\\hobby_projects\\coercion-check\\src\\videos\\veriff1.mp4: 384x640 1 person, 12.3ms\n",
      "tensor([0.], device='cuda:0')\n",
      "video 1/1 (frame 12/253) c:\\Users\\Ilmar\\hobby_projects\\coercion-check\\src\\videos\\veriff1.mp4: 384x640 1 person, 16.5ms\n",
      "tensor([0.], device='cuda:0')\n",
      "video 1/1 (frame 13/253) c:\\Users\\Ilmar\\hobby_projects\\coercion-check\\src\\videos\\veriff1.mp4: 384x640 1 person, 16.3ms\n",
      "tensor([0.], device='cuda:0')\n",
      "video 1/1 (frame 14/253) c:\\Users\\Ilmar\\hobby_projects\\coercion-check\\src\\videos\\veriff1.mp4: 384x640 1 person, 11.5ms\n",
      "tensor([0.], device='cuda:0')\n",
      "video 1/1 (frame 15/253) c:\\Users\\Ilmar\\hobby_projects\\coercion-check\\src\\videos\\veriff1.mp4: 384x640 1 person, 11.5ms\n",
      "tensor([0.], device='cuda:0')\n",
      "video 1/1 (frame 16/253) c:\\Users\\Ilmar\\hobby_projects\\coercion-check\\src\\videos\\veriff1.mp4: 384x640 1 person, 11.7ms\n",
      "tensor([0.], device='cuda:0')\n",
      "video 1/1 (frame 17/253) c:\\Users\\Ilmar\\hobby_projects\\coercion-check\\src\\videos\\veriff1.mp4: 384x640 1 person, 11.7ms\n",
      "tensor([0.], device='cuda:0')\n",
      "video 1/1 (frame 18/253) c:\\Users\\Ilmar\\hobby_projects\\coercion-check\\src\\videos\\veriff1.mp4: 384x640 1 person, 11.5ms\n",
      "tensor([0.], device='cuda:0')\n",
      "video 1/1 (frame 19/253) c:\\Users\\Ilmar\\hobby_projects\\coercion-check\\src\\videos\\veriff1.mp4: 384x640 1 person, 16.7ms\n",
      "tensor([0.], device='cuda:0')\n",
      "video 1/1 (frame 20/253) c:\\Users\\Ilmar\\hobby_projects\\coercion-check\\src\\videos\\veriff1.mp4: 384x640 1 person, 25.4ms\n",
      "tensor([0.], device='cuda:0')\n",
      "video 1/1 (frame 21/253) c:\\Users\\Ilmar\\hobby_projects\\coercion-check\\src\\videos\\veriff1.mp4: 384x640 1 person, 25.4ms\n",
      "tensor([0.], device='cuda:0')\n",
      "video 1/1 (frame 22/253) c:\\Users\\Ilmar\\hobby_projects\\coercion-check\\src\\videos\\veriff1.mp4: 384x640 1 person, 11.3ms\n",
      "tensor([0.], device='cuda:0')\n",
      "video 1/1 (frame 23/253) c:\\Users\\Ilmar\\hobby_projects\\coercion-check\\src\\videos\\veriff1.mp4: 384x640 1 person, 13.6ms\n",
      "tensor([0.], device='cuda:0')\n",
      "video 1/1 (frame 24/253) c:\\Users\\Ilmar\\hobby_projects\\coercion-check\\src\\videos\\veriff1.mp4: 384x640 1 person, 12.1ms\n",
      "tensor([0.], device='cuda:0')\n",
      "video 1/1 (frame 25/253) c:\\Users\\Ilmar\\hobby_projects\\coercion-check\\src\\videos\\veriff1.mp4: 384x640 1 person, 11.4ms\n",
      "tensor([0.], device='cuda:0')\n",
      "video 1/1 (frame 26/253) c:\\Users\\Ilmar\\hobby_projects\\coercion-check\\src\\videos\\veriff1.mp4: 384x640 1 person, 11.8ms\n",
      "tensor([0.], device='cuda:0')\n",
      "video 1/1 (frame 27/253) c:\\Users\\Ilmar\\hobby_projects\\coercion-check\\src\\videos\\veriff1.mp4: 384x640 1 person, 11.5ms\n",
      "tensor([0.], device='cuda:0')\n",
      "video 1/1 (frame 28/253) c:\\Users\\Ilmar\\hobby_projects\\coercion-check\\src\\videos\\veriff1.mp4: 384x640 1 person, 11.7ms\n",
      "tensor([0.], device='cuda:0')\n",
      "video 1/1 (frame 29/253) c:\\Users\\Ilmar\\hobby_projects\\coercion-check\\src\\videos\\veriff1.mp4: 384x640 1 person, 11.4ms\n",
      "tensor([0.], device='cuda:0')\n",
      "video 1/1 (frame 30/253) c:\\Users\\Ilmar\\hobby_projects\\coercion-check\\src\\videos\\veriff1.mp4: 384x640 1 person, 11.6ms\n",
      "tensor([0.], device='cuda:0')\n",
      "video 1/1 (frame 31/253) c:\\Users\\Ilmar\\hobby_projects\\coercion-check\\src\\videos\\veriff1.mp4: 384x640 1 person, 11.6ms\n",
      "tensor([0.], device='cuda:0')\n",
      "video 1/1 (frame 32/253) c:\\Users\\Ilmar\\hobby_projects\\coercion-check\\src\\videos\\veriff1.mp4: 384x640 1 person, 15.9ms\n",
      "tensor([0.], device='cuda:0')\n",
      "video 1/1 (frame 33/253) c:\\Users\\Ilmar\\hobby_projects\\coercion-check\\src\\videos\\veriff1.mp4: 384x640 1 person, 24.2ms\n",
      "tensor([0.], device='cuda:0')\n",
      "video 1/1 (frame 34/253) c:\\Users\\Ilmar\\hobby_projects\\coercion-check\\src\\videos\\veriff1.mp4: 384x640 1 person, 26.2ms\n",
      "tensor([0.], device='cuda:0')\n",
      "video 1/1 (frame 35/253) c:\\Users\\Ilmar\\hobby_projects\\coercion-check\\src\\videos\\veriff1.mp4: 384x640 1 person, 20.1ms\n",
      "tensor([0.], device='cuda:0')\n",
      "video 1/1 (frame 36/253) c:\\Users\\Ilmar\\hobby_projects\\coercion-check\\src\\videos\\veriff1.mp4: 384x640 1 person, 11.7ms\n",
      "tensor([0.], device='cuda:0')\n",
      "video 1/1 (frame 37/253) c:\\Users\\Ilmar\\hobby_projects\\coercion-check\\src\\videos\\veriff1.mp4: 384x640 1 person, 18.5ms\n",
      "tensor([0.], device='cuda:0')\n",
      "video 1/1 (frame 38/253) c:\\Users\\Ilmar\\hobby_projects\\coercion-check\\src\\videos\\veriff1.mp4: 384x640 1 person, 11.4ms\n",
      "tensor([0.], device='cuda:0')\n",
      "video 1/1 (frame 39/253) c:\\Users\\Ilmar\\hobby_projects\\coercion-check\\src\\videos\\veriff1.mp4: 384x640 1 person, 11.7ms\n",
      "tensor([0.], device='cuda:0')\n",
      "video 1/1 (frame 40/253) c:\\Users\\Ilmar\\hobby_projects\\coercion-check\\src\\videos\\veriff1.mp4: 384x640 1 person, 11.7ms\n",
      "tensor([0.], device='cuda:0')\n",
      "video 1/1 (frame 41/253) c:\\Users\\Ilmar\\hobby_projects\\coercion-check\\src\\videos\\veriff1.mp4: 384x640 1 person, 11.8ms\n",
      "tensor([0.], device='cuda:0')\n",
      "video 1/1 (frame 42/253) c:\\Users\\Ilmar\\hobby_projects\\coercion-check\\src\\videos\\veriff1.mp4: 384x640 1 person, 11.6ms\n",
      "tensor([0.], device='cuda:0')\n",
      "video 1/1 (frame 43/253) c:\\Users\\Ilmar\\hobby_projects\\coercion-check\\src\\videos\\veriff1.mp4: 384x640 1 person, 13.5ms\n",
      "tensor([0.], device='cuda:0')\n",
      "video 1/1 (frame 44/253) c:\\Users\\Ilmar\\hobby_projects\\coercion-check\\src\\videos\\veriff1.mp4: 384x640 1 person, 19.3ms\n",
      "tensor([0.], device='cuda:0')\n",
      "video 1/1 (frame 45/253) c:\\Users\\Ilmar\\hobby_projects\\coercion-check\\src\\videos\\veriff1.mp4: 384x640 1 person, 11.2ms\n",
      "tensor([0.], device='cuda:0')\n",
      "video 1/1 (frame 46/253) c:\\Users\\Ilmar\\hobby_projects\\coercion-check\\src\\videos\\veriff1.mp4: 384x640 1 person, 11.4ms\n",
      "tensor([0.], device='cuda:0')\n",
      "video 1/1 (frame 47/253) c:\\Users\\Ilmar\\hobby_projects\\coercion-check\\src\\videos\\veriff1.mp4: 384x640 1 person, 11.4ms\n",
      "tensor([0.], device='cuda:0')\n",
      "video 1/1 (frame 48/253) c:\\Users\\Ilmar\\hobby_projects\\coercion-check\\src\\videos\\veriff1.mp4: 384x640 1 person, 11.9ms\n",
      "tensor([0.], device='cuda:0')\n",
      "video 1/1 (frame 49/253) c:\\Users\\Ilmar\\hobby_projects\\coercion-check\\src\\videos\\veriff1.mp4: 384x640 1 person, 11.1ms\n",
      "tensor([0.], device='cuda:0')\n",
      "video 1/1 (frame 50/253) c:\\Users\\Ilmar\\hobby_projects\\coercion-check\\src\\videos\\veriff1.mp4: 384x640 1 person, 11.4ms\n",
      "tensor([0.], device='cuda:0')\n",
      "video 1/1 (frame 51/253) c:\\Users\\Ilmar\\hobby_projects\\coercion-check\\src\\videos\\veriff1.mp4: 384x640 1 person, 19.2ms\n",
      "tensor([0.], device='cuda:0')\n",
      "video 1/1 (frame 52/253) c:\\Users\\Ilmar\\hobby_projects\\coercion-check\\src\\videos\\veriff1.mp4: 384x640 1 person, 25.3ms\n",
      "tensor([0.], device='cuda:0')\n",
      "video 1/1 (frame 53/253) c:\\Users\\Ilmar\\hobby_projects\\coercion-check\\src\\videos\\veriff1.mp4: 384x640 1 person, 16.5ms\n",
      "tensor([0.], device='cuda:0')\n",
      "video 1/1 (frame 54/253) c:\\Users\\Ilmar\\hobby_projects\\coercion-check\\src\\videos\\veriff1.mp4: 384x640 1 person, 19.3ms\n",
      "tensor([0.], device='cuda:0')\n",
      "video 1/1 (frame 55/253) c:\\Users\\Ilmar\\hobby_projects\\coercion-check\\src\\videos\\veriff1.mp4: 384x640 1 person, 17.1ms\n",
      "tensor([0.], device='cuda:0')\n",
      "video 1/1 (frame 56/253) c:\\Users\\Ilmar\\hobby_projects\\coercion-check\\src\\videos\\veriff1.mp4: 384x640 1 person, 18.0ms\n",
      "tensor([0.], device='cuda:0')\n",
      "video 1/1 (frame 57/253) c:\\Users\\Ilmar\\hobby_projects\\coercion-check\\src\\videos\\veriff1.mp4: 384x640 1 person, 25.2ms\n",
      "tensor([0.], device='cuda:0')\n",
      "video 1/1 (frame 58/253) c:\\Users\\Ilmar\\hobby_projects\\coercion-check\\src\\videos\\veriff1.mp4: 384x640 1 person, 19.4ms\n",
      "tensor([0.], device='cuda:0')\n",
      "video 1/1 (frame 59/253) c:\\Users\\Ilmar\\hobby_projects\\coercion-check\\src\\videos\\veriff1.mp4: 384x640 1 person, 25.5ms\n",
      "tensor([0.], device='cuda:0')\n",
      "video 1/1 (frame 60/253) c:\\Users\\Ilmar\\hobby_projects\\coercion-check\\src\\videos\\veriff1.mp4: 384x640 1 person, 25.4ms\n",
      "tensor([0.], device='cuda:0')\n",
      "video 1/1 (frame 61/253) c:\\Users\\Ilmar\\hobby_projects\\coercion-check\\src\\videos\\veriff1.mp4: 384x640 1 person, 11.7ms\n",
      "tensor([0.], device='cuda:0')\n",
      "video 1/1 (frame 62/253) c:\\Users\\Ilmar\\hobby_projects\\coercion-check\\src\\videos\\veriff1.mp4: 384x640 1 person, 16.6ms\n",
      "tensor([0.], device='cuda:0')\n",
      "video 1/1 (frame 63/253) c:\\Users\\Ilmar\\hobby_projects\\coercion-check\\src\\videos\\veriff1.mp4: 384x640 1 person, 11.7ms\n",
      "tensor([0.], device='cuda:0')\n",
      "video 1/1 (frame 64/253) c:\\Users\\Ilmar\\hobby_projects\\coercion-check\\src\\videos\\veriff1.mp4: 384x640 1 person, 11.0ms\n",
      "tensor([0.], device='cuda:0')\n",
      "video 1/1 (frame 65/253) c:\\Users\\Ilmar\\hobby_projects\\coercion-check\\src\\videos\\veriff1.mp4: 384x640 1 person, 16.8ms\n",
      "tensor([0.], device='cuda:0')\n",
      "video 1/1 (frame 66/253) c:\\Users\\Ilmar\\hobby_projects\\coercion-check\\src\\videos\\veriff1.mp4: 384x640 1 person, 12.2ms\n",
      "tensor([0.], device='cuda:0')\n",
      "video 1/1 (frame 67/253) c:\\Users\\Ilmar\\hobby_projects\\coercion-check\\src\\videos\\veriff1.mp4: 384x640 1 person, 12.0ms\n",
      "tensor([0.], device='cuda:0')\n",
      "video 1/1 (frame 68/253) c:\\Users\\Ilmar\\hobby_projects\\coercion-check\\src\\videos\\veriff1.mp4: 384x640 1 person, 12.2ms\n",
      "tensor([0.], device='cuda:0')\n",
      "video 1/1 (frame 69/253) c:\\Users\\Ilmar\\hobby_projects\\coercion-check\\src\\videos\\veriff1.mp4: 384x640 1 person, 11.9ms\n",
      "tensor([0.], device='cuda:0')\n",
      "video 1/1 (frame 70/253) c:\\Users\\Ilmar\\hobby_projects\\coercion-check\\src\\videos\\veriff1.mp4: 384x640 1 person, 15.3ms\n",
      "tensor([0.], device='cuda:0')\n",
      "video 1/1 (frame 71/253) c:\\Users\\Ilmar\\hobby_projects\\coercion-check\\src\\videos\\veriff1.mp4: 384x640 1 person, 18.8ms\n",
      "tensor([0.], device='cuda:0')\n",
      "video 1/1 (frame 72/253) c:\\Users\\Ilmar\\hobby_projects\\coercion-check\\src\\videos\\veriff1.mp4: 384x640 1 person, 11.6ms\n",
      "tensor([0.], device='cuda:0')\n",
      "video 1/1 (frame 73/253) c:\\Users\\Ilmar\\hobby_projects\\coercion-check\\src\\videos\\veriff1.mp4: 384x640 1 person, 17.8ms\n",
      "tensor([0.], device='cuda:0')\n",
      "video 1/1 (frame 74/253) c:\\Users\\Ilmar\\hobby_projects\\coercion-check\\src\\videos\\veriff1.mp4: 384x640 1 person, 18.7ms\n",
      "tensor([0.], device='cuda:0')\n",
      "video 1/1 (frame 75/253) c:\\Users\\Ilmar\\hobby_projects\\coercion-check\\src\\videos\\veriff1.mp4: 384x640 1 person, 11.6ms\n",
      "tensor([0.], device='cuda:0')\n",
      "video 1/1 (frame 76/253) c:\\Users\\Ilmar\\hobby_projects\\coercion-check\\src\\videos\\veriff1.mp4: 384x640 1 person, 11.8ms\n",
      "tensor([0.], device='cuda:0')\n",
      "video 1/1 (frame 77/253) c:\\Users\\Ilmar\\hobby_projects\\coercion-check\\src\\videos\\veriff1.mp4: 384x640 1 person, 23.1ms\n",
      "tensor([0.], device='cuda:0')\n",
      "video 1/1 (frame 78/253) c:\\Users\\Ilmar\\hobby_projects\\coercion-check\\src\\videos\\veriff1.mp4: 384x640 1 person, 11.7ms\n",
      "tensor([0.], device='cuda:0')\n",
      "video 1/1 (frame 79/253) c:\\Users\\Ilmar\\hobby_projects\\coercion-check\\src\\videos\\veriff1.mp4: 384x640 1 person, 11.5ms\n",
      "tensor([0.], device='cuda:0')\n",
      "video 1/1 (frame 80/253) c:\\Users\\Ilmar\\hobby_projects\\coercion-check\\src\\videos\\veriff1.mp4: 384x640 1 person, 24.1ms\n",
      "tensor([0.], device='cuda:0')\n",
      "video 1/1 (frame 81/253) c:\\Users\\Ilmar\\hobby_projects\\coercion-check\\src\\videos\\veriff1.mp4: 384x640 1 person, 11.5ms\n",
      "tensor([0.], device='cuda:0')\n",
      "video 1/1 (frame 82/253) c:\\Users\\Ilmar\\hobby_projects\\coercion-check\\src\\videos\\veriff1.mp4: 384x640 1 person, 11.5ms\n",
      "tensor([0.], device='cuda:0')\n",
      "video 1/1 (frame 83/253) c:\\Users\\Ilmar\\hobby_projects\\coercion-check\\src\\videos\\veriff1.mp4: 384x640 1 person, 12.2ms\n",
      "tensor([0.], device='cuda:0')\n",
      "video 1/1 (frame 84/253) c:\\Users\\Ilmar\\hobby_projects\\coercion-check\\src\\videos\\veriff1.mp4: 384x640 1 person, 12.2ms\n",
      "tensor([0.], device='cuda:0')\n",
      "video 1/1 (frame 85/253) c:\\Users\\Ilmar\\hobby_projects\\coercion-check\\src\\videos\\veriff1.mp4: 384x640 1 person, 24.8ms\n",
      "tensor([0.], device='cuda:0')\n",
      "video 1/1 (frame 86/253) c:\\Users\\Ilmar\\hobby_projects\\coercion-check\\src\\videos\\veriff1.mp4: 384x640 1 person, 23.8ms\n",
      "tensor([0.], device='cuda:0')\n",
      "video 1/1 (frame 87/253) c:\\Users\\Ilmar\\hobby_projects\\coercion-check\\src\\videos\\veriff1.mp4: 384x640 1 person, 11.3ms\n",
      "tensor([0.], device='cuda:0')\n",
      "video 1/1 (frame 88/253) c:\\Users\\Ilmar\\hobby_projects\\coercion-check\\src\\videos\\veriff1.mp4: 384x640 1 person, 11.8ms\n",
      "tensor([0.], device='cuda:0')\n",
      "video 1/1 (frame 89/253) c:\\Users\\Ilmar\\hobby_projects\\coercion-check\\src\\videos\\veriff1.mp4: 384x640 1 person, 13.0ms\n",
      "tensor([0.], device='cuda:0')\n",
      "video 1/1 (frame 90/253) c:\\Users\\Ilmar\\hobby_projects\\coercion-check\\src\\videos\\veriff1.mp4: 384x640 1 person, 26.4ms\n",
      "tensor([0.], device='cuda:0')\n",
      "video 1/1 (frame 91/253) c:\\Users\\Ilmar\\hobby_projects\\coercion-check\\src\\videos\\veriff1.mp4: 384x640 1 person, 24.9ms\n",
      "tensor([0.], device='cuda:0')\n",
      "video 1/1 (frame 92/253) c:\\Users\\Ilmar\\hobby_projects\\coercion-check\\src\\videos\\veriff1.mp4: 384x640 1 person, 14.4ms\n",
      "tensor([0.], device='cuda:0')\n",
      "video 1/1 (frame 93/253) c:\\Users\\Ilmar\\hobby_projects\\coercion-check\\src\\videos\\veriff1.mp4: 384x640 1 person, 18.0ms\n",
      "tensor([0.], device='cuda:0')\n",
      "video 1/1 (frame 94/253) c:\\Users\\Ilmar\\hobby_projects\\coercion-check\\src\\videos\\veriff1.mp4: 384x640 1 person, 11.3ms\n",
      "tensor([0.], device='cuda:0')\n",
      "video 1/1 (frame 95/253) c:\\Users\\Ilmar\\hobby_projects\\coercion-check\\src\\videos\\veriff1.mp4: 384x640 1 person, 11.5ms\n",
      "tensor([0.], device='cuda:0')\n",
      "video 1/1 (frame 96/253) c:\\Users\\Ilmar\\hobby_projects\\coercion-check\\src\\videos\\veriff1.mp4: 384x640 1 person, 11.5ms\n",
      "tensor([0.], device='cuda:0')\n",
      "video 1/1 (frame 97/253) c:\\Users\\Ilmar\\hobby_projects\\coercion-check\\src\\videos\\veriff1.mp4: 384x640 1 person, 12.7ms\n",
      "tensor([0.], device='cuda:0')\n",
      "video 1/1 (frame 98/253) c:\\Users\\Ilmar\\hobby_projects\\coercion-check\\src\\videos\\veriff1.mp4: 384x640 1 person, 13.3ms\n",
      "tensor([0.], device='cuda:0')\n",
      "video 1/1 (frame 99/253) c:\\Users\\Ilmar\\hobby_projects\\coercion-check\\src\\videos\\veriff1.mp4: 384x640 1 person, 11.8ms\n",
      "tensor([0.], device='cuda:0')\n",
      "video 1/1 (frame 100/253) c:\\Users\\Ilmar\\hobby_projects\\coercion-check\\src\\videos\\veriff1.mp4: 384x640 1 person, 11.5ms\n",
      "tensor([0.], device='cuda:0')\n",
      "video 1/1 (frame 101/253) c:\\Users\\Ilmar\\hobby_projects\\coercion-check\\src\\videos\\veriff1.mp4: 384x640 1 person, 16.8ms\n",
      "tensor([0.], device='cuda:0')\n",
      "video 1/1 (frame 102/253) c:\\Users\\Ilmar\\hobby_projects\\coercion-check\\src\\videos\\veriff1.mp4: 384x640 1 person, 14.0ms\n",
      "tensor([0.], device='cuda:0')\n",
      "video 1/1 (frame 103/253) c:\\Users\\Ilmar\\hobby_projects\\coercion-check\\src\\videos\\veriff1.mp4: 384x640 1 person, 20.6ms\n",
      "tensor([0.], device='cuda:0')\n",
      "video 1/1 (frame 104/253) c:\\Users\\Ilmar\\hobby_projects\\coercion-check\\src\\videos\\veriff1.mp4: 384x640 1 person, 20.8ms\n",
      "tensor([0.], device='cuda:0')\n",
      "video 1/1 (frame 105/253) c:\\Users\\Ilmar\\hobby_projects\\coercion-check\\src\\videos\\veriff1.mp4: 384x640 1 person, 11.7ms\n",
      "tensor([0.], device='cuda:0')\n",
      "video 1/1 (frame 106/253) c:\\Users\\Ilmar\\hobby_projects\\coercion-check\\src\\videos\\veriff1.mp4: 384x640 1 person, 17.0ms\n",
      "tensor([0.], device='cuda:0')\n",
      "video 1/1 (frame 107/253) c:\\Users\\Ilmar\\hobby_projects\\coercion-check\\src\\videos\\veriff1.mp4: 384x640 1 person, 11.5ms\n",
      "tensor([0.], device='cuda:0')\n",
      "video 1/1 (frame 108/253) c:\\Users\\Ilmar\\hobby_projects\\coercion-check\\src\\videos\\veriff1.mp4: 384x640 1 person, 20.5ms\n",
      "tensor([0.], device='cuda:0')\n",
      "video 1/1 (frame 109/253) c:\\Users\\Ilmar\\hobby_projects\\coercion-check\\src\\videos\\veriff1.mp4: 384x640 1 person, 25.5ms\n",
      "tensor([0.], device='cuda:0')\n",
      "video 1/1 (frame 110/253) c:\\Users\\Ilmar\\hobby_projects\\coercion-check\\src\\videos\\veriff1.mp4: 384x640 1 person, 17.9ms\n",
      "tensor([0.], device='cuda:0')\n",
      "video 1/1 (frame 111/253) c:\\Users\\Ilmar\\hobby_projects\\coercion-check\\src\\videos\\veriff1.mp4: 384x640 1 person, 11.4ms\n",
      "tensor([0.], device='cuda:0')\n",
      "video 1/1 (frame 112/253) c:\\Users\\Ilmar\\hobby_projects\\coercion-check\\src\\videos\\veriff1.mp4: 384x640 1 person, 11.3ms\n",
      "tensor([0.], device='cuda:0')\n",
      "video 1/1 (frame 113/253) c:\\Users\\Ilmar\\hobby_projects\\coercion-check\\src\\videos\\veriff1.mp4: 384x640 1 person, 24.3ms\n",
      "tensor([0.], device='cuda:0')\n",
      "video 1/1 (frame 114/253) c:\\Users\\Ilmar\\hobby_projects\\coercion-check\\src\\videos\\veriff1.mp4: 384x640 1 person, 11.8ms\n",
      "tensor([0.], device='cuda:0')\n",
      "video 1/1 (frame 115/253) c:\\Users\\Ilmar\\hobby_projects\\coercion-check\\src\\videos\\veriff1.mp4: 384x640 1 person, 21.7ms\n",
      "tensor([0.], device='cuda:0')\n",
      "video 1/1 (frame 116/253) c:\\Users\\Ilmar\\hobby_projects\\coercion-check\\src\\videos\\veriff1.mp4: 384x640 1 person, 11.7ms\n",
      "tensor([0.], device='cuda:0')\n",
      "video 1/1 (frame 117/253) c:\\Users\\Ilmar\\hobby_projects\\coercion-check\\src\\videos\\veriff1.mp4: 384x640 1 person, 11.8ms\n",
      "tensor([0.], device='cuda:0')\n",
      "video 1/1 (frame 118/253) c:\\Users\\Ilmar\\hobby_projects\\coercion-check\\src\\videos\\veriff1.mp4: 384x640 1 person, 12.0ms\n",
      "tensor([0.], device='cuda:0')\n",
      "video 1/1 (frame 119/253) c:\\Users\\Ilmar\\hobby_projects\\coercion-check\\src\\videos\\veriff1.mp4: 384x640 1 person, 24.9ms\n",
      "tensor([0.], device='cuda:0')\n",
      "video 1/1 (frame 120/253) c:\\Users\\Ilmar\\hobby_projects\\coercion-check\\src\\videos\\veriff1.mp4: 384x640 1 person, 18.4ms\n",
      "tensor([0.], device='cuda:0')\n",
      "video 1/1 (frame 121/253) c:\\Users\\Ilmar\\hobby_projects\\coercion-check\\src\\videos\\veriff1.mp4: 384x640 1 person, 16.0ms\n",
      "tensor([0.], device='cuda:0')\n",
      "video 1/1 (frame 122/253) c:\\Users\\Ilmar\\hobby_projects\\coercion-check\\src\\videos\\veriff1.mp4: 384x640 1 person, 24.6ms\n",
      "tensor([0.], device='cuda:0')\n",
      "video 1/1 (frame 123/253) c:\\Users\\Ilmar\\hobby_projects\\coercion-check\\src\\videos\\veriff1.mp4: 384x640 1 person, 25.7ms\n",
      "tensor([0.], device='cuda:0')\n",
      "video 1/1 (frame 124/253) c:\\Users\\Ilmar\\hobby_projects\\coercion-check\\src\\videos\\veriff1.mp4: 384x640 1 person, 11.6ms\n",
      "tensor([0.], device='cuda:0')\n",
      "video 1/1 (frame 125/253) c:\\Users\\Ilmar\\hobby_projects\\coercion-check\\src\\videos\\veriff1.mp4: 384x640 1 person, 11.6ms\n",
      "tensor([0.], device='cuda:0')\n",
      "video 1/1 (frame 126/253) c:\\Users\\Ilmar\\hobby_projects\\coercion-check\\src\\videos\\veriff1.mp4: 384x640 1 person, 11.4ms\n",
      "tensor([0.], device='cuda:0')\n",
      "video 1/1 (frame 127/253) c:\\Users\\Ilmar\\hobby_projects\\coercion-check\\src\\videos\\veriff1.mp4: 384x640 1 person, 11.8ms\n",
      "tensor([0.], device='cuda:0')\n",
      "video 1/1 (frame 128/253) c:\\Users\\Ilmar\\hobby_projects\\coercion-check\\src\\videos\\veriff1.mp4: 384x640 2 persons, 11.8ms\n",
      "tensor([0., 0.], device='cuda:0')\n",
      "video 1/1 (frame 129/253) c:\\Users\\Ilmar\\hobby_projects\\coercion-check\\src\\videos\\veriff1.mp4: 384x640 2 persons, 1 cell phone, 11.3ms\n",
      "tensor([ 0.,  0., 67.], device='cuda:0')\n",
      "video 1/1 (frame 130/253) c:\\Users\\Ilmar\\hobby_projects\\coercion-check\\src\\videos\\veriff1.mp4: 384x640 3 persons, 1 cell phone, 25.8ms\n",
      "tensor([ 0., 67.,  0.,  0.], device='cuda:0')\n",
      "video 1/1 (frame 131/253) c:\\Users\\Ilmar\\hobby_projects\\coercion-check\\src\\videos\\veriff1.mp4: 384x640 3 persons, 1 cell phone, 12.8ms\n",
      "tensor([67.,  0.,  0.,  0.], device='cuda:0')\n",
      "video 1/1 (frame 132/253) c:\\Users\\Ilmar\\hobby_projects\\coercion-check\\src\\videos\\veriff1.mp4: 384x640 2 persons, 1 cell phone, 20.9ms\n",
      "tensor([ 0., 67.,  0.], device='cuda:0')\n",
      "video 1/1 (frame 133/253) c:\\Users\\Ilmar\\hobby_projects\\coercion-check\\src\\videos\\veriff1.mp4: 384x640 2 persons, 1 cell phone, 24.4ms\n",
      "tensor([ 0., 67.,  0.], device='cuda:0')\n",
      "video 1/1 (frame 134/253) c:\\Users\\Ilmar\\hobby_projects\\coercion-check\\src\\videos\\veriff1.mp4: 384x640 1 person, 1 cell phone, 11.3ms\n",
      "tensor([ 0., 67.], device='cuda:0')\n",
      "video 1/1 (frame 135/253) c:\\Users\\Ilmar\\hobby_projects\\coercion-check\\src\\videos\\veriff1.mp4: 384x640 1 person, 1 cell phone, 25.2ms\n",
      "tensor([ 0., 67.], device='cuda:0')\n",
      "video 1/1 (frame 136/253) c:\\Users\\Ilmar\\hobby_projects\\coercion-check\\src\\videos\\veriff1.mp4: 384x640 1 person, 1 remote, 1 cell phone, 11.8ms\n",
      "tensor([ 0., 67., 65.], device='cuda:0')\n",
      "video 1/1 (frame 137/253) c:\\Users\\Ilmar\\hobby_projects\\coercion-check\\src\\videos\\veriff1.mp4: 384x640 1 person, 1 cell phone, 17.6ms\n",
      "tensor([ 0., 67.], device='cuda:0')\n",
      "video 1/1 (frame 138/253) c:\\Users\\Ilmar\\hobby_projects\\coercion-check\\src\\videos\\veriff1.mp4: 384x640 1 person, 1 donut, 1 cell phone, 25.1ms\n",
      "tensor([ 0., 67., 54.], device='cuda:0')\n",
      "video 1/1 (frame 139/253) c:\\Users\\Ilmar\\hobby_projects\\coercion-check\\src\\videos\\veriff1.mp4: 384x640 1 person, 1 donut, 1 cell phone, 20.6ms\n",
      "tensor([ 0., 67., 54.], device='cuda:0')\n",
      "video 1/1 (frame 140/253) c:\\Users\\Ilmar\\hobby_projects\\coercion-check\\src\\videos\\veriff1.mp4: 384x640 1 person, 1 donut, 1 cell phone, 11.7ms\n",
      "tensor([ 0., 67., 54.], device='cuda:0')\n",
      "video 1/1 (frame 141/253) c:\\Users\\Ilmar\\hobby_projects\\coercion-check\\src\\videos\\veriff1.mp4: 384x640 2 persons, 1 cell phone, 11.3ms\n",
      "tensor([ 0., 67.,  0.], device='cuda:0')\n",
      "video 1/1 (frame 142/253) c:\\Users\\Ilmar\\hobby_projects\\coercion-check\\src\\videos\\veriff1.mp4: 384x640 2 persons, 1 cell phone, 25.4ms\n",
      "tensor([ 0., 67.,  0.], device='cuda:0')\n",
      "video 1/1 (frame 143/253) c:\\Users\\Ilmar\\hobby_projects\\coercion-check\\src\\videos\\veriff1.mp4: 384x640 3 persons, 1 cell phone, 13.7ms\n",
      "tensor([67.,  0.,  0.,  0.], device='cuda:0')\n",
      "video 1/1 (frame 144/253) c:\\Users\\Ilmar\\hobby_projects\\coercion-check\\src\\videos\\veriff1.mp4: 384x640 2 persons, 1 cell phone, 15.4ms\n",
      "tensor([ 0., 67.,  0.], device='cuda:0')\n",
      "video 1/1 (frame 145/253) c:\\Users\\Ilmar\\hobby_projects\\coercion-check\\src\\videos\\veriff1.mp4: 384x640 2 persons, 1 cell phone, 11.9ms\n",
      "tensor([ 0., 67.,  0.], device='cuda:0')\n",
      "video 1/1 (frame 146/253) c:\\Users\\Ilmar\\hobby_projects\\coercion-check\\src\\videos\\veriff1.mp4: 384x640 2 persons, 1 cell phone, 20.0ms\n",
      "tensor([ 0., 67.,  0.], device='cuda:0')\n",
      "video 1/1 (frame 147/253) c:\\Users\\Ilmar\\hobby_projects\\coercion-check\\src\\videos\\veriff1.mp4: 384x640 2 persons, 1 cell phone, 16.5ms\n",
      "tensor([ 0., 67.,  0.], device='cuda:0')\n",
      "video 1/1 (frame 148/253) c:\\Users\\Ilmar\\hobby_projects\\coercion-check\\src\\videos\\veriff1.mp4: 384x640 3 persons, 1 cell phone, 24.5ms\n",
      "tensor([67.,  0.,  0.,  0.], device='cuda:0')\n",
      "video 1/1 (frame 149/253) c:\\Users\\Ilmar\\hobby_projects\\coercion-check\\src\\videos\\veriff1.mp4: 384x640 1 person, 1 cell phone, 25.2ms\n",
      "tensor([ 0., 67.], device='cuda:0')\n",
      "video 1/1 (frame 150/253) c:\\Users\\Ilmar\\hobby_projects\\coercion-check\\src\\videos\\veriff1.mp4: 384x640 1 person, 1 cell phone, 14.5ms\n",
      "tensor([ 0., 67.], device='cuda:0')\n",
      "video 1/1 (frame 151/253) c:\\Users\\Ilmar\\hobby_projects\\coercion-check\\src\\videos\\veriff1.mp4: 384x640 1 person, 1 cell phone, 14.2ms\n",
      "tensor([ 0., 67.], device='cuda:0')\n",
      "video 1/1 (frame 152/253) c:\\Users\\Ilmar\\hobby_projects\\coercion-check\\src\\videos\\veriff1.mp4: 384x640 1 person, 1 cell phone, 11.2ms\n",
      "tensor([ 0., 67.], device='cuda:0')\n",
      "video 1/1 (frame 153/253) c:\\Users\\Ilmar\\hobby_projects\\coercion-check\\src\\videos\\veriff1.mp4: 384x640 1 person, 1 cell phone, 11.3ms\n",
      "tensor([ 0., 67.], device='cuda:0')\n",
      "video 1/1 (frame 154/253) c:\\Users\\Ilmar\\hobby_projects\\coercion-check\\src\\videos\\veriff1.mp4: 384x640 1 person, 1 cell phone, 13.3ms\n",
      "tensor([ 0., 67.], device='cuda:0')\n",
      "video 1/1 (frame 155/253) c:\\Users\\Ilmar\\hobby_projects\\coercion-check\\src\\videos\\veriff1.mp4: 384x640 1 person, 1 cell phone, 16.9ms\n",
      "tensor([ 0., 67.], device='cuda:0')\n",
      "video 1/1 (frame 156/253) c:\\Users\\Ilmar\\hobby_projects\\coercion-check\\src\\videos\\veriff1.mp4: 384x640 1 person, 1 cell phone, 24.0ms\n",
      "tensor([ 0., 67.], device='cuda:0')\n",
      "video 1/1 (frame 157/253) c:\\Users\\Ilmar\\hobby_projects\\coercion-check\\src\\videos\\veriff1.mp4: 384x640 1 person, 1 cell phone, 11.2ms\n",
      "tensor([ 0., 67.], device='cuda:0')\n",
      "video 1/1 (frame 158/253) c:\\Users\\Ilmar\\hobby_projects\\coercion-check\\src\\videos\\veriff1.mp4: 384x640 1 person, 1 cell phone, 11.9ms\n",
      "tensor([ 0., 67.], device='cuda:0')\n",
      "video 1/1 (frame 159/253) c:\\Users\\Ilmar\\hobby_projects\\coercion-check\\src\\videos\\veriff1.mp4: 384x640 1 person, 1 cell phone, 11.3ms\n",
      "tensor([ 0., 67.], device='cuda:0')\n",
      "video 1/1 (frame 160/253) c:\\Users\\Ilmar\\hobby_projects\\coercion-check\\src\\videos\\veriff1.mp4: 384x640 1 person, 1 donut, 1 cell phone, 11.4ms\n",
      "tensor([ 0., 67., 54.], device='cuda:0')\n",
      "video 1/1 (frame 161/253) c:\\Users\\Ilmar\\hobby_projects\\coercion-check\\src\\videos\\veriff1.mp4: 384x640 1 person, 1 cell phone, 11.3ms\n",
      "tensor([ 0., 67.], device='cuda:0')\n",
      "video 1/1 (frame 162/253) c:\\Users\\Ilmar\\hobby_projects\\coercion-check\\src\\videos\\veriff1.mp4: 384x640 1 person, 1 remote, 1 cell phone, 24.9ms\n",
      "tensor([ 0., 65., 67.], device='cuda:0')\n",
      "video 1/1 (frame 163/253) c:\\Users\\Ilmar\\hobby_projects\\coercion-check\\src\\videos\\veriff1.mp4: 384x640 1 person, 1 remote, 1 refrigerator, 11.8ms\n",
      "tensor([ 0., 65., 72.], device='cuda:0')\n",
      "video 1/1 (frame 164/253) c:\\Users\\Ilmar\\hobby_projects\\coercion-check\\src\\videos\\veriff1.mp4: 384x640 1 person, 1 remote, 1 cell phone, 25.1ms\n",
      "tensor([ 0., 67., 65.], device='cuda:0')\n",
      "video 1/1 (frame 165/253) c:\\Users\\Ilmar\\hobby_projects\\coercion-check\\src\\videos\\veriff1.mp4: 384x640 1 person, 1 remote, 24.9ms\n",
      "tensor([ 0., 65.], device='cuda:0')\n",
      "video 1/1 (frame 166/253) c:\\Users\\Ilmar\\hobby_projects\\coercion-check\\src\\videos\\veriff1.mp4: 384x640 1 person, 1 refrigerator, 11.6ms\n",
      "tensor([ 0., 72.], device='cuda:0')\n",
      "video 1/1 (frame 167/253) c:\\Users\\Ilmar\\hobby_projects\\coercion-check\\src\\videos\\veriff1.mp4: 384x640 1 person, 1 refrigerator, 11.2ms\n",
      "tensor([ 0., 72.], device='cuda:0')\n",
      "video 1/1 (frame 168/253) c:\\Users\\Ilmar\\hobby_projects\\coercion-check\\src\\videos\\veriff1.mp4: 384x640 1 person, 11.4ms\n",
      "tensor([0.], device='cuda:0')\n",
      "video 1/1 (frame 169/253) c:\\Users\\Ilmar\\hobby_projects\\coercion-check\\src\\videos\\veriff1.mp4: 384x640 2 persons, 1 donut, 12.0ms\n",
      "tensor([ 0., 54.,  0.], device='cuda:0')\n",
      "video 1/1 (frame 170/253) c:\\Users\\Ilmar\\hobby_projects\\coercion-check\\src\\videos\\veriff1.mp4: 384x640 2 persons, 1 donut, 11.5ms\n",
      "tensor([ 0., 54.,  0.], device='cuda:0')\n",
      "video 1/1 (frame 171/253) c:\\Users\\Ilmar\\hobby_projects\\coercion-check\\src\\videos\\veriff1.mp4: 384x640 1 person, 1 donut, 11.6ms\n",
      "tensor([ 0., 54.], device='cuda:0')\n",
      "video 1/1 (frame 172/253) c:\\Users\\Ilmar\\hobby_projects\\coercion-check\\src\\videos\\veriff1.mp4: 384x640 1 person, 1 donut, 11.3ms\n",
      "tensor([ 0., 54.], device='cuda:0')\n",
      "video 1/1 (frame 173/253) c:\\Users\\Ilmar\\hobby_projects\\coercion-check\\src\\videos\\veriff1.mp4: 384x640 1 person, 11.7ms\n",
      "tensor([0.], device='cuda:0')\n",
      "video 1/1 (frame 174/253) c:\\Users\\Ilmar\\hobby_projects\\coercion-check\\src\\videos\\veriff1.mp4: 384x640 1 person, 1 refrigerator, 11.2ms\n",
      "tensor([ 0., 72.], device='cuda:0')\n",
      "video 1/1 (frame 175/253) c:\\Users\\Ilmar\\hobby_projects\\coercion-check\\src\\videos\\veriff1.mp4: 384x640 1 person, 11.0ms\n",
      "tensor([0.], device='cuda:0')\n",
      "video 1/1 (frame 176/253) c:\\Users\\Ilmar\\hobby_projects\\coercion-check\\src\\videos\\veriff1.mp4: 384x640 1 person, 11.3ms\n",
      "tensor([0.], device='cuda:0')\n",
      "video 1/1 (frame 177/253) c:\\Users\\Ilmar\\hobby_projects\\coercion-check\\src\\videos\\veriff1.mp4: 384x640 1 person, 11.4ms\n",
      "tensor([0.], device='cuda:0')\n",
      "video 1/1 (frame 178/253) c:\\Users\\Ilmar\\hobby_projects\\coercion-check\\src\\videos\\veriff1.mp4: 384x640 1 person, 11.9ms\n",
      "tensor([0.], device='cuda:0')\n",
      "video 1/1 (frame 179/253) c:\\Users\\Ilmar\\hobby_projects\\coercion-check\\src\\videos\\veriff1.mp4: 384x640 1 person, 11.7ms\n",
      "tensor([0.], device='cuda:0')\n",
      "video 1/1 (frame 180/253) c:\\Users\\Ilmar\\hobby_projects\\coercion-check\\src\\videos\\veriff1.mp4: 384x640 1 person, 11.5ms\n",
      "tensor([0.], device='cuda:0')\n",
      "video 1/1 (frame 181/253) c:\\Users\\Ilmar\\hobby_projects\\coercion-check\\src\\videos\\veriff1.mp4: 384x640 1 person, 1 refrigerator, 19.7ms\n",
      "tensor([ 0., 72.], device='cuda:0')\n",
      "video 1/1 (frame 182/253) c:\\Users\\Ilmar\\hobby_projects\\coercion-check\\src\\videos\\veriff1.mp4: 384x640 1 person, 1 refrigerator, 26.1ms\n",
      "tensor([ 0., 72.], device='cuda:0')\n",
      "video 1/1 (frame 183/253) c:\\Users\\Ilmar\\hobby_projects\\coercion-check\\src\\videos\\veriff1.mp4: 384x640 1 person, 22.3ms\n",
      "tensor([0.], device='cuda:0')\n",
      "video 1/1 (frame 184/253) c:\\Users\\Ilmar\\hobby_projects\\coercion-check\\src\\videos\\veriff1.mp4: 384x640 1 person, 11.6ms\n",
      "tensor([0.], device='cuda:0')\n",
      "video 1/1 (frame 185/253) c:\\Users\\Ilmar\\hobby_projects\\coercion-check\\src\\videos\\veriff1.mp4: 384x640 1 person, 18.5ms\n",
      "tensor([0.], device='cuda:0')\n",
      "video 1/1 (frame 186/253) c:\\Users\\Ilmar\\hobby_projects\\coercion-check\\src\\videos\\veriff1.mp4: 384x640 1 person, 1 refrigerator, 24.7ms\n",
      "tensor([ 0., 72.], device='cuda:0')\n",
      "video 1/1 (frame 187/253) c:\\Users\\Ilmar\\hobby_projects\\coercion-check\\src\\videos\\veriff1.mp4: 384x640 1 person, 1 refrigerator, 15.9ms\n",
      "tensor([ 0., 72.], device='cuda:0')\n",
      "video 1/1 (frame 188/253) c:\\Users\\Ilmar\\hobby_projects\\coercion-check\\src\\videos\\veriff1.mp4: 384x640 1 person, 1 refrigerator, 11.4ms\n",
      "tensor([ 0., 72.], device='cuda:0')\n",
      "video 1/1 (frame 189/253) c:\\Users\\Ilmar\\hobby_projects\\coercion-check\\src\\videos\\veriff1.mp4: 384x640 1 person, 1 refrigerator, 16.2ms\n",
      "tensor([ 0., 72.], device='cuda:0')\n",
      "video 1/1 (frame 190/253) c:\\Users\\Ilmar\\hobby_projects\\coercion-check\\src\\videos\\veriff1.mp4: 384x640 1 person, 1 refrigerator, 1 teddy bear, 11.5ms\n",
      "tensor([ 0., 72., 77.], device='cuda:0')\n",
      "video 1/1 (frame 191/253) c:\\Users\\Ilmar\\hobby_projects\\coercion-check\\src\\videos\\veriff1.mp4: 384x640 1 person, 1 refrigerator, 11.5ms\n",
      "tensor([ 0., 72.], device='cuda:0')\n",
      "video 1/1 (frame 192/253) c:\\Users\\Ilmar\\hobby_projects\\coercion-check\\src\\videos\\veriff1.mp4: 384x640 1 person, 14.4ms\n",
      "tensor([0.], device='cuda:0')\n",
      "video 1/1 (frame 193/253) c:\\Users\\Ilmar\\hobby_projects\\coercion-check\\src\\videos\\veriff1.mp4: 384x640 1 person, 1 microwave, 1 refrigerator, 11.5ms\n",
      "tensor([ 0., 72., 68.], device='cuda:0')\n",
      "video 1/1 (frame 194/253) c:\\Users\\Ilmar\\hobby_projects\\coercion-check\\src\\videos\\veriff1.mp4: 384x640 1 person, 11.5ms\n",
      "tensor([0.], device='cuda:0')\n",
      "video 1/1 (frame 195/253) c:\\Users\\Ilmar\\hobby_projects\\coercion-check\\src\\videos\\veriff1.mp4: 384x640 1 person, 25.4ms\n",
      "tensor([0.], device='cuda:0')\n",
      "video 1/1 (frame 196/253) c:\\Users\\Ilmar\\hobby_projects\\coercion-check\\src\\videos\\veriff1.mp4: 384x640 1 person, 11.9ms\n",
      "tensor([0.], device='cuda:0')\n",
      "video 1/1 (frame 197/253) c:\\Users\\Ilmar\\hobby_projects\\coercion-check\\src\\videos\\veriff1.mp4: 384x640 1 person, 11.0ms\n",
      "tensor([0.], device='cuda:0')\n",
      "video 1/1 (frame 198/253) c:\\Users\\Ilmar\\hobby_projects\\coercion-check\\src\\videos\\veriff1.mp4: 384x640 1 person, 11.8ms\n",
      "tensor([0.], device='cuda:0')\n",
      "video 1/1 (frame 199/253) c:\\Users\\Ilmar\\hobby_projects\\coercion-check\\src\\videos\\veriff1.mp4: 384x640 1 person, 11.4ms\n",
      "tensor([0.], device='cuda:0')\n",
      "video 1/1 (frame 200/253) c:\\Users\\Ilmar\\hobby_projects\\coercion-check\\src\\videos\\veriff1.mp4: 384x640 1 person, 12.0ms\n",
      "tensor([0.], device='cuda:0')\n",
      "video 1/1 (frame 201/253) c:\\Users\\Ilmar\\hobby_projects\\coercion-check\\src\\videos\\veriff1.mp4: 384x640 1 person, 17.9ms\n",
      "tensor([0.], device='cuda:0')\n",
      "video 1/1 (frame 202/253) c:\\Users\\Ilmar\\hobby_projects\\coercion-check\\src\\videos\\veriff1.mp4: 384x640 1 person, 23.7ms\n",
      "tensor([0.], device='cuda:0')\n",
      "video 1/1 (frame 203/253) c:\\Users\\Ilmar\\hobby_projects\\coercion-check\\src\\videos\\veriff1.mp4: 384x640 1 person, 22.7ms\n",
      "tensor([0.], device='cuda:0')\n",
      "video 1/1 (frame 204/253) c:\\Users\\Ilmar\\hobby_projects\\coercion-check\\src\\videos\\veriff1.mp4: 384x640 1 person, 12.2ms\n",
      "tensor([0.], device='cuda:0')\n",
      "video 1/1 (frame 205/253) c:\\Users\\Ilmar\\hobby_projects\\coercion-check\\src\\videos\\veriff1.mp4: 384x640 1 person, 16.8ms\n",
      "tensor([0.], device='cuda:0')\n",
      "video 1/1 (frame 206/253) c:\\Users\\Ilmar\\hobby_projects\\coercion-check\\src\\videos\\veriff1.mp4: 384x640 1 person, 1 refrigerator, 11.2ms\n",
      "tensor([ 0., 72.], device='cuda:0')\n",
      "video 1/1 (frame 207/253) c:\\Users\\Ilmar\\hobby_projects\\coercion-check\\src\\videos\\veriff1.mp4: 384x640 1 person, 1 refrigerator, 11.6ms\n",
      "tensor([ 0., 72.], device='cuda:0')\n",
      "video 1/1 (frame 208/253) c:\\Users\\Ilmar\\hobby_projects\\coercion-check\\src\\videos\\veriff1.mp4: 384x640 1 person, 11.6ms\n",
      "tensor([0.], device='cuda:0')\n",
      "video 1/1 (frame 209/253) c:\\Users\\Ilmar\\hobby_projects\\coercion-check\\src\\videos\\veriff1.mp4: 384x640 1 person, 15.6ms\n",
      "tensor([0.], device='cuda:0')\n",
      "video 1/1 (frame 210/253) c:\\Users\\Ilmar\\hobby_projects\\coercion-check\\src\\videos\\veriff1.mp4: 384x640 1 person, 1 refrigerator, 11.9ms\n",
      "tensor([ 0., 72.], device='cuda:0')\n",
      "video 1/1 (frame 211/253) c:\\Users\\Ilmar\\hobby_projects\\coercion-check\\src\\videos\\veriff1.mp4: 384x640 1 person, 11.1ms\n",
      "tensor([0.], device='cuda:0')\n",
      "video 1/1 (frame 212/253) c:\\Users\\Ilmar\\hobby_projects\\coercion-check\\src\\videos\\veriff1.mp4: 384x640 2 persons, 11.1ms\n",
      "tensor([0., 0.], device='cuda:0')\n",
      "video 1/1 (frame 213/253) c:\\Users\\Ilmar\\hobby_projects\\coercion-check\\src\\videos\\veriff1.mp4: 384x640 2 persons, 1 book, 14.1ms\n",
      "tensor([ 0.,  0., 73.], device='cuda:0')\n",
      "video 1/1 (frame 214/253) c:\\Users\\Ilmar\\hobby_projects\\coercion-check\\src\\videos\\veriff1.mp4: 384x640 1 person, 1 microwave, 1 refrigerator, 21.1ms\n",
      "tensor([ 0., 68., 72.], device='cuda:0')\n",
      "video 1/1 (frame 215/253) c:\\Users\\Ilmar\\hobby_projects\\coercion-check\\src\\videos\\veriff1.mp4: 384x640 1 person, 11.4ms\n",
      "tensor([0.], device='cuda:0')\n",
      "video 1/1 (frame 216/253) c:\\Users\\Ilmar\\hobby_projects\\coercion-check\\src\\videos\\veriff1.mp4: 384x640 1 person, 10.8ms\n",
      "tensor([0.], device='cuda:0')\n",
      "video 1/1 (frame 217/253) c:\\Users\\Ilmar\\hobby_projects\\coercion-check\\src\\videos\\veriff1.mp4: 384x640 1 person, 11.3ms\n",
      "tensor([0.], device='cuda:0')\n",
      "video 1/1 (frame 218/253) c:\\Users\\Ilmar\\hobby_projects\\coercion-check\\src\\videos\\veriff1.mp4: 384x640 1 person, 1 refrigerator, 17.8ms\n",
      "tensor([ 0., 72.], device='cuda:0')\n",
      "video 1/1 (frame 219/253) c:\\Users\\Ilmar\\hobby_projects\\coercion-check\\src\\videos\\veriff1.mp4: 384x640 1 person, 1 refrigerator, 11.3ms\n",
      "tensor([ 0., 72.], device='cuda:0')\n",
      "video 1/1 (frame 220/253) c:\\Users\\Ilmar\\hobby_projects\\coercion-check\\src\\videos\\veriff1.mp4: 384x640 1 person, 18.2ms\n",
      "tensor([0.], device='cuda:0')\n",
      "video 1/1 (frame 221/253) c:\\Users\\Ilmar\\hobby_projects\\coercion-check\\src\\videos\\veriff1.mp4: 384x640 1 person, 1 donut, 16.9ms\n",
      "tensor([ 0., 54.], device='cuda:0')\n",
      "video 1/1 (frame 222/253) c:\\Users\\Ilmar\\hobby_projects\\coercion-check\\src\\videos\\veriff1.mp4: 384x640 1 person, 24.6ms\n",
      "tensor([0.], device='cuda:0')\n",
      "video 1/1 (frame 223/253) c:\\Users\\Ilmar\\hobby_projects\\coercion-check\\src\\videos\\veriff1.mp4: 384x640 1 person, 1 donut, 16.4ms\n",
      "tensor([ 0., 54.], device='cuda:0')\n",
      "video 1/1 (frame 224/253) c:\\Users\\Ilmar\\hobby_projects\\coercion-check\\src\\videos\\veriff1.mp4: 384x640 1 person, 29.3ms\n",
      "tensor([0.], device='cuda:0')\n",
      "video 1/1 (frame 225/253) c:\\Users\\Ilmar\\hobby_projects\\coercion-check\\src\\videos\\veriff1.mp4: 384x640 1 person, 1 donut, 12.2ms\n",
      "tensor([ 0., 54.], device='cuda:0')\n",
      "video 1/1 (frame 226/253) c:\\Users\\Ilmar\\hobby_projects\\coercion-check\\src\\videos\\veriff1.mp4: 384x640 1 person, 1 donut, 11.4ms\n",
      "tensor([ 0., 54.], device='cuda:0')\n",
      "video 1/1 (frame 227/253) c:\\Users\\Ilmar\\hobby_projects\\coercion-check\\src\\videos\\veriff1.mp4: 384x640 1 person, 1 donut, 1 refrigerator, 25.6ms\n",
      "tensor([ 0., 72., 54.], device='cuda:0')\n",
      "video 1/1 (frame 228/253) c:\\Users\\Ilmar\\hobby_projects\\coercion-check\\src\\videos\\veriff1.mp4: 384x640 1 person, 1 donut, 11.7ms\n",
      "tensor([ 0., 54.], device='cuda:0')\n",
      "video 1/1 (frame 229/253) c:\\Users\\Ilmar\\hobby_projects\\coercion-check\\src\\videos\\veriff1.mp4: 384x640 1 person, 1 donut, 11.5ms\n",
      "tensor([ 0., 54.], device='cuda:0')\n",
      "video 1/1 (frame 230/253) c:\\Users\\Ilmar\\hobby_projects\\coercion-check\\src\\videos\\veriff1.mp4: 384x640 1 person, 1 donut, 1 refrigerator, 11.1ms\n",
      "tensor([ 0., 54., 72.], device='cuda:0')\n",
      "video 1/1 (frame 231/253) c:\\Users\\Ilmar\\hobby_projects\\coercion-check\\src\\videos\\veriff1.mp4: 384x640 1 person, 1 refrigerator, 11.8ms\n",
      "tensor([ 0., 72.], device='cuda:0')\n",
      "video 1/1 (frame 232/253) c:\\Users\\Ilmar\\hobby_projects\\coercion-check\\src\\videos\\veriff1.mp4: 384x640 1 person, 1 refrigerator, 14.3ms\n",
      "tensor([ 0., 72.], device='cuda:0')\n",
      "video 1/1 (frame 233/253) c:\\Users\\Ilmar\\hobby_projects\\coercion-check\\src\\videos\\veriff1.mp4: 384x640 1 person, 1 donut, 18.8ms\n",
      "tensor([ 0., 54.], device='cuda:0')\n",
      "video 1/1 (frame 234/253) c:\\Users\\Ilmar\\hobby_projects\\coercion-check\\src\\videos\\veriff1.mp4: 384x640 1 person, 14.0ms\n",
      "tensor([0.], device='cuda:0')\n",
      "video 1/1 (frame 235/253) c:\\Users\\Ilmar\\hobby_projects\\coercion-check\\src\\videos\\veriff1.mp4: 384x640 1 person, 11.2ms\n",
      "tensor([0.], device='cuda:0')\n",
      "video 1/1 (frame 236/253) c:\\Users\\Ilmar\\hobby_projects\\coercion-check\\src\\videos\\veriff1.mp4: 384x640 1 person, 1 refrigerator, 11.4ms\n",
      "tensor([ 0., 72.], device='cuda:0')\n",
      "video 1/1 (frame 237/253) c:\\Users\\Ilmar\\hobby_projects\\coercion-check\\src\\videos\\veriff1.mp4: 384x640 1 person, 22.8ms\n",
      "tensor([0.], device='cuda:0')\n",
      "video 1/1 (frame 238/253) c:\\Users\\Ilmar\\hobby_projects\\coercion-check\\src\\videos\\veriff1.mp4: 384x640 1 person, 11.2ms\n",
      "tensor([0.], device='cuda:0')\n",
      "video 1/1 (frame 239/253) c:\\Users\\Ilmar\\hobby_projects\\coercion-check\\src\\videos\\veriff1.mp4: 384x640 1 person, 14.4ms\n",
      "tensor([0.], device='cuda:0')\n",
      "video 1/1 (frame 240/253) c:\\Users\\Ilmar\\hobby_projects\\coercion-check\\src\\videos\\veriff1.mp4: 384x640 1 person, 20.1ms\n",
      "tensor([0.], device='cuda:0')\n",
      "video 1/1 (frame 241/253) c:\\Users\\Ilmar\\hobby_projects\\coercion-check\\src\\videos\\veriff1.mp4: 384x640 1 person, 24.5ms\n",
      "tensor([0.], device='cuda:0')\n",
      "video 1/1 (frame 242/253) c:\\Users\\Ilmar\\hobby_projects\\coercion-check\\src\\videos\\veriff1.mp4: 384x640 1 person, 14.7ms\n",
      "tensor([0.], device='cuda:0')\n",
      "video 1/1 (frame 243/253) c:\\Users\\Ilmar\\hobby_projects\\coercion-check\\src\\videos\\veriff1.mp4: 384x640 1 person, 11.3ms\n",
      "tensor([0.], device='cuda:0')\n",
      "video 1/1 (frame 244/253) c:\\Users\\Ilmar\\hobby_projects\\coercion-check\\src\\videos\\veriff1.mp4: 384x640 1 person, 11.4ms\n",
      "tensor([0.], device='cuda:0')\n",
      "video 1/1 (frame 245/253) c:\\Users\\Ilmar\\hobby_projects\\coercion-check\\src\\videos\\veriff1.mp4: 384x640 1 person, 10.9ms\n",
      "tensor([0.], device='cuda:0')\n",
      "video 1/1 (frame 246/253) c:\\Users\\Ilmar\\hobby_projects\\coercion-check\\src\\videos\\veriff1.mp4: 384x640 1 person, 18.3ms\n",
      "tensor([0.], device='cuda:0')\n",
      "video 1/1 (frame 247/253) c:\\Users\\Ilmar\\hobby_projects\\coercion-check\\src\\videos\\veriff1.mp4: 384x640 1 person, 24.1ms\n",
      "tensor([0.], device='cuda:0')\n",
      "video 1/1 (frame 248/253) c:\\Users\\Ilmar\\hobby_projects\\coercion-check\\src\\videos\\veriff1.mp4: 384x640 1 person, 19.9ms\n",
      "tensor([0.], device='cuda:0')\n",
      "video 1/1 (frame 249/253) c:\\Users\\Ilmar\\hobby_projects\\coercion-check\\src\\videos\\veriff1.mp4: 384x640 1 person, 11.5ms\n",
      "tensor([0.], device='cuda:0')\n",
      "video 1/1 (frame 250/253) c:\\Users\\Ilmar\\hobby_projects\\coercion-check\\src\\videos\\veriff1.mp4: 384x640 1 person, 1 refrigerator, 11.4ms\n",
      "tensor([ 0., 72.], device='cuda:0')\n",
      "video 1/1 (frame 251/253) c:\\Users\\Ilmar\\hobby_projects\\coercion-check\\src\\videos\\veriff1.mp4: 384x640 1 person, 2 refrigerators, 24.5ms\n",
      "tensor([ 0., 72., 72.], device='cuda:0')\n",
      "video 1/1 (frame 252/253) c:\\Users\\Ilmar\\hobby_projects\\coercion-check\\src\\videos\\veriff1.mp4: 384x640 1 person, 1 refrigerator, 25.3ms\n",
      "tensor([ 0., 72.], device='cuda:0')\n",
      "video 1/1 (frame 253/253) c:\\Users\\Ilmar\\hobby_projects\\coercion-check\\src\\videos\\veriff1.mp4: 384x640 1 person, 1 refrigerator, 15.0ms\n",
      "tensor([ 0., 72.], device='cuda:0')\n",
      "Speed: 1.2ms preprocess, 15.6ms inference, 2.5ms postprocess per image at shape (1, 3, 384, 640)\n"
     ]
    }
   ],
   "source": [
    "results = model(\"videos/veriff1.mp4\", stream=True)\n",
    "for result in results:\n",
    "    print(result.boxes.cls)  # Class IDs (e.g. 0 for \"person\")"
   ]
  },
  {
   "cell_type": "code",
   "execution_count": 8,
   "id": "0aa741c3",
   "metadata": {},
   "outputs": [
    {
     "name": "stderr",
     "output_type": "stream",
     "text": [
      "  0%|          | 0/253 [00:00<?, ?it/s]"
     ]
    },
    {
     "name": "stdout",
     "output_type": "stream",
     "text": [
      "\n",
      "0: 384x640 1 person, 11.7ms\n",
      "Speed: 2.4ms preprocess, 11.7ms inference, 2.1ms postprocess per image at shape (1, 3, 384, 640)\n",
      "\n",
      "0: 384x640 1 person, 11.7ms\n",
      "Speed: 1.6ms preprocess, 11.7ms inference, 1.7ms postprocess per image at shape (1, 3, 384, 640)\n"
     ]
    },
    {
     "name": "stderr",
     "output_type": "stream",
     "text": [
      "  1%|          | 2/253 [00:00<00:13, 18.66it/s]"
     ]
    },
    {
     "name": "stdout",
     "output_type": "stream",
     "text": [
      "\n",
      "0: 384x640 1 person, 11.6ms\n",
      "Speed: 1.6ms preprocess, 11.6ms inference, 2.0ms postprocess per image at shape (1, 3, 384, 640)\n",
      "\n",
      "0: 384x640 1 person, 19.7ms\n",
      "Speed: 1.9ms preprocess, 19.7ms inference, 2.2ms postprocess per image at shape (1, 3, 384, 640)\n",
      "\n",
      "0: 384x640 1 person, 24.9ms\n",
      "Speed: 1.4ms preprocess, 24.9ms inference, 4.0ms postprocess per image at shape (1, 3, 384, 640)\n"
     ]
    },
    {
     "name": "stderr",
     "output_type": "stream",
     "text": [
      "  2%|▏         | 5/253 [00:00<00:12, 20.26it/s]"
     ]
    },
    {
     "name": "stdout",
     "output_type": "stream",
     "text": [
      "\n",
      "0: 384x640 1 person, 24.7ms\n",
      "Speed: 1.2ms preprocess, 24.7ms inference, 4.4ms postprocess per image at shape (1, 3, 384, 640)\n",
      "\n",
      "0: 384x640 1 person, 11.4ms\n",
      "Speed: 1.2ms preprocess, 11.4ms inference, 2.1ms postprocess per image at shape (1, 3, 384, 640)\n",
      "\n",
      "0: 384x640 1 person, 11.5ms\n",
      "Speed: 1.3ms preprocess, 11.5ms inference, 2.8ms postprocess per image at shape (1, 3, 384, 640)\n"
     ]
    },
    {
     "name": "stderr",
     "output_type": "stream",
     "text": [
      "  3%|▎         | 8/253 [00:00<00:11, 21.16it/s]"
     ]
    },
    {
     "name": "stdout",
     "output_type": "stream",
     "text": [
      "\n",
      "0: 384x640 1 person, 11.2ms\n",
      "Speed: 1.2ms preprocess, 11.2ms inference, 2.6ms postprocess per image at shape (1, 3, 384, 640)\n",
      "\n",
      "0: 384x640 1 person, 16.5ms\n",
      "Speed: 1.1ms preprocess, 16.5ms inference, 2.9ms postprocess per image at shape (1, 3, 384, 640)\n",
      "\n",
      "0: 384x640 1 person, 11.8ms\n",
      "Speed: 1.1ms preprocess, 11.8ms inference, 1.7ms postprocess per image at shape (1, 3, 384, 640)\n"
     ]
    },
    {
     "name": "stderr",
     "output_type": "stream",
     "text": [
      "  4%|▍         | 11/253 [00:00<00:10, 22.94it/s]"
     ]
    },
    {
     "name": "stdout",
     "output_type": "stream",
     "text": [
      "\n",
      "0: 384x640 1 person, 11.7ms\n",
      "Speed: 1.1ms preprocess, 11.7ms inference, 1.6ms postprocess per image at shape (1, 3, 384, 640)\n",
      "\n",
      "0: 384x640 1 person, 16.0ms\n",
      "Speed: 1.2ms preprocess, 16.0ms inference, 2.5ms postprocess per image at shape (1, 3, 384, 640)\n",
      "\n",
      "0: 384x640 1 person, 14.4ms\n",
      "Speed: 1.2ms preprocess, 14.4ms inference, 1.7ms postprocess per image at shape (1, 3, 384, 640)\n"
     ]
    },
    {
     "name": "stderr",
     "output_type": "stream",
     "text": [
      "  6%|▌         | 14/253 [00:00<00:09, 23.97it/s]"
     ]
    },
    {
     "name": "stdout",
     "output_type": "stream",
     "text": [
      "\n",
      "0: 384x640 1 person, 11.9ms\n",
      "Speed: 1.2ms preprocess, 11.9ms inference, 1.7ms postprocess per image at shape (1, 3, 384, 640)\n",
      "\n",
      "0: 384x640 1 person, 11.6ms\n",
      "Speed: 1.3ms preprocess, 11.6ms inference, 1.6ms postprocess per image at shape (1, 3, 384, 640)\n",
      "\n",
      "0: 384x640 1 person, 13.5ms\n",
      "Speed: 1.1ms preprocess, 13.5ms inference, 1.9ms postprocess per image at shape (1, 3, 384, 640)\n"
     ]
    },
    {
     "name": "stderr",
     "output_type": "stream",
     "text": [
      "  7%|▋         | 17/253 [00:00<00:09, 24.92it/s]"
     ]
    },
    {
     "name": "stdout",
     "output_type": "stream",
     "text": [
      "\n",
      "0: 384x640 1 person, 11.7ms\n",
      "Speed: 1.1ms preprocess, 11.7ms inference, 1.7ms postprocess per image at shape (1, 3, 384, 640)\n",
      "\n",
      "0: 384x640 1 person, 13.7ms\n",
      "Speed: 1.1ms preprocess, 13.7ms inference, 1.8ms postprocess per image at shape (1, 3, 384, 640)\n",
      "\n",
      "0: 384x640 1 person, 23.9ms\n",
      "Speed: 1.2ms preprocess, 23.9ms inference, 4.9ms postprocess per image at shape (1, 3, 384, 640)\n"
     ]
    },
    {
     "name": "stderr",
     "output_type": "stream",
     "text": [
      "  8%|▊         | 20/253 [00:00<00:09, 24.42it/s]"
     ]
    },
    {
     "name": "stdout",
     "output_type": "stream",
     "text": [
      "\n",
      "0: 384x640 1 person, 11.0ms\n",
      "Speed: 1.1ms preprocess, 11.0ms inference, 1.7ms postprocess per image at shape (1, 3, 384, 640)\n",
      "\n",
      "0: 384x640 1 person, 11.4ms\n",
      "Speed: 1.4ms preprocess, 11.4ms inference, 1.7ms postprocess per image at shape (1, 3, 384, 640)\n",
      "\n",
      "0: 384x640 1 person, 15.9ms\n",
      "Speed: 1.3ms preprocess, 15.9ms inference, 2.4ms postprocess per image at shape (1, 3, 384, 640)\n"
     ]
    },
    {
     "name": "stderr",
     "output_type": "stream",
     "text": [
      "  9%|▉         | 23/253 [00:00<00:09, 24.88it/s]"
     ]
    },
    {
     "name": "stdout",
     "output_type": "stream",
     "text": [
      "\n",
      "0: 384x640 1 person, 15.9ms\n",
      "Speed: 1.2ms preprocess, 15.9ms inference, 3.1ms postprocess per image at shape (1, 3, 384, 640)\n",
      "\n",
      "0: 384x640 1 person, 14.4ms\n",
      "Speed: 1.2ms preprocess, 14.4ms inference, 1.9ms postprocess per image at shape (1, 3, 384, 640)\n",
      "\n",
      "0: 384x640 1 person, 15.8ms\n",
      "Speed: 1.2ms preprocess, 15.8ms inference, 2.4ms postprocess per image at shape (1, 3, 384, 640)\n"
     ]
    },
    {
     "name": "stderr",
     "output_type": "stream",
     "text": [
      " 10%|█         | 26/253 [00:01<00:09, 24.78it/s]"
     ]
    },
    {
     "name": "stdout",
     "output_type": "stream",
     "text": [
      "\n",
      "0: 384x640 1 person, 13.6ms\n",
      "Speed: 1.3ms preprocess, 13.6ms inference, 1.6ms postprocess per image at shape (1, 3, 384, 640)\n",
      "\n",
      "0: 384x640 1 person, 15.5ms\n",
      "Speed: 1.2ms preprocess, 15.5ms inference, 2.4ms postprocess per image at shape (1, 3, 384, 640)\n",
      "\n",
      "0: 384x640 1 person, 11.8ms\n",
      "Speed: 1.3ms preprocess, 11.8ms inference, 1.6ms postprocess per image at shape (1, 3, 384, 640)\n"
     ]
    },
    {
     "name": "stderr",
     "output_type": "stream",
     "text": [
      " 11%|█▏        | 29/253 [00:01<00:08, 25.08it/s]"
     ]
    },
    {
     "name": "stdout",
     "output_type": "stream",
     "text": [
      "\n",
      "0: 384x640 1 person, 10.8ms\n",
      "Speed: 1.3ms preprocess, 10.8ms inference, 1.6ms postprocess per image at shape (1, 3, 384, 640)\n",
      "\n",
      "0: 384x640 1 person, 14.6ms\n",
      "Speed: 1.8ms preprocess, 14.6ms inference, 1.6ms postprocess per image at shape (1, 3, 384, 640)\n",
      "\n",
      "0: 384x640 1 person, 15.1ms\n",
      "Speed: 1.4ms preprocess, 15.1ms inference, 4.7ms postprocess per image at shape (1, 3, 384, 640)\n"
     ]
    },
    {
     "name": "stderr",
     "output_type": "stream",
     "text": [
      " 13%|█▎        | 32/253 [00:01<00:08, 24.89it/s]"
     ]
    },
    {
     "name": "stdout",
     "output_type": "stream",
     "text": [
      "\n",
      "0: 384x640 1 person, 17.0ms\n",
      "Speed: 1.2ms preprocess, 17.0ms inference, 2.8ms postprocess per image at shape (1, 3, 384, 640)\n",
      "\n",
      "0: 384x640 1 person, 13.5ms\n",
      "Speed: 1.1ms preprocess, 13.5ms inference, 1.6ms postprocess per image at shape (1, 3, 384, 640)\n",
      "\n",
      "0: 384x640 1 person, 11.2ms\n",
      "Speed: 1.4ms preprocess, 11.2ms inference, 2.3ms postprocess per image at shape (1, 3, 384, 640)\n"
     ]
    },
    {
     "name": "stderr",
     "output_type": "stream",
     "text": [
      " 14%|█▍        | 35/253 [00:01<00:08, 25.01it/s]"
     ]
    },
    {
     "name": "stdout",
     "output_type": "stream",
     "text": [
      "\n",
      "0: 384x640 1 person, 14.0ms\n",
      "Speed: 1.2ms preprocess, 14.0ms inference, 1.6ms postprocess per image at shape (1, 3, 384, 640)\n",
      "\n",
      "0: 384x640 1 person, 12.0ms\n",
      "Speed: 1.2ms preprocess, 12.0ms inference, 1.6ms postprocess per image at shape (1, 3, 384, 640)\n",
      "\n",
      "0: 384x640 1 person, 11.1ms\n",
      "Speed: 1.3ms preprocess, 11.1ms inference, 1.7ms postprocess per image at shape (1, 3, 384, 640)\n"
     ]
    },
    {
     "name": "stderr",
     "output_type": "stream",
     "text": [
      " 15%|█▌        | 38/253 [00:01<00:08, 25.53it/s]"
     ]
    },
    {
     "name": "stdout",
     "output_type": "stream",
     "text": [
      "\n",
      "0: 384x640 1 person, 11.6ms\n",
      "Speed: 1.6ms preprocess, 11.6ms inference, 2.2ms postprocess per image at shape (1, 3, 384, 640)\n",
      "\n",
      "0: 384x640 1 person, 11.9ms\n",
      "Speed: 1.2ms preprocess, 11.9ms inference, 2.0ms postprocess per image at shape (1, 3, 384, 640)\n",
      "\n",
      "0: 384x640 1 person, 15.1ms\n",
      "Speed: 1.2ms preprocess, 15.1ms inference, 2.5ms postprocess per image at shape (1, 3, 384, 640)\n"
     ]
    },
    {
     "name": "stderr",
     "output_type": "stream",
     "text": [
      " 16%|█▌        | 41/253 [00:01<00:08, 25.35it/s]"
     ]
    },
    {
     "name": "stdout",
     "output_type": "stream",
     "text": [
      "\n",
      "0: 384x640 1 person, 15.5ms\n",
      "Speed: 1.3ms preprocess, 15.5ms inference, 2.5ms postprocess per image at shape (1, 3, 384, 640)\n",
      "\n",
      "0: 384x640 1 person, 11.2ms\n",
      "Speed: 1.4ms preprocess, 11.2ms inference, 1.6ms postprocess per image at shape (1, 3, 384, 640)\n",
      "\n",
      "0: 384x640 1 person, 11.4ms\n",
      "Speed: 1.1ms preprocess, 11.4ms inference, 2.3ms postprocess per image at shape (1, 3, 384, 640)\n"
     ]
    },
    {
     "name": "stderr",
     "output_type": "stream",
     "text": [
      " 17%|█▋        | 44/253 [00:01<00:08, 25.52it/s]"
     ]
    },
    {
     "name": "stdout",
     "output_type": "stream",
     "text": [
      "\n",
      "0: 384x640 1 person, 15.5ms\n",
      "Speed: 1.1ms preprocess, 15.5ms inference, 2.7ms postprocess per image at shape (1, 3, 384, 640)\n",
      "\n",
      "0: 384x640 1 person, 12.0ms\n",
      "Speed: 1.3ms preprocess, 12.0ms inference, 1.6ms postprocess per image at shape (1, 3, 384, 640)\n",
      "\n",
      "0: 384x640 1 person, 15.4ms\n",
      "Speed: 1.1ms preprocess, 15.4ms inference, 2.5ms postprocess per image at shape (1, 3, 384, 640)\n"
     ]
    },
    {
     "name": "stderr",
     "output_type": "stream",
     "text": [
      " 19%|█▊        | 47/253 [00:01<00:08, 25.35it/s]"
     ]
    },
    {
     "name": "stdout",
     "output_type": "stream",
     "text": [
      "\n",
      "0: 384x640 1 person, 12.5ms\n",
      "Speed: 1.2ms preprocess, 12.5ms inference, 2.0ms postprocess per image at shape (1, 3, 384, 640)\n",
      "\n",
      "0: 384x640 1 person, 16.0ms\n",
      "Speed: 1.2ms preprocess, 16.0ms inference, 2.8ms postprocess per image at shape (1, 3, 384, 640)\n",
      "\n",
      "0: 384x640 1 person, 15.4ms\n",
      "Speed: 1.8ms preprocess, 15.4ms inference, 2.5ms postprocess per image at shape (1, 3, 384, 640)\n"
     ]
    },
    {
     "name": "stderr",
     "output_type": "stream",
     "text": [
      " 20%|█▉        | 50/253 [00:02<00:08, 25.29it/s]"
     ]
    },
    {
     "name": "stdout",
     "output_type": "stream",
     "text": [
      "\n",
      "0: 384x640 1 person, 14.3ms\n",
      "Speed: 1.2ms preprocess, 14.3ms inference, 1.6ms postprocess per image at shape (1, 3, 384, 640)\n",
      "\n",
      "0: 384x640 1 person, 11.4ms\n",
      "Speed: 1.1ms preprocess, 11.4ms inference, 1.6ms postprocess per image at shape (1, 3, 384, 640)\n",
      "\n",
      "0: 384x640 1 person, 13.5ms\n",
      "Speed: 1.2ms preprocess, 13.5ms inference, 2.9ms postprocess per image at shape (1, 3, 384, 640)\n"
     ]
    },
    {
     "name": "stderr",
     "output_type": "stream",
     "text": [
      " 21%|██        | 53/253 [00:02<00:07, 25.45it/s]"
     ]
    },
    {
     "name": "stdout",
     "output_type": "stream",
     "text": [
      "\n",
      "0: 384x640 1 person, 13.3ms\n",
      "Speed: 1.2ms preprocess, 13.3ms inference, 1.7ms postprocess per image at shape (1, 3, 384, 640)\n",
      "\n",
      "0: 384x640 1 person, 11.6ms\n",
      "Speed: 1.1ms preprocess, 11.6ms inference, 2.1ms postprocess per image at shape (1, 3, 384, 640)\n",
      "\n",
      "0: 384x640 1 person, 11.1ms\n",
      "Speed: 1.1ms preprocess, 11.1ms inference, 1.7ms postprocess per image at shape (1, 3, 384, 640)\n"
     ]
    },
    {
     "name": "stderr",
     "output_type": "stream",
     "text": [
      " 22%|██▏       | 56/253 [00:02<00:07, 25.85it/s]"
     ]
    },
    {
     "name": "stdout",
     "output_type": "stream",
     "text": [
      "\n",
      "0: 384x640 1 person, 15.5ms\n",
      "Speed: 1.2ms preprocess, 15.5ms inference, 2.5ms postprocess per image at shape (1, 3, 384, 640)\n",
      "\n",
      "0: 384x640 1 person, 14.8ms\n",
      "Speed: 1.2ms preprocess, 14.8ms inference, 1.8ms postprocess per image at shape (1, 3, 384, 640)\n",
      "\n",
      "0: 384x640 1 person, 11.4ms\n",
      "Speed: 1.2ms preprocess, 11.4ms inference, 1.6ms postprocess per image at shape (1, 3, 384, 640)\n"
     ]
    },
    {
     "name": "stderr",
     "output_type": "stream",
     "text": [
      " 23%|██▎       | 59/253 [00:02<00:07, 25.67it/s]"
     ]
    },
    {
     "name": "stdout",
     "output_type": "stream",
     "text": [
      "\n",
      "0: 384x640 1 person, 15.3ms\n",
      "Speed: 1.3ms preprocess, 15.3ms inference, 1.9ms postprocess per image at shape (1, 3, 384, 640)\n",
      "\n",
      "0: 384x640 1 person, 15.5ms\n",
      "Speed: 1.1ms preprocess, 15.5ms inference, 2.9ms postprocess per image at shape (1, 3, 384, 640)\n",
      "\n",
      "0: 384x640 1 person, 11.4ms\n",
      "Speed: 1.3ms preprocess, 11.4ms inference, 1.9ms postprocess per image at shape (1, 3, 384, 640)\n"
     ]
    },
    {
     "name": "stderr",
     "output_type": "stream",
     "text": [
      " 25%|██▍       | 62/253 [00:02<00:07, 25.80it/s]"
     ]
    },
    {
     "name": "stdout",
     "output_type": "stream",
     "text": [
      "\n",
      "0: 384x640 1 person, 14.4ms\n",
      "Speed: 1.2ms preprocess, 14.4ms inference, 1.6ms postprocess per image at shape (1, 3, 384, 640)\n",
      "\n",
      "0: 384x640 1 person, 12.2ms\n",
      "Speed: 1.3ms preprocess, 12.2ms inference, 3.0ms postprocess per image at shape (1, 3, 384, 640)\n",
      "\n",
      "0: 384x640 1 person, 13.7ms\n",
      "Speed: 1.1ms preprocess, 13.7ms inference, 2.1ms postprocess per image at shape (1, 3, 384, 640)\n"
     ]
    },
    {
     "name": "stderr",
     "output_type": "stream",
     "text": [
      " 26%|██▌       | 65/253 [00:02<00:07, 25.58it/s]"
     ]
    },
    {
     "name": "stdout",
     "output_type": "stream",
     "text": [
      "\n",
      "0: 384x640 1 person, 13.6ms\n",
      "Speed: 1.5ms preprocess, 13.6ms inference, 3.1ms postprocess per image at shape (1, 3, 384, 640)\n",
      "\n",
      "0: 384x640 1 person, 11.3ms\n",
      "Speed: 1.3ms preprocess, 11.3ms inference, 1.6ms postprocess per image at shape (1, 3, 384, 640)\n",
      "\n",
      "0: 384x640 1 person, 13.4ms\n",
      "Speed: 1.3ms preprocess, 13.4ms inference, 3.3ms postprocess per image at shape (1, 3, 384, 640)\n"
     ]
    },
    {
     "name": "stderr",
     "output_type": "stream",
     "text": [
      " 27%|██▋       | 68/253 [00:02<00:07, 25.50it/s]"
     ]
    },
    {
     "name": "stdout",
     "output_type": "stream",
     "text": [
      "\n",
      "0: 384x640 1 person, 11.7ms\n",
      "Speed: 1.1ms preprocess, 11.7ms inference, 1.7ms postprocess per image at shape (1, 3, 384, 640)\n",
      "\n",
      "0: 384x640 1 person, 13.9ms\n",
      "Speed: 1.8ms preprocess, 13.9ms inference, 2.5ms postprocess per image at shape (1, 3, 384, 640)\n",
      "\n",
      "0: 384x640 1 person, 15.8ms\n",
      "Speed: 1.2ms preprocess, 15.8ms inference, 2.4ms postprocess per image at shape (1, 3, 384, 640)\n"
     ]
    },
    {
     "name": "stderr",
     "output_type": "stream",
     "text": [
      " 28%|██▊       | 71/253 [00:02<00:07, 25.40it/s]"
     ]
    },
    {
     "name": "stdout",
     "output_type": "stream",
     "text": [
      "\n",
      "0: 384x640 1 person, 15.5ms\n",
      "Speed: 1.3ms preprocess, 15.5ms inference, 1.6ms postprocess per image at shape (1, 3, 384, 640)\n",
      "\n",
      "0: 384x640 1 person, 11.2ms\n",
      "Speed: 1.1ms preprocess, 11.2ms inference, 1.7ms postprocess per image at shape (1, 3, 384, 640)\n",
      "\n",
      "0: 384x640 1 person, 11.4ms\n",
      "Speed: 1.2ms preprocess, 11.4ms inference, 2.2ms postprocess per image at shape (1, 3, 384, 640)\n"
     ]
    },
    {
     "name": "stderr",
     "output_type": "stream",
     "text": [
      " 29%|██▉       | 74/253 [00:02<00:06, 25.93it/s]"
     ]
    },
    {
     "name": "stdout",
     "output_type": "stream",
     "text": [
      "\n",
      "0: 384x640 1 person, 12.0ms\n",
      "Speed: 1.1ms preprocess, 12.0ms inference, 1.6ms postprocess per image at shape (1, 3, 384, 640)\n",
      "\n",
      "0: 384x640 1 person, 11.1ms\n",
      "Speed: 1.3ms preprocess, 11.1ms inference, 1.8ms postprocess per image at shape (1, 3, 384, 640)\n",
      "\n",
      "0: 384x640 1 person, 11.6ms\n",
      "Speed: 1.3ms preprocess, 11.6ms inference, 1.6ms postprocess per image at shape (1, 3, 384, 640)\n"
     ]
    },
    {
     "name": "stderr",
     "output_type": "stream",
     "text": [
      " 30%|███       | 77/253 [00:03<00:06, 26.18it/s]"
     ]
    },
    {
     "name": "stdout",
     "output_type": "stream",
     "text": [
      "\n",
      "0: 384x640 1 person, 11.5ms\n",
      "Speed: 1.1ms preprocess, 11.5ms inference, 1.6ms postprocess per image at shape (1, 3, 384, 640)\n",
      "\n",
      "0: 384x640 1 person, 11.3ms\n",
      "Speed: 1.6ms preprocess, 11.3ms inference, 1.8ms postprocess per image at shape (1, 3, 384, 640)\n",
      "\n",
      "0: 384x640 1 person, 15.0ms\n",
      "Speed: 1.2ms preprocess, 15.0ms inference, 1.6ms postprocess per image at shape (1, 3, 384, 640)\n"
     ]
    },
    {
     "name": "stderr",
     "output_type": "stream",
     "text": [
      " 32%|███▏      | 80/253 [00:03<00:06, 26.39it/s]"
     ]
    },
    {
     "name": "stdout",
     "output_type": "stream",
     "text": [
      "\n",
      "0: 384x640 1 person, 11.3ms\n",
      "Speed: 1.4ms preprocess, 11.3ms inference, 2.2ms postprocess per image at shape (1, 3, 384, 640)\n",
      "\n",
      "0: 384x640 1 person, 15.1ms\n",
      "Speed: 1.3ms preprocess, 15.1ms inference, 2.5ms postprocess per image at shape (1, 3, 384, 640)\n",
      "\n",
      "0: 384x640 1 person, 12.7ms\n",
      "Speed: 1.2ms preprocess, 12.7ms inference, 2.5ms postprocess per image at shape (1, 3, 384, 640)\n"
     ]
    },
    {
     "name": "stderr",
     "output_type": "stream",
     "text": [
      " 33%|███▎      | 83/253 [00:03<00:06, 25.70it/s]"
     ]
    },
    {
     "name": "stdout",
     "output_type": "stream",
     "text": [
      "\n",
      "0: 384x640 1 person, 12.1ms\n",
      "Speed: 1.3ms preprocess, 12.1ms inference, 1.7ms postprocess per image at shape (1, 3, 384, 640)\n",
      "\n",
      "0: 384x640 1 person, 28.8ms\n",
      "Speed: 2.6ms preprocess, 28.8ms inference, 4.5ms postprocess per image at shape (1, 3, 384, 640)\n",
      "\n",
      "0: 384x640 1 person, 11.1ms\n",
      "Speed: 1.3ms preprocess, 11.1ms inference, 1.6ms postprocess per image at shape (1, 3, 384, 640)\n"
     ]
    },
    {
     "name": "stderr",
     "output_type": "stream",
     "text": [
      " 34%|███▍      | 86/253 [00:03<00:06, 24.94it/s]"
     ]
    },
    {
     "name": "stdout",
     "output_type": "stream",
     "text": [
      "\n",
      "0: 384x640 1 person, 11.5ms\n",
      "Speed: 1.2ms preprocess, 11.5ms inference, 2.0ms postprocess per image at shape (1, 3, 384, 640)\n",
      "\n",
      "0: 384x640 1 person, 11.3ms\n",
      "Speed: 1.3ms preprocess, 11.3ms inference, 1.7ms postprocess per image at shape (1, 3, 384, 640)\n",
      "\n",
      "0: 384x640 1 person, 11.3ms\n",
      "Speed: 1.3ms preprocess, 11.3ms inference, 2.2ms postprocess per image at shape (1, 3, 384, 640)\n"
     ]
    },
    {
     "name": "stderr",
     "output_type": "stream",
     "text": [
      " 35%|███▌      | 89/253 [00:03<00:06, 25.40it/s]"
     ]
    },
    {
     "name": "stdout",
     "output_type": "stream",
     "text": [
      "\n",
      "0: 384x640 1 person, 11.6ms\n",
      "Speed: 1.1ms preprocess, 11.6ms inference, 1.7ms postprocess per image at shape (1, 3, 384, 640)\n",
      "\n",
      "0: 384x640 1 person, 12.1ms\n",
      "Speed: 1.2ms preprocess, 12.1ms inference, 1.8ms postprocess per image at shape (1, 3, 384, 640)\n",
      "\n",
      "0: 384x640 1 person, 15.6ms\n",
      "Speed: 1.3ms preprocess, 15.6ms inference, 2.5ms postprocess per image at shape (1, 3, 384, 640)\n"
     ]
    },
    {
     "name": "stderr",
     "output_type": "stream",
     "text": [
      " 36%|███▋      | 92/253 [00:03<00:06, 25.50it/s]"
     ]
    },
    {
     "name": "stdout",
     "output_type": "stream",
     "text": [
      "\n",
      "0: 384x640 1 person, 15.9ms\n",
      "Speed: 1.2ms preprocess, 15.9ms inference, 2.5ms postprocess per image at shape (1, 3, 384, 640)\n",
      "\n",
      "0: 384x640 1 person, 11.9ms\n",
      "Speed: 1.2ms preprocess, 11.9ms inference, 1.9ms postprocess per image at shape (1, 3, 384, 640)\n",
      "\n",
      "0: 384x640 1 person, 11.6ms\n",
      "Speed: 1.2ms preprocess, 11.6ms inference, 2.1ms postprocess per image at shape (1, 3, 384, 640)\n"
     ]
    },
    {
     "name": "stderr",
     "output_type": "stream",
     "text": [
      " 38%|███▊      | 95/253 [00:03<00:06, 25.52it/s]"
     ]
    },
    {
     "name": "stdout",
     "output_type": "stream",
     "text": [
      "\n",
      "0: 384x640 1 person, 12.6ms\n",
      "Speed: 1.2ms preprocess, 12.6ms inference, 3.3ms postprocess per image at shape (1, 3, 384, 640)\n",
      "\n",
      "0: 384x640 1 person, 15.3ms\n",
      "Speed: 1.2ms preprocess, 15.3ms inference, 2.5ms postprocess per image at shape (1, 3, 384, 640)\n",
      "\n",
      "0: 384x640 1 person, 16.2ms\n",
      "Speed: 1.2ms preprocess, 16.2ms inference, 2.8ms postprocess per image at shape (1, 3, 384, 640)\n"
     ]
    },
    {
     "name": "stderr",
     "output_type": "stream",
     "text": [
      " 39%|███▊      | 98/253 [00:03<00:06, 25.21it/s]"
     ]
    },
    {
     "name": "stdout",
     "output_type": "stream",
     "text": [
      "\n",
      "0: 384x640 1 person, 12.2ms\n",
      "Speed: 1.1ms preprocess, 12.2ms inference, 1.6ms postprocess per image at shape (1, 3, 384, 640)\n",
      "\n",
      "0: 384x640 1 person, 11.2ms\n",
      "Speed: 1.5ms preprocess, 11.2ms inference, 1.8ms postprocess per image at shape (1, 3, 384, 640)\n",
      "\n",
      "0: 384x640 1 person, 15.2ms\n",
      "Speed: 1.2ms preprocess, 15.2ms inference, 2.6ms postprocess per image at shape (1, 3, 384, 640)\n"
     ]
    },
    {
     "name": "stderr",
     "output_type": "stream",
     "text": [
      " 40%|███▉      | 101/253 [00:04<00:05, 25.39it/s]"
     ]
    },
    {
     "name": "stdout",
     "output_type": "stream",
     "text": [
      "\n",
      "0: 384x640 1 person, 15.2ms\n",
      "Speed: 1.3ms preprocess, 15.2ms inference, 2.1ms postprocess per image at shape (1, 3, 384, 640)\n",
      "\n",
      "0: 384x640 1 person, 11.8ms\n",
      "Speed: 1.1ms preprocess, 11.8ms inference, 2.1ms postprocess per image at shape (1, 3, 384, 640)\n",
      "\n",
      "0: 384x640 1 person, 15.3ms\n",
      "Speed: 1.4ms preprocess, 15.3ms inference, 3.0ms postprocess per image at shape (1, 3, 384, 640)\n"
     ]
    },
    {
     "name": "stderr",
     "output_type": "stream",
     "text": [
      " 41%|████      | 104/253 [00:04<00:05, 25.28it/s]"
     ]
    },
    {
     "name": "stdout",
     "output_type": "stream",
     "text": [
      "\n",
      "0: 384x640 1 person, 11.7ms\n",
      "Speed: 1.1ms preprocess, 11.7ms inference, 1.6ms postprocess per image at shape (1, 3, 384, 640)\n",
      "\n",
      "0: 384x640 1 person, 16.2ms\n",
      "Speed: 1.5ms preprocess, 16.2ms inference, 1.7ms postprocess per image at shape (1, 3, 384, 640)\n",
      "\n",
      "0: 384x640 1 person, 11.5ms\n",
      "Speed: 1.3ms preprocess, 11.5ms inference, 3.0ms postprocess per image at shape (1, 3, 384, 640)\n"
     ]
    },
    {
     "name": "stderr",
     "output_type": "stream",
     "text": [
      " 42%|████▏     | 107/253 [00:04<00:05, 24.87it/s]"
     ]
    },
    {
     "name": "stdout",
     "output_type": "stream",
     "text": [
      "\n",
      "0: 384x640 1 person, 12.4ms\n",
      "Speed: 1.2ms preprocess, 12.4ms inference, 1.7ms postprocess per image at shape (1, 3, 384, 640)\n",
      "\n",
      "0: 384x640 1 person, 11.2ms\n",
      "Speed: 1.3ms preprocess, 11.2ms inference, 2.4ms postprocess per image at shape (1, 3, 384, 640)\n",
      "\n",
      "0: 384x640 1 person, 11.8ms\n",
      "Speed: 1.2ms preprocess, 11.8ms inference, 2.4ms postprocess per image at shape (1, 3, 384, 640)\n"
     ]
    },
    {
     "name": "stderr",
     "output_type": "stream",
     "text": [
      " 43%|████▎     | 110/253 [00:04<00:05, 25.49it/s]"
     ]
    },
    {
     "name": "stdout",
     "output_type": "stream",
     "text": [
      "\n",
      "0: 384x640 1 person, 12.7ms\n",
      "Speed: 1.3ms preprocess, 12.7ms inference, 1.7ms postprocess per image at shape (1, 3, 384, 640)\n",
      "\n",
      "0: 384x640 1 person, 13.2ms\n",
      "Speed: 1.3ms preprocess, 13.2ms inference, 1.7ms postprocess per image at shape (1, 3, 384, 640)\n",
      "\n",
      "0: 384x640 1 person, 12.3ms\n",
      "Speed: 1.6ms preprocess, 12.3ms inference, 2.5ms postprocess per image at shape (1, 3, 384, 640)\n"
     ]
    },
    {
     "name": "stderr",
     "output_type": "stream",
     "text": [
      " 45%|████▍     | 113/253 [00:04<00:05, 25.55it/s]"
     ]
    },
    {
     "name": "stdout",
     "output_type": "stream",
     "text": [
      "\n",
      "0: 384x640 1 person, 14.7ms\n",
      "Speed: 1.3ms preprocess, 14.7ms inference, 1.8ms postprocess per image at shape (1, 3, 384, 640)\n",
      "\n",
      "0: 384x640 1 person, 12.3ms\n",
      "Speed: 1.2ms preprocess, 12.3ms inference, 1.7ms postprocess per image at shape (1, 3, 384, 640)\n",
      "\n",
      "0: 384x640 1 person, 11.2ms\n",
      "Speed: 1.6ms preprocess, 11.2ms inference, 1.7ms postprocess per image at shape (1, 3, 384, 640)\n"
     ]
    },
    {
     "name": "stderr",
     "output_type": "stream",
     "text": [
      " 46%|████▌     | 116/253 [00:04<00:05, 25.55it/s]"
     ]
    },
    {
     "name": "stdout",
     "output_type": "stream",
     "text": [
      "\n",
      "0: 384x640 1 person, 12.3ms\n",
      "Speed: 1.2ms preprocess, 12.3ms inference, 1.6ms postprocess per image at shape (1, 3, 384, 640)\n",
      "\n",
      "0: 384x640 1 person, 15.2ms\n",
      "Speed: 1.6ms preprocess, 15.2ms inference, 1.6ms postprocess per image at shape (1, 3, 384, 640)\n",
      "\n",
      "0: 384x640 1 person, 15.6ms\n",
      "Speed: 1.5ms preprocess, 15.6ms inference, 1.6ms postprocess per image at shape (1, 3, 384, 640)\n"
     ]
    },
    {
     "name": "stderr",
     "output_type": "stream",
     "text": [
      " 47%|████▋     | 119/253 [00:04<00:05, 25.17it/s]"
     ]
    },
    {
     "name": "stdout",
     "output_type": "stream",
     "text": [
      "\n",
      "0: 384x640 1 person, 11.4ms\n",
      "Speed: 1.3ms preprocess, 11.4ms inference, 2.2ms postprocess per image at shape (1, 3, 384, 640)\n",
      "\n",
      "0: 384x640 1 person, 15.1ms\n",
      "Speed: 1.9ms preprocess, 15.1ms inference, 2.7ms postprocess per image at shape (1, 3, 384, 640)\n",
      "\n",
      "0: 384x640 1 person, 11.3ms\n",
      "Speed: 1.1ms preprocess, 11.3ms inference, 2.4ms postprocess per image at shape (1, 3, 384, 640)\n"
     ]
    },
    {
     "name": "stderr",
     "output_type": "stream",
     "text": [
      " 48%|████▊     | 122/253 [00:04<00:05, 25.42it/s]"
     ]
    },
    {
     "name": "stdout",
     "output_type": "stream",
     "text": [
      "\n",
      "0: 384x640 1 person, 11.7ms\n",
      "Speed: 1.3ms preprocess, 11.7ms inference, 1.6ms postprocess per image at shape (1, 3, 384, 640)\n",
      "\n",
      "0: 384x640 1 person, 12.6ms\n",
      "Speed: 1.4ms preprocess, 12.6ms inference, 3.2ms postprocess per image at shape (1, 3, 384, 640)\n",
      "\n",
      "0: 384x640 1 person, 13.6ms\n",
      "Speed: 1.3ms preprocess, 13.6ms inference, 2.2ms postprocess per image at shape (1, 3, 384, 640)\n"
     ]
    },
    {
     "name": "stderr",
     "output_type": "stream",
     "text": [
      " 49%|████▉     | 125/253 [00:04<00:05, 25.50it/s]"
     ]
    },
    {
     "name": "stdout",
     "output_type": "stream",
     "text": [
      "\n",
      "0: 384x640 1 person, 12.4ms\n",
      "Speed: 1.2ms preprocess, 12.4ms inference, 1.6ms postprocess per image at shape (1, 3, 384, 640)\n",
      "\n",
      "0: 384x640 1 person, 11.8ms\n",
      "Speed: 1.2ms preprocess, 11.8ms inference, 1.6ms postprocess per image at shape (1, 3, 384, 640)\n",
      "\n",
      "0: 384x640 2 persons, 10.9ms\n",
      "Speed: 1.2ms preprocess, 10.9ms inference, 2.5ms postprocess per image at shape (1, 3, 384, 640)\n"
     ]
    },
    {
     "name": "stderr",
     "output_type": "stream",
     "text": [
      " 51%|█████     | 128/253 [00:05<00:04, 25.73it/s]"
     ]
    },
    {
     "name": "stdout",
     "output_type": "stream",
     "text": [
      "\n",
      "0: 384x640 2 persons, 1 cell phone, 11.1ms\n",
      "Speed: 1.2ms preprocess, 11.1ms inference, 1.6ms postprocess per image at shape (1, 3, 384, 640)\n",
      "\n",
      "0: 384x640 3 persons, 1 cell phone, 13.5ms\n",
      "Speed: 1.1ms preprocess, 13.5ms inference, 2.4ms postprocess per image at shape (1, 3, 384, 640)\n",
      "\n",
      "0: 384x640 3 persons, 1 cell phone, 12.2ms\n",
      "Speed: 1.4ms preprocess, 12.2ms inference, 1.9ms postprocess per image at shape (1, 3, 384, 640)\n"
     ]
    },
    {
     "name": "stderr",
     "output_type": "stream",
     "text": [
      " 52%|█████▏    | 131/253 [00:05<00:04, 24.63it/s]"
     ]
    },
    {
     "name": "stdout",
     "output_type": "stream",
     "text": [
      "\n",
      "0: 384x640 2 persons, 1 cell phone, 11.7ms\n",
      "Speed: 1.2ms preprocess, 11.7ms inference, 2.4ms postprocess per image at shape (1, 3, 384, 640)\n",
      "\n",
      "0: 384x640 2 persons, 1 cell phone, 12.3ms\n",
      "Speed: 1.6ms preprocess, 12.3ms inference, 1.7ms postprocess per image at shape (1, 3, 384, 640)\n",
      "\n",
      "0: 384x640 1 person, 1 cell phone, 12.0ms\n",
      "Speed: 1.3ms preprocess, 12.0ms inference, 2.5ms postprocess per image at shape (1, 3, 384, 640)\n"
     ]
    },
    {
     "name": "stderr",
     "output_type": "stream",
     "text": [
      " 53%|█████▎    | 134/253 [00:05<00:04, 24.45it/s]"
     ]
    },
    {
     "name": "stdout",
     "output_type": "stream",
     "text": [
      "\n",
      "0: 384x640 1 person, 1 cell phone, 11.6ms\n",
      "Speed: 1.2ms preprocess, 11.6ms inference, 2.1ms postprocess per image at shape (1, 3, 384, 640)\n",
      "\n",
      "0: 384x640 1 person, 1 remote, 1 cell phone, 12.0ms\n",
      "Speed: 1.4ms preprocess, 12.0ms inference, 2.5ms postprocess per image at shape (1, 3, 384, 640)\n",
      "\n",
      "0: 384x640 1 person, 1 cell phone, 11.7ms\n",
      "Speed: 1.2ms preprocess, 11.7ms inference, 2.4ms postprocess per image at shape (1, 3, 384, 640)\n"
     ]
    },
    {
     "name": "stderr",
     "output_type": "stream",
     "text": [
      " 54%|█████▍    | 137/253 [00:05<00:04, 24.30it/s]"
     ]
    },
    {
     "name": "stdout",
     "output_type": "stream",
     "text": [
      "\n",
      "0: 384x640 1 person, 1 donut, 1 cell phone, 11.1ms\n",
      "Speed: 1.2ms preprocess, 11.1ms inference, 2.7ms postprocess per image at shape (1, 3, 384, 640)\n",
      "\n",
      "0: 384x640 1 person, 1 donut, 1 cell phone, 11.4ms\n",
      "Speed: 1.3ms preprocess, 11.4ms inference, 2.3ms postprocess per image at shape (1, 3, 384, 640)\n",
      "\n",
      "0: 384x640 1 person, 1 donut, 1 cell phone, 14.4ms\n",
      "Speed: 1.4ms preprocess, 14.4ms inference, 1.9ms postprocess per image at shape (1, 3, 384, 640)\n"
     ]
    },
    {
     "name": "stderr",
     "output_type": "stream",
     "text": [
      " 55%|█████▌    | 140/253 [00:05<00:04, 24.07it/s]"
     ]
    },
    {
     "name": "stdout",
     "output_type": "stream",
     "text": [
      "\n",
      "0: 384x640 2 persons, 1 cell phone, 11.7ms\n",
      "Speed: 1.3ms preprocess, 11.7ms inference, 1.6ms postprocess per image at shape (1, 3, 384, 640)\n",
      "\n",
      "0: 384x640 2 persons, 1 cell phone, 15.4ms\n",
      "Speed: 1.2ms preprocess, 15.4ms inference, 2.5ms postprocess per image at shape (1, 3, 384, 640)\n",
      "\n",
      "0: 384x640 3 persons, 1 cell phone, 11.2ms\n",
      "Speed: 1.4ms preprocess, 11.2ms inference, 2.2ms postprocess per image at shape (1, 3, 384, 640)\n"
     ]
    },
    {
     "name": "stderr",
     "output_type": "stream",
     "text": [
      " 57%|█████▋    | 143/253 [00:05<00:04, 23.74it/s]"
     ]
    },
    {
     "name": "stdout",
     "output_type": "stream",
     "text": [
      "\n",
      "0: 384x640 2 persons, 1 cell phone, 15.7ms\n",
      "Speed: 1.2ms preprocess, 15.7ms inference, 2.6ms postprocess per image at shape (1, 3, 384, 640)\n",
      "\n",
      "0: 384x640 2 persons, 1 cell phone, 11.7ms\n",
      "Speed: 1.2ms preprocess, 11.7ms inference, 2.3ms postprocess per image at shape (1, 3, 384, 640)\n",
      "\n",
      "0: 384x640 2 persons, 1 cell phone, 11.9ms\n",
      "Speed: 1.3ms preprocess, 11.9ms inference, 1.6ms postprocess per image at shape (1, 3, 384, 640)\n"
     ]
    },
    {
     "name": "stderr",
     "output_type": "stream",
     "text": [
      " 58%|█████▊    | 146/253 [00:05<00:04, 23.69it/s]"
     ]
    },
    {
     "name": "stdout",
     "output_type": "stream",
     "text": [
      "\n",
      "0: 384x640 2 persons, 1 cell phone, 12.0ms\n",
      "Speed: 1.2ms preprocess, 12.0ms inference, 1.6ms postprocess per image at shape (1, 3, 384, 640)\n",
      "\n",
      "0: 384x640 3 persons, 1 cell phone, 12.0ms\n",
      "Speed: 1.3ms preprocess, 12.0ms inference, 1.6ms postprocess per image at shape (1, 3, 384, 640)\n",
      "\n",
      "0: 384x640 1 person, 1 cell phone, 12.1ms\n",
      "Speed: 1.3ms preprocess, 12.1ms inference, 1.8ms postprocess per image at shape (1, 3, 384, 640)\n"
     ]
    },
    {
     "name": "stderr",
     "output_type": "stream",
     "text": [
      " 59%|█████▉    | 149/253 [00:05<00:04, 23.63it/s]"
     ]
    },
    {
     "name": "stdout",
     "output_type": "stream",
     "text": [
      "\n",
      "0: 384x640 1 person, 1 cell phone, 11.6ms\n",
      "Speed: 1.2ms preprocess, 11.6ms inference, 1.6ms postprocess per image at shape (1, 3, 384, 640)\n",
      "\n",
      "0: 384x640 1 person, 1 cell phone, 11.9ms\n",
      "Speed: 1.2ms preprocess, 11.9ms inference, 1.6ms postprocess per image at shape (1, 3, 384, 640)\n",
      "\n",
      "0: 384x640 1 person, 1 cell phone, 14.5ms\n",
      "Speed: 1.8ms preprocess, 14.5ms inference, 1.6ms postprocess per image at shape (1, 3, 384, 640)\n"
     ]
    },
    {
     "name": "stderr",
     "output_type": "stream",
     "text": [
      " 60%|██████    | 152/253 [00:06<00:04, 23.57it/s]"
     ]
    },
    {
     "name": "stdout",
     "output_type": "stream",
     "text": [
      "\n",
      "0: 384x640 1 person, 1 cell phone, 11.9ms\n",
      "Speed: 1.2ms preprocess, 11.9ms inference, 1.9ms postprocess per image at shape (1, 3, 384, 640)\n",
      "\n",
      "0: 384x640 1 person, 1 cell phone, 11.4ms\n",
      "Speed: 1.1ms preprocess, 11.4ms inference, 1.9ms postprocess per image at shape (1, 3, 384, 640)\n",
      "\n",
      "0: 384x640 1 person, 1 cell phone, 12.4ms\n",
      "Speed: 1.2ms preprocess, 12.4ms inference, 2.5ms postprocess per image at shape (1, 3, 384, 640)\n"
     ]
    },
    {
     "name": "stderr",
     "output_type": "stream",
     "text": [
      " 61%|██████▏   | 155/253 [00:06<00:04, 23.52it/s]"
     ]
    },
    {
     "name": "stdout",
     "output_type": "stream",
     "text": [
      "\n",
      "0: 384x640 1 person, 1 cell phone, 15.4ms\n",
      "Speed: 1.3ms preprocess, 15.4ms inference, 2.0ms postprocess per image at shape (1, 3, 384, 640)\n",
      "\n",
      "0: 384x640 1 person, 1 cell phone, 22.3ms\n",
      "Speed: 1.2ms preprocess, 22.3ms inference, 1.6ms postprocess per image at shape (1, 3, 384, 640)\n",
      "\n",
      "0: 384x640 1 person, 1 cell phone, 23.5ms\n",
      "Speed: 1.3ms preprocess, 23.5ms inference, 2.3ms postprocess per image at shape (1, 3, 384, 640)\n"
     ]
    },
    {
     "name": "stderr",
     "output_type": "stream",
     "text": [
      " 62%|██████▏   | 158/253 [00:06<00:04, 22.37it/s]"
     ]
    },
    {
     "name": "stdout",
     "output_type": "stream",
     "text": [
      "\n",
      "0: 384x640 1 person, 1 cell phone, 22.2ms\n",
      "Speed: 1.3ms preprocess, 22.2ms inference, 1.7ms postprocess per image at shape (1, 3, 384, 640)\n",
      "\n",
      "0: 384x640 1 person, 1 donut, 1 cell phone, 23.9ms\n",
      "Speed: 1.3ms preprocess, 23.9ms inference, 2.0ms postprocess per image at shape (1, 3, 384, 640)\n",
      "\n",
      "0: 384x640 1 person, 1 cell phone, 23.6ms\n",
      "Speed: 1.3ms preprocess, 23.6ms inference, 1.7ms postprocess per image at shape (1, 3, 384, 640)\n"
     ]
    },
    {
     "name": "stderr",
     "output_type": "stream",
     "text": [
      " 64%|██████▎   | 161/253 [00:06<00:04, 20.95it/s]"
     ]
    },
    {
     "name": "stdout",
     "output_type": "stream",
     "text": [
      "\n",
      "0: 384x640 1 person, 1 remote, 1 cell phone, 19.0ms\n",
      "Speed: 1.5ms preprocess, 19.0ms inference, 3.1ms postprocess per image at shape (1, 3, 384, 640)\n",
      "\n",
      "0: 384x640 1 person, 1 remote, 1 refrigerator, 21.3ms\n",
      "Speed: 1.3ms preprocess, 21.3ms inference, 5.5ms postprocess per image at shape (1, 3, 384, 640)\n",
      "\n",
      "0: 384x640 1 person, 1 remote, 1 cell phone, 25.6ms\n",
      "Speed: 1.3ms preprocess, 25.6ms inference, 1.7ms postprocess per image at shape (1, 3, 384, 640)\n"
     ]
    },
    {
     "name": "stderr",
     "output_type": "stream",
     "text": [
      " 65%|██████▍   | 164/253 [00:06<00:04, 19.71it/s]"
     ]
    },
    {
     "name": "stdout",
     "output_type": "stream",
     "text": [
      "\n",
      "0: 384x640 1 person, 1 remote, 22.1ms\n",
      "Speed: 1.5ms preprocess, 22.1ms inference, 2.4ms postprocess per image at shape (1, 3, 384, 640)\n",
      "\n",
      "0: 384x640 1 person, 1 refrigerator, 24.9ms\n",
      "Speed: 1.4ms preprocess, 24.9ms inference, 1.6ms postprocess per image at shape (1, 3, 384, 640)\n",
      "\n",
      "0: 384x640 1 person, 1 refrigerator, 22.0ms\n",
      "Speed: 1.2ms preprocess, 22.0ms inference, 2.5ms postprocess per image at shape (1, 3, 384, 640)\n"
     ]
    },
    {
     "name": "stderr",
     "output_type": "stream",
     "text": [
      " 66%|██████▌   | 167/253 [00:06<00:04, 19.28it/s]"
     ]
    },
    {
     "name": "stdout",
     "output_type": "stream",
     "text": [
      "\n",
      "0: 384x640 1 person, 21.0ms\n",
      "Speed: 1.2ms preprocess, 21.0ms inference, 1.8ms postprocess per image at shape (1, 3, 384, 640)\n",
      "\n",
      "0: 384x640 2 persons, 1 donut, 11.9ms\n",
      "Speed: 1.2ms preprocess, 11.9ms inference, 1.6ms postprocess per image at shape (1, 3, 384, 640)\n",
      "\n",
      "0: 384x640 2 persons, 1 donut, 11.3ms\n",
      "Speed: 1.1ms preprocess, 11.3ms inference, 2.1ms postprocess per image at shape (1, 3, 384, 640)\n"
     ]
    },
    {
     "name": "stderr",
     "output_type": "stream",
     "text": [
      " 67%|██████▋   | 170/253 [00:07<00:04, 20.32it/s]"
     ]
    },
    {
     "name": "stdout",
     "output_type": "stream",
     "text": [
      "\n",
      "0: 384x640 1 person, 1 donut, 16.6ms\n",
      "Speed: 1.3ms preprocess, 16.6ms inference, 1.7ms postprocess per image at shape (1, 3, 384, 640)\n",
      "\n",
      "0: 384x640 1 person, 1 donut, 11.9ms\n",
      "Speed: 1.1ms preprocess, 11.9ms inference, 1.6ms postprocess per image at shape (1, 3, 384, 640)\n",
      "\n",
      "0: 384x640 1 person, 11.7ms\n",
      "Speed: 1.1ms preprocess, 11.7ms inference, 1.6ms postprocess per image at shape (1, 3, 384, 640)\n"
     ]
    },
    {
     "name": "stderr",
     "output_type": "stream",
     "text": [
      " 68%|██████▊   | 173/253 [00:07<00:03, 21.29it/s]"
     ]
    },
    {
     "name": "stdout",
     "output_type": "stream",
     "text": [
      "\n",
      "0: 384x640 1 person, 1 refrigerator, 11.3ms\n",
      "Speed: 1.4ms preprocess, 11.3ms inference, 1.7ms postprocess per image at shape (1, 3, 384, 640)\n",
      "\n",
      "0: 384x640 1 person, 11.5ms\n",
      "Speed: 1.2ms preprocess, 11.5ms inference, 1.6ms postprocess per image at shape (1, 3, 384, 640)\n",
      "\n",
      "0: 384x640 1 person, 11.4ms\n",
      "Speed: 1.2ms preprocess, 11.4ms inference, 2.3ms postprocess per image at shape (1, 3, 384, 640)\n"
     ]
    },
    {
     "name": "stderr",
     "output_type": "stream",
     "text": [
      " 70%|██████▉   | 176/253 [00:07<00:03, 22.52it/s]"
     ]
    },
    {
     "name": "stdout",
     "output_type": "stream",
     "text": [
      "\n",
      "0: 384x640 1 person, 11.7ms\n",
      "Speed: 1.2ms preprocess, 11.7ms inference, 1.6ms postprocess per image at shape (1, 3, 384, 640)\n",
      "\n",
      "0: 384x640 1 person, 15.6ms\n",
      "Speed: 1.3ms preprocess, 15.6ms inference, 2.7ms postprocess per image at shape (1, 3, 384, 640)\n",
      "\n",
      "0: 384x640 1 person, 12.2ms\n",
      "Speed: 1.2ms preprocess, 12.2ms inference, 1.7ms postprocess per image at shape (1, 3, 384, 640)\n"
     ]
    },
    {
     "name": "stderr",
     "output_type": "stream",
     "text": [
      " 71%|███████   | 179/253 [00:07<00:03, 23.06it/s]"
     ]
    },
    {
     "name": "stdout",
     "output_type": "stream",
     "text": [
      "\n",
      "0: 384x640 1 person, 11.8ms\n",
      "Speed: 1.1ms preprocess, 11.8ms inference, 1.6ms postprocess per image at shape (1, 3, 384, 640)\n",
      "\n",
      "0: 384x640 1 person, 1 refrigerator, 12.1ms\n",
      "Speed: 1.1ms preprocess, 12.1ms inference, 1.6ms postprocess per image at shape (1, 3, 384, 640)\n",
      "\n",
      "0: 384x640 1 person, 1 refrigerator, 11.4ms\n",
      "Speed: 1.4ms preprocess, 11.4ms inference, 1.9ms postprocess per image at shape (1, 3, 384, 640)\n"
     ]
    },
    {
     "name": "stderr",
     "output_type": "stream",
     "text": [
      " 72%|███████▏  | 182/253 [00:07<00:02, 23.82it/s]"
     ]
    },
    {
     "name": "stdout",
     "output_type": "stream",
     "text": [
      "\n",
      "0: 384x640 1 person, 11.6ms\n",
      "Speed: 1.3ms preprocess, 11.6ms inference, 1.7ms postprocess per image at shape (1, 3, 384, 640)\n",
      "\n",
      "0: 384x640 1 person, 11.9ms\n",
      "Speed: 1.3ms preprocess, 11.9ms inference, 1.8ms postprocess per image at shape (1, 3, 384, 640)\n",
      "\n",
      "0: 384x640 1 person, 15.9ms\n",
      "Speed: 1.6ms preprocess, 15.9ms inference, 1.6ms postprocess per image at shape (1, 3, 384, 640)\n"
     ]
    },
    {
     "name": "stderr",
     "output_type": "stream",
     "text": [
      " 73%|███████▎  | 185/253 [00:07<00:02, 24.25it/s]"
     ]
    },
    {
     "name": "stdout",
     "output_type": "stream",
     "text": [
      "\n",
      "0: 384x640 1 person, 1 refrigerator, 11.3ms\n",
      "Speed: 1.2ms preprocess, 11.3ms inference, 2.2ms postprocess per image at shape (1, 3, 384, 640)\n",
      "\n",
      "0: 384x640 1 person, 1 refrigerator, 11.4ms\n",
      "Speed: 1.4ms preprocess, 11.4ms inference, 2.3ms postprocess per image at shape (1, 3, 384, 640)\n",
      "\n",
      "0: 384x640 1 person, 1 refrigerator, 11.6ms\n",
      "Speed: 1.3ms preprocess, 11.6ms inference, 1.6ms postprocess per image at shape (1, 3, 384, 640)\n"
     ]
    },
    {
     "name": "stderr",
     "output_type": "stream",
     "text": [
      " 74%|███████▍  | 188/253 [00:07<00:02, 24.26it/s]"
     ]
    },
    {
     "name": "stdout",
     "output_type": "stream",
     "text": [
      "\n",
      "0: 384x640 1 person, 1 refrigerator, 12.4ms\n",
      "Speed: 1.2ms preprocess, 12.4ms inference, 1.8ms postprocess per image at shape (1, 3, 384, 640)\n",
      "\n",
      "0: 384x640 1 person, 1 refrigerator, 1 teddy bear, 11.5ms\n",
      "Speed: 1.2ms preprocess, 11.5ms inference, 1.6ms postprocess per image at shape (1, 3, 384, 640)\n",
      "\n",
      "0: 384x640 1 person, 1 refrigerator, 15.9ms\n",
      "Speed: 1.9ms preprocess, 15.9ms inference, 1.8ms postprocess per image at shape (1, 3, 384, 640)\n"
     ]
    },
    {
     "name": "stderr",
     "output_type": "stream",
     "text": [
      " 75%|███████▌  | 191/253 [00:07<00:02, 23.85it/s]"
     ]
    },
    {
     "name": "stdout",
     "output_type": "stream",
     "text": [
      "\n",
      "0: 384x640 1 person, 14.1ms\n",
      "Speed: 1.1ms preprocess, 14.1ms inference, 4.5ms postprocess per image at shape (1, 3, 384, 640)\n",
      "\n",
      "0: 384x640 1 person, 1 microwave, 1 refrigerator, 25.7ms\n",
      "Speed: 1.2ms preprocess, 25.7ms inference, 4.3ms postprocess per image at shape (1, 3, 384, 640)\n",
      "\n",
      "0: 384x640 1 person, 11.8ms\n",
      "Speed: 1.1ms preprocess, 11.8ms inference, 1.6ms postprocess per image at shape (1, 3, 384, 640)\n"
     ]
    },
    {
     "name": "stderr",
     "output_type": "stream",
     "text": [
      " 77%|███████▋  | 194/253 [00:08<00:02, 23.34it/s]"
     ]
    },
    {
     "name": "stdout",
     "output_type": "stream",
     "text": [
      "\n",
      "0: 384x640 1 person, 11.4ms\n",
      "Speed: 1.2ms preprocess, 11.4ms inference, 2.3ms postprocess per image at shape (1, 3, 384, 640)\n",
      "\n",
      "0: 384x640 1 person, 12.1ms\n",
      "Speed: 1.1ms preprocess, 12.1ms inference, 1.6ms postprocess per image at shape (1, 3, 384, 640)\n",
      "\n",
      "0: 384x640 1 person, 11.7ms\n",
      "Speed: 1.3ms preprocess, 11.7ms inference, 1.9ms postprocess per image at shape (1, 3, 384, 640)\n"
     ]
    },
    {
     "name": "stderr",
     "output_type": "stream",
     "text": [
      " 78%|███████▊  | 197/253 [00:08<00:02, 24.11it/s]"
     ]
    },
    {
     "name": "stdout",
     "output_type": "stream",
     "text": [
      "\n",
      "0: 384x640 1 person, 24.9ms\n",
      "Speed: 1.2ms preprocess, 24.9ms inference, 1.7ms postprocess per image at shape (1, 3, 384, 640)\n",
      "\n",
      "0: 384x640 1 person, 11.7ms\n",
      "Speed: 1.4ms preprocess, 11.7ms inference, 2.0ms postprocess per image at shape (1, 3, 384, 640)\n",
      "\n",
      "0: 384x640 1 person, 11.4ms\n",
      "Speed: 1.2ms preprocess, 11.4ms inference, 1.6ms postprocess per image at shape (1, 3, 384, 640)\n"
     ]
    },
    {
     "name": "stderr",
     "output_type": "stream",
     "text": [
      " 79%|███████▉  | 200/253 [00:08<00:02, 24.05it/s]"
     ]
    },
    {
     "name": "stdout",
     "output_type": "stream",
     "text": [
      "\n",
      "0: 384x640 1 person, 12.3ms\n",
      "Speed: 1.2ms preprocess, 12.3ms inference, 1.6ms postprocess per image at shape (1, 3, 384, 640)\n",
      "\n",
      "0: 384x640 1 person, 12.2ms\n",
      "Speed: 1.1ms preprocess, 12.2ms inference, 1.6ms postprocess per image at shape (1, 3, 384, 640)\n",
      "\n",
      "0: 384x640 1 person, 11.7ms\n",
      "Speed: 1.1ms preprocess, 11.7ms inference, 1.6ms postprocess per image at shape (1, 3, 384, 640)\n"
     ]
    },
    {
     "name": "stderr",
     "output_type": "stream",
     "text": [
      " 80%|████████  | 203/253 [00:08<00:02, 24.69it/s]"
     ]
    },
    {
     "name": "stdout",
     "output_type": "stream",
     "text": [
      "\n",
      "0: 384x640 1 person, 11.3ms\n",
      "Speed: 1.3ms preprocess, 11.3ms inference, 1.8ms postprocess per image at shape (1, 3, 384, 640)\n",
      "\n",
      "0: 384x640 1 person, 11.6ms\n",
      "Speed: 1.1ms preprocess, 11.6ms inference, 1.7ms postprocess per image at shape (1, 3, 384, 640)\n",
      "\n",
      "0: 384x640 1 person, 1 refrigerator, 11.4ms\n",
      "Speed: 1.3ms preprocess, 11.4ms inference, 2.1ms postprocess per image at shape (1, 3, 384, 640)\n"
     ]
    },
    {
     "name": "stderr",
     "output_type": "stream",
     "text": [
      " 81%|████████▏ | 206/253 [00:08<00:01, 25.30it/s]"
     ]
    },
    {
     "name": "stdout",
     "output_type": "stream",
     "text": [
      "\n",
      "0: 384x640 1 person, 1 refrigerator, 18.6ms\n",
      "Speed: 1.2ms preprocess, 18.6ms inference, 1.6ms postprocess per image at shape (1, 3, 384, 640)\n",
      "\n",
      "0: 384x640 1 person, 11.5ms\n",
      "Speed: 1.6ms preprocess, 11.5ms inference, 2.1ms postprocess per image at shape (1, 3, 384, 640)\n",
      "\n",
      "0: 384x640 1 person, 11.9ms\n",
      "Speed: 1.1ms preprocess, 11.9ms inference, 1.6ms postprocess per image at shape (1, 3, 384, 640)\n"
     ]
    },
    {
     "name": "stderr",
     "output_type": "stream",
     "text": [
      " 83%|████████▎ | 209/253 [00:08<00:01, 25.06it/s]"
     ]
    },
    {
     "name": "stdout",
     "output_type": "stream",
     "text": [
      "\n",
      "0: 384x640 1 person, 1 refrigerator, 11.9ms\n",
      "Speed: 1.1ms preprocess, 11.9ms inference, 1.6ms postprocess per image at shape (1, 3, 384, 640)\n",
      "\n",
      "0: 384x640 1 person, 11.8ms\n",
      "Speed: 1.1ms preprocess, 11.8ms inference, 1.6ms postprocess per image at shape (1, 3, 384, 640)\n",
      "\n",
      "0: 384x640 2 persons, 11.3ms\n",
      "Speed: 1.1ms preprocess, 11.3ms inference, 2.5ms postprocess per image at shape (1, 3, 384, 640)\n"
     ]
    },
    {
     "name": "stderr",
     "output_type": "stream",
     "text": [
      " 84%|████████▍ | 212/253 [00:08<00:01, 25.20it/s]"
     ]
    },
    {
     "name": "stdout",
     "output_type": "stream",
     "text": [
      "\n",
      "0: 384x640 2 persons, 1 book, 12.1ms\n",
      "Speed: 1.1ms preprocess, 12.1ms inference, 1.6ms postprocess per image at shape (1, 3, 384, 640)\n",
      "\n",
      "0: 384x640 1 person, 1 microwave, 1 refrigerator, 11.4ms\n",
      "Speed: 1.1ms preprocess, 11.4ms inference, 1.7ms postprocess per image at shape (1, 3, 384, 640)\n",
      "\n",
      "0: 384x640 1 person, 21.7ms\n",
      "Speed: 1.4ms preprocess, 21.7ms inference, 1.6ms postprocess per image at shape (1, 3, 384, 640)\n"
     ]
    },
    {
     "name": "stderr",
     "output_type": "stream",
     "text": [
      " 85%|████████▍ | 215/253 [00:08<00:01, 24.40it/s]"
     ]
    },
    {
     "name": "stdout",
     "output_type": "stream",
     "text": [
      "\n",
      "0: 384x640 1 person, 11.9ms\n",
      "Speed: 1.1ms preprocess, 11.9ms inference, 1.6ms postprocess per image at shape (1, 3, 384, 640)\n",
      "\n",
      "0: 384x640 1 person, 11.1ms\n",
      "Speed: 1.4ms preprocess, 11.1ms inference, 2.2ms postprocess per image at shape (1, 3, 384, 640)\n",
      "\n",
      "0: 384x640 1 person, 1 refrigerator, 20.8ms\n",
      "Speed: 2.2ms preprocess, 20.8ms inference, 4.1ms postprocess per image at shape (1, 3, 384, 640)\n"
     ]
    },
    {
     "name": "stderr",
     "output_type": "stream",
     "text": [
      " 86%|████████▌ | 218/253 [00:08<00:01, 24.22it/s]"
     ]
    },
    {
     "name": "stdout",
     "output_type": "stream",
     "text": [
      "\n",
      "0: 384x640 1 person, 1 refrigerator, 11.2ms\n",
      "Speed: 1.4ms preprocess, 11.2ms inference, 1.8ms postprocess per image at shape (1, 3, 384, 640)\n",
      "\n",
      "0: 384x640 1 person, 12.1ms\n",
      "Speed: 1.3ms preprocess, 12.1ms inference, 1.8ms postprocess per image at shape (1, 3, 384, 640)\n",
      "\n",
      "0: 384x640 1 person, 1 donut, 11.4ms\n",
      "Speed: 1.4ms preprocess, 11.4ms inference, 1.6ms postprocess per image at shape (1, 3, 384, 640)\n"
     ]
    },
    {
     "name": "stderr",
     "output_type": "stream",
     "text": [
      " 87%|████████▋ | 221/253 [00:09<00:01, 24.39it/s]"
     ]
    },
    {
     "name": "stdout",
     "output_type": "stream",
     "text": [
      "\n",
      "0: 384x640 1 person, 22.6ms\n",
      "Speed: 1.3ms preprocess, 22.6ms inference, 1.6ms postprocess per image at shape (1, 3, 384, 640)\n",
      "\n",
      "0: 384x640 1 person, 1 donut, 12.6ms\n",
      "Speed: 1.1ms preprocess, 12.6ms inference, 1.6ms postprocess per image at shape (1, 3, 384, 640)\n",
      "\n",
      "0: 384x640 1 person, 11.3ms\n",
      "Speed: 1.2ms preprocess, 11.3ms inference, 2.3ms postprocess per image at shape (1, 3, 384, 640)\n"
     ]
    },
    {
     "name": "stderr",
     "output_type": "stream",
     "text": [
      " 89%|████████▊ | 224/253 [00:09<00:01, 24.11it/s]"
     ]
    },
    {
     "name": "stdout",
     "output_type": "stream",
     "text": [
      "\n",
      "0: 384x640 1 person, 1 donut, 11.6ms\n",
      "Speed: 1.1ms preprocess, 11.6ms inference, 1.6ms postprocess per image at shape (1, 3, 384, 640)\n",
      "\n",
      "0: 384x640 1 person, 1 donut, 11.7ms\n",
      "Speed: 1.3ms preprocess, 11.7ms inference, 1.6ms postprocess per image at shape (1, 3, 384, 640)\n",
      "\n",
      "0: 384x640 1 person, 1 donut, 1 refrigerator, 11.4ms\n",
      "Speed: 1.1ms preprocess, 11.4ms inference, 1.6ms postprocess per image at shape (1, 3, 384, 640)\n"
     ]
    },
    {
     "name": "stderr",
     "output_type": "stream",
     "text": [
      " 90%|████████▉ | 227/253 [00:09<00:01, 24.06it/s]"
     ]
    },
    {
     "name": "stdout",
     "output_type": "stream",
     "text": [
      "\n",
      "0: 384x640 1 person, 1 donut, 21.6ms\n",
      "Speed: 1.2ms preprocess, 21.6ms inference, 2.5ms postprocess per image at shape (1, 3, 384, 640)\n",
      "\n",
      "0: 384x640 1 person, 1 donut, 24.2ms\n",
      "Speed: 1.8ms preprocess, 24.2ms inference, 4.6ms postprocess per image at shape (1, 3, 384, 640)\n",
      "\n",
      "0: 384x640 1 person, 1 donut, 1 refrigerator, 24.2ms\n",
      "Speed: 1.2ms preprocess, 24.2ms inference, 4.7ms postprocess per image at shape (1, 3, 384, 640)\n"
     ]
    },
    {
     "name": "stderr",
     "output_type": "stream",
     "text": [
      " 91%|█████████ | 230/253 [00:09<00:01, 21.53it/s]"
     ]
    },
    {
     "name": "stdout",
     "output_type": "stream",
     "text": [
      "\n",
      "0: 384x640 1 person, 1 refrigerator, 20.3ms\n",
      "Speed: 1.3ms preprocess, 20.3ms inference, 1.6ms postprocess per image at shape (1, 3, 384, 640)\n",
      "\n",
      "0: 384x640 1 person, 1 refrigerator, 10.7ms\n",
      "Speed: 1.5ms preprocess, 10.7ms inference, 1.6ms postprocess per image at shape (1, 3, 384, 640)\n",
      "\n",
      "0: 384x640 1 person, 1 donut, 11.0ms\n",
      "Speed: 1.4ms preprocess, 11.0ms inference, 1.6ms postprocess per image at shape (1, 3, 384, 640)\n"
     ]
    },
    {
     "name": "stderr",
     "output_type": "stream",
     "text": [
      " 92%|█████████▏| 233/253 [00:09<00:00, 21.81it/s]"
     ]
    },
    {
     "name": "stdout",
     "output_type": "stream",
     "text": [
      "\n",
      "0: 384x640 1 person, 10.8ms\n",
      "Speed: 1.2ms preprocess, 10.8ms inference, 1.6ms postprocess per image at shape (1, 3, 384, 640)\n",
      "\n",
      "0: 384x640 1 person, 11.2ms\n",
      "Speed: 1.3ms preprocess, 11.2ms inference, 2.4ms postprocess per image at shape (1, 3, 384, 640)\n",
      "\n",
      "0: 384x640 1 person, 1 refrigerator, 11.6ms\n",
      "Speed: 1.2ms preprocess, 11.6ms inference, 1.7ms postprocess per image at shape (1, 3, 384, 640)\n"
     ]
    },
    {
     "name": "stderr",
     "output_type": "stream",
     "text": [
      " 93%|█████████▎| 236/253 [00:09<00:00, 22.98it/s]"
     ]
    },
    {
     "name": "stdout",
     "output_type": "stream",
     "text": [
      "\n",
      "0: 384x640 1 person, 11.7ms\n",
      "Speed: 1.1ms preprocess, 11.7ms inference, 1.7ms postprocess per image at shape (1, 3, 384, 640)\n",
      "\n",
      "0: 384x640 1 person, 11.0ms\n",
      "Speed: 1.1ms preprocess, 11.0ms inference, 1.6ms postprocess per image at shape (1, 3, 384, 640)\n",
      "\n",
      "0: 384x640 1 person, 11.2ms\n",
      "Speed: 1.1ms preprocess, 11.2ms inference, 1.6ms postprocess per image at shape (1, 3, 384, 640)\n"
     ]
    },
    {
     "name": "stderr",
     "output_type": "stream",
     "text": [
      " 94%|█████████▍| 239/253 [00:09<00:00, 24.20it/s]"
     ]
    },
    {
     "name": "stdout",
     "output_type": "stream",
     "text": [
      "\n",
      "0: 384x640 1 person, 10.9ms\n",
      "Speed: 1.4ms preprocess, 10.9ms inference, 1.5ms postprocess per image at shape (1, 3, 384, 640)\n",
      "\n",
      "0: 384x640 1 person, 11.1ms\n",
      "Speed: 1.1ms preprocess, 11.1ms inference, 2.1ms postprocess per image at shape (1, 3, 384, 640)\n",
      "\n",
      "0: 384x640 1 person, 11.2ms\n",
      "Speed: 1.1ms preprocess, 11.2ms inference, 1.6ms postprocess per image at shape (1, 3, 384, 640)\n"
     ]
    },
    {
     "name": "stderr",
     "output_type": "stream",
     "text": [
      " 96%|█████████▌| 242/253 [00:09<00:00, 25.27it/s]"
     ]
    },
    {
     "name": "stdout",
     "output_type": "stream",
     "text": [
      "\n",
      "0: 384x640 1 person, 11.1ms\n",
      "Speed: 1.1ms preprocess, 11.1ms inference, 2.4ms postprocess per image at shape (1, 3, 384, 640)\n",
      "\n",
      "0: 384x640 1 person, 11.3ms\n",
      "Speed: 1.2ms preprocess, 11.3ms inference, 1.6ms postprocess per image at shape (1, 3, 384, 640)\n",
      "\n",
      "0: 384x640 1 person, 11.1ms\n",
      "Speed: 1.3ms preprocess, 11.1ms inference, 2.5ms postprocess per image at shape (1, 3, 384, 640)\n"
     ]
    },
    {
     "name": "stderr",
     "output_type": "stream",
     "text": [
      " 97%|█████████▋| 245/253 [00:10<00:00, 25.66it/s]"
     ]
    },
    {
     "name": "stdout",
     "output_type": "stream",
     "text": [
      "\n",
      "0: 384x640 1 person, 11.3ms\n",
      "Speed: 1.1ms preprocess, 11.3ms inference, 1.6ms postprocess per image at shape (1, 3, 384, 640)\n",
      "\n",
      "0: 384x640 1 person, 10.8ms\n",
      "Speed: 1.1ms preprocess, 10.8ms inference, 1.5ms postprocess per image at shape (1, 3, 384, 640)\n",
      "\n",
      "0: 384x640 1 person, 11.5ms\n",
      "Speed: 1.2ms preprocess, 11.5ms inference, 1.7ms postprocess per image at shape (1, 3, 384, 640)\n"
     ]
    },
    {
     "name": "stderr",
     "output_type": "stream",
     "text": [
      " 98%|█████████▊| 248/253 [00:10<00:00, 26.04it/s]"
     ]
    },
    {
     "name": "stdout",
     "output_type": "stream",
     "text": [
      "\n",
      "0: 384x640 1 person, 19.4ms\n",
      "Speed: 1.2ms preprocess, 19.4ms inference, 1.6ms postprocess per image at shape (1, 3, 384, 640)\n",
      "\n",
      "0: 384x640 1 person, 1 refrigerator, 11.0ms\n",
      "Speed: 1.2ms preprocess, 11.0ms inference, 1.7ms postprocess per image at shape (1, 3, 384, 640)\n",
      "\n",
      "0: 384x640 1 person, 2 refrigerators, 11.0ms\n",
      "Speed: 1.3ms preprocess, 11.0ms inference, 1.6ms postprocess per image at shape (1, 3, 384, 640)\n"
     ]
    },
    {
     "name": "stderr",
     "output_type": "stream",
     "text": [
      " 99%|█████████▉| 251/253 [00:10<00:00, 25.15it/s]"
     ]
    },
    {
     "name": "stdout",
     "output_type": "stream",
     "text": [
      "\n",
      "0: 384x640 1 person, 1 refrigerator, 11.1ms\n",
      "Speed: 1.2ms preprocess, 11.1ms inference, 1.8ms postprocess per image at shape (1, 3, 384, 640)\n",
      "\n",
      "0: 384x640 1 person, 1 refrigerator, 11.7ms\n",
      "Speed: 1.1ms preprocess, 11.7ms inference, 4.6ms postprocess per image at shape (1, 3, 384, 640)\n"
     ]
    },
    {
     "name": "stderr",
     "output_type": "stream",
     "text": [
      "100%|██████████| 253/253 [00:10<00:00, 24.25it/s]"
     ]
    },
    {
     "name": "stdout",
     "output_type": "stream",
     "text": [
      "Video processed and saved as videos/veriff1_annotated.mp4\n"
     ]
    },
    {
     "name": "stderr",
     "output_type": "stream",
     "text": [
      "\n"
     ]
    }
   ],
   "source": [
    "def process_video_with_boxes(input_path, output_path, model):\n",
    "    # Open the video file\n",
    "    cap = cv2.VideoCapture(input_path)\n",
    "    \n",
    "    # Get video properties\n",
    "    width = int(cap.get(cv2.CAP_PROP_FRAME_WIDTH))\n",
    "    height = int(cap.get(cv2.CAP_PROP_FRAME_HEIGHT))\n",
    "    fps = cap.get(cv2.CAP_PROP_FPS)\n",
    "    total_frames = int(cap.get(cv2.CAP_PROP_FRAME_COUNT))\n",
    "    \n",
    "    # Create video writer\n",
    "    fourcc = cv2.VideoWriter_fourcc(*'mp4v')\n",
    "    out = cv2.VideoWriter(output_path, fourcc, fps, (width, height))\n",
    "    \n",
    "    # Process each frame\n",
    "    for _ in tqdm(range(total_frames)):\n",
    "        ret, frame = cap.read()\n",
    "        if not ret:\n",
    "            break\n",
    "            \n",
    "        # Run YOLOv8 inference on the frame\n",
    "        results = model(frame)\n",
    "        \n",
    "        # Get the first result (only one image was processed)\n",
    "        result = results[0]\n",
    "        \n",
    "        # Draw bounding boxes and labels on the frame\n",
    "        for box in result.boxes:\n",
    "            # Get box coordinates (convert to integers for drawing)\n",
    "            x1, y1, x2, y2 = map(int, box.xyxy[0])\n",
    "            \n",
    "            # Get class and confidence\n",
    "            cls_id = int(box.cls[0])\n",
    "            conf = float(box.conf[0])\n",
    "            \n",
    "            # Get class name (you can customize this based on your model)\n",
    "            class_names = model.names\n",
    "            cls_name = class_names[cls_id]\n",
    "            \n",
    "            # Only annotate people (class 0) if you want to focus on coercion detection\n",
    "            if cls_id == 0:  # person class\n",
    "                # Draw rectangle\n",
    "                cv2.rectangle(frame, (x1, y1), (x2, y2), (0, 255, 0), 2)\n",
    "                \n",
    "                # Add label with confidence\n",
    "                label = f\"{cls_name}: {conf:.2f}\"\n",
    "                cv2.putText(frame, label, (x1, y1 - 10), cv2.FONT_HERSHEY_SIMPLEX, \n",
    "                            0.5, (0, 255, 0), 2)\n",
    "        \n",
    "        # Write the frame to output video\n",
    "        out.write(frame)\n",
    "    \n",
    "    # Release resources\n",
    "    cap.release()\n",
    "    out.release()\n",
    "    return output_path\n",
    "\n",
    "# Process the video and create a new one with bounding boxes\n",
    "output_file = \"videos/veriff1_annotated.mp4\"\n",
    "processed_video = process_video_with_boxes(\"videos/veriff1.mp4\", output_file, model)\n",
    "\n",
    "print(f\"Video processed and saved as {output_file}\")"
   ]
  },
  {
   "cell_type": "code",
   "execution_count": 9,
   "id": "d68dea80",
   "metadata": {},
   "outputs": [
    {
     "name": "stderr",
     "output_type": "stream",
     "text": [
      "  0%|          | 0/396 [00:00<?, ?it/s]"
     ]
    },
    {
     "name": "stdout",
     "output_type": "stream",
     "text": [
      "\n",
      "0: 384x640 1 person, 1 dog, 16.7ms\n",
      "Speed: 2.6ms preprocess, 16.7ms inference, 2.5ms postprocess per image at shape (1, 3, 384, 640)\n",
      "\n",
      "0: 384x640 2 persons, 1 dog, 11.2ms\n",
      "Speed: 1.6ms preprocess, 11.2ms inference, 1.6ms postprocess per image at shape (1, 3, 384, 640)\n"
     ]
    },
    {
     "name": "stderr",
     "output_type": "stream",
     "text": [
      "  1%|          | 2/396 [00:00<00:22, 17.65it/s]"
     ]
    },
    {
     "name": "stdout",
     "output_type": "stream",
     "text": [
      "\n",
      "0: 384x640 3 persons, 1 dog, 11.8ms\n",
      "Speed: 1.6ms preprocess, 11.8ms inference, 1.6ms postprocess per image at shape (1, 3, 384, 640)\n",
      "\n",
      "0: 384x640 3 persons, 1 dog, 11.6ms\n",
      "Speed: 1.7ms preprocess, 11.6ms inference, 1.7ms postprocess per image at shape (1, 3, 384, 640)\n",
      "\n",
      "0: 384x640 3 persons, 21.9ms\n",
      "Speed: 1.6ms preprocess, 21.9ms inference, 1.6ms postprocess per image at shape (1, 3, 384, 640)\n"
     ]
    },
    {
     "name": "stderr",
     "output_type": "stream",
     "text": [
      "  1%|▏         | 5/396 [00:00<00:18, 20.99it/s]"
     ]
    },
    {
     "name": "stdout",
     "output_type": "stream",
     "text": [
      "\n",
      "0: 384x640 2 persons, 1 dog, 12.8ms\n",
      "Speed: 1.6ms preprocess, 12.8ms inference, 1.6ms postprocess per image at shape (1, 3, 384, 640)\n",
      "\n",
      "0: 384x640 3 persons, 13.8ms\n",
      "Speed: 2.2ms preprocess, 13.8ms inference, 1.7ms postprocess per image at shape (1, 3, 384, 640)\n",
      "\n",
      "0: 384x640 3 persons, 1 dog, 13.9ms\n",
      "Speed: 2.0ms preprocess, 13.9ms inference, 1.7ms postprocess per image at shape (1, 3, 384, 640)\n"
     ]
    },
    {
     "name": "stderr",
     "output_type": "stream",
     "text": [
      "  2%|▏         | 8/396 [00:00<00:17, 21.77it/s]"
     ]
    },
    {
     "name": "stdout",
     "output_type": "stream",
     "text": [
      "\n",
      "0: 384x640 2 persons, 11.7ms\n",
      "Speed: 1.4ms preprocess, 11.7ms inference, 1.6ms postprocess per image at shape (1, 3, 384, 640)\n",
      "\n",
      "0: 384x640 2 persons, 1 dog, 11.2ms\n",
      "Speed: 1.5ms preprocess, 11.2ms inference, 1.7ms postprocess per image at shape (1, 3, 384, 640)\n",
      "\n",
      "0: 384x640 1 person, 1 dog, 11.1ms\n",
      "Speed: 1.4ms preprocess, 11.1ms inference, 2.3ms postprocess per image at shape (1, 3, 384, 640)\n"
     ]
    },
    {
     "name": "stderr",
     "output_type": "stream",
     "text": [
      "  3%|▎         | 11/396 [00:00<00:16, 23.39it/s]"
     ]
    },
    {
     "name": "stdout",
     "output_type": "stream",
     "text": [
      "\n",
      "0: 384x640 3 persons, 1 dog, 11.8ms\n",
      "Speed: 1.3ms preprocess, 11.8ms inference, 1.6ms postprocess per image at shape (1, 3, 384, 640)\n",
      "\n",
      "0: 384x640 3 persons, 11.0ms\n",
      "Speed: 1.9ms preprocess, 11.0ms inference, 1.6ms postprocess per image at shape (1, 3, 384, 640)\n",
      "\n",
      "0: 384x640 1 person, 1 dog, 11.3ms\n",
      "Speed: 1.3ms preprocess, 11.3ms inference, 1.7ms postprocess per image at shape (1, 3, 384, 640)\n"
     ]
    },
    {
     "name": "stderr",
     "output_type": "stream",
     "text": [
      "  4%|▎         | 14/396 [00:00<00:15, 24.46it/s]"
     ]
    },
    {
     "name": "stdout",
     "output_type": "stream",
     "text": [
      "\n",
      "0: 384x640 1 person, 1 dog, 11.3ms\n",
      "Speed: 1.5ms preprocess, 11.3ms inference, 2.6ms postprocess per image at shape (1, 3, 384, 640)\n",
      "\n",
      "0: 384x640 3 persons, 1 dog, 16.5ms\n",
      "Speed: 1.8ms preprocess, 16.5ms inference, 1.6ms postprocess per image at shape (1, 3, 384, 640)\n",
      "\n",
      "0: 384x640 2 persons, 1 dog, 14.7ms\n",
      "Speed: 1.4ms preprocess, 14.7ms inference, 1.7ms postprocess per image at shape (1, 3, 384, 640)\n"
     ]
    },
    {
     "name": "stderr",
     "output_type": "stream",
     "text": [
      "  4%|▍         | 17/396 [00:00<00:15, 24.23it/s]"
     ]
    },
    {
     "name": "stdout",
     "output_type": "stream",
     "text": [
      "\n",
      "0: 384x640 1 person, 1 dog, 16.1ms\n",
      "Speed: 1.5ms preprocess, 16.1ms inference, 2.8ms postprocess per image at shape (1, 3, 384, 640)\n",
      "\n",
      "0: 384x640 2 persons, 1 dog, 12.8ms\n",
      "Speed: 1.3ms preprocess, 12.8ms inference, 1.7ms postprocess per image at shape (1, 3, 384, 640)\n",
      "\n",
      "0: 384x640 1 person, 1 dog, 22.9ms\n",
      "Speed: 2.4ms preprocess, 22.9ms inference, 4.3ms postprocess per image at shape (1, 3, 384, 640)\n"
     ]
    },
    {
     "name": "stderr",
     "output_type": "stream",
     "text": [
      "  5%|▌         | 20/396 [00:00<00:16, 23.48it/s]"
     ]
    },
    {
     "name": "stdout",
     "output_type": "stream",
     "text": [
      "\n",
      "0: 384x640 3 persons, 1 dog, 12.1ms\n",
      "Speed: 1.3ms preprocess, 12.1ms inference, 1.7ms postprocess per image at shape (1, 3, 384, 640)\n",
      "\n",
      "0: 384x640 2 persons, 1 dog, 19.0ms\n",
      "Speed: 1.3ms preprocess, 19.0ms inference, 1.6ms postprocess per image at shape (1, 3, 384, 640)\n",
      "\n",
      "0: 384x640 3 persons, 1 dog, 1 remote, 11.8ms\n",
      "Speed: 1.3ms preprocess, 11.8ms inference, 1.6ms postprocess per image at shape (1, 3, 384, 640)\n"
     ]
    },
    {
     "name": "stderr",
     "output_type": "stream",
     "text": [
      "  6%|▌         | 23/396 [00:00<00:15, 23.62it/s]"
     ]
    },
    {
     "name": "stdout",
     "output_type": "stream",
     "text": [
      "\n",
      "0: 384x640 3 persons, 1 dog, 1 remote, 13.5ms\n",
      "Speed: 1.5ms preprocess, 13.5ms inference, 2.4ms postprocess per image at shape (1, 3, 384, 640)\n",
      "\n",
      "0: 384x640 3 persons, 1 dog, 12.2ms\n",
      "Speed: 1.5ms preprocess, 12.2ms inference, 1.6ms postprocess per image at shape (1, 3, 384, 640)\n",
      "\n",
      "0: 384x640 3 persons, 1 dog, 1 book, 11.7ms\n",
      "Speed: 1.4ms preprocess, 11.7ms inference, 2.4ms postprocess per image at shape (1, 3, 384, 640)\n"
     ]
    },
    {
     "name": "stderr",
     "output_type": "stream",
     "text": [
      "  7%|▋         | 26/396 [00:01<00:15, 23.76it/s]"
     ]
    },
    {
     "name": "stdout",
     "output_type": "stream",
     "text": [
      "\n",
      "0: 384x640 2 persons, 1 dog, 11.8ms\n",
      "Speed: 1.4ms preprocess, 11.8ms inference, 1.7ms postprocess per image at shape (1, 3, 384, 640)\n",
      "\n",
      "0: 384x640 3 persons, 1 dog, 1 remote, 1 book, 11.7ms\n",
      "Speed: 1.4ms preprocess, 11.7ms inference, 1.7ms postprocess per image at shape (1, 3, 384, 640)\n",
      "\n",
      "0: 384x640 1 person, 1 dog, 1 book, 16.2ms\n",
      "Speed: 1.4ms preprocess, 16.2ms inference, 3.2ms postprocess per image at shape (1, 3, 384, 640)\n"
     ]
    },
    {
     "name": "stderr",
     "output_type": "stream",
     "text": [
      "  7%|▋         | 29/396 [00:01<00:15, 23.47it/s]"
     ]
    },
    {
     "name": "stdout",
     "output_type": "stream",
     "text": [
      "\n",
      "0: 384x640 2 persons, 1 dog, 1 remote, 1 book, 11.5ms\n",
      "Speed: 1.4ms preprocess, 11.5ms inference, 1.6ms postprocess per image at shape (1, 3, 384, 640)\n",
      "\n",
      "0: 384x640 2 persons, 1 dog, 1 book, 11.4ms\n",
      "Speed: 1.3ms preprocess, 11.4ms inference, 1.6ms postprocess per image at shape (1, 3, 384, 640)\n",
      "\n",
      "0: 384x640 3 persons, 1 dog, 1 book, 11.4ms\n",
      "Speed: 1.4ms preprocess, 11.4ms inference, 1.6ms postprocess per image at shape (1, 3, 384, 640)\n"
     ]
    },
    {
     "name": "stderr",
     "output_type": "stream",
     "text": [
      "  8%|▊         | 32/396 [00:01<00:15, 23.65it/s]"
     ]
    },
    {
     "name": "stdout",
     "output_type": "stream",
     "text": [
      "\n",
      "0: 384x640 1 person, 1 dog, 1 donut, 1 book, 11.9ms\n",
      "Speed: 1.4ms preprocess, 11.9ms inference, 1.8ms postprocess per image at shape (1, 3, 384, 640)\n",
      "\n",
      "0: 384x640 3 persons, 1 dog, 1 donut, 1 book, 23.1ms\n",
      "Speed: 1.4ms preprocess, 23.1ms inference, 5.7ms postprocess per image at shape (1, 3, 384, 640)\n",
      "\n",
      "0: 384x640 2 persons, 1 cat, 1 dog, 1 donut, 1 book, 11.9ms\n",
      "Speed: 1.3ms preprocess, 11.9ms inference, 1.6ms postprocess per image at shape (1, 3, 384, 640)\n"
     ]
    },
    {
     "name": "stderr",
     "output_type": "stream",
     "text": [
      "  9%|▉         | 35/396 [00:01<00:16, 22.19it/s]"
     ]
    },
    {
     "name": "stdout",
     "output_type": "stream",
     "text": [
      "\n",
      "0: 384x640 2 persons, 1 dog, 1 book, 12.0ms\n",
      "Speed: 1.4ms preprocess, 12.0ms inference, 2.0ms postprocess per image at shape (1, 3, 384, 640)\n",
      "\n",
      "0: 384x640 1 person, 1 dog, 1 book, 11.8ms\n",
      "Speed: 1.4ms preprocess, 11.8ms inference, 1.8ms postprocess per image at shape (1, 3, 384, 640)\n",
      "\n",
      "0: 384x640 1 person, 1 dog, 1 book, 11.8ms\n",
      "Speed: 1.3ms preprocess, 11.8ms inference, 3.0ms postprocess per image at shape (1, 3, 384, 640)\n"
     ]
    },
    {
     "name": "stderr",
     "output_type": "stream",
     "text": [
      " 10%|▉         | 38/396 [00:01<00:15, 22.91it/s]"
     ]
    },
    {
     "name": "stdout",
     "output_type": "stream",
     "text": [
      "\n",
      "0: 384x640 2 persons, 1 dog, 1 book, 11.4ms\n",
      "Speed: 1.4ms preprocess, 11.4ms inference, 2.2ms postprocess per image at shape (1, 3, 384, 640)\n",
      "\n",
      "0: 384x640 1 person, 1 dog, 1 book, 11.7ms\n",
      "Speed: 1.3ms preprocess, 11.7ms inference, 4.0ms postprocess per image at shape (1, 3, 384, 640)\n",
      "\n",
      "0: 384x640 1 person, 1 dog, 1 book, 12.5ms\n",
      "Speed: 1.4ms preprocess, 12.5ms inference, 1.7ms postprocess per image at shape (1, 3, 384, 640)\n"
     ]
    },
    {
     "name": "stderr",
     "output_type": "stream",
     "text": [
      " 10%|█         | 41/396 [00:01<00:15, 23.03it/s]"
     ]
    },
    {
     "name": "stdout",
     "output_type": "stream",
     "text": [
      "\n",
      "0: 384x640 2 persons, 1 dog, 1 book, 12.4ms\n",
      "Speed: 1.4ms preprocess, 12.4ms inference, 2.4ms postprocess per image at shape (1, 3, 384, 640)\n",
      "\n",
      "0: 384x640 2 persons, 1 dog, 1 book, 11.6ms\n",
      "Speed: 1.6ms preprocess, 11.6ms inference, 2.3ms postprocess per image at shape (1, 3, 384, 640)\n",
      "\n",
      "0: 384x640 1 person, 1 dog, 1 book, 11.7ms\n",
      "Speed: 1.6ms preprocess, 11.7ms inference, 2.3ms postprocess per image at shape (1, 3, 384, 640)\n"
     ]
    },
    {
     "name": "stderr",
     "output_type": "stream",
     "text": [
      " 11%|█         | 44/396 [00:01<00:15, 23.20it/s]"
     ]
    },
    {
     "name": "stdout",
     "output_type": "stream",
     "text": [
      "\n",
      "0: 384x640 2 persons, 1 dog, 11.6ms\n",
      "Speed: 1.6ms preprocess, 11.6ms inference, 2.6ms postprocess per image at shape (1, 3, 384, 640)\n",
      "\n",
      "0: 384x640 1 person, 1 dog, 1 carrot, 1 book, 12.3ms\n",
      "Speed: 1.3ms preprocess, 12.3ms inference, 1.7ms postprocess per image at shape (1, 3, 384, 640)\n",
      "\n",
      "0: 384x640 2 persons, 1 dog, 1 donut, 12.5ms\n",
      "Speed: 1.3ms preprocess, 12.5ms inference, 1.6ms postprocess per image at shape (1, 3, 384, 640)\n"
     ]
    },
    {
     "name": "stderr",
     "output_type": "stream",
     "text": [
      " 12%|█▏        | 47/396 [00:02<00:14, 23.56it/s]"
     ]
    },
    {
     "name": "stdout",
     "output_type": "stream",
     "text": [
      "\n",
      "0: 384x640 3 persons, 1 dog, 1 book, 12.2ms\n",
      "Speed: 1.5ms preprocess, 12.2ms inference, 1.7ms postprocess per image at shape (1, 3, 384, 640)\n",
      "\n",
      "0: 384x640 3 persons, 1 dog, 19.1ms\n",
      "Speed: 1.4ms preprocess, 19.1ms inference, 2.1ms postprocess per image at shape (1, 3, 384, 640)\n",
      "\n",
      "0: 384x640 3 persons, 1 dog, 20.9ms\n",
      "Speed: 1.6ms preprocess, 20.9ms inference, 2.2ms postprocess per image at shape (1, 3, 384, 640)\n"
     ]
    },
    {
     "name": "stderr",
     "output_type": "stream",
     "text": [
      " 13%|█▎        | 50/396 [00:02<00:15, 22.83it/s]"
     ]
    },
    {
     "name": "stdout",
     "output_type": "stream",
     "text": [
      "\n",
      "0: 384x640 2 persons, 1 dog, 1 donut, 11.1ms\n",
      "Speed: 1.9ms preprocess, 11.1ms inference, 1.6ms postprocess per image at shape (1, 3, 384, 640)\n",
      "\n",
      "0: 384x640 3 persons, 1 dog, 12.0ms\n",
      "Speed: 1.4ms preprocess, 12.0ms inference, 1.7ms postprocess per image at shape (1, 3, 384, 640)\n",
      "\n",
      "0: 384x640 2 persons, 1 dog, 12.0ms\n",
      "Speed: 1.4ms preprocess, 12.0ms inference, 1.6ms postprocess per image at shape (1, 3, 384, 640)\n"
     ]
    },
    {
     "name": "stderr",
     "output_type": "stream",
     "text": [
      " 13%|█▎        | 53/396 [00:02<00:14, 23.43it/s]"
     ]
    },
    {
     "name": "stdout",
     "output_type": "stream",
     "text": [
      "\n",
      "0: 384x640 2 persons, 1 dog, 11.1ms\n",
      "Speed: 1.4ms preprocess, 11.1ms inference, 2.4ms postprocess per image at shape (1, 3, 384, 640)\n",
      "\n",
      "0: 384x640 2 persons, 1 dog, 1 donut, 12.5ms\n",
      "Speed: 1.4ms preprocess, 12.5ms inference, 2.0ms postprocess per image at shape (1, 3, 384, 640)\n",
      "\n",
      "0: 384x640 2 persons, 1 dog, 15.0ms\n",
      "Speed: 1.4ms preprocess, 15.0ms inference, 2.5ms postprocess per image at shape (1, 3, 384, 640)\n"
     ]
    },
    {
     "name": "stderr",
     "output_type": "stream",
     "text": [
      " 14%|█▍        | 56/396 [00:02<00:14, 23.60it/s]"
     ]
    },
    {
     "name": "stdout",
     "output_type": "stream",
     "text": [
      "\n",
      "0: 384x640 2 persons, 1 dog, 1 donut, 1 book, 11.3ms\n",
      "Speed: 1.3ms preprocess, 11.3ms inference, 2.1ms postprocess per image at shape (1, 3, 384, 640)\n",
      "\n",
      "0: 384x640 2 persons, 1 dog, 12.2ms\n",
      "Speed: 1.4ms preprocess, 12.2ms inference, 1.6ms postprocess per image at shape (1, 3, 384, 640)\n",
      "\n",
      "0: 384x640 2 persons, 1 dog, 11.4ms\n",
      "Speed: 1.7ms preprocess, 11.4ms inference, 2.3ms postprocess per image at shape (1, 3, 384, 640)\n"
     ]
    },
    {
     "name": "stderr",
     "output_type": "stream",
     "text": [
      " 15%|█▍        | 59/396 [00:02<00:14, 24.00it/s]"
     ]
    },
    {
     "name": "stdout",
     "output_type": "stream",
     "text": [
      "\n",
      "0: 384x640 2 persons, 1 dog, 12.5ms\n",
      "Speed: 1.3ms preprocess, 12.5ms inference, 1.6ms postprocess per image at shape (1, 3, 384, 640)\n",
      "\n",
      "0: 384x640 2 persons, 1 dog, 11.7ms\n",
      "Speed: 1.4ms preprocess, 11.7ms inference, 2.5ms postprocess per image at shape (1, 3, 384, 640)\n",
      "\n",
      "0: 384x640 1 person, 1 dog, 1 bottle, 10.8ms\n",
      "Speed: 1.4ms preprocess, 10.8ms inference, 2.7ms postprocess per image at shape (1, 3, 384, 640)\n"
     ]
    },
    {
     "name": "stderr",
     "output_type": "stream",
     "text": [
      " 16%|█▌        | 62/396 [00:02<00:13, 24.68it/s]"
     ]
    },
    {
     "name": "stdout",
     "output_type": "stream",
     "text": [
      "\n",
      "0: 384x640 2 persons, 1 dog, 1 remote, 11.5ms\n",
      "Speed: 1.5ms preprocess, 11.5ms inference, 1.7ms postprocess per image at shape (1, 3, 384, 640)\n",
      "\n",
      "0: 384x640 2 persons, 11.3ms\n",
      "Speed: 1.4ms preprocess, 11.3ms inference, 1.9ms postprocess per image at shape (1, 3, 384, 640)\n",
      "\n",
      "0: 384x640 2 persons, 14.5ms\n",
      "Speed: 1.5ms preprocess, 14.5ms inference, 2.8ms postprocess per image at shape (1, 3, 384, 640)\n"
     ]
    },
    {
     "name": "stderr",
     "output_type": "stream",
     "text": [
      " 16%|█▋        | 65/396 [00:02<00:13, 24.57it/s]"
     ]
    },
    {
     "name": "stdout",
     "output_type": "stream",
     "text": [
      "\n",
      "0: 384x640 2 persons, 1 bottle, 1 remote, 11.9ms\n",
      "Speed: 1.3ms preprocess, 11.9ms inference, 1.6ms postprocess per image at shape (1, 3, 384, 640)\n",
      "\n",
      "0: 384x640 2 persons, 1 bottle, 12.2ms\n",
      "Speed: 1.3ms preprocess, 12.2ms inference, 1.7ms postprocess per image at shape (1, 3, 384, 640)\n",
      "\n",
      "0: 384x640 2 persons, 1 bottle, 11.9ms\n",
      "Speed: 1.3ms preprocess, 11.9ms inference, 1.9ms postprocess per image at shape (1, 3, 384, 640)\n"
     ]
    },
    {
     "name": "stderr",
     "output_type": "stream",
     "text": [
      " 17%|█▋        | 68/396 [00:02<00:13, 24.55it/s]"
     ]
    },
    {
     "name": "stdout",
     "output_type": "stream",
     "text": [
      "\n",
      "0: 384x640 1 person, 1 dog, 1 bottle, 12.6ms\n",
      "Speed: 1.3ms preprocess, 12.6ms inference, 1.6ms postprocess per image at shape (1, 3, 384, 640)\n",
      "\n",
      "0: 384x640 2 persons, 1 bottle, 11.7ms\n",
      "Speed: 1.6ms preprocess, 11.7ms inference, 2.0ms postprocess per image at shape (1, 3, 384, 640)\n",
      "\n",
      "0: 384x640 2 persons, 1 book, 13.2ms\n",
      "Speed: 1.6ms preprocess, 13.2ms inference, 2.5ms postprocess per image at shape (1, 3, 384, 640)\n"
     ]
    },
    {
     "name": "stderr",
     "output_type": "stream",
     "text": [
      " 18%|█▊        | 71/396 [00:03<00:13, 24.40it/s]"
     ]
    },
    {
     "name": "stdout",
     "output_type": "stream",
     "text": [
      "\n",
      "0: 384x640 1 person, 11.6ms\n",
      "Speed: 1.4ms preprocess, 11.6ms inference, 2.3ms postprocess per image at shape (1, 3, 384, 640)\n",
      "\n",
      "0: 384x640 2 persons, 12.5ms\n",
      "Speed: 1.3ms preprocess, 12.5ms inference, 1.7ms postprocess per image at shape (1, 3, 384, 640)\n",
      "\n",
      "0: 384x640 1 person, 1 bottle, 12.2ms\n",
      "Speed: 1.3ms preprocess, 12.2ms inference, 1.6ms postprocess per image at shape (1, 3, 384, 640)\n"
     ]
    },
    {
     "name": "stderr",
     "output_type": "stream",
     "text": [
      " 19%|█▊        | 74/396 [00:03<00:12, 25.15it/s]"
     ]
    },
    {
     "name": "stdout",
     "output_type": "stream",
     "text": [
      "\n",
      "0: 384x640 1 person, 11.5ms\n",
      "Speed: 1.5ms preprocess, 11.5ms inference, 2.0ms postprocess per image at shape (1, 3, 384, 640)\n",
      "\n",
      "0: 384x640 2 persons, 1 bottle, 12.0ms\n",
      "Speed: 1.3ms preprocess, 12.0ms inference, 1.7ms postprocess per image at shape (1, 3, 384, 640)\n",
      "\n",
      "0: 384x640 2 persons, 1 bottle, 10.9ms\n",
      "Speed: 1.5ms preprocess, 10.9ms inference, 1.9ms postprocess per image at shape (1, 3, 384, 640)\n"
     ]
    },
    {
     "name": "stderr",
     "output_type": "stream",
     "text": [
      " 19%|█▉        | 77/396 [00:03<00:12, 25.41it/s]"
     ]
    },
    {
     "name": "stdout",
     "output_type": "stream",
     "text": [
      "\n",
      "0: 384x640 2 persons, 1 bottle, 1 book, 15.7ms\n",
      "Speed: 1.4ms preprocess, 15.7ms inference, 2.6ms postprocess per image at shape (1, 3, 384, 640)\n",
      "\n",
      "0: 384x640 2 persons, 1 book, 11.5ms\n",
      "Speed: 1.4ms preprocess, 11.5ms inference, 1.6ms postprocess per image at shape (1, 3, 384, 640)\n",
      "\n",
      "0: 384x640 2 persons, 1 bottle, 1 book, 12.5ms\n",
      "Speed: 1.4ms preprocess, 12.5ms inference, 1.6ms postprocess per image at shape (1, 3, 384, 640)\n"
     ]
    },
    {
     "name": "stderr",
     "output_type": "stream",
     "text": [
      " 20%|██        | 80/396 [00:03<00:13, 24.31it/s]"
     ]
    },
    {
     "name": "stdout",
     "output_type": "stream",
     "text": [
      "\n",
      "0: 384x640 2 persons, 1 book, 11.4ms\n",
      "Speed: 1.3ms preprocess, 11.4ms inference, 2.3ms postprocess per image at shape (1, 3, 384, 640)\n",
      "\n",
      "0: 384x640 3 persons, 1 book, 12.1ms\n",
      "Speed: 1.4ms preprocess, 12.1ms inference, 1.7ms postprocess per image at shape (1, 3, 384, 640)\n",
      "\n",
      "0: 384x640 2 persons, 1 bottle, 14.3ms\n",
      "Speed: 1.6ms preprocess, 14.3ms inference, 1.8ms postprocess per image at shape (1, 3, 384, 640)\n"
     ]
    },
    {
     "name": "stderr",
     "output_type": "stream",
     "text": [
      " 21%|██        | 83/396 [00:03<00:13, 23.92it/s]"
     ]
    },
    {
     "name": "stdout",
     "output_type": "stream",
     "text": [
      "\n",
      "0: 384x640 3 persons, 1 book, 11.9ms\n",
      "Speed: 1.6ms preprocess, 11.9ms inference, 2.6ms postprocess per image at shape (1, 3, 384, 640)\n",
      "\n",
      "0: 384x640 3 persons, 1 book, 12.5ms\n",
      "Speed: 1.3ms preprocess, 12.5ms inference, 2.2ms postprocess per image at shape (1, 3, 384, 640)\n",
      "\n",
      "0: 384x640 3 persons, 1 book, 12.6ms\n",
      "Speed: 1.3ms preprocess, 12.6ms inference, 1.6ms postprocess per image at shape (1, 3, 384, 640)\n"
     ]
    },
    {
     "name": "stderr",
     "output_type": "stream",
     "text": [
      " 22%|██▏       | 86/396 [00:03<00:12, 23.88it/s]"
     ]
    },
    {
     "name": "stdout",
     "output_type": "stream",
     "text": [
      "\n",
      "0: 384x640 3 persons, 1 book, 23.1ms\n",
      "Speed: 1.4ms preprocess, 23.1ms inference, 1.7ms postprocess per image at shape (1, 3, 384, 640)\n",
      "\n",
      "0: 384x640 4 persons, 1 book, 22.8ms\n",
      "Speed: 1.4ms preprocess, 22.8ms inference, 1.7ms postprocess per image at shape (1, 3, 384, 640)\n",
      "\n",
      "0: 384x640 3 persons, 1 book, 23.2ms\n",
      "Speed: 1.8ms preprocess, 23.2ms inference, 1.7ms postprocess per image at shape (1, 3, 384, 640)\n"
     ]
    },
    {
     "name": "stderr",
     "output_type": "stream",
     "text": [
      " 22%|██▏       | 89/396 [00:03<00:14, 21.78it/s]"
     ]
    },
    {
     "name": "stdout",
     "output_type": "stream",
     "text": [
      "\n",
      "0: 384x640 3 persons, 1 book, 23.6ms\n",
      "Speed: 1.7ms preprocess, 23.6ms inference, 1.7ms postprocess per image at shape (1, 3, 384, 640)\n",
      "\n",
      "0: 384x640 3 persons, 1 book, 22.4ms\n",
      "Speed: 1.8ms preprocess, 22.4ms inference, 1.7ms postprocess per image at shape (1, 3, 384, 640)\n",
      "\n",
      "0: 384x640 3 persons, 1 book, 19.9ms\n",
      "Speed: 1.6ms preprocess, 19.9ms inference, 3.0ms postprocess per image at shape (1, 3, 384, 640)\n"
     ]
    },
    {
     "name": "stderr",
     "output_type": "stream",
     "text": [
      " 23%|██▎       | 92/396 [00:03<00:14, 20.62it/s]"
     ]
    },
    {
     "name": "stdout",
     "output_type": "stream",
     "text": [
      "\n",
      "0: 384x640 2 persons, 1 book, 22.0ms\n",
      "Speed: 1.5ms preprocess, 22.0ms inference, 3.0ms postprocess per image at shape (1, 3, 384, 640)\n",
      "\n",
      "0: 384x640 2 persons, 20.9ms\n",
      "Speed: 1.4ms preprocess, 20.9ms inference, 1.6ms postprocess per image at shape (1, 3, 384, 640)\n",
      "\n",
      "0: 384x640 2 persons, 1 book, 20.7ms\n",
      "Speed: 1.7ms preprocess, 20.7ms inference, 1.6ms postprocess per image at shape (1, 3, 384, 640)\n"
     ]
    },
    {
     "name": "stderr",
     "output_type": "stream",
     "text": [
      " 24%|██▍       | 95/396 [00:04<00:14, 20.34it/s]"
     ]
    },
    {
     "name": "stdout",
     "output_type": "stream",
     "text": [
      "\n",
      "0: 384x640 2 persons, 17.7ms\n",
      "Speed: 1.4ms preprocess, 17.7ms inference, 2.4ms postprocess per image at shape (1, 3, 384, 640)\n",
      "\n",
      "0: 384x640 2 persons, 21.3ms\n",
      "Speed: 1.4ms preprocess, 21.3ms inference, 3.2ms postprocess per image at shape (1, 3, 384, 640)\n",
      "\n",
      "0: 384x640 2 persons, 18.0ms\n",
      "Speed: 1.4ms preprocess, 18.0ms inference, 3.6ms postprocess per image at shape (1, 3, 384, 640)\n"
     ]
    },
    {
     "name": "stderr",
     "output_type": "stream",
     "text": [
      " 25%|██▍       | 98/396 [00:04<00:14, 20.87it/s]"
     ]
    },
    {
     "name": "stdout",
     "output_type": "stream",
     "text": [
      "\n",
      "0: 384x640 2 persons, 20.5ms\n",
      "Speed: 1.4ms preprocess, 20.5ms inference, 3.2ms postprocess per image at shape (1, 3, 384, 640)\n",
      "\n",
      "0: 384x640 2 persons, 2 books, 21.4ms\n",
      "Speed: 1.4ms preprocess, 21.4ms inference, 2.5ms postprocess per image at shape (1, 3, 384, 640)\n",
      "\n",
      "0: 384x640 3 persons, 1 book, 20.7ms\n",
      "Speed: 1.4ms preprocess, 20.7ms inference, 1.6ms postprocess per image at shape (1, 3, 384, 640)\n"
     ]
    },
    {
     "name": "stderr",
     "output_type": "stream",
     "text": [
      " 26%|██▌       | 101/396 [00:04<00:14, 20.46it/s]"
     ]
    },
    {
     "name": "stdout",
     "output_type": "stream",
     "text": [
      "\n",
      "0: 384x640 3 persons, 14.2ms\n",
      "Speed: 1.7ms preprocess, 14.2ms inference, 1.6ms postprocess per image at shape (1, 3, 384, 640)\n",
      "\n",
      "0: 384x640 3 persons, 1 book, 11.6ms\n",
      "Speed: 1.3ms preprocess, 11.6ms inference, 1.7ms postprocess per image at shape (1, 3, 384, 640)\n",
      "\n",
      "0: 384x640 3 persons, 1 book, 11.9ms\n",
      "Speed: 1.3ms preprocess, 11.9ms inference, 1.6ms postprocess per image at shape (1, 3, 384, 640)\n"
     ]
    },
    {
     "name": "stderr",
     "output_type": "stream",
     "text": [
      " 26%|██▋       | 104/396 [00:04<00:13, 21.42it/s]"
     ]
    },
    {
     "name": "stdout",
     "output_type": "stream",
     "text": [
      "\n",
      "0: 384x640 2 persons, 12.2ms\n",
      "Speed: 1.3ms preprocess, 12.2ms inference, 1.7ms postprocess per image at shape (1, 3, 384, 640)\n",
      "\n",
      "0: 384x640 1 person, 11.7ms\n",
      "Speed: 1.3ms preprocess, 11.7ms inference, 1.6ms postprocess per image at shape (1, 3, 384, 640)\n",
      "\n",
      "0: 384x640 3 persons, 1 book, 15.5ms\n",
      "Speed: 1.5ms preprocess, 15.5ms inference, 2.0ms postprocess per image at shape (1, 3, 384, 640)\n"
     ]
    },
    {
     "name": "stderr",
     "output_type": "stream",
     "text": [
      " 27%|██▋       | 107/396 [00:04<00:13, 21.92it/s]"
     ]
    },
    {
     "name": "stdout",
     "output_type": "stream",
     "text": [
      "\n",
      "0: 384x640 2 persons, 11.8ms\n",
      "Speed: 1.3ms preprocess, 11.8ms inference, 1.6ms postprocess per image at shape (1, 3, 384, 640)\n",
      "\n",
      "0: 384x640 2 persons, 11.4ms\n",
      "Speed: 1.5ms preprocess, 11.4ms inference, 1.7ms postprocess per image at shape (1, 3, 384, 640)\n",
      "\n",
      "0: 384x640 2 persons, 13.1ms\n",
      "Speed: 1.3ms preprocess, 13.1ms inference, 2.7ms postprocess per image at shape (1, 3, 384, 640)\n"
     ]
    },
    {
     "name": "stderr",
     "output_type": "stream",
     "text": [
      " 28%|██▊       | 110/396 [00:04<00:12, 23.27it/s]"
     ]
    },
    {
     "name": "stdout",
     "output_type": "stream",
     "text": [
      "\n",
      "0: 384x640 2 persons, 11.4ms\n",
      "Speed: 1.3ms preprocess, 11.4ms inference, 1.6ms postprocess per image at shape (1, 3, 384, 640)\n",
      "\n",
      "0: 384x640 2 persons, 12.0ms\n",
      "Speed: 1.3ms preprocess, 12.0ms inference, 1.6ms postprocess per image at shape (1, 3, 384, 640)\n",
      "\n",
      "0: 384x640 2 persons, 1 refrigerator, 11.4ms\n",
      "Speed: 1.4ms preprocess, 11.4ms inference, 1.6ms postprocess per image at shape (1, 3, 384, 640)\n"
     ]
    },
    {
     "name": "stderr",
     "output_type": "stream",
     "text": [
      " 29%|██▊       | 113/396 [00:04<00:11, 23.72it/s]"
     ]
    },
    {
     "name": "stdout",
     "output_type": "stream",
     "text": [
      "\n",
      "0: 384x640 2 persons, 1 refrigerator, 12.3ms\n",
      "Speed: 1.3ms preprocess, 12.3ms inference, 1.7ms postprocess per image at shape (1, 3, 384, 640)\n",
      "\n",
      "0: 384x640 2 persons, 1 refrigerator, 16.1ms\n",
      "Speed: 1.9ms preprocess, 16.1ms inference, 2.5ms postprocess per image at shape (1, 3, 384, 640)\n",
      "\n",
      "0: 384x640 2 persons, 1 refrigerator, 11.7ms\n",
      "Speed: 1.4ms preprocess, 11.7ms inference, 1.9ms postprocess per image at shape (1, 3, 384, 640)\n"
     ]
    },
    {
     "name": "stderr",
     "output_type": "stream",
     "text": [
      " 29%|██▉       | 116/396 [00:05<00:12, 23.32it/s]"
     ]
    },
    {
     "name": "stdout",
     "output_type": "stream",
     "text": [
      "\n",
      "0: 384x640 2 persons, 1 refrigerator, 11.4ms\n",
      "Speed: 1.4ms preprocess, 11.4ms inference, 1.8ms postprocess per image at shape (1, 3, 384, 640)\n",
      "\n",
      "0: 384x640 2 persons, 1 refrigerator, 11.5ms\n",
      "Speed: 1.3ms preprocess, 11.5ms inference, 1.6ms postprocess per image at shape (1, 3, 384, 640)\n",
      "\n",
      "0: 384x640 2 persons, 1 refrigerator, 11.4ms\n",
      "Speed: 1.5ms preprocess, 11.4ms inference, 1.6ms postprocess per image at shape (1, 3, 384, 640)\n"
     ]
    },
    {
     "name": "stderr",
     "output_type": "stream",
     "text": [
      " 30%|███       | 119/396 [00:05<00:11, 23.59it/s]"
     ]
    },
    {
     "name": "stdout",
     "output_type": "stream",
     "text": [
      "\n",
      "0: 384x640 3 persons, 2 refrigerators, 11.5ms\n",
      "Speed: 1.5ms preprocess, 11.5ms inference, 1.6ms postprocess per image at shape (1, 3, 384, 640)\n",
      "\n",
      "0: 384x640 3 persons, 1 book, 11.7ms\n",
      "Speed: 1.4ms preprocess, 11.7ms inference, 1.6ms postprocess per image at shape (1, 3, 384, 640)\n",
      "\n",
      "0: 384x640 3 persons, 14.1ms\n",
      "Speed: 1.3ms preprocess, 14.1ms inference, 1.7ms postprocess per image at shape (1, 3, 384, 640)\n"
     ]
    },
    {
     "name": "stderr",
     "output_type": "stream",
     "text": [
      " 31%|███       | 122/396 [00:05<00:11, 23.77it/s]"
     ]
    },
    {
     "name": "stdout",
     "output_type": "stream",
     "text": [
      "\n",
      "0: 384x640 4 persons, 11.5ms\n",
      "Speed: 1.3ms preprocess, 11.5ms inference, 1.6ms postprocess per image at shape (1, 3, 384, 640)\n",
      "\n",
      "0: 384x640 3 persons, 12.3ms\n",
      "Speed: 1.3ms preprocess, 12.3ms inference, 1.6ms postprocess per image at shape (1, 3, 384, 640)\n",
      "\n",
      "0: 384x640 3 persons, 11.3ms\n",
      "Speed: 1.4ms preprocess, 11.3ms inference, 1.7ms postprocess per image at shape (1, 3, 384, 640)\n"
     ]
    },
    {
     "name": "stderr",
     "output_type": "stream",
     "text": [
      " 32%|███▏      | 125/396 [00:05<00:11, 24.23it/s]"
     ]
    },
    {
     "name": "stdout",
     "output_type": "stream",
     "text": [
      "\n",
      "0: 384x640 3 persons, 13.2ms\n",
      "Speed: 1.3ms preprocess, 13.2ms inference, 1.6ms postprocess per image at shape (1, 3, 384, 640)\n",
      "\n",
      "0: 384x640 2 persons, 11.7ms\n",
      "Speed: 1.3ms preprocess, 11.7ms inference, 1.7ms postprocess per image at shape (1, 3, 384, 640)\n",
      "\n",
      "0: 384x640 2 persons, 11.5ms\n",
      "Speed: 1.5ms preprocess, 11.5ms inference, 1.7ms postprocess per image at shape (1, 3, 384, 640)\n"
     ]
    },
    {
     "name": "stderr",
     "output_type": "stream",
     "text": [
      " 32%|███▏      | 128/396 [00:05<00:10, 24.58it/s]"
     ]
    },
    {
     "name": "stdout",
     "output_type": "stream",
     "text": [
      "\n",
      "0: 384x640 4 persons, 11.8ms\n",
      "Speed: 1.3ms preprocess, 11.8ms inference, 2.6ms postprocess per image at shape (1, 3, 384, 640)\n",
      "\n",
      "0: 384x640 3 persons, 11.9ms\n",
      "Speed: 1.3ms preprocess, 11.9ms inference, 1.6ms postprocess per image at shape (1, 3, 384, 640)\n",
      "\n",
      "0: 384x640 1 person, 11.3ms\n",
      "Speed: 1.3ms preprocess, 11.3ms inference, 2.4ms postprocess per image at shape (1, 3, 384, 640)\n"
     ]
    },
    {
     "name": "stderr",
     "output_type": "stream",
     "text": [
      " 33%|███▎      | 131/396 [00:05<00:10, 24.78it/s]"
     ]
    },
    {
     "name": "stdout",
     "output_type": "stream",
     "text": [
      "\n",
      "0: 384x640 3 persons, 16.4ms\n",
      "Speed: 1.3ms preprocess, 16.4ms inference, 2.2ms postprocess per image at shape (1, 3, 384, 640)\n",
      "\n",
      "0: 384x640 4 persons, 11.3ms\n",
      "Speed: 1.3ms preprocess, 11.3ms inference, 2.1ms postprocess per image at shape (1, 3, 384, 640)\n",
      "\n",
      "0: 384x640 2 persons, 11.7ms\n",
      "Speed: 1.4ms preprocess, 11.7ms inference, 1.9ms postprocess per image at shape (1, 3, 384, 640)\n"
     ]
    },
    {
     "name": "stderr",
     "output_type": "stream",
     "text": [
      " 34%|███▍      | 134/396 [00:05<00:10, 25.06it/s]"
     ]
    },
    {
     "name": "stdout",
     "output_type": "stream",
     "text": [
      "\n",
      "0: 384x640 3 persons, 11.8ms\n",
      "Speed: 1.3ms preprocess, 11.8ms inference, 1.6ms postprocess per image at shape (1, 3, 384, 640)\n",
      "\n",
      "0: 384x640 3 persons, 11.2ms\n",
      "Speed: 1.4ms preprocess, 11.2ms inference, 1.7ms postprocess per image at shape (1, 3, 384, 640)\n",
      "\n",
      "0: 384x640 3 persons, 11.4ms\n",
      "Speed: 1.5ms preprocess, 11.4ms inference, 1.7ms postprocess per image at shape (1, 3, 384, 640)\n"
     ]
    },
    {
     "name": "stderr",
     "output_type": "stream",
     "text": [
      " 35%|███▍      | 137/396 [00:05<00:10, 25.34it/s]"
     ]
    },
    {
     "name": "stdout",
     "output_type": "stream",
     "text": [
      "\n",
      "0: 384x640 4 persons, 13.2ms\n",
      "Speed: 1.3ms preprocess, 13.2ms inference, 1.7ms postprocess per image at shape (1, 3, 384, 640)\n",
      "\n",
      "0: 384x640 3 persons, 11.7ms\n",
      "Speed: 1.5ms preprocess, 11.7ms inference, 1.8ms postprocess per image at shape (1, 3, 384, 640)\n",
      "\n",
      "0: 384x640 4 persons, 16.6ms\n",
      "Speed: 1.3ms preprocess, 16.6ms inference, 2.6ms postprocess per image at shape (1, 3, 384, 640)\n"
     ]
    },
    {
     "name": "stderr",
     "output_type": "stream",
     "text": [
      " 35%|███▌      | 140/396 [00:05<00:10, 24.89it/s]"
     ]
    },
    {
     "name": "stdout",
     "output_type": "stream",
     "text": [
      "\n",
      "0: 384x640 3 persons, 11.9ms\n",
      "Speed: 1.4ms preprocess, 11.9ms inference, 1.9ms postprocess per image at shape (1, 3, 384, 640)\n",
      "\n",
      "0: 384x640 3 persons, 11.8ms\n",
      "Speed: 1.3ms preprocess, 11.8ms inference, 1.8ms postprocess per image at shape (1, 3, 384, 640)\n",
      "\n",
      "0: 384x640 2 persons, 12.6ms\n",
      "Speed: 1.3ms preprocess, 12.6ms inference, 1.6ms postprocess per image at shape (1, 3, 384, 640)\n"
     ]
    },
    {
     "name": "stderr",
     "output_type": "stream",
     "text": [
      " 36%|███▌      | 143/396 [00:06<00:10, 25.16it/s]"
     ]
    },
    {
     "name": "stdout",
     "output_type": "stream",
     "text": [
      "\n",
      "0: 384x640 3 persons, 11.5ms\n",
      "Speed: 1.5ms preprocess, 11.5ms inference, 2.0ms postprocess per image at shape (1, 3, 384, 640)\n",
      "\n",
      "0: 384x640 3 persons, 1 refrigerator, 12.0ms\n",
      "Speed: 1.4ms preprocess, 12.0ms inference, 1.6ms postprocess per image at shape (1, 3, 384, 640)\n",
      "\n",
      "0: 384x640 5 persons, 11.5ms\n",
      "Speed: 1.3ms preprocess, 11.5ms inference, 1.9ms postprocess per image at shape (1, 3, 384, 640)\n"
     ]
    },
    {
     "name": "stderr",
     "output_type": "stream",
     "text": [
      " 37%|███▋      | 146/396 [00:06<00:09, 25.34it/s]"
     ]
    },
    {
     "name": "stdout",
     "output_type": "stream",
     "text": [
      "\n",
      "0: 384x640 4 persons, 11.9ms\n",
      "Speed: 1.3ms preprocess, 11.9ms inference, 1.6ms postprocess per image at shape (1, 3, 384, 640)\n",
      "\n",
      "0: 384x640 4 persons, 11.3ms\n",
      "Speed: 1.5ms preprocess, 11.3ms inference, 2.4ms postprocess per image at shape (1, 3, 384, 640)\n",
      "\n",
      "0: 384x640 4 persons, 1 refrigerator, 12.6ms\n",
      "Speed: 1.3ms preprocess, 12.6ms inference, 1.6ms postprocess per image at shape (1, 3, 384, 640)\n"
     ]
    },
    {
     "name": "stderr",
     "output_type": "stream",
     "text": [
      " 38%|███▊      | 149/396 [00:06<00:09, 25.29it/s]"
     ]
    },
    {
     "name": "stdout",
     "output_type": "stream",
     "text": [
      "\n",
      "0: 384x640 3 persons, 11.1ms\n",
      "Speed: 1.3ms preprocess, 11.1ms inference, 1.8ms postprocess per image at shape (1, 3, 384, 640)\n",
      "\n",
      "0: 384x640 4 persons, 16.0ms\n",
      "Speed: 1.4ms preprocess, 16.0ms inference, 2.6ms postprocess per image at shape (1, 3, 384, 640)\n",
      "\n",
      "0: 384x640 4 persons, 11.7ms\n",
      "Speed: 1.3ms preprocess, 11.7ms inference, 2.5ms postprocess per image at shape (1, 3, 384, 640)\n"
     ]
    },
    {
     "name": "stderr",
     "output_type": "stream",
     "text": [
      " 38%|███▊      | 152/396 [00:06<00:09, 25.18it/s]"
     ]
    },
    {
     "name": "stdout",
     "output_type": "stream",
     "text": [
      "\n",
      "0: 384x640 3 persons, 11.7ms\n",
      "Speed: 1.3ms preprocess, 11.7ms inference, 1.9ms postprocess per image at shape (1, 3, 384, 640)\n",
      "\n",
      "0: 384x640 4 persons, 11.9ms\n",
      "Speed: 1.5ms preprocess, 11.9ms inference, 1.6ms postprocess per image at shape (1, 3, 384, 640)\n",
      "\n",
      "0: 384x640 2 persons, 1 book, 11.7ms\n",
      "Speed: 1.3ms preprocess, 11.7ms inference, 1.6ms postprocess per image at shape (1, 3, 384, 640)\n"
     ]
    },
    {
     "name": "stderr",
     "output_type": "stream",
     "text": [
      " 39%|███▉      | 155/396 [00:06<00:09, 25.12it/s]"
     ]
    },
    {
     "name": "stdout",
     "output_type": "stream",
     "text": [
      "\n",
      "0: 384x640 3 persons, 11.6ms\n",
      "Speed: 1.3ms preprocess, 11.6ms inference, 1.6ms postprocess per image at shape (1, 3, 384, 640)\n",
      "\n",
      "0: 384x640 4 persons, 10.8ms\n",
      "Speed: 1.3ms preprocess, 10.8ms inference, 1.7ms postprocess per image at shape (1, 3, 384, 640)\n",
      "\n",
      "0: 384x640 3 persons, 11.3ms\n",
      "Speed: 1.5ms preprocess, 11.3ms inference, 1.7ms postprocess per image at shape (1, 3, 384, 640)\n"
     ]
    },
    {
     "name": "stderr",
     "output_type": "stream",
     "text": [
      " 40%|███▉      | 158/396 [00:06<00:09, 25.83it/s]"
     ]
    },
    {
     "name": "stdout",
     "output_type": "stream",
     "text": [
      "\n",
      "0: 384x640 4 persons, 11.3ms\n",
      "Speed: 1.5ms preprocess, 11.3ms inference, 1.9ms postprocess per image at shape (1, 3, 384, 640)\n",
      "\n",
      "0: 384x640 3 persons, 11.8ms\n",
      "Speed: 1.3ms preprocess, 11.8ms inference, 1.6ms postprocess per image at shape (1, 3, 384, 640)\n",
      "\n",
      "0: 384x640 3 persons, 21.3ms\n",
      "Speed: 1.3ms preprocess, 21.3ms inference, 1.7ms postprocess per image at shape (1, 3, 384, 640)\n"
     ]
    },
    {
     "name": "stderr",
     "output_type": "stream",
     "text": [
      " 41%|████      | 161/396 [00:06<00:09, 25.18it/s]"
     ]
    },
    {
     "name": "stdout",
     "output_type": "stream",
     "text": [
      "\n",
      "0: 384x640 4 persons, 1 book, 14.3ms\n",
      "Speed: 1.3ms preprocess, 14.3ms inference, 2.5ms postprocess per image at shape (1, 3, 384, 640)\n",
      "\n",
      "0: 384x640 5 persons, 1 book, 12.3ms\n",
      "Speed: 1.3ms preprocess, 12.3ms inference, 1.6ms postprocess per image at shape (1, 3, 384, 640)\n",
      "\n",
      "0: 384x640 3 persons, 11.9ms\n",
      "Speed: 1.3ms preprocess, 11.9ms inference, 1.6ms postprocess per image at shape (1, 3, 384, 640)\n"
     ]
    },
    {
     "name": "stderr",
     "output_type": "stream",
     "text": [
      " 41%|████▏     | 164/396 [00:06<00:09, 24.49it/s]"
     ]
    },
    {
     "name": "stdout",
     "output_type": "stream",
     "text": [
      "\n",
      "0: 384x640 2 persons, 10.9ms\n",
      "Speed: 1.4ms preprocess, 10.9ms inference, 1.6ms postprocess per image at shape (1, 3, 384, 640)\n",
      "\n",
      "0: 384x640 3 persons, 11.7ms\n",
      "Speed: 1.3ms preprocess, 11.7ms inference, 1.9ms postprocess per image at shape (1, 3, 384, 640)\n",
      "\n",
      "0: 384x640 4 persons, 11.4ms\n",
      "Speed: 1.3ms preprocess, 11.4ms inference, 1.6ms postprocess per image at shape (1, 3, 384, 640)\n"
     ]
    },
    {
     "name": "stderr",
     "output_type": "stream",
     "text": [
      " 42%|████▏     | 167/396 [00:07<00:09, 25.06it/s]"
     ]
    },
    {
     "name": "stdout",
     "output_type": "stream",
     "text": [
      "\n",
      "0: 384x640 3 persons, 11.9ms\n",
      "Speed: 1.3ms preprocess, 11.9ms inference, 2.0ms postprocess per image at shape (1, 3, 384, 640)\n",
      "\n",
      "0: 384x640 5 persons, 11.3ms\n",
      "Speed: 1.4ms preprocess, 11.3ms inference, 1.6ms postprocess per image at shape (1, 3, 384, 640)\n",
      "\n",
      "0: 384x640 4 persons, 11.1ms\n",
      "Speed: 1.4ms preprocess, 11.1ms inference, 1.6ms postprocess per image at shape (1, 3, 384, 640)\n"
     ]
    },
    {
     "name": "stderr",
     "output_type": "stream",
     "text": [
      " 43%|████▎     | 170/396 [00:07<00:08, 25.66it/s]"
     ]
    },
    {
     "name": "stdout",
     "output_type": "stream",
     "text": [
      "\n",
      "0: 384x640 3 persons, 12.0ms\n",
      "Speed: 1.4ms preprocess, 12.0ms inference, 1.9ms postprocess per image at shape (1, 3, 384, 640)\n",
      "\n",
      "0: 384x640 4 persons, 1 book, 11.2ms\n",
      "Speed: 1.3ms preprocess, 11.2ms inference, 1.6ms postprocess per image at shape (1, 3, 384, 640)\n",
      "\n",
      "0: 384x640 2 persons, 1 book, 16.1ms\n",
      "Speed: 1.7ms preprocess, 16.1ms inference, 2.4ms postprocess per image at shape (1, 3, 384, 640)\n"
     ]
    },
    {
     "name": "stderr",
     "output_type": "stream",
     "text": [
      " 44%|████▎     | 173/396 [00:07<00:09, 24.77it/s]"
     ]
    },
    {
     "name": "stdout",
     "output_type": "stream",
     "text": [
      "\n",
      "0: 384x640 3 persons, 11.8ms\n",
      "Speed: 1.4ms preprocess, 11.8ms inference, 1.8ms postprocess per image at shape (1, 3, 384, 640)\n",
      "\n",
      "0: 384x640 2 persons, 15.5ms\n",
      "Speed: 1.4ms preprocess, 15.5ms inference, 1.9ms postprocess per image at shape (1, 3, 384, 640)\n",
      "\n",
      "0: 384x640 2 persons, 1 book, 11.6ms\n",
      "Speed: 1.3ms preprocess, 11.6ms inference, 1.7ms postprocess per image at shape (1, 3, 384, 640)\n"
     ]
    },
    {
     "name": "stderr",
     "output_type": "stream",
     "text": [
      " 44%|████▍     | 176/396 [00:07<00:08, 24.67it/s]"
     ]
    },
    {
     "name": "stdout",
     "output_type": "stream",
     "text": [
      "\n",
      "0: 384x640 2 persons, 1 book, 11.6ms\n",
      "Speed: 1.3ms preprocess, 11.6ms inference, 1.6ms postprocess per image at shape (1, 3, 384, 640)\n",
      "\n",
      "0: 384x640 2 persons, 1 book, 15.5ms\n",
      "Speed: 1.4ms preprocess, 15.5ms inference, 2.9ms postprocess per image at shape (1, 3, 384, 640)\n",
      "\n",
      "0: 384x640 2 persons, 1 book, 16.2ms\n",
      "Speed: 1.3ms preprocess, 16.2ms inference, 2.5ms postprocess per image at shape (1, 3, 384, 640)\n"
     ]
    },
    {
     "name": "stderr",
     "output_type": "stream",
     "text": [
      " 45%|████▌     | 179/396 [00:07<00:09, 23.57it/s]"
     ]
    },
    {
     "name": "stdout",
     "output_type": "stream",
     "text": [
      "\n",
      "0: 384x640 2 persons, 1 book, 11.8ms\n",
      "Speed: 1.4ms preprocess, 11.8ms inference, 1.6ms postprocess per image at shape (1, 3, 384, 640)\n",
      "\n",
      "0: 384x640 2 persons, 1 book, 15.3ms\n",
      "Speed: 1.9ms preprocess, 15.3ms inference, 1.6ms postprocess per image at shape (1, 3, 384, 640)\n",
      "\n",
      "0: 384x640 3 persons, 1 book, 11.2ms\n",
      "Speed: 1.3ms preprocess, 11.2ms inference, 1.6ms postprocess per image at shape (1, 3, 384, 640)\n"
     ]
    },
    {
     "name": "stderr",
     "output_type": "stream",
     "text": [
      " 46%|████▌     | 182/396 [00:07<00:09, 23.68it/s]"
     ]
    },
    {
     "name": "stdout",
     "output_type": "stream",
     "text": [
      "\n",
      "0: 384x640 3 persons, 1 book, 11.2ms\n",
      "Speed: 1.4ms preprocess, 11.2ms inference, 1.6ms postprocess per image at shape (1, 3, 384, 640)\n",
      "\n",
      "0: 384x640 2 persons, 1 book, 11.7ms\n",
      "Speed: 1.4ms preprocess, 11.7ms inference, 1.6ms postprocess per image at shape (1, 3, 384, 640)\n",
      "\n",
      "0: 384x640 2 persons, 1 book, 10.9ms\n",
      "Speed: 1.5ms preprocess, 10.9ms inference, 1.6ms postprocess per image at shape (1, 3, 384, 640)\n"
     ]
    },
    {
     "name": "stderr",
     "output_type": "stream",
     "text": [
      " 47%|████▋     | 185/396 [00:07<00:08, 23.76it/s]"
     ]
    },
    {
     "name": "stdout",
     "output_type": "stream",
     "text": [
      "\n",
      "0: 384x640 2 persons, 1 book, 11.3ms\n",
      "Speed: 1.4ms preprocess, 11.3ms inference, 1.6ms postprocess per image at shape (1, 3, 384, 640)\n",
      "\n",
      "0: 384x640 2 persons, 1 refrigerator, 1 book, 14.2ms\n",
      "Speed: 1.7ms preprocess, 14.2ms inference, 1.9ms postprocess per image at shape (1, 3, 384, 640)\n",
      "\n",
      "0: 384x640 2 persons, 1 book, 11.4ms\n",
      "Speed: 1.3ms preprocess, 11.4ms inference, 2.0ms postprocess per image at shape (1, 3, 384, 640)\n"
     ]
    },
    {
     "name": "stderr",
     "output_type": "stream",
     "text": [
      " 47%|████▋     | 188/396 [00:07<00:08, 23.34it/s]"
     ]
    },
    {
     "name": "stdout",
     "output_type": "stream",
     "text": [
      "\n",
      "0: 384x640 3 persons, 1 refrigerator, 11.2ms\n",
      "Speed: 1.4ms preprocess, 11.2ms inference, 2.4ms postprocess per image at shape (1, 3, 384, 640)\n",
      "\n",
      "0: 384x640 1 person, 1 book, 11.6ms\n",
      "Speed: 1.4ms preprocess, 11.6ms inference, 2.2ms postprocess per image at shape (1, 3, 384, 640)\n",
      "\n",
      "0: 384x640 1 person, 10.9ms\n",
      "Speed: 1.4ms preprocess, 10.9ms inference, 1.6ms postprocess per image at shape (1, 3, 384, 640)\n"
     ]
    },
    {
     "name": "stderr",
     "output_type": "stream",
     "text": [
      " 48%|████▊     | 191/396 [00:08<00:08, 23.96it/s]"
     ]
    },
    {
     "name": "stdout",
     "output_type": "stream",
     "text": [
      "\n",
      "0: 384x640 1 person, 1 book, 11.1ms\n",
      "Speed: 1.4ms preprocess, 11.1ms inference, 2.1ms postprocess per image at shape (1, 3, 384, 640)\n",
      "\n",
      "0: 384x640 2 persons, 12.5ms\n",
      "Speed: 2.1ms preprocess, 12.5ms inference, 2.3ms postprocess per image at shape (1, 3, 384, 640)\n",
      "\n",
      "0: 384x640 2 persons, 1 book, 13.5ms\n",
      "Speed: 1.5ms preprocess, 13.5ms inference, 1.9ms postprocess per image at shape (1, 3, 384, 640)\n"
     ]
    },
    {
     "name": "stderr",
     "output_type": "stream",
     "text": [
      " 49%|████▉     | 194/396 [00:08<00:08, 24.12it/s]"
     ]
    },
    {
     "name": "stdout",
     "output_type": "stream",
     "text": [
      "\n",
      "0: 384x640 2 persons, 1 book, 18.2ms\n",
      "Speed: 1.7ms preprocess, 18.2ms inference, 1.8ms postprocess per image at shape (1, 3, 384, 640)\n",
      "\n",
      "0: 384x640 3 persons, 1 book, 18.3ms\n",
      "Speed: 1.7ms preprocess, 18.3ms inference, 4.9ms postprocess per image at shape (1, 3, 384, 640)\n",
      "\n",
      "0: 384x640 2 persons, 1 book, 12.7ms\n",
      "Speed: 1.4ms preprocess, 12.7ms inference, 2.6ms postprocess per image at shape (1, 3, 384, 640)\n"
     ]
    },
    {
     "name": "stderr",
     "output_type": "stream",
     "text": [
      " 50%|████▉     | 197/396 [00:08<00:08, 22.55it/s]"
     ]
    },
    {
     "name": "stdout",
     "output_type": "stream",
     "text": [
      "\n",
      "0: 384x640 3 persons, 1 book, 14.3ms\n",
      "Speed: 1.4ms preprocess, 14.3ms inference, 4.8ms postprocess per image at shape (1, 3, 384, 640)\n",
      "\n",
      "0: 384x640 2 persons, 1 book, 14.1ms\n",
      "Speed: 1.6ms preprocess, 14.1ms inference, 1.8ms postprocess per image at shape (1, 3, 384, 640)\n",
      "\n",
      "0: 384x640 2 persons, 1 book, 12.5ms\n",
      "Speed: 1.4ms preprocess, 12.5ms inference, 1.7ms postprocess per image at shape (1, 3, 384, 640)\n"
     ]
    },
    {
     "name": "stderr",
     "output_type": "stream",
     "text": [
      " 51%|█████     | 200/396 [00:08<00:09, 21.06it/s]"
     ]
    },
    {
     "name": "stdout",
     "output_type": "stream",
     "text": [
      "\n",
      "0: 384x640 3 persons, 1 book, 13.4ms\n",
      "Speed: 1.7ms preprocess, 13.4ms inference, 2.0ms postprocess per image at shape (1, 3, 384, 640)\n",
      "\n",
      "0: 384x640 3 persons, 1 book, 26.9ms\n",
      "Speed: 1.9ms preprocess, 26.9ms inference, 4.7ms postprocess per image at shape (1, 3, 384, 640)\n",
      "\n",
      "0: 384x640 2 persons, 1 book, 12.4ms\n",
      "Speed: 1.8ms preprocess, 12.4ms inference, 2.5ms postprocess per image at shape (1, 3, 384, 640)\n"
     ]
    },
    {
     "name": "stderr",
     "output_type": "stream",
     "text": [
      " 51%|█████▏    | 203/396 [00:08<00:09, 20.33it/s]"
     ]
    },
    {
     "name": "stdout",
     "output_type": "stream",
     "text": [
      "\n",
      "0: 384x640 2 persons, 1 book, 13.2ms\n",
      "Speed: 1.4ms preprocess, 13.2ms inference, 1.8ms postprocess per image at shape (1, 3, 384, 640)\n",
      "\n",
      "0: 384x640 2 persons, 1 book, 13.2ms\n",
      "Speed: 1.4ms preprocess, 13.2ms inference, 2.7ms postprocess per image at shape (1, 3, 384, 640)\n",
      "\n",
      "0: 384x640 3 persons, 12.9ms\n",
      "Speed: 1.4ms preprocess, 12.9ms inference, 2.0ms postprocess per image at shape (1, 3, 384, 640)\n"
     ]
    },
    {
     "name": "stderr",
     "output_type": "stream",
     "text": [
      " 52%|█████▏    | 206/396 [00:08<00:09, 20.99it/s]"
     ]
    },
    {
     "name": "stdout",
     "output_type": "stream",
     "text": [
      "\n",
      "0: 384x640 4 persons, 1 book, 12.5ms\n",
      "Speed: 1.5ms preprocess, 12.5ms inference, 1.8ms postprocess per image at shape (1, 3, 384, 640)\n",
      "\n",
      "0: 384x640 4 persons, 1 book, 12.6ms\n",
      "Speed: 1.5ms preprocess, 12.6ms inference, 2.4ms postprocess per image at shape (1, 3, 384, 640)\n",
      "\n",
      "0: 384x640 4 persons, 1 book, 19.3ms\n",
      "Speed: 1.5ms preprocess, 19.3ms inference, 5.3ms postprocess per image at shape (1, 3, 384, 640)\n"
     ]
    },
    {
     "name": "stderr",
     "output_type": "stream",
     "text": [
      " 53%|█████▎    | 209/396 [00:08<00:09, 20.74it/s]"
     ]
    },
    {
     "name": "stdout",
     "output_type": "stream",
     "text": [
      "\n",
      "0: 384x640 4 persons, 1 book, 14.0ms\n",
      "Speed: 2.3ms preprocess, 14.0ms inference, 1.8ms postprocess per image at shape (1, 3, 384, 640)\n",
      "\n",
      "0: 384x640 4 persons, 1 book, 12.5ms\n",
      "Speed: 1.8ms preprocess, 12.5ms inference, 2.5ms postprocess per image at shape (1, 3, 384, 640)\n",
      "\n",
      "0: 384x640 4 persons, 1 book, 11.8ms\n",
      "Speed: 1.4ms preprocess, 11.8ms inference, 1.6ms postprocess per image at shape (1, 3, 384, 640)\n"
     ]
    },
    {
     "name": "stderr",
     "output_type": "stream",
     "text": [
      " 54%|█████▎    | 212/396 [00:09<00:08, 20.91it/s]"
     ]
    },
    {
     "name": "stdout",
     "output_type": "stream",
     "text": [
      "\n",
      "0: 384x640 3 persons, 1 book, 11.1ms\n",
      "Speed: 1.4ms preprocess, 11.1ms inference, 1.9ms postprocess per image at shape (1, 3, 384, 640)\n",
      "\n",
      "0: 384x640 3 persons, 1 book, 16.0ms\n",
      "Speed: 2.0ms preprocess, 16.0ms inference, 1.6ms postprocess per image at shape (1, 3, 384, 640)\n",
      "\n",
      "0: 384x640 2 persons, 1 dog, 1 book, 22.4ms\n",
      "Speed: 1.4ms preprocess, 22.4ms inference, 1.6ms postprocess per image at shape (1, 3, 384, 640)\n"
     ]
    },
    {
     "name": "stderr",
     "output_type": "stream",
     "text": [
      " 54%|█████▍    | 215/396 [00:09<00:08, 20.88it/s]"
     ]
    },
    {
     "name": "stdout",
     "output_type": "stream",
     "text": [
      "\n",
      "0: 384x640 3 persons, 1 book, 16.2ms\n",
      "Speed: 1.3ms preprocess, 16.2ms inference, 1.6ms postprocess per image at shape (1, 3, 384, 640)\n",
      "\n",
      "0: 384x640 2 persons, 1 book, 11.3ms\n",
      "Speed: 1.4ms preprocess, 11.3ms inference, 2.4ms postprocess per image at shape (1, 3, 384, 640)\n",
      "\n",
      "0: 384x640 2 persons, 1 book, 11.1ms\n",
      "Speed: 1.3ms preprocess, 11.1ms inference, 2.0ms postprocess per image at shape (1, 3, 384, 640)\n"
     ]
    },
    {
     "name": "stderr",
     "output_type": "stream",
     "text": [
      " 55%|█████▌    | 218/396 [00:09<00:08, 21.88it/s]"
     ]
    },
    {
     "name": "stdout",
     "output_type": "stream",
     "text": [
      "\n",
      "0: 384x640 2 persons, 1 book, 11.3ms\n",
      "Speed: 1.3ms preprocess, 11.3ms inference, 2.7ms postprocess per image at shape (1, 3, 384, 640)\n",
      "\n",
      "0: 384x640 1 person, 1 dog, 12.3ms\n",
      "Speed: 1.3ms preprocess, 12.3ms inference, 1.6ms postprocess per image at shape (1, 3, 384, 640)\n",
      "\n",
      "0: 384x640 3 persons, 1 book, 17.0ms\n",
      "Speed: 1.6ms preprocess, 17.0ms inference, 2.0ms postprocess per image at shape (1, 3, 384, 640)\n"
     ]
    },
    {
     "name": "stderr",
     "output_type": "stream",
     "text": [
      " 56%|█████▌    | 221/396 [00:09<00:07, 22.14it/s]"
     ]
    },
    {
     "name": "stdout",
     "output_type": "stream",
     "text": [
      "\n",
      "0: 384x640 2 persons, 1 dog, 1 book, 23.5ms\n",
      "Speed: 1.4ms preprocess, 23.5ms inference, 4.8ms postprocess per image at shape (1, 3, 384, 640)\n",
      "\n",
      "0: 384x640 2 persons, 1 dog, 1 book, 11.3ms\n",
      "Speed: 1.5ms preprocess, 11.3ms inference, 1.6ms postprocess per image at shape (1, 3, 384, 640)\n",
      "\n",
      "0: 384x640 2 persons, 1 dog, 1 book, 11.3ms\n",
      "Speed: 1.4ms preprocess, 11.3ms inference, 1.6ms postprocess per image at shape (1, 3, 384, 640)\n"
     ]
    },
    {
     "name": "stderr",
     "output_type": "stream",
     "text": [
      " 57%|█████▋    | 224/396 [00:09<00:08, 21.40it/s]"
     ]
    },
    {
     "name": "stdout",
     "output_type": "stream",
     "text": [
      "\n",
      "0: 384x640 3 persons, 1 book, 18.4ms\n",
      "Speed: 2.0ms preprocess, 18.4ms inference, 1.6ms postprocess per image at shape (1, 3, 384, 640)\n",
      "\n",
      "0: 384x640 3 persons, 1 dog, 1 book, 10.8ms\n",
      "Speed: 1.4ms preprocess, 10.8ms inference, 2.6ms postprocess per image at shape (1, 3, 384, 640)\n",
      "\n",
      "0: 384x640 2 persons, 1 book, 11.5ms\n",
      "Speed: 1.3ms preprocess, 11.5ms inference, 2.1ms postprocess per image at shape (1, 3, 384, 640)\n"
     ]
    },
    {
     "name": "stderr",
     "output_type": "stream",
     "text": [
      " 57%|█████▋    | 227/396 [00:09<00:07, 21.62it/s]"
     ]
    },
    {
     "name": "stdout",
     "output_type": "stream",
     "text": [
      "\n",
      "0: 384x640 2 persons, 1 dog, 1 book, 12.4ms\n",
      "Speed: 1.3ms preprocess, 12.4ms inference, 1.6ms postprocess per image at shape (1, 3, 384, 640)\n",
      "\n",
      "0: 384x640 1 person, 1 dog, 1 book, 12.0ms\n",
      "Speed: 1.3ms preprocess, 12.0ms inference, 1.6ms postprocess per image at shape (1, 3, 384, 640)\n",
      "\n",
      "0: 384x640 3 persons, 1 dog, 1 book, 11.2ms\n",
      "Speed: 1.4ms preprocess, 11.2ms inference, 2.2ms postprocess per image at shape (1, 3, 384, 640)\n"
     ]
    },
    {
     "name": "stderr",
     "output_type": "stream",
     "text": [
      " 58%|█████▊    | 230/396 [00:09<00:07, 22.06it/s]"
     ]
    },
    {
     "name": "stdout",
     "output_type": "stream",
     "text": [
      "\n",
      "0: 384x640 3 persons, 1 dog, 1 book, 16.2ms\n",
      "Speed: 1.4ms preprocess, 16.2ms inference, 1.7ms postprocess per image at shape (1, 3, 384, 640)\n",
      "\n",
      "0: 384x640 2 persons, 1 dog, 1 book, 12.2ms\n",
      "Speed: 1.3ms preprocess, 12.2ms inference, 1.6ms postprocess per image at shape (1, 3, 384, 640)\n",
      "\n",
      "0: 384x640 2 persons, 1 dog, 1 book, 12.1ms\n",
      "Speed: 1.4ms preprocess, 12.1ms inference, 1.9ms postprocess per image at shape (1, 3, 384, 640)\n"
     ]
    },
    {
     "name": "stderr",
     "output_type": "stream",
     "text": [
      " 59%|█████▉    | 233/396 [00:10<00:07, 22.26it/s]"
     ]
    },
    {
     "name": "stdout",
     "output_type": "stream",
     "text": [
      "\n",
      "0: 384x640 2 persons, 1 dog, 1 book, 22.7ms\n",
      "Speed: 2.0ms preprocess, 22.7ms inference, 3.7ms postprocess per image at shape (1, 3, 384, 640)\n",
      "\n",
      "0: 384x640 2 persons, 1 dog, 1 book, 12.3ms\n",
      "Speed: 2.1ms preprocess, 12.3ms inference, 1.8ms postprocess per image at shape (1, 3, 384, 640)\n",
      "\n",
      "0: 384x640 1 person, 1 dog, 1 book, 22.3ms\n",
      "Speed: 1.6ms preprocess, 22.3ms inference, 4.7ms postprocess per image at shape (1, 3, 384, 640)\n"
     ]
    },
    {
     "name": "stderr",
     "output_type": "stream",
     "text": [
      " 60%|█████▉    | 236/396 [00:10<00:07, 21.05it/s]"
     ]
    },
    {
     "name": "stdout",
     "output_type": "stream",
     "text": [
      "\n",
      "0: 384x640 1 person, 1 dog, 1 book, 21.6ms\n",
      "Speed: 1.5ms preprocess, 21.6ms inference, 1.9ms postprocess per image at shape (1, 3, 384, 640)\n",
      "\n",
      "0: 384x640 3 persons, 1 dog, 1 book, 11.0ms\n",
      "Speed: 1.3ms preprocess, 11.0ms inference, 1.6ms postprocess per image at shape (1, 3, 384, 640)\n",
      "\n",
      "0: 384x640 1 person, 1 dog, 1 book, 22.1ms\n",
      "Speed: 1.4ms preprocess, 22.1ms inference, 4.7ms postprocess per image at shape (1, 3, 384, 640)\n"
     ]
    },
    {
     "name": "stderr",
     "output_type": "stream",
     "text": [
      " 60%|██████    | 239/396 [00:10<00:07, 20.56it/s]"
     ]
    },
    {
     "name": "stdout",
     "output_type": "stream",
     "text": [
      "\n",
      "0: 384x640 2 persons, 1 dog, 1 book, 16.3ms\n",
      "Speed: 1.4ms preprocess, 16.3ms inference, 2.1ms postprocess per image at shape (1, 3, 384, 640)\n",
      "\n",
      "0: 384x640 2 persons, 1 dog, 1 book, 15.3ms\n",
      "Speed: 1.4ms preprocess, 15.3ms inference, 4.1ms postprocess per image at shape (1, 3, 384, 640)\n",
      "\n",
      "0: 384x640 1 person, 1 dog, 1 book, 15.9ms\n",
      "Speed: 1.4ms preprocess, 15.9ms inference, 1.6ms postprocess per image at shape (1, 3, 384, 640)\n"
     ]
    },
    {
     "name": "stderr",
     "output_type": "stream",
     "text": [
      " 61%|██████    | 242/396 [00:10<00:07, 20.71it/s]"
     ]
    },
    {
     "name": "stdout",
     "output_type": "stream",
     "text": [
      "\n",
      "0: 384x640 2 persons, 2 dogs, 1 book, 12.0ms\n",
      "Speed: 1.5ms preprocess, 12.0ms inference, 2.3ms postprocess per image at shape (1, 3, 384, 640)\n",
      "\n",
      "0: 384x640 1 person, 2 dogs, 1 book, 11.3ms\n",
      "Speed: 2.1ms preprocess, 11.3ms inference, 1.7ms postprocess per image at shape (1, 3, 384, 640)\n",
      "\n",
      "0: 384x640 1 person, 2 dogs, 1 book, 12.2ms\n",
      "Speed: 1.3ms preprocess, 12.2ms inference, 4.5ms postprocess per image at shape (1, 3, 384, 640)\n"
     ]
    },
    {
     "name": "stderr",
     "output_type": "stream",
     "text": [
      " 62%|██████▏   | 245/396 [00:10<00:07, 21.38it/s]"
     ]
    },
    {
     "name": "stdout",
     "output_type": "stream",
     "text": [
      "\n",
      "0: 384x640 1 person, 1 dog, 1 book, 11.5ms\n",
      "Speed: 1.3ms preprocess, 11.5ms inference, 1.6ms postprocess per image at shape (1, 3, 384, 640)\n",
      "\n",
      "0: 384x640 2 persons, 2 dogs, 1 book, 21.9ms\n",
      "Speed: 1.6ms preprocess, 21.9ms inference, 4.7ms postprocess per image at shape (1, 3, 384, 640)\n",
      "\n",
      "0: 384x640 2 persons, 1 dog, 1 book, 11.0ms\n",
      "Speed: 1.4ms preprocess, 11.0ms inference, 1.6ms postprocess per image at shape (1, 3, 384, 640)\n"
     ]
    },
    {
     "name": "stderr",
     "output_type": "stream",
     "text": [
      " 63%|██████▎   | 248/396 [00:10<00:06, 21.33it/s]"
     ]
    },
    {
     "name": "stdout",
     "output_type": "stream",
     "text": [
      "\n",
      "0: 384x640 2 persons, 1 dog, 1 book, 11.3ms\n",
      "Speed: 1.3ms preprocess, 11.3ms inference, 1.6ms postprocess per image at shape (1, 3, 384, 640)\n",
      "\n",
      "0: 384x640 1 person, 2 dogs, 1 book, 11.7ms\n",
      "Speed: 1.3ms preprocess, 11.7ms inference, 1.6ms postprocess per image at shape (1, 3, 384, 640)\n",
      "\n",
      "0: 384x640 2 persons, 2 dogs, 1 book, 12.5ms\n",
      "Speed: 1.4ms preprocess, 12.5ms inference, 1.6ms postprocess per image at shape (1, 3, 384, 640)\n"
     ]
    },
    {
     "name": "stderr",
     "output_type": "stream",
     "text": [
      " 63%|██████▎   | 251/396 [00:10<00:06, 22.19it/s]"
     ]
    },
    {
     "name": "stdout",
     "output_type": "stream",
     "text": [
      "\n",
      "0: 384x640 2 persons, 1 dog, 1 book, 12.2ms\n",
      "Speed: 1.3ms preprocess, 12.2ms inference, 1.7ms postprocess per image at shape (1, 3, 384, 640)\n",
      "\n",
      "0: 384x640 2 persons, 1 dog, 1 book, 12.2ms\n",
      "Speed: 1.5ms preprocess, 12.2ms inference, 1.7ms postprocess per image at shape (1, 3, 384, 640)\n",
      "\n",
      "0: 384x640 2 persons, 1 dog, 1 book, 22.1ms\n",
      "Speed: 1.4ms preprocess, 22.1ms inference, 4.7ms postprocess per image at shape (1, 3, 384, 640)\n"
     ]
    },
    {
     "name": "stderr",
     "output_type": "stream",
     "text": [
      " 64%|██████▍   | 254/396 [00:11<00:06, 21.74it/s]"
     ]
    },
    {
     "name": "stdout",
     "output_type": "stream",
     "text": [
      "\n",
      "0: 384x640 2 persons, 1 book, 22.2ms\n",
      "Speed: 1.4ms preprocess, 22.2ms inference, 4.2ms postprocess per image at shape (1, 3, 384, 640)\n",
      "\n",
      "0: 384x640 1 person, 1 dog, 1 book, 12.2ms\n",
      "Speed: 1.3ms preprocess, 12.2ms inference, 1.6ms postprocess per image at shape (1, 3, 384, 640)\n",
      "\n",
      "0: 384x640 2 persons, 1 dog, 1 book, 11.6ms\n",
      "Speed: 1.4ms preprocess, 11.6ms inference, 1.6ms postprocess per image at shape (1, 3, 384, 640)\n"
     ]
    },
    {
     "name": "stderr",
     "output_type": "stream",
     "text": [
      " 65%|██████▍   | 257/396 [00:11<00:06, 21.47it/s]"
     ]
    },
    {
     "name": "stdout",
     "output_type": "stream",
     "text": [
      "\n",
      "0: 384x640 2 persons, 1 dog, 1 book, 11.9ms\n",
      "Speed: 1.6ms preprocess, 11.9ms inference, 2.2ms postprocess per image at shape (1, 3, 384, 640)\n",
      "\n",
      "0: 384x640 2 persons, 1 dog, 1 book, 11.3ms\n",
      "Speed: 1.5ms preprocess, 11.3ms inference, 2.1ms postprocess per image at shape (1, 3, 384, 640)\n",
      "\n",
      "0: 384x640 1 person, 1 dog, 1 book, 11.9ms\n",
      "Speed: 1.4ms preprocess, 11.9ms inference, 1.7ms postprocess per image at shape (1, 3, 384, 640)\n"
     ]
    },
    {
     "name": "stderr",
     "output_type": "stream",
     "text": [
      " 66%|██████▌   | 260/396 [00:11<00:06, 22.22it/s]"
     ]
    },
    {
     "name": "stdout",
     "output_type": "stream",
     "text": [
      "\n",
      "0: 384x640 2 persons, 1 dog, 1 book, 12.2ms\n",
      "Speed: 1.6ms preprocess, 12.2ms inference, 1.6ms postprocess per image at shape (1, 3, 384, 640)\n",
      "\n",
      "0: 384x640 3 persons, 1 dog, 1 book, 11.8ms\n",
      "Speed: 1.4ms preprocess, 11.8ms inference, 1.6ms postprocess per image at shape (1, 3, 384, 640)\n",
      "\n",
      "0: 384x640 1 person, 1 dog, 1 book, 22.2ms\n",
      "Speed: 1.4ms preprocess, 22.2ms inference, 3.3ms postprocess per image at shape (1, 3, 384, 640)\n"
     ]
    },
    {
     "name": "stderr",
     "output_type": "stream",
     "text": [
      " 66%|██████▋   | 263/396 [00:11<00:06, 21.91it/s]"
     ]
    },
    {
     "name": "stdout",
     "output_type": "stream",
     "text": [
      "\n",
      "0: 384x640 1 person, 1 dog, 1 book, 21.8ms\n",
      "Speed: 1.5ms preprocess, 21.8ms inference, 4.3ms postprocess per image at shape (1, 3, 384, 640)\n",
      "\n",
      "0: 384x640 3 persons, 1 dog, 1 book, 11.6ms\n",
      "Speed: 1.4ms preprocess, 11.6ms inference, 2.0ms postprocess per image at shape (1, 3, 384, 640)\n",
      "\n",
      "0: 384x640 2 persons, 1 dog, 1 book, 12.1ms\n",
      "Speed: 1.3ms preprocess, 12.1ms inference, 1.6ms postprocess per image at shape (1, 3, 384, 640)\n"
     ]
    },
    {
     "name": "stderr",
     "output_type": "stream",
     "text": [
      " 67%|██████▋   | 266/396 [00:11<00:05, 22.01it/s]"
     ]
    },
    {
     "name": "stdout",
     "output_type": "stream",
     "text": [
      "\n",
      "0: 384x640 2 persons, 1 dog, 1 book, 12.1ms\n",
      "Speed: 1.3ms preprocess, 12.1ms inference, 1.6ms postprocess per image at shape (1, 3, 384, 640)\n",
      "\n",
      "0: 384x640 2 persons, 1 dog, 1 book, 21.8ms\n",
      "Speed: 1.5ms preprocess, 21.8ms inference, 3.9ms postprocess per image at shape (1, 3, 384, 640)\n",
      "\n",
      "0: 384x640 1 person, 1 dog, 1 book, 17.9ms\n",
      "Speed: 1.5ms preprocess, 17.9ms inference, 1.6ms postprocess per image at shape (1, 3, 384, 640)\n"
     ]
    },
    {
     "name": "stderr",
     "output_type": "stream",
     "text": [
      " 68%|██████▊   | 269/396 [00:11<00:06, 21.15it/s]"
     ]
    },
    {
     "name": "stdout",
     "output_type": "stream",
     "text": [
      "\n",
      "0: 384x640 2 persons, 1 dog, 1 book, 21.8ms\n",
      "Speed: 2.0ms preprocess, 21.8ms inference, 4.1ms postprocess per image at shape (1, 3, 384, 640)\n",
      "\n",
      "0: 384x640 1 person, 2 dogs, 1 book, 11.6ms\n",
      "Speed: 1.6ms preprocess, 11.6ms inference, 1.7ms postprocess per image at shape (1, 3, 384, 640)\n",
      "\n",
      "0: 384x640 2 persons, 1 dog, 1 book, 18.1ms\n",
      "Speed: 1.4ms preprocess, 18.1ms inference, 2.3ms postprocess per image at shape (1, 3, 384, 640)\n"
     ]
    },
    {
     "name": "stderr",
     "output_type": "stream",
     "text": [
      " 69%|██████▊   | 272/396 [00:11<00:06, 20.53it/s]"
     ]
    },
    {
     "name": "stdout",
     "output_type": "stream",
     "text": [
      "\n",
      "0: 384x640 1 person, 1 dog, 1 book, 13.3ms\n",
      "Speed: 1.4ms preprocess, 13.3ms inference, 1.7ms postprocess per image at shape (1, 3, 384, 640)\n",
      "\n",
      "0: 384x640 3 persons, 1 book, 12.6ms\n",
      "Speed: 1.5ms preprocess, 12.6ms inference, 1.6ms postprocess per image at shape (1, 3, 384, 640)\n",
      "\n",
      "0: 384x640 2 persons, 1 dog, 1 book, 17.5ms\n",
      "Speed: 1.4ms preprocess, 17.5ms inference, 1.7ms postprocess per image at shape (1, 3, 384, 640)\n"
     ]
    },
    {
     "name": "stderr",
     "output_type": "stream",
     "text": [
      " 69%|██████▉   | 275/396 [00:12<00:05, 21.09it/s]"
     ]
    },
    {
     "name": "stdout",
     "output_type": "stream",
     "text": [
      "\n",
      "0: 384x640 1 person, 1 dog, 1 book, 22.8ms\n",
      "Speed: 1.4ms preprocess, 22.8ms inference, 2.6ms postprocess per image at shape (1, 3, 384, 640)\n",
      "\n",
      "0: 384x640 2 persons, 2 dogs, 1 book, 21.4ms\n",
      "Speed: 1.5ms preprocess, 21.4ms inference, 4.5ms postprocess per image at shape (1, 3, 384, 640)\n",
      "\n",
      "0: 384x640 2 persons, 1 dog, 1 book, 21.1ms\n",
      "Speed: 1.4ms preprocess, 21.1ms inference, 1.7ms postprocess per image at shape (1, 3, 384, 640)\n"
     ]
    },
    {
     "name": "stderr",
     "output_type": "stream",
     "text": [
      " 70%|███████   | 278/396 [00:12<00:05, 20.42it/s]"
     ]
    },
    {
     "name": "stdout",
     "output_type": "stream",
     "text": [
      "\n",
      "0: 384x640 1 person, 2 dogs, 1 book, 24.4ms\n",
      "Speed: 1.4ms preprocess, 24.4ms inference, 2.9ms postprocess per image at shape (1, 3, 384, 640)\n",
      "\n",
      "0: 384x640 2 persons, 1 dog, 1 bottle, 18.9ms\n",
      "Speed: 1.4ms preprocess, 18.9ms inference, 1.6ms postprocess per image at shape (1, 3, 384, 640)\n",
      "\n",
      "0: 384x640 2 persons, 1 dog, 21.3ms\n",
      "Speed: 1.5ms preprocess, 21.3ms inference, 1.7ms postprocess per image at shape (1, 3, 384, 640)\n"
     ]
    },
    {
     "name": "stderr",
     "output_type": "stream",
     "text": [
      " 71%|███████   | 281/396 [00:12<00:05, 20.08it/s]"
     ]
    },
    {
     "name": "stdout",
     "output_type": "stream",
     "text": [
      "\n",
      "0: 384x640 2 persons, 1 dog, 1 bottle, 20.6ms\n",
      "Speed: 1.4ms preprocess, 20.6ms inference, 1.7ms postprocess per image at shape (1, 3, 384, 640)\n",
      "\n",
      "0: 384x640 2 persons, 1 dog, 1 bottle, 21.2ms\n",
      "Speed: 1.5ms preprocess, 21.2ms inference, 2.5ms postprocess per image at shape (1, 3, 384, 640)\n",
      "\n",
      "0: 384x640 2 persons, 1 dog, 22.9ms\n",
      "Speed: 1.9ms preprocess, 22.9ms inference, 1.7ms postprocess per image at shape (1, 3, 384, 640)\n"
     ]
    },
    {
     "name": "stderr",
     "output_type": "stream",
     "text": [
      " 72%|███████▏  | 284/396 [00:12<00:05, 20.07it/s]"
     ]
    },
    {
     "name": "stdout",
     "output_type": "stream",
     "text": [
      "\n",
      "0: 384x640 2 persons, 1 dog, 22.4ms\n",
      "Speed: 1.8ms preprocess, 22.4ms inference, 1.8ms postprocess per image at shape (1, 3, 384, 640)\n",
      "\n",
      "0: 384x640 2 persons, 1 dog, 1 book, 19.8ms\n",
      "Speed: 1.4ms preprocess, 19.8ms inference, 1.7ms postprocess per image at shape (1, 3, 384, 640)\n",
      "\n",
      "0: 384x640 2 persons, 1 book, 18.6ms\n",
      "Speed: 1.6ms preprocess, 18.6ms inference, 3.8ms postprocess per image at shape (1, 3, 384, 640)\n"
     ]
    },
    {
     "name": "stderr",
     "output_type": "stream",
     "text": [
      " 72%|███████▏  | 287/396 [00:12<00:05, 19.88it/s]"
     ]
    },
    {
     "name": "stdout",
     "output_type": "stream",
     "text": [
      "\n",
      "0: 384x640 1 person, 18.2ms\n",
      "Speed: 1.4ms preprocess, 18.2ms inference, 2.2ms postprocess per image at shape (1, 3, 384, 640)\n",
      "\n",
      "0: 384x640 1 person, 21.7ms\n",
      "Speed: 1.5ms preprocess, 21.7ms inference, 3.5ms postprocess per image at shape (1, 3, 384, 640)\n",
      "\n",
      "0: 384x640 1 person, 25.2ms\n",
      "Speed: 2.6ms preprocess, 25.2ms inference, 4.4ms postprocess per image at shape (1, 3, 384, 640)\n"
     ]
    },
    {
     "name": "stderr",
     "output_type": "stream",
     "text": [
      " 73%|███████▎  | 290/396 [00:12<00:05, 20.18it/s]"
     ]
    },
    {
     "name": "stdout",
     "output_type": "stream",
     "text": [
      "\n",
      "0: 384x640 2 persons, 17.6ms\n",
      "Speed: 1.4ms preprocess, 17.6ms inference, 1.7ms postprocess per image at shape (1, 3, 384, 640)\n",
      "\n",
      "0: 384x640 2 persons, 1 book, 11.9ms\n",
      "Speed: 1.3ms preprocess, 11.9ms inference, 1.6ms postprocess per image at shape (1, 3, 384, 640)\n",
      "\n",
      "0: 384x640 2 persons, 1 book, 11.6ms\n",
      "Speed: 1.3ms preprocess, 11.6ms inference, 1.7ms postprocess per image at shape (1, 3, 384, 640)\n"
     ]
    },
    {
     "name": "stderr",
     "output_type": "stream",
     "text": [
      " 74%|███████▍  | 293/396 [00:12<00:04, 21.06it/s]"
     ]
    },
    {
     "name": "stdout",
     "output_type": "stream",
     "text": [
      "\n",
      "0: 384x640 1 person, 1 book, 15.3ms\n",
      "Speed: 1.3ms preprocess, 15.3ms inference, 2.6ms postprocess per image at shape (1, 3, 384, 640)\n",
      "\n",
      "0: 384x640 2 persons, 1 dog, 1 book, 11.3ms\n",
      "Speed: 1.3ms preprocess, 11.3ms inference, 1.8ms postprocess per image at shape (1, 3, 384, 640)\n",
      "\n",
      "0: 384x640 2 persons, 1 dog, 1 remote, 11.7ms\n",
      "Speed: 1.3ms preprocess, 11.7ms inference, 1.6ms postprocess per image at shape (1, 3, 384, 640)\n"
     ]
    },
    {
     "name": "stderr",
     "output_type": "stream",
     "text": [
      " 75%|███████▍  | 296/396 [00:13<00:04, 21.59it/s]"
     ]
    },
    {
     "name": "stdout",
     "output_type": "stream",
     "text": [
      "\n",
      "0: 384x640 2 persons, 1 remote, 1 book, 16.9ms\n",
      "Speed: 1.3ms preprocess, 16.9ms inference, 1.6ms postprocess per image at shape (1, 3, 384, 640)\n",
      "\n",
      "0: 384x640 2 persons, 1 dog, 1 book, 11.4ms\n",
      "Speed: 1.3ms preprocess, 11.4ms inference, 2.2ms postprocess per image at shape (1, 3, 384, 640)\n",
      "\n",
      "0: 384x640 1 person, 1 dog, 1 book, 11.5ms\n",
      "Speed: 1.4ms preprocess, 11.5ms inference, 1.6ms postprocess per image at shape (1, 3, 384, 640)\n"
     ]
    },
    {
     "name": "stderr",
     "output_type": "stream",
     "text": [
      " 76%|███████▌  | 299/396 [00:13<00:04, 22.10it/s]"
     ]
    },
    {
     "name": "stdout",
     "output_type": "stream",
     "text": [
      "\n",
      "0: 384x640 1 person, 1 dog, 1 book, 11.7ms\n",
      "Speed: 1.5ms preprocess, 11.7ms inference, 1.6ms postprocess per image at shape (1, 3, 384, 640)\n",
      "\n",
      "0: 384x640 2 persons, 1 dog, 1 book, 11.9ms\n",
      "Speed: 1.3ms preprocess, 11.9ms inference, 1.8ms postprocess per image at shape (1, 3, 384, 640)\n",
      "\n",
      "0: 384x640 1 person, 1 dog, 1 book, 23.5ms\n",
      "Speed: 1.4ms preprocess, 23.5ms inference, 1.6ms postprocess per image at shape (1, 3, 384, 640)\n"
     ]
    },
    {
     "name": "stderr",
     "output_type": "stream",
     "text": [
      " 76%|███████▋  | 302/396 [00:13<00:04, 22.06it/s]"
     ]
    },
    {
     "name": "stdout",
     "output_type": "stream",
     "text": [
      "\n",
      "0: 384x640 2 persons, 1 dog, 1 book, 11.3ms\n",
      "Speed: 1.3ms preprocess, 11.3ms inference, 2.5ms postprocess per image at shape (1, 3, 384, 640)\n",
      "\n",
      "0: 384x640 2 persons, 1 dog, 1 book, 11.9ms\n",
      "Speed: 1.3ms preprocess, 11.9ms inference, 1.7ms postprocess per image at shape (1, 3, 384, 640)\n",
      "\n",
      "0: 384x640 1 person, 1 dog, 1 book, 11.5ms\n",
      "Speed: 1.3ms preprocess, 11.5ms inference, 1.6ms postprocess per image at shape (1, 3, 384, 640)\n"
     ]
    },
    {
     "name": "stderr",
     "output_type": "stream",
     "text": [
      " 77%|███████▋  | 305/396 [00:13<00:03, 22.78it/s]"
     ]
    },
    {
     "name": "stdout",
     "output_type": "stream",
     "text": [
      "\n",
      "0: 384x640 2 persons, 1 dog, 1 book, 12.3ms\n",
      "Speed: 1.3ms preprocess, 12.3ms inference, 1.6ms postprocess per image at shape (1, 3, 384, 640)\n",
      "\n",
      "0: 384x640 2 persons, 1 dog, 1 book, 11.5ms\n",
      "Speed: 1.4ms preprocess, 11.5ms inference, 2.3ms postprocess per image at shape (1, 3, 384, 640)\n",
      "\n",
      "0: 384x640 2 persons, 1 book, 12.8ms\n",
      "Speed: 1.4ms preprocess, 12.8ms inference, 1.8ms postprocess per image at shape (1, 3, 384, 640)\n"
     ]
    },
    {
     "name": "stderr",
     "output_type": "stream",
     "text": [
      " 78%|███████▊  | 308/396 [00:13<00:03, 23.01it/s]"
     ]
    },
    {
     "name": "stdout",
     "output_type": "stream",
     "text": [
      "\n",
      "0: 384x640 1 person, 1 dog, 1 book, 11.5ms\n",
      "Speed: 1.3ms preprocess, 11.5ms inference, 1.9ms postprocess per image at shape (1, 3, 384, 640)\n",
      "\n",
      "0: 384x640 1 person, 1 dog, 1 book, 13.0ms\n",
      "Speed: 1.3ms preprocess, 13.0ms inference, 1.6ms postprocess per image at shape (1, 3, 384, 640)\n",
      "\n",
      "0: 384x640 1 person, 1 dog, 1 book, 19.9ms\n",
      "Speed: 1.8ms preprocess, 19.9ms inference, 1.6ms postprocess per image at shape (1, 3, 384, 640)\n"
     ]
    },
    {
     "name": "stderr",
     "output_type": "stream",
     "text": [
      " 79%|███████▊  | 311/396 [00:13<00:03, 23.02it/s]"
     ]
    },
    {
     "name": "stdout",
     "output_type": "stream",
     "text": [
      "\n",
      "0: 384x640 1 person, 1 dog, 1 bottle, 11.4ms\n",
      "Speed: 2.1ms preprocess, 11.4ms inference, 2.0ms postprocess per image at shape (1, 3, 384, 640)\n",
      "\n",
      "0: 384x640 1 person, 2 dogs, 1 bottle, 11.6ms\n",
      "Speed: 1.3ms preprocess, 11.6ms inference, 1.6ms postprocess per image at shape (1, 3, 384, 640)\n",
      "\n",
      "0: 384x640 1 person, 2 dogs, 1 book, 11.7ms\n",
      "Speed: 1.3ms preprocess, 11.7ms inference, 1.6ms postprocess per image at shape (1, 3, 384, 640)\n"
     ]
    },
    {
     "name": "stderr",
     "output_type": "stream",
     "text": [
      " 79%|███████▉  | 314/396 [00:13<00:03, 23.93it/s]"
     ]
    },
    {
     "name": "stdout",
     "output_type": "stream",
     "text": [
      "\n",
      "0: 384x640 1 person, 1 dog, 1 book, 11.5ms\n",
      "Speed: 1.3ms preprocess, 11.5ms inference, 2.0ms postprocess per image at shape (1, 3, 384, 640)\n",
      "\n",
      "0: 384x640 1 person, 2 dogs, 1 book, 11.5ms\n",
      "Speed: 1.5ms preprocess, 11.5ms inference, 1.6ms postprocess per image at shape (1, 3, 384, 640)\n",
      "\n",
      "0: 384x640 1 person, 2 dogs, 1 book, 11.7ms\n",
      "Speed: 1.3ms preprocess, 11.7ms inference, 1.8ms postprocess per image at shape (1, 3, 384, 640)\n"
     ]
    },
    {
     "name": "stderr",
     "output_type": "stream",
     "text": [
      " 80%|████████  | 317/396 [00:13<00:03, 24.31it/s]"
     ]
    },
    {
     "name": "stdout",
     "output_type": "stream",
     "text": [
      "\n",
      "0: 384x640 1 person, 2 dogs, 1 book, 11.7ms\n",
      "Speed: 1.3ms preprocess, 11.7ms inference, 1.6ms postprocess per image at shape (1, 3, 384, 640)\n",
      "\n",
      "0: 384x640 1 person, 2 dogs, 1 book, 11.3ms\n",
      "Speed: 1.3ms preprocess, 11.3ms inference, 2.2ms postprocess per image at shape (1, 3, 384, 640)\n",
      "\n",
      "0: 384x640 1 person, 2 dogs, 1 book, 26.0ms\n",
      "Speed: 1.5ms preprocess, 26.0ms inference, 4.1ms postprocess per image at shape (1, 3, 384, 640)\n"
     ]
    },
    {
     "name": "stderr",
     "output_type": "stream",
     "text": [
      " 81%|████████  | 320/396 [00:14<00:03, 23.03it/s]"
     ]
    },
    {
     "name": "stdout",
     "output_type": "stream",
     "text": [
      "\n",
      "0: 384x640 2 persons, 1 dog, 1 book, 11.6ms\n",
      "Speed: 1.3ms preprocess, 11.6ms inference, 1.7ms postprocess per image at shape (1, 3, 384, 640)\n",
      "\n",
      "0: 384x640 1 person, 1 dog, 1 book, 11.6ms\n",
      "Speed: 1.5ms preprocess, 11.6ms inference, 1.9ms postprocess per image at shape (1, 3, 384, 640)\n",
      "\n",
      "0: 384x640 1 person, 2 dogs, 1 book, 11.6ms\n",
      "Speed: 1.3ms preprocess, 11.6ms inference, 1.9ms postprocess per image at shape (1, 3, 384, 640)\n"
     ]
    },
    {
     "name": "stderr",
     "output_type": "stream",
     "text": [
      " 82%|████████▏ | 323/396 [00:14<00:03, 23.54it/s]"
     ]
    },
    {
     "name": "stdout",
     "output_type": "stream",
     "text": [
      "\n",
      "0: 384x640 2 persons, 1 dog, 1 book, 11.3ms\n",
      "Speed: 1.4ms preprocess, 11.3ms inference, 1.9ms postprocess per image at shape (1, 3, 384, 640)\n",
      "\n",
      "0: 384x640 1 person, 1 dog, 1 book, 11.9ms\n",
      "Speed: 1.4ms preprocess, 11.9ms inference, 2.0ms postprocess per image at shape (1, 3, 384, 640)\n",
      "\n",
      "0: 384x640 1 person, 1 dog, 1 book, 12.0ms\n",
      "Speed: 1.3ms preprocess, 12.0ms inference, 2.0ms postprocess per image at shape (1, 3, 384, 640)\n"
     ]
    },
    {
     "name": "stderr",
     "output_type": "stream",
     "text": [
      " 82%|████████▏ | 326/396 [00:14<00:02, 23.80it/s]"
     ]
    },
    {
     "name": "stdout",
     "output_type": "stream",
     "text": [
      "\n",
      "0: 384x640 1 person, 1 dog, 1 book, 22.4ms\n",
      "Speed: 1.4ms preprocess, 22.4ms inference, 1.7ms postprocess per image at shape (1, 3, 384, 640)\n",
      "\n",
      "0: 384x640 1 person, 1 dog, 1 book, 29.9ms\n",
      "Speed: 1.5ms preprocess, 29.9ms inference, 4.1ms postprocess per image at shape (1, 3, 384, 640)\n",
      "\n",
      "0: 384x640 1 person, 1 dog, 1 book, 11.5ms\n",
      "Speed: 1.4ms preprocess, 11.5ms inference, 1.6ms postprocess per image at shape (1, 3, 384, 640)\n"
     ]
    },
    {
     "name": "stderr",
     "output_type": "stream",
     "text": [
      " 83%|████████▎ | 329/396 [00:14<00:03, 22.02it/s]"
     ]
    },
    {
     "name": "stdout",
     "output_type": "stream",
     "text": [
      "\n",
      "0: 384x640 1 person, 1 dog, 1 book, 20.6ms\n",
      "Speed: 1.5ms preprocess, 20.6ms inference, 1.7ms postprocess per image at shape (1, 3, 384, 640)\n",
      "\n",
      "0: 384x640 1 person, 1 dog, 1 book, 12.2ms\n",
      "Speed: 1.4ms preprocess, 12.2ms inference, 1.7ms postprocess per image at shape (1, 3, 384, 640)\n",
      "\n",
      "0: 384x640 2 persons, 1 dog, 1 book, 11.6ms\n",
      "Speed: 1.5ms preprocess, 11.6ms inference, 1.7ms postprocess per image at shape (1, 3, 384, 640)\n"
     ]
    },
    {
     "name": "stderr",
     "output_type": "stream",
     "text": [
      " 84%|████████▍ | 332/396 [00:14<00:02, 22.24it/s]"
     ]
    },
    {
     "name": "stdout",
     "output_type": "stream",
     "text": [
      "\n",
      "0: 384x640 1 person, 1 dog, 1 book, 15.2ms\n",
      "Speed: 1.3ms preprocess, 15.2ms inference, 1.6ms postprocess per image at shape (1, 3, 384, 640)\n",
      "\n",
      "0: 384x640 1 person, 1 dog, 1 book, 11.4ms\n",
      "Speed: 1.3ms preprocess, 11.4ms inference, 1.6ms postprocess per image at shape (1, 3, 384, 640)\n",
      "\n",
      "0: 384x640 1 person, 1 dog, 1 book, 13.6ms\n",
      "Speed: 1.3ms preprocess, 13.6ms inference, 1.6ms postprocess per image at shape (1, 3, 384, 640)\n"
     ]
    },
    {
     "name": "stderr",
     "output_type": "stream",
     "text": [
      " 85%|████████▍ | 335/396 [00:14<00:02, 22.76it/s]"
     ]
    },
    {
     "name": "stdout",
     "output_type": "stream",
     "text": [
      "\n",
      "0: 384x640 1 person, 1 dog, 1 book, 14.8ms\n",
      "Speed: 1.4ms preprocess, 14.8ms inference, 1.7ms postprocess per image at shape (1, 3, 384, 640)\n",
      "\n",
      "0: 384x640 2 persons, 1 dog, 1 book, 15.2ms\n",
      "Speed: 1.4ms preprocess, 15.2ms inference, 1.7ms postprocess per image at shape (1, 3, 384, 640)\n",
      "\n",
      "0: 384x640 1 person, 1 dog, 1 book, 12.6ms\n",
      "Speed: 1.3ms preprocess, 12.6ms inference, 1.6ms postprocess per image at shape (1, 3, 384, 640)\n"
     ]
    },
    {
     "name": "stderr",
     "output_type": "stream",
     "text": [
      " 85%|████████▌ | 338/396 [00:14<00:02, 22.95it/s]"
     ]
    },
    {
     "name": "stdout",
     "output_type": "stream",
     "text": [
      "\n",
      "0: 384x640 1 person, 1 dog, 1 book, 13.5ms\n",
      "Speed: 1.5ms preprocess, 13.5ms inference, 1.8ms postprocess per image at shape (1, 3, 384, 640)\n",
      "\n",
      "0: 384x640 1 person, 1 dog, 1 book, 11.4ms\n",
      "Speed: 1.5ms preprocess, 11.4ms inference, 1.9ms postprocess per image at shape (1, 3, 384, 640)\n",
      "\n",
      "0: 384x640 2 persons, 1 dog, 1 bottle, 1 book, 11.4ms\n",
      "Speed: 1.3ms preprocess, 11.4ms inference, 1.7ms postprocess per image at shape (1, 3, 384, 640)\n"
     ]
    },
    {
     "name": "stderr",
     "output_type": "stream",
     "text": [
      " 86%|████████▌ | 341/396 [00:14<00:02, 23.28it/s]"
     ]
    },
    {
     "name": "stdout",
     "output_type": "stream",
     "text": [
      "\n",
      "0: 384x640 2 persons, 1 dog, 1 book, 14.1ms\n",
      "Speed: 1.3ms preprocess, 14.1ms inference, 2.6ms postprocess per image at shape (1, 3, 384, 640)\n",
      "\n",
      "0: 384x640 1 person, 1 dog, 1 book, 11.3ms\n",
      "Speed: 1.4ms preprocess, 11.3ms inference, 1.8ms postprocess per image at shape (1, 3, 384, 640)\n",
      "\n",
      "0: 384x640 1 person, 1 dog, 1 book, 23.5ms\n",
      "Speed: 1.9ms preprocess, 23.5ms inference, 4.5ms postprocess per image at shape (1, 3, 384, 640)\n"
     ]
    },
    {
     "name": "stderr",
     "output_type": "stream",
     "text": [
      " 87%|████████▋ | 344/396 [00:15<00:02, 22.65it/s]"
     ]
    },
    {
     "name": "stdout",
     "output_type": "stream",
     "text": [
      "\n",
      "0: 384x640 1 person, 1 dog, 1 book, 11.1ms\n",
      "Speed: 1.5ms preprocess, 11.1ms inference, 1.7ms postprocess per image at shape (1, 3, 384, 640)\n",
      "\n",
      "0: 384x640 1 person, 2 dogs, 1 book, 15.5ms\n",
      "Speed: 1.3ms preprocess, 15.5ms inference, 2.5ms postprocess per image at shape (1, 3, 384, 640)\n",
      "\n",
      "0: 384x640 1 person, 1 dog, 1 book, 11.0ms\n",
      "Speed: 1.5ms preprocess, 11.0ms inference, 1.6ms postprocess per image at shape (1, 3, 384, 640)\n"
     ]
    },
    {
     "name": "stderr",
     "output_type": "stream",
     "text": [
      " 88%|████████▊ | 347/396 [00:15<00:02, 22.76it/s]"
     ]
    },
    {
     "name": "stdout",
     "output_type": "stream",
     "text": [
      "\n",
      "0: 384x640 1 person, 1 dog, 1 book, 11.1ms\n",
      "Speed: 1.5ms preprocess, 11.1ms inference, 1.6ms postprocess per image at shape (1, 3, 384, 640)\n",
      "\n",
      "0: 384x640 1 person, 2 dogs, 1 book, 12.5ms\n",
      "Speed: 1.4ms preprocess, 12.5ms inference, 2.5ms postprocess per image at shape (1, 3, 384, 640)\n",
      "\n",
      "0: 384x640 1 person, 1 dog, 1 book, 16.0ms\n",
      "Speed: 1.4ms preprocess, 16.0ms inference, 1.9ms postprocess per image at shape (1, 3, 384, 640)\n"
     ]
    },
    {
     "name": "stderr",
     "output_type": "stream",
     "text": [
      " 88%|████████▊ | 350/396 [00:15<00:01, 23.01it/s]"
     ]
    },
    {
     "name": "stdout",
     "output_type": "stream",
     "text": [
      "\n",
      "0: 384x640 2 persons, 1 dog, 1 book, 18.0ms\n",
      "Speed: 1.7ms preprocess, 18.0ms inference, 2.3ms postprocess per image at shape (1, 3, 384, 640)\n",
      "\n",
      "0: 384x640 1 person, 1 dog, 1 book, 11.0ms\n",
      "Speed: 1.3ms preprocess, 11.0ms inference, 2.1ms postprocess per image at shape (1, 3, 384, 640)\n",
      "\n",
      "0: 384x640 2 persons, 1 dog, 15.7ms\n",
      "Speed: 1.7ms preprocess, 15.7ms inference, 2.5ms postprocess per image at shape (1, 3, 384, 640)\n"
     ]
    },
    {
     "name": "stderr",
     "output_type": "stream",
     "text": [
      " 89%|████████▉ | 353/396 [00:15<00:01, 22.67it/s]"
     ]
    },
    {
     "name": "stdout",
     "output_type": "stream",
     "text": [
      "\n",
      "0: 384x640 2 persons, 1 dog, 1 book, 12.5ms\n",
      "Speed: 1.6ms preprocess, 12.5ms inference, 1.8ms postprocess per image at shape (1, 3, 384, 640)\n",
      "\n",
      "0: 384x640 1 person, 1 dog, 1 book, 15.3ms\n",
      "Speed: 1.4ms preprocess, 15.3ms inference, 2.9ms postprocess per image at shape (1, 3, 384, 640)\n",
      "\n",
      "0: 384x640 1 person, 1 dog, 1 book, 11.8ms\n",
      "Speed: 1.4ms preprocess, 11.8ms inference, 2.4ms postprocess per image at shape (1, 3, 384, 640)\n"
     ]
    },
    {
     "name": "stderr",
     "output_type": "stream",
     "text": [
      " 90%|████████▉ | 356/396 [00:15<00:01, 22.55it/s]"
     ]
    },
    {
     "name": "stdout",
     "output_type": "stream",
     "text": [
      "\n",
      "0: 384x640 1 person, 1 dog, 11.4ms\n",
      "Speed: 1.4ms preprocess, 11.4ms inference, 2.0ms postprocess per image at shape (1, 3, 384, 640)\n",
      "\n",
      "0: 384x640 1 person, 1 dog, 1 book, 11.5ms\n",
      "Speed: 1.3ms preprocess, 11.5ms inference, 2.0ms postprocess per image at shape (1, 3, 384, 640)\n",
      "\n",
      "0: 384x640 1 person, 1 dog, 1 book, 14.4ms\n",
      "Speed: 1.6ms preprocess, 14.4ms inference, 1.7ms postprocess per image at shape (1, 3, 384, 640)\n"
     ]
    },
    {
     "name": "stderr",
     "output_type": "stream",
     "text": [
      " 91%|█████████ | 359/396 [00:15<00:01, 23.35it/s]"
     ]
    },
    {
     "name": "stdout",
     "output_type": "stream",
     "text": [
      "\n",
      "0: 384x640 2 persons, 1 dog, 11.1ms\n",
      "Speed: 1.4ms preprocess, 11.1ms inference, 1.7ms postprocess per image at shape (1, 3, 384, 640)\n",
      "\n",
      "0: 384x640 2 persons, 1 dog, 11.0ms\n",
      "Speed: 1.4ms preprocess, 11.0ms inference, 1.7ms postprocess per image at shape (1, 3, 384, 640)\n",
      "\n",
      "0: 384x640 1 person, 1 dog, 15.3ms\n",
      "Speed: 1.4ms preprocess, 15.3ms inference, 2.8ms postprocess per image at shape (1, 3, 384, 640)\n"
     ]
    },
    {
     "name": "stderr",
     "output_type": "stream",
     "text": [
      " 91%|█████████▏| 362/396 [00:15<00:01, 24.04it/s]"
     ]
    },
    {
     "name": "stdout",
     "output_type": "stream",
     "text": [
      "\n",
      "0: 384x640 1 person, 1 dog, 15.3ms\n",
      "Speed: 1.4ms preprocess, 15.3ms inference, 1.7ms postprocess per image at shape (1, 3, 384, 640)\n",
      "\n",
      "0: 384x640 2 persons, 1 dog, 1 book, 11.3ms\n",
      "Speed: 1.4ms preprocess, 11.3ms inference, 1.6ms postprocess per image at shape (1, 3, 384, 640)\n",
      "\n",
      "0: 384x640 1 person, 1 dog, 1 donut, 1 book, 11.5ms\n",
      "Speed: 1.4ms preprocess, 11.5ms inference, 1.6ms postprocess per image at shape (1, 3, 384, 640)\n"
     ]
    },
    {
     "name": "stderr",
     "output_type": "stream",
     "text": [
      " 92%|█████████▏| 365/396 [00:15<00:01, 24.01it/s]"
     ]
    },
    {
     "name": "stdout",
     "output_type": "stream",
     "text": [
      "\n",
      "0: 384x640 1 dog, 1 book, 16.5ms\n",
      "Speed: 1.3ms preprocess, 16.5ms inference, 2.8ms postprocess per image at shape (1, 3, 384, 640)\n",
      "\n",
      "0: 384x640 1 dog, 1 book, 11.2ms\n",
      "Speed: 1.4ms preprocess, 11.2ms inference, 1.6ms postprocess per image at shape (1, 3, 384, 640)\n",
      "\n",
      "0: 384x640 1 person, 1 dog, 1 book, 11.4ms\n",
      "Speed: 1.3ms preprocess, 11.4ms inference, 1.6ms postprocess per image at shape (1, 3, 384, 640)\n"
     ]
    },
    {
     "name": "stderr",
     "output_type": "stream",
     "text": [
      " 93%|█████████▎| 368/396 [00:16<00:01, 23.64it/s]"
     ]
    },
    {
     "name": "stdout",
     "output_type": "stream",
     "text": [
      "\n",
      "0: 384x640 1 person, 1 dog, 15.7ms\n",
      "Speed: 1.3ms preprocess, 15.7ms inference, 2.5ms postprocess per image at shape (1, 3, 384, 640)\n",
      "\n",
      "0: 384x640 1 person, 1 cat, 1 dog, 11.6ms\n",
      "Speed: 1.5ms preprocess, 11.6ms inference, 2.0ms postprocess per image at shape (1, 3, 384, 640)\n",
      "\n",
      "0: 384x640 1 person, 1 dog, 13.1ms\n",
      "Speed: 1.4ms preprocess, 13.1ms inference, 2.6ms postprocess per image at shape (1, 3, 384, 640)\n"
     ]
    },
    {
     "name": "stderr",
     "output_type": "stream",
     "text": [
      " 94%|█████████▎| 371/396 [00:16<00:01, 23.77it/s]"
     ]
    },
    {
     "name": "stdout",
     "output_type": "stream",
     "text": [
      "\n",
      "0: 384x640 2 persons, 1 dog, 1 remote, 13.7ms\n",
      "Speed: 1.4ms preprocess, 13.7ms inference, 1.7ms postprocess per image at shape (1, 3, 384, 640)\n",
      "\n",
      "0: 384x640 2 persons, 1 dog, 1 remote, 11.1ms\n",
      "Speed: 1.9ms preprocess, 11.1ms inference, 1.7ms postprocess per image at shape (1, 3, 384, 640)\n",
      "\n",
      "0: 384x640 2 persons, 1 dog, 11.3ms\n",
      "Speed: 1.4ms preprocess, 11.3ms inference, 2.3ms postprocess per image at shape (1, 3, 384, 640)\n"
     ]
    },
    {
     "name": "stderr",
     "output_type": "stream",
     "text": [
      " 94%|█████████▍| 374/396 [00:16<00:00, 24.11it/s]"
     ]
    },
    {
     "name": "stdout",
     "output_type": "stream",
     "text": [
      "\n",
      "0: 384x640 1 person, 1 dog, 10.9ms\n",
      "Speed: 1.3ms preprocess, 10.9ms inference, 1.8ms postprocess per image at shape (1, 3, 384, 640)\n",
      "\n",
      "0: 384x640 2 persons, 1 dog, 12.9ms\n",
      "Speed: 1.5ms preprocess, 12.9ms inference, 2.4ms postprocess per image at shape (1, 3, 384, 640)\n",
      "\n",
      "0: 384x640 1 person, 1 dog, 15.3ms\n",
      "Speed: 1.4ms preprocess, 15.3ms inference, 2.6ms postprocess per image at shape (1, 3, 384, 640)\n"
     ]
    },
    {
     "name": "stderr",
     "output_type": "stream",
     "text": [
      " 95%|█████████▌| 377/396 [00:16<00:00, 24.11it/s]"
     ]
    },
    {
     "name": "stdout",
     "output_type": "stream",
     "text": [
      "\n",
      "0: 384x640 1 person, 1 dog, 10.7ms\n",
      "Speed: 1.5ms preprocess, 10.7ms inference, 1.6ms postprocess per image at shape (1, 3, 384, 640)\n",
      "\n",
      "0: 384x640 1 person, 12.9ms\n",
      "Speed: 1.4ms preprocess, 12.9ms inference, 1.6ms postprocess per image at shape (1, 3, 384, 640)\n",
      "\n",
      "0: 384x640 2 persons, 1 dog, 11.0ms\n",
      "Speed: 1.8ms preprocess, 11.0ms inference, 1.6ms postprocess per image at shape (1, 3, 384, 640)\n"
     ]
    },
    {
     "name": "stderr",
     "output_type": "stream",
     "text": [
      " 96%|█████████▌| 380/396 [00:16<00:00, 24.60it/s]"
     ]
    },
    {
     "name": "stdout",
     "output_type": "stream",
     "text": [
      "\n",
      "0: 384x640 3 persons, 1 dog, 10.9ms\n",
      "Speed: 1.3ms preprocess, 10.9ms inference, 1.6ms postprocess per image at shape (1, 3, 384, 640)\n",
      "\n",
      "0: 384x640 3 persons, 1 dog, 15.3ms\n",
      "Speed: 1.4ms preprocess, 15.3ms inference, 1.8ms postprocess per image at shape (1, 3, 384, 640)\n",
      "\n",
      "0: 384x640 2 persons, 1 dog, 15.2ms\n",
      "Speed: 1.4ms preprocess, 15.2ms inference, 2.4ms postprocess per image at shape (1, 3, 384, 640)\n"
     ]
    },
    {
     "name": "stderr",
     "output_type": "stream",
     "text": [
      " 97%|█████████▋| 383/396 [00:16<00:00, 24.34it/s]"
     ]
    },
    {
     "name": "stdout",
     "output_type": "stream",
     "text": [
      "\n",
      "0: 384x640 2 persons, 1 dog, 11.1ms\n",
      "Speed: 1.3ms preprocess, 11.1ms inference, 1.6ms postprocess per image at shape (1, 3, 384, 640)\n",
      "\n",
      "0: 384x640 2 persons, 1 dog, 13.2ms\n",
      "Speed: 1.5ms preprocess, 13.2ms inference, 1.6ms postprocess per image at shape (1, 3, 384, 640)\n",
      "\n",
      "0: 384x640 2 persons, 1 dog, 14.3ms\n",
      "Speed: 1.3ms preprocess, 14.3ms inference, 1.6ms postprocess per image at shape (1, 3, 384, 640)\n"
     ]
    },
    {
     "name": "stderr",
     "output_type": "stream",
     "text": [
      " 97%|█████████▋| 386/396 [00:16<00:00, 24.80it/s]"
     ]
    },
    {
     "name": "stdout",
     "output_type": "stream",
     "text": [
      "\n",
      "0: 384x640 2 persons, 1 dog, 11.2ms\n",
      "Speed: 1.3ms preprocess, 11.2ms inference, 1.7ms postprocess per image at shape (1, 3, 384, 640)\n",
      "\n",
      "0: 384x640 1 person, 1 dog, 14.8ms\n",
      "Speed: 1.3ms preprocess, 14.8ms inference, 2.7ms postprocess per image at shape (1, 3, 384, 640)\n",
      "\n",
      "0: 384x640 1 person, 1 dog, 11.0ms\n",
      "Speed: 1.6ms preprocess, 11.0ms inference, 1.6ms postprocess per image at shape (1, 3, 384, 640)\n"
     ]
    },
    {
     "name": "stderr",
     "output_type": "stream",
     "text": [
      " 98%|█████████▊| 389/396 [00:16<00:00, 25.02it/s]"
     ]
    },
    {
     "name": "stdout",
     "output_type": "stream",
     "text": [
      "\n",
      "0: 384x640 3 persons, 1 dog, 14.9ms\n",
      "Speed: 1.3ms preprocess, 14.9ms inference, 2.5ms postprocess per image at shape (1, 3, 384, 640)\n",
      "\n",
      "0: 384x640 3 persons, 1 dog, 14.7ms\n",
      "Speed: 1.5ms preprocess, 14.7ms inference, 2.5ms postprocess per image at shape (1, 3, 384, 640)\n",
      "\n",
      "0: 384x640 1 person, 1 dog, 11.0ms\n",
      "Speed: 1.4ms preprocess, 11.0ms inference, 2.3ms postprocess per image at shape (1, 3, 384, 640)\n"
     ]
    },
    {
     "name": "stderr",
     "output_type": "stream",
     "text": [
      " 99%|█████████▉| 392/396 [00:17<00:00, 24.53it/s]"
     ]
    },
    {
     "name": "stdout",
     "output_type": "stream",
     "text": [
      "\n",
      "0: 384x640 2 persons, 1 dog, 12.7ms\n",
      "Speed: 1.3ms preprocess, 12.7ms inference, 1.6ms postprocess per image at shape (1, 3, 384, 640)\n",
      "\n",
      "0: 384x640 2 persons, 1 dog, 15.1ms\n",
      "Speed: 1.3ms preprocess, 15.1ms inference, 2.5ms postprocess per image at shape (1, 3, 384, 640)\n",
      "\n",
      "0: 384x640 1 person, 1 dog, 10.9ms\n",
      "Speed: 1.3ms preprocess, 10.9ms inference, 1.8ms postprocess per image at shape (1, 3, 384, 640)\n"
     ]
    },
    {
     "name": "stderr",
     "output_type": "stream",
     "text": [
      "100%|█████████▉| 395/396 [00:17<00:00, 24.41it/s]"
     ]
    },
    {
     "name": "stdout",
     "output_type": "stream",
     "text": [
      "\n",
      "0: 384x640 1 person, 1 dog, 11.6ms\n",
      "Speed: 1.3ms preprocess, 11.6ms inference, 1.6ms postprocess per image at shape (1, 3, 384, 640)\n"
     ]
    },
    {
     "name": "stderr",
     "output_type": "stream",
     "text": [
      "100%|██████████| 396/396 [00:17<00:00, 22.94it/s]"
     ]
    },
    {
     "name": "stdout",
     "output_type": "stream",
     "text": [
      "Video processed and saved as videos/veriff18_annotated.mp4\n"
     ]
    },
    {
     "name": "stderr",
     "output_type": "stream",
     "text": [
      "\n"
     ]
    }
   ],
   "source": [
    "# Process the video and create a new one with bounding boxes\n",
    "output_file = \"videos/veriff18_annotated.mp4\"\n",
    "processed_video = process_video_with_boxes(\"videos/veriff18.mp4\", output_file, model)\n",
    "\n",
    "print(f\"Video processed and saved as {output_file}\")"
   ]
  },
  {
   "cell_type": "code",
   "execution_count": 10,
   "id": "df0e0fbe",
   "metadata": {},
   "outputs": [
    {
     "name": "stderr",
     "output_type": "stream",
     "text": [
      "  0%|          | 0/312 [00:00<?, ?it/s]"
     ]
    },
    {
     "name": "stdout",
     "output_type": "stream",
     "text": [
      "\n",
      "0: 384x640 1 person, 12.7ms\n",
      "Speed: 1.7ms preprocess, 12.7ms inference, 2.0ms postprocess per image at shape (1, 3, 384, 640)\n",
      "\n",
      "0: 384x640 1 person, 11.9ms\n",
      "Speed: 1.6ms preprocess, 11.9ms inference, 1.6ms postprocess per image at shape (1, 3, 384, 640)\n"
     ]
    },
    {
     "name": "stderr",
     "output_type": "stream",
     "text": [
      "  1%|          | 2/312 [00:00<00:16, 18.74it/s]"
     ]
    },
    {
     "name": "stdout",
     "output_type": "stream",
     "text": [
      "\n",
      "0: 384x640 1 person, 15.8ms\n",
      "Speed: 1.5ms preprocess, 15.8ms inference, 2.7ms postprocess per image at shape (1, 3, 384, 640)\n",
      "\n",
      "0: 384x640 1 person, 12.0ms\n",
      "Speed: 1.5ms preprocess, 12.0ms inference, 1.7ms postprocess per image at shape (1, 3, 384, 640)\n",
      "\n",
      "0: 384x640 1 person, 18.8ms\n",
      "Speed: 1.2ms preprocess, 18.8ms inference, 1.7ms postprocess per image at shape (1, 3, 384, 640)\n"
     ]
    },
    {
     "name": "stderr",
     "output_type": "stream",
     "text": [
      "  2%|▏         | 5/312 [00:00<00:14, 21.89it/s]"
     ]
    },
    {
     "name": "stdout",
     "output_type": "stream",
     "text": [
      "\n",
      "0: 384x640 1 person, 15.4ms\n",
      "Speed: 1.2ms preprocess, 15.4ms inference, 1.7ms postprocess per image at shape (1, 3, 384, 640)\n",
      "\n",
      "0: 384x640 1 person, 11.3ms\n",
      "Speed: 1.3ms preprocess, 11.3ms inference, 2.2ms postprocess per image at shape (1, 3, 384, 640)\n",
      "\n",
      "0: 384x640 1 person, 12.4ms\n",
      "Speed: 1.2ms preprocess, 12.4ms inference, 1.6ms postprocess per image at shape (1, 3, 384, 640)\n"
     ]
    },
    {
     "name": "stderr",
     "output_type": "stream",
     "text": [
      "  3%|▎         | 8/312 [00:00<00:12, 23.68it/s]"
     ]
    },
    {
     "name": "stdout",
     "output_type": "stream",
     "text": [
      "\n",
      "0: 384x640 1 person, 14.9ms\n",
      "Speed: 1.8ms preprocess, 14.9ms inference, 2.4ms postprocess per image at shape (1, 3, 384, 640)\n",
      "\n",
      "0: 384x640 1 person, 11.2ms\n",
      "Speed: 1.4ms preprocess, 11.2ms inference, 3.1ms postprocess per image at shape (1, 3, 384, 640)\n",
      "\n",
      "0: 384x640 1 person, 12.7ms\n",
      "Speed: 1.2ms preprocess, 12.7ms inference, 1.7ms postprocess per image at shape (1, 3, 384, 640)\n"
     ]
    },
    {
     "name": "stderr",
     "output_type": "stream",
     "text": [
      "  4%|▎         | 11/312 [00:00<00:12, 24.33it/s]"
     ]
    },
    {
     "name": "stdout",
     "output_type": "stream",
     "text": [
      "\n",
      "0: 384x640 1 person, 12.4ms\n",
      "Speed: 1.2ms preprocess, 12.4ms inference, 2.2ms postprocess per image at shape (1, 3, 384, 640)\n",
      "\n",
      "0: 384x640 1 person, 14.8ms\n",
      "Speed: 1.2ms preprocess, 14.8ms inference, 3.1ms postprocess per image at shape (1, 3, 384, 640)\n",
      "\n",
      "0: 384x640 1 person, 12.2ms\n",
      "Speed: 1.3ms preprocess, 12.2ms inference, 1.7ms postprocess per image at shape (1, 3, 384, 640)\n"
     ]
    },
    {
     "name": "stderr",
     "output_type": "stream",
     "text": [
      "  4%|▍         | 14/312 [00:00<00:11, 24.89it/s]"
     ]
    },
    {
     "name": "stdout",
     "output_type": "stream",
     "text": [
      "\n",
      "0: 384x640 1 person, 15.1ms\n",
      "Speed: 1.2ms preprocess, 15.1ms inference, 2.9ms postprocess per image at shape (1, 3, 384, 640)\n",
      "\n",
      "0: 384x640 1 person, 14.8ms\n",
      "Speed: 1.2ms preprocess, 14.8ms inference, 2.8ms postprocess per image at shape (1, 3, 384, 640)\n",
      "\n",
      "0: 384x640 1 person, 12.1ms\n",
      "Speed: 1.4ms preprocess, 12.1ms inference, 1.7ms postprocess per image at shape (1, 3, 384, 640)\n"
     ]
    },
    {
     "name": "stderr",
     "output_type": "stream",
     "text": [
      "  5%|▌         | 17/312 [00:00<00:11, 24.62it/s]"
     ]
    },
    {
     "name": "stdout",
     "output_type": "stream",
     "text": [
      "\n",
      "0: 384x640 1 person, 12.3ms\n",
      "Speed: 1.2ms preprocess, 12.3ms inference, 1.6ms postprocess per image at shape (1, 3, 384, 640)\n",
      "\n",
      "0: 384x640 1 person, 11.2ms\n",
      "Speed: 1.2ms preprocess, 11.2ms inference, 2.3ms postprocess per image at shape (1, 3, 384, 640)\n",
      "\n",
      "0: 384x640 1 person, 12.4ms\n",
      "Speed: 1.2ms preprocess, 12.4ms inference, 1.7ms postprocess per image at shape (1, 3, 384, 640)\n"
     ]
    },
    {
     "name": "stderr",
     "output_type": "stream",
     "text": [
      "  6%|▋         | 20/312 [00:00<00:11, 24.87it/s]"
     ]
    },
    {
     "name": "stdout",
     "output_type": "stream",
     "text": [
      "\n",
      "0: 384x640 1 person, 12.2ms\n",
      "Speed: 1.1ms preprocess, 12.2ms inference, 1.6ms postprocess per image at shape (1, 3, 384, 640)\n",
      "\n",
      "0: 384x640 1 person, 11.2ms\n",
      "Speed: 1.2ms preprocess, 11.2ms inference, 2.1ms postprocess per image at shape (1, 3, 384, 640)\n",
      "\n",
      "0: 384x640 1 person, 12.2ms\n",
      "Speed: 1.2ms preprocess, 12.2ms inference, 1.8ms postprocess per image at shape (1, 3, 384, 640)\n"
     ]
    },
    {
     "name": "stderr",
     "output_type": "stream",
     "text": [
      "  7%|▋         | 23/312 [00:00<00:11, 24.93it/s]"
     ]
    },
    {
     "name": "stdout",
     "output_type": "stream",
     "text": [
      "\n",
      "0: 384x640 1 person, 12.3ms\n",
      "Speed: 1.2ms preprocess, 12.3ms inference, 1.6ms postprocess per image at shape (1, 3, 384, 640)\n",
      "\n",
      "0: 384x640 1 person, 12.1ms\n",
      "Speed: 1.2ms preprocess, 12.1ms inference, 1.6ms postprocess per image at shape (1, 3, 384, 640)\n",
      "\n",
      "0: 384x640 1 person, 11.4ms\n",
      "Speed: 1.2ms preprocess, 11.4ms inference, 2.2ms postprocess per image at shape (1, 3, 384, 640)\n"
     ]
    },
    {
     "name": "stderr",
     "output_type": "stream",
     "text": [
      "  8%|▊         | 26/312 [00:01<00:11, 25.65it/s]"
     ]
    },
    {
     "name": "stdout",
     "output_type": "stream",
     "text": [
      "\n",
      "0: 384x640 1 person, 12.5ms\n",
      "Speed: 1.2ms preprocess, 12.5ms inference, 1.7ms postprocess per image at shape (1, 3, 384, 640)\n",
      "\n",
      "0: 384x640 1 person, 1 laptop, 13.5ms\n",
      "Speed: 1.2ms preprocess, 13.5ms inference, 1.6ms postprocess per image at shape (1, 3, 384, 640)\n",
      "\n",
      "0: 384x640 1 person, 1 laptop, 11.8ms\n",
      "Speed: 1.2ms preprocess, 11.8ms inference, 1.7ms postprocess per image at shape (1, 3, 384, 640)\n"
     ]
    },
    {
     "name": "stderr",
     "output_type": "stream",
     "text": [
      "  9%|▉         | 29/312 [00:01<00:11, 25.15it/s]"
     ]
    },
    {
     "name": "stdout",
     "output_type": "stream",
     "text": [
      "\n",
      "0: 384x640 1 person, 1 cell phone, 12.2ms\n",
      "Speed: 1.5ms preprocess, 12.2ms inference, 1.6ms postprocess per image at shape (1, 3, 384, 640)\n",
      "\n",
      "0: 384x640 1 person, 1 laptop, 12.1ms\n",
      "Speed: 1.3ms preprocess, 12.1ms inference, 1.6ms postprocess per image at shape (1, 3, 384, 640)\n",
      "\n",
      "0: 384x640 2 persons, 1 laptop, 1 cell phone, 12.4ms\n",
      "Speed: 1.2ms preprocess, 12.4ms inference, 1.6ms postprocess per image at shape (1, 3, 384, 640)\n"
     ]
    },
    {
     "name": "stderr",
     "output_type": "stream",
     "text": [
      " 10%|█         | 32/312 [00:01<00:11, 24.55it/s]"
     ]
    },
    {
     "name": "stdout",
     "output_type": "stream",
     "text": [
      "\n",
      "0: 384x640 1 person, 1 book, 14.6ms\n",
      "Speed: 1.6ms preprocess, 14.6ms inference, 1.7ms postprocess per image at shape (1, 3, 384, 640)\n",
      "\n",
      "0: 384x640 1 person, 11.7ms\n",
      "Speed: 1.3ms preprocess, 11.7ms inference, 1.9ms postprocess per image at shape (1, 3, 384, 640)\n",
      "\n",
      "0: 384x640 1 person, 1 cell phone, 12.3ms\n",
      "Speed: 1.3ms preprocess, 12.3ms inference, 2.7ms postprocess per image at shape (1, 3, 384, 640)\n"
     ]
    },
    {
     "name": "stderr",
     "output_type": "stream",
     "text": [
      " 11%|█         | 35/312 [00:01<00:11, 24.30it/s]"
     ]
    },
    {
     "name": "stdout",
     "output_type": "stream",
     "text": [
      "\n",
      "0: 384x640 1 person, 1 cell phone, 11.2ms\n",
      "Speed: 1.2ms preprocess, 11.2ms inference, 2.1ms postprocess per image at shape (1, 3, 384, 640)\n",
      "\n",
      "0: 384x640 1 person, 1 cell phone, 11.5ms\n",
      "Speed: 1.4ms preprocess, 11.5ms inference, 2.4ms postprocess per image at shape (1, 3, 384, 640)\n",
      "\n",
      "0: 384x640 1 person, 1 cell phone, 11.4ms\n",
      "Speed: 1.3ms preprocess, 11.4ms inference, 2.0ms postprocess per image at shape (1, 3, 384, 640)\n"
     ]
    },
    {
     "name": "stderr",
     "output_type": "stream",
     "text": [
      " 12%|█▏        | 38/312 [00:01<00:11, 24.59it/s]"
     ]
    },
    {
     "name": "stdout",
     "output_type": "stream",
     "text": [
      "\n",
      "0: 384x640 1 person, 1 cell phone, 15.3ms\n",
      "Speed: 1.2ms preprocess, 15.3ms inference, 3.2ms postprocess per image at shape (1, 3, 384, 640)\n",
      "\n",
      "0: 384x640 1 person, 1 cell phone, 11.1ms\n",
      "Speed: 1.2ms preprocess, 11.1ms inference, 2.1ms postprocess per image at shape (1, 3, 384, 640)\n",
      "\n",
      "0: 384x640 1 person, 1 cell phone, 10.8ms\n",
      "Speed: 1.4ms preprocess, 10.8ms inference, 1.6ms postprocess per image at shape (1, 3, 384, 640)\n"
     ]
    },
    {
     "name": "stderr",
     "output_type": "stream",
     "text": [
      " 13%|█▎        | 41/312 [00:01<00:11, 24.18it/s]"
     ]
    },
    {
     "name": "stdout",
     "output_type": "stream",
     "text": [
      "\n",
      "0: 384x640 1 person, 1 cell phone, 11.4ms\n",
      "Speed: 1.3ms preprocess, 11.4ms inference, 1.6ms postprocess per image at shape (1, 3, 384, 640)\n",
      "\n",
      "0: 384x640 1 person, 15.4ms\n",
      "Speed: 1.5ms preprocess, 15.4ms inference, 1.7ms postprocess per image at shape (1, 3, 384, 640)\n",
      "\n",
      "0: 384x640 1 person, 11.2ms\n",
      "Speed: 1.3ms preprocess, 11.2ms inference, 2.2ms postprocess per image at shape (1, 3, 384, 640)\n"
     ]
    },
    {
     "name": "stderr",
     "output_type": "stream",
     "text": [
      " 14%|█▍        | 44/312 [00:01<00:11, 24.26it/s]"
     ]
    },
    {
     "name": "stdout",
     "output_type": "stream",
     "text": [
      "\n",
      "0: 384x640 1 person, 11.7ms\n",
      "Speed: 1.5ms preprocess, 11.7ms inference, 2.0ms postprocess per image at shape (1, 3, 384, 640)\n",
      "\n",
      "0: 384x640 1 person, 10.9ms\n",
      "Speed: 1.2ms preprocess, 10.9ms inference, 2.3ms postprocess per image at shape (1, 3, 384, 640)\n",
      "\n",
      "0: 384x640 1 person, 13.8ms\n",
      "Speed: 1.5ms preprocess, 13.8ms inference, 1.8ms postprocess per image at shape (1, 3, 384, 640)\n"
     ]
    },
    {
     "name": "stderr",
     "output_type": "stream",
     "text": [
      " 15%|█▌        | 47/312 [00:01<00:10, 24.75it/s]"
     ]
    },
    {
     "name": "stdout",
     "output_type": "stream",
     "text": [
      "\n",
      "0: 384x640 1 person, 11.3ms\n",
      "Speed: 1.2ms preprocess, 11.3ms inference, 2.4ms postprocess per image at shape (1, 3, 384, 640)\n",
      "\n",
      "0: 384x640 1 person, 1 cell phone, 20.3ms\n",
      "Speed: 1.4ms preprocess, 20.3ms inference, 2.4ms postprocess per image at shape (1, 3, 384, 640)\n",
      "\n",
      "0: 384x640 1 person, 1 dog, 1 cell phone, 15.0ms\n",
      "Speed: 1.2ms preprocess, 15.0ms inference, 2.5ms postprocess per image at shape (1, 3, 384, 640)\n"
     ]
    },
    {
     "name": "stderr",
     "output_type": "stream",
     "text": [
      " 16%|█▌        | 50/312 [00:02<00:10, 23.94it/s]"
     ]
    },
    {
     "name": "stdout",
     "output_type": "stream",
     "text": [
      "\n",
      "0: 384x640 1 person, 1 cell phone, 15.2ms\n",
      "Speed: 1.2ms preprocess, 15.2ms inference, 2.4ms postprocess per image at shape (1, 3, 384, 640)\n",
      "\n",
      "0: 384x640 1 person, 1 cell phone, 11.2ms\n",
      "Speed: 1.2ms preprocess, 11.2ms inference, 2.3ms postprocess per image at shape (1, 3, 384, 640)\n",
      "\n",
      "0: 384x640 1 person, 1 cell phone, 11.4ms\n",
      "Speed: 1.2ms preprocess, 11.4ms inference, 2.1ms postprocess per image at shape (1, 3, 384, 640)\n"
     ]
    },
    {
     "name": "stderr",
     "output_type": "stream",
     "text": [
      " 17%|█▋        | 53/312 [00:02<00:10, 23.83it/s]"
     ]
    },
    {
     "name": "stdout",
     "output_type": "stream",
     "text": [
      "\n",
      "0: 384x640 1 person, 1 cell phone, 14.6ms\n",
      "Speed: 1.6ms preprocess, 14.6ms inference, 1.7ms postprocess per image at shape (1, 3, 384, 640)\n",
      "\n",
      "0: 384x640 1 person, 1 cell phone, 11.0ms\n",
      "Speed: 1.2ms preprocess, 11.0ms inference, 2.5ms postprocess per image at shape (1, 3, 384, 640)\n",
      "\n",
      "0: 384x640 1 person, 1 cell phone, 12.2ms\n",
      "Speed: 1.4ms preprocess, 12.2ms inference, 1.8ms postprocess per image at shape (1, 3, 384, 640)\n"
     ]
    },
    {
     "name": "stderr",
     "output_type": "stream",
     "text": [
      " 18%|█▊        | 56/312 [00:02<00:10, 23.89it/s]"
     ]
    },
    {
     "name": "stdout",
     "output_type": "stream",
     "text": [
      "\n",
      "0: 384x640 1 person, 1 cell phone, 11.5ms\n",
      "Speed: 1.2ms preprocess, 11.5ms inference, 3.1ms postprocess per image at shape (1, 3, 384, 640)\n",
      "\n",
      "0: 384x640 1 person, 1 cell phone, 13.1ms\n",
      "Speed: 1.4ms preprocess, 13.1ms inference, 2.6ms postprocess per image at shape (1, 3, 384, 640)\n",
      "\n",
      "0: 384x640 1 person, 1 cell phone, 11.8ms\n",
      "Speed: 1.5ms preprocess, 11.8ms inference, 2.9ms postprocess per image at shape (1, 3, 384, 640)\n"
     ]
    },
    {
     "name": "stderr",
     "output_type": "stream",
     "text": [
      " 19%|█▉        | 59/312 [00:02<00:10, 23.08it/s]"
     ]
    },
    {
     "name": "stdout",
     "output_type": "stream",
     "text": [
      "\n",
      "0: 384x640 1 person, 1 cell phone, 11.7ms\n",
      "Speed: 1.3ms preprocess, 11.7ms inference, 2.1ms postprocess per image at shape (1, 3, 384, 640)\n",
      "\n",
      "0: 384x640 1 person, 1 cell phone, 12.0ms\n",
      "Speed: 1.3ms preprocess, 12.0ms inference, 1.8ms postprocess per image at shape (1, 3, 384, 640)\n",
      "\n",
      "0: 384x640 1 person, 1 cell phone, 11.5ms\n",
      "Speed: 1.2ms preprocess, 11.5ms inference, 2.4ms postprocess per image at shape (1, 3, 384, 640)\n"
     ]
    },
    {
     "name": "stderr",
     "output_type": "stream",
     "text": [
      " 20%|█▉        | 62/312 [00:02<00:10, 23.65it/s]"
     ]
    },
    {
     "name": "stdout",
     "output_type": "stream",
     "text": [
      "\n",
      "0: 384x640 1 person, 1 cell phone, 14.3ms\n",
      "Speed: 1.2ms preprocess, 14.3ms inference, 1.6ms postprocess per image at shape (1, 3, 384, 640)\n",
      "\n",
      "0: 384x640 1 person, 11.8ms\n",
      "Speed: 1.3ms preprocess, 11.8ms inference, 1.6ms postprocess per image at shape (1, 3, 384, 640)\n",
      "\n",
      "0: 384x640 1 person, 11.5ms\n",
      "Speed: 1.7ms preprocess, 11.5ms inference, 2.3ms postprocess per image at shape (1, 3, 384, 640)\n"
     ]
    },
    {
     "name": "stderr",
     "output_type": "stream",
     "text": [
      " 21%|██        | 65/312 [00:02<00:10, 23.98it/s]"
     ]
    },
    {
     "name": "stdout",
     "output_type": "stream",
     "text": [
      "\n",
      "0: 384x640 1 person, 12.2ms\n",
      "Speed: 1.2ms preprocess, 12.2ms inference, 1.7ms postprocess per image at shape (1, 3, 384, 640)\n",
      "\n",
      "0: 384x640 1 person, 1 cell phone, 12.7ms\n",
      "Speed: 1.2ms preprocess, 12.7ms inference, 3.1ms postprocess per image at shape (1, 3, 384, 640)\n",
      "\n",
      "0: 384x640 1 person, 1 cell phone, 12.3ms\n",
      "Speed: 1.5ms preprocess, 12.3ms inference, 3.0ms postprocess per image at shape (1, 3, 384, 640)\n"
     ]
    },
    {
     "name": "stderr",
     "output_type": "stream",
     "text": [
      " 22%|██▏       | 68/312 [00:02<00:10, 24.02it/s]"
     ]
    },
    {
     "name": "stdout",
     "output_type": "stream",
     "text": [
      "\n",
      "0: 384x640 1 person, 1 cell phone, 11.7ms\n",
      "Speed: 1.2ms preprocess, 11.7ms inference, 1.6ms postprocess per image at shape (1, 3, 384, 640)\n",
      "\n",
      "0: 384x640 1 person, 1 cell phone, 11.7ms\n",
      "Speed: 1.2ms preprocess, 11.7ms inference, 1.8ms postprocess per image at shape (1, 3, 384, 640)\n",
      "\n",
      "0: 384x640 1 person, 1 cell phone, 11.1ms\n",
      "Speed: 1.3ms preprocess, 11.1ms inference, 2.6ms postprocess per image at shape (1, 3, 384, 640)\n"
     ]
    },
    {
     "name": "stderr",
     "output_type": "stream",
     "text": [
      " 23%|██▎       | 71/312 [00:02<00:09, 24.21it/s]"
     ]
    },
    {
     "name": "stdout",
     "output_type": "stream",
     "text": [
      "\n",
      "0: 384x640 1 person, 1 cell phone, 11.4ms\n",
      "Speed: 1.4ms preprocess, 11.4ms inference, 2.3ms postprocess per image at shape (1, 3, 384, 640)\n",
      "\n",
      "0: 384x640 1 person, 1 cell phone, 11.5ms\n",
      "Speed: 1.3ms preprocess, 11.5ms inference, 1.6ms postprocess per image at shape (1, 3, 384, 640)\n",
      "\n",
      "0: 384x640 1 person, 1 cell phone, 12.3ms\n",
      "Speed: 1.2ms preprocess, 12.3ms inference, 1.6ms postprocess per image at shape (1, 3, 384, 640)\n"
     ]
    },
    {
     "name": "stderr",
     "output_type": "stream",
     "text": [
      " 24%|██▎       | 74/312 [00:03<00:09, 24.40it/s]"
     ]
    },
    {
     "name": "stdout",
     "output_type": "stream",
     "text": [
      "\n",
      "0: 384x640 1 person, 1 cell phone, 11.4ms\n",
      "Speed: 1.3ms preprocess, 11.4ms inference, 1.8ms postprocess per image at shape (1, 3, 384, 640)\n",
      "\n",
      "0: 384x640 1 person, 1 cell phone, 11.8ms\n",
      "Speed: 1.3ms preprocess, 11.8ms inference, 2.3ms postprocess per image at shape (1, 3, 384, 640)\n",
      "\n",
      "0: 384x640 1 person, 1 cell phone, 11.7ms\n",
      "Speed: 1.2ms preprocess, 11.7ms inference, 1.7ms postprocess per image at shape (1, 3, 384, 640)\n"
     ]
    },
    {
     "name": "stderr",
     "output_type": "stream",
     "text": [
      " 25%|██▍       | 77/312 [00:03<00:09, 24.14it/s]"
     ]
    },
    {
     "name": "stdout",
     "output_type": "stream",
     "text": [
      "\n",
      "0: 384x640 1 person, 1 cell phone, 11.8ms\n",
      "Speed: 1.2ms preprocess, 11.8ms inference, 1.7ms postprocess per image at shape (1, 3, 384, 640)\n",
      "\n",
      "0: 384x640 1 person, 1 cell phone, 11.4ms\n",
      "Speed: 1.2ms preprocess, 11.4ms inference, 1.6ms postprocess per image at shape (1, 3, 384, 640)\n",
      "\n",
      "0: 384x640 2 persons, 1 cell phone, 11.8ms\n",
      "Speed: 1.2ms preprocess, 11.8ms inference, 1.6ms postprocess per image at shape (1, 3, 384, 640)\n"
     ]
    },
    {
     "name": "stderr",
     "output_type": "stream",
     "text": [
      " 26%|██▌       | 80/312 [00:03<00:09, 23.95it/s]"
     ]
    },
    {
     "name": "stdout",
     "output_type": "stream",
     "text": [
      "\n",
      "0: 384x640 2 persons, 1 cell phone, 11.5ms\n",
      "Speed: 1.2ms preprocess, 11.5ms inference, 2.1ms postprocess per image at shape (1, 3, 384, 640)\n",
      "\n",
      "0: 384x640 2 persons, 1 cell phone, 11.6ms\n",
      "Speed: 1.4ms preprocess, 11.6ms inference, 1.6ms postprocess per image at shape (1, 3, 384, 640)\n",
      "\n",
      "0: 384x640 2 persons, 1 cell phone, 14.9ms\n",
      "Speed: 1.4ms preprocess, 14.9ms inference, 2.4ms postprocess per image at shape (1, 3, 384, 640)\n"
     ]
    },
    {
     "name": "stderr",
     "output_type": "stream",
     "text": [
      " 27%|██▋       | 83/312 [00:03<00:09, 23.92it/s]"
     ]
    },
    {
     "name": "stdout",
     "output_type": "stream",
     "text": [
      "\n",
      "0: 384x640 1 person, 1 cell phone, 12.1ms\n",
      "Speed: 1.2ms preprocess, 12.1ms inference, 1.9ms postprocess per image at shape (1, 3, 384, 640)\n",
      "\n",
      "0: 384x640 1 person, 12.9ms\n",
      "Speed: 1.3ms preprocess, 12.9ms inference, 1.6ms postprocess per image at shape (1, 3, 384, 640)\n",
      "\n",
      "0: 384x640 1 person, 1 cell phone, 14.7ms\n",
      "Speed: 1.3ms preprocess, 14.7ms inference, 1.6ms postprocess per image at shape (1, 3, 384, 640)\n"
     ]
    },
    {
     "name": "stderr",
     "output_type": "stream",
     "text": [
      " 28%|██▊       | 86/312 [00:03<00:09, 23.97it/s]"
     ]
    },
    {
     "name": "stdout",
     "output_type": "stream",
     "text": [
      "\n",
      "0: 384x640 1 person, 1 cell phone, 10.9ms\n",
      "Speed: 1.3ms preprocess, 10.9ms inference, 2.4ms postprocess per image at shape (1, 3, 384, 640)\n",
      "\n",
      "0: 384x640 1 person, 1 cell phone, 16.1ms\n",
      "Speed: 1.3ms preprocess, 16.1ms inference, 4.0ms postprocess per image at shape (1, 3, 384, 640)\n",
      "\n",
      "0: 384x640 1 person, 1 cell phone, 12.8ms\n",
      "Speed: 1.1ms preprocess, 12.8ms inference, 1.6ms postprocess per image at shape (1, 3, 384, 640)\n"
     ]
    },
    {
     "name": "stderr",
     "output_type": "stream",
     "text": [
      " 29%|██▊       | 89/312 [00:03<00:09, 23.01it/s]"
     ]
    },
    {
     "name": "stdout",
     "output_type": "stream",
     "text": [
      "\n",
      "0: 384x640 1 person, 1 cell phone, 11.8ms\n",
      "Speed: 1.2ms preprocess, 11.8ms inference, 1.6ms postprocess per image at shape (1, 3, 384, 640)\n",
      "\n",
      "0: 384x640 1 person, 1 remote, 1 cell phone, 12.1ms\n",
      "Speed: 1.2ms preprocess, 12.1ms inference, 1.6ms postprocess per image at shape (1, 3, 384, 640)\n",
      "\n",
      "0: 384x640 1 person, 1 cell phone, 11.1ms\n",
      "Speed: 1.3ms preprocess, 11.1ms inference, 2.7ms postprocess per image at shape (1, 3, 384, 640)\n"
     ]
    },
    {
     "name": "stderr",
     "output_type": "stream",
     "text": [
      " 29%|██▉       | 92/312 [00:03<00:09, 22.99it/s]"
     ]
    },
    {
     "name": "stdout",
     "output_type": "stream",
     "text": [
      "\n",
      "0: 384x640 1 person, 1 book, 19.3ms\n",
      "Speed: 1.3ms preprocess, 19.3ms inference, 1.6ms postprocess per image at shape (1, 3, 384, 640)\n",
      "\n",
      "0: 384x640 1 person, 1 book, 11.3ms\n",
      "Speed: 1.3ms preprocess, 11.3ms inference, 1.6ms postprocess per image at shape (1, 3, 384, 640)\n",
      "\n",
      "0: 384x640 1 person, 1 laptop, 1 book, 14.5ms\n",
      "Speed: 1.2ms preprocess, 14.5ms inference, 2.6ms postprocess per image at shape (1, 3, 384, 640)\n"
     ]
    },
    {
     "name": "stderr",
     "output_type": "stream",
     "text": [
      " 30%|███       | 95/312 [00:03<00:09, 22.67it/s]"
     ]
    },
    {
     "name": "stdout",
     "output_type": "stream",
     "text": [
      "\n",
      "0: 384x640 1 person, 1 cup, 12.9ms\n",
      "Speed: 1.3ms preprocess, 12.9ms inference, 1.7ms postprocess per image at shape (1, 3, 384, 640)\n",
      "\n",
      "0: 384x640 1 person, 1 cup, 11.8ms\n",
      "Speed: 1.2ms preprocess, 11.8ms inference, 1.6ms postprocess per image at shape (1, 3, 384, 640)\n",
      "\n",
      "0: 384x640 1 person, 1 cup, 11.6ms\n",
      "Speed: 1.2ms preprocess, 11.6ms inference, 1.6ms postprocess per image at shape (1, 3, 384, 640)\n"
     ]
    },
    {
     "name": "stderr",
     "output_type": "stream",
     "text": [
      " 31%|███▏      | 98/312 [00:04<00:09, 23.30it/s]"
     ]
    },
    {
     "name": "stdout",
     "output_type": "stream",
     "text": [
      "\n",
      "0: 384x640 1 person, 12.0ms\n",
      "Speed: 1.2ms preprocess, 12.0ms inference, 1.6ms postprocess per image at shape (1, 3, 384, 640)\n",
      "\n",
      "0: 384x640 1 person, 11.4ms\n",
      "Speed: 1.4ms preprocess, 11.4ms inference, 2.5ms postprocess per image at shape (1, 3, 384, 640)\n",
      "\n",
      "0: 384x640 1 person, 20.4ms\n",
      "Speed: 1.7ms preprocess, 20.4ms inference, 2.5ms postprocess per image at shape (1, 3, 384, 640)\n"
     ]
    },
    {
     "name": "stderr",
     "output_type": "stream",
     "text": [
      " 32%|███▏      | 101/312 [00:04<00:09, 23.25it/s]"
     ]
    },
    {
     "name": "stdout",
     "output_type": "stream",
     "text": [
      "\n",
      "0: 384x640 1 person, 11.2ms\n",
      "Speed: 1.4ms preprocess, 11.2ms inference, 1.9ms postprocess per image at shape (1, 3, 384, 640)\n",
      "\n",
      "0: 384x640 1 person, 16.8ms\n",
      "Speed: 1.4ms preprocess, 16.8ms inference, 1.8ms postprocess per image at shape (1, 3, 384, 640)\n",
      "\n",
      "0: 384x640 1 person, 17.4ms\n",
      "Speed: 2.1ms preprocess, 17.4ms inference, 1.8ms postprocess per image at shape (1, 3, 384, 640)\n"
     ]
    },
    {
     "name": "stderr",
     "output_type": "stream",
     "text": [
      " 33%|███▎      | 104/312 [00:04<00:08, 23.34it/s]"
     ]
    },
    {
     "name": "stdout",
     "output_type": "stream",
     "text": [
      "\n",
      "0: 384x640 1 person, 12.0ms\n",
      "Speed: 1.2ms preprocess, 12.0ms inference, 1.7ms postprocess per image at shape (1, 3, 384, 640)\n",
      "\n",
      "0: 384x640 1 person, 11.6ms\n",
      "Speed: 1.5ms preprocess, 11.6ms inference, 1.7ms postprocess per image at shape (1, 3, 384, 640)\n",
      "\n",
      "0: 384x640 1 person, 12.5ms\n",
      "Speed: 1.3ms preprocess, 12.5ms inference, 1.7ms postprocess per image at shape (1, 3, 384, 640)\n"
     ]
    },
    {
     "name": "stderr",
     "output_type": "stream",
     "text": [
      " 34%|███▍      | 107/312 [00:04<00:08, 24.05it/s]"
     ]
    },
    {
     "name": "stdout",
     "output_type": "stream",
     "text": [
      "\n",
      "0: 384x640 1 person, 13.1ms\n",
      "Speed: 1.4ms preprocess, 13.1ms inference, 1.8ms postprocess per image at shape (1, 3, 384, 640)\n",
      "\n",
      "0: 384x640 1 person, 12.0ms\n",
      "Speed: 1.3ms preprocess, 12.0ms inference, 1.8ms postprocess per image at shape (1, 3, 384, 640)\n",
      "\n",
      "0: 384x640 1 person, 13.0ms\n",
      "Speed: 1.2ms preprocess, 13.0ms inference, 1.7ms postprocess per image at shape (1, 3, 384, 640)\n"
     ]
    },
    {
     "name": "stderr",
     "output_type": "stream",
     "text": [
      " 35%|███▌      | 110/312 [00:04<00:08, 24.50it/s]"
     ]
    },
    {
     "name": "stdout",
     "output_type": "stream",
     "text": [
      "\n",
      "0: 384x640 1 person, 12.4ms\n",
      "Speed: 1.4ms preprocess, 12.4ms inference, 2.5ms postprocess per image at shape (1, 3, 384, 640)\n",
      "\n",
      "0: 384x640 1 person, 12.8ms\n",
      "Speed: 1.2ms preprocess, 12.8ms inference, 1.7ms postprocess per image at shape (1, 3, 384, 640)\n",
      "\n",
      "0: 384x640 1 person, 12.2ms\n",
      "Speed: 1.2ms preprocess, 12.2ms inference, 1.7ms postprocess per image at shape (1, 3, 384, 640)\n"
     ]
    },
    {
     "name": "stderr",
     "output_type": "stream",
     "text": [
      " 36%|███▌      | 113/312 [00:04<00:07, 25.21it/s]"
     ]
    },
    {
     "name": "stdout",
     "output_type": "stream",
     "text": [
      "\n",
      "0: 384x640 1 person, 12.7ms\n",
      "Speed: 1.2ms preprocess, 12.7ms inference, 2.7ms postprocess per image at shape (1, 3, 384, 640)\n",
      "\n",
      "0: 384x640 1 person, 11.6ms\n",
      "Speed: 1.4ms preprocess, 11.6ms inference, 1.7ms postprocess per image at shape (1, 3, 384, 640)\n",
      "\n",
      "0: 384x640 1 person, 13.4ms\n",
      "Speed: 1.3ms preprocess, 13.4ms inference, 1.8ms postprocess per image at shape (1, 3, 384, 640)\n"
     ]
    },
    {
     "name": "stderr",
     "output_type": "stream",
     "text": [
      " 37%|███▋      | 116/312 [00:04<00:07, 25.44it/s]"
     ]
    },
    {
     "name": "stdout",
     "output_type": "stream",
     "text": [
      "\n",
      "0: 384x640 1 person, 15.9ms\n",
      "Speed: 1.3ms preprocess, 15.9ms inference, 2.5ms postprocess per image at shape (1, 3, 384, 640)\n",
      "\n",
      "0: 384x640 1 person, 11.5ms\n",
      "Speed: 1.3ms preprocess, 11.5ms inference, 1.7ms postprocess per image at shape (1, 3, 384, 640)\n",
      "\n",
      "0: 384x640 1 person, 11.9ms\n",
      "Speed: 1.2ms preprocess, 11.9ms inference, 1.6ms postprocess per image at shape (1, 3, 384, 640)\n"
     ]
    },
    {
     "name": "stderr",
     "output_type": "stream",
     "text": [
      " 38%|███▊      | 119/312 [00:04<00:07, 25.72it/s]"
     ]
    },
    {
     "name": "stdout",
     "output_type": "stream",
     "text": [
      "\n",
      "0: 384x640 1 person, 11.5ms\n",
      "Speed: 1.5ms preprocess, 11.5ms inference, 1.8ms postprocess per image at shape (1, 3, 384, 640)\n",
      "\n",
      "0: 384x640 1 person, 11.8ms\n",
      "Speed: 1.2ms preprocess, 11.8ms inference, 1.7ms postprocess per image at shape (1, 3, 384, 640)\n",
      "\n",
      "0: 384x640 1 person, 11.3ms\n",
      "Speed: 1.4ms preprocess, 11.3ms inference, 1.9ms postprocess per image at shape (1, 3, 384, 640)\n"
     ]
    },
    {
     "name": "stderr",
     "output_type": "stream",
     "text": [
      " 39%|███▉      | 122/312 [00:05<00:07, 26.24it/s]"
     ]
    },
    {
     "name": "stdout",
     "output_type": "stream",
     "text": [
      "\n",
      "0: 384x640 1 person, 11.3ms\n",
      "Speed: 1.2ms preprocess, 11.3ms inference, 1.6ms postprocess per image at shape (1, 3, 384, 640)\n",
      "\n",
      "0: 384x640 1 person, 18.5ms\n",
      "Speed: 1.3ms preprocess, 18.5ms inference, 2.6ms postprocess per image at shape (1, 3, 384, 640)\n",
      "\n",
      "0: 384x640 1 person, 11.2ms\n",
      "Speed: 1.2ms preprocess, 11.2ms inference, 2.5ms postprocess per image at shape (1, 3, 384, 640)\n"
     ]
    },
    {
     "name": "stderr",
     "output_type": "stream",
     "text": [
      " 40%|████      | 125/312 [00:05<00:07, 26.03it/s]"
     ]
    },
    {
     "name": "stdout",
     "output_type": "stream",
     "text": [
      "\n",
      "0: 384x640 1 person, 11.5ms\n",
      "Speed: 1.3ms preprocess, 11.5ms inference, 1.7ms postprocess per image at shape (1, 3, 384, 640)\n",
      "\n",
      "0: 384x640 1 person, 11.7ms\n",
      "Speed: 1.3ms preprocess, 11.7ms inference, 2.1ms postprocess per image at shape (1, 3, 384, 640)\n",
      "\n",
      "0: 384x640 1 person, 11.8ms\n",
      "Speed: 1.2ms preprocess, 11.8ms inference, 1.6ms postprocess per image at shape (1, 3, 384, 640)\n"
     ]
    },
    {
     "name": "stderr",
     "output_type": "stream",
     "text": [
      " 41%|████      | 128/312 [00:05<00:07, 25.94it/s]"
     ]
    },
    {
     "name": "stdout",
     "output_type": "stream",
     "text": [
      "\n",
      "0: 384x640 1 person, 11.3ms\n",
      "Speed: 1.2ms preprocess, 11.3ms inference, 2.5ms postprocess per image at shape (1, 3, 384, 640)\n",
      "\n",
      "0: 384x640 1 person, 11.4ms\n",
      "Speed: 1.2ms preprocess, 11.4ms inference, 1.7ms postprocess per image at shape (1, 3, 384, 640)\n",
      "\n",
      "0: 384x640 1 person, 11.7ms\n",
      "Speed: 1.2ms preprocess, 11.7ms inference, 1.8ms postprocess per image at shape (1, 3, 384, 640)\n"
     ]
    },
    {
     "name": "stderr",
     "output_type": "stream",
     "text": [
      " 42%|████▏     | 131/312 [00:05<00:06, 25.92it/s]"
     ]
    },
    {
     "name": "stdout",
     "output_type": "stream",
     "text": [
      "\n",
      "0: 384x640 1 person, 17.2ms\n",
      "Speed: 1.4ms preprocess, 17.2ms inference, 1.8ms postprocess per image at shape (1, 3, 384, 640)\n",
      "\n",
      "0: 384x640 1 person, 11.7ms\n",
      "Speed: 1.3ms preprocess, 11.7ms inference, 1.7ms postprocess per image at shape (1, 3, 384, 640)\n",
      "\n",
      "0: 384x640 1 person, 11.5ms\n",
      "Speed: 1.2ms preprocess, 11.5ms inference, 1.7ms postprocess per image at shape (1, 3, 384, 640)\n"
     ]
    },
    {
     "name": "stderr",
     "output_type": "stream",
     "text": [
      " 43%|████▎     | 134/312 [00:05<00:06, 25.61it/s]"
     ]
    },
    {
     "name": "stdout",
     "output_type": "stream",
     "text": [
      "\n",
      "0: 384x640 1 person, 13.4ms\n",
      "Speed: 1.3ms preprocess, 13.4ms inference, 1.7ms postprocess per image at shape (1, 3, 384, 640)\n",
      "\n",
      "0: 384x640 1 person, 11.2ms\n",
      "Speed: 1.2ms preprocess, 11.2ms inference, 1.9ms postprocess per image at shape (1, 3, 384, 640)\n",
      "\n",
      "0: 384x640 1 person, 12.2ms\n",
      "Speed: 1.2ms preprocess, 12.2ms inference, 1.7ms postprocess per image at shape (1, 3, 384, 640)\n"
     ]
    },
    {
     "name": "stderr",
     "output_type": "stream",
     "text": [
      " 44%|████▍     | 137/312 [00:05<00:06, 25.68it/s]"
     ]
    },
    {
     "name": "stdout",
     "output_type": "stream",
     "text": [
      "\n",
      "0: 384x640 1 person, 11.3ms\n",
      "Speed: 1.2ms preprocess, 11.3ms inference, 2.1ms postprocess per image at shape (1, 3, 384, 640)\n",
      "\n",
      "0: 384x640 1 person, 11.3ms\n",
      "Speed: 1.1ms preprocess, 11.3ms inference, 1.6ms postprocess per image at shape (1, 3, 384, 640)\n",
      "\n",
      "0: 384x640 1 person, 11.0ms\n",
      "Speed: 1.3ms preprocess, 11.0ms inference, 1.8ms postprocess per image at shape (1, 3, 384, 640)\n"
     ]
    },
    {
     "name": "stderr",
     "output_type": "stream",
     "text": [
      " 45%|████▍     | 140/312 [00:05<00:06, 25.72it/s]"
     ]
    },
    {
     "name": "stdout",
     "output_type": "stream",
     "text": [
      "\n",
      "0: 384x640 1 person, 11.4ms\n",
      "Speed: 1.1ms preprocess, 11.4ms inference, 1.6ms postprocess per image at shape (1, 3, 384, 640)\n",
      "\n",
      "0: 384x640 1 person, 11.2ms\n",
      "Speed: 1.5ms preprocess, 11.2ms inference, 2.0ms postprocess per image at shape (1, 3, 384, 640)\n",
      "\n",
      "0: 384x640 1 person, 11.1ms\n",
      "Speed: 1.2ms preprocess, 11.1ms inference, 1.6ms postprocess per image at shape (1, 3, 384, 640)\n"
     ]
    },
    {
     "name": "stderr",
     "output_type": "stream",
     "text": [
      " 46%|████▌     | 143/312 [00:05<00:06, 25.82it/s]"
     ]
    },
    {
     "name": "stdout",
     "output_type": "stream",
     "text": [
      "\n",
      "0: 384x640 1 person, 10.8ms\n",
      "Speed: 1.2ms preprocess, 10.8ms inference, 2.5ms postprocess per image at shape (1, 3, 384, 640)\n",
      "\n",
      "0: 384x640 1 person, 12.0ms\n",
      "Speed: 1.3ms preprocess, 12.0ms inference, 1.6ms postprocess per image at shape (1, 3, 384, 640)\n",
      "\n",
      "0: 384x640 1 person, 22.1ms\n",
      "Speed: 1.3ms preprocess, 22.1ms inference, 2.3ms postprocess per image at shape (1, 3, 384, 640)\n"
     ]
    },
    {
     "name": "stderr",
     "output_type": "stream",
     "text": [
      " 47%|████▋     | 146/312 [00:05<00:06, 25.35it/s]"
     ]
    },
    {
     "name": "stdout",
     "output_type": "stream",
     "text": [
      "\n",
      "0: 384x640 1 person, 23.7ms\n",
      "Speed: 1.7ms preprocess, 23.7ms inference, 5.1ms postprocess per image at shape (1, 3, 384, 640)\n",
      "\n",
      "0: 384x640 1 person, 11.1ms\n",
      "Speed: 1.2ms preprocess, 11.1ms inference, 1.7ms postprocess per image at shape (1, 3, 384, 640)\n",
      "\n",
      "0: 384x640 1 person, 11.2ms\n",
      "Speed: 1.1ms preprocess, 11.2ms inference, 2.5ms postprocess per image at shape (1, 3, 384, 640)\n"
     ]
    },
    {
     "name": "stderr",
     "output_type": "stream",
     "text": [
      " 48%|████▊     | 149/312 [00:06<00:06, 24.67it/s]"
     ]
    },
    {
     "name": "stdout",
     "output_type": "stream",
     "text": [
      "\n",
      "0: 384x640 1 person, 11.3ms\n",
      "Speed: 1.2ms preprocess, 11.3ms inference, 1.7ms postprocess per image at shape (1, 3, 384, 640)\n",
      "\n",
      "0: 384x640 1 person, 10.9ms\n",
      "Speed: 1.2ms preprocess, 10.9ms inference, 1.9ms postprocess per image at shape (1, 3, 384, 640)\n",
      "\n",
      "0: 384x640 1 person, 11.3ms\n",
      "Speed: 1.4ms preprocess, 11.3ms inference, 1.6ms postprocess per image at shape (1, 3, 384, 640)\n"
     ]
    },
    {
     "name": "stderr",
     "output_type": "stream",
     "text": [
      " 49%|████▊     | 152/312 [00:06<00:06, 25.25it/s]"
     ]
    },
    {
     "name": "stdout",
     "output_type": "stream",
     "text": [
      "\n",
      "0: 384x640 1 person, 1 cell phone, 11.1ms\n",
      "Speed: 1.2ms preprocess, 11.1ms inference, 1.6ms postprocess per image at shape (1, 3, 384, 640)\n",
      "\n",
      "0: 384x640 1 person, 15.8ms\n",
      "Speed: 1.2ms preprocess, 15.8ms inference, 2.2ms postprocess per image at shape (1, 3, 384, 640)\n",
      "\n",
      "0: 384x640 1 person, 1 laptop, 11.5ms\n",
      "Speed: 1.3ms preprocess, 11.5ms inference, 1.8ms postprocess per image at shape (1, 3, 384, 640)\n"
     ]
    },
    {
     "name": "stderr",
     "output_type": "stream",
     "text": [
      " 50%|████▉     | 155/312 [00:06<00:06, 24.78it/s]"
     ]
    },
    {
     "name": "stdout",
     "output_type": "stream",
     "text": [
      "\n",
      "0: 384x640 1 person, 1 laptop, 13.6ms\n",
      "Speed: 1.7ms preprocess, 13.6ms inference, 1.9ms postprocess per image at shape (1, 3, 384, 640)\n",
      "\n",
      "0: 384x640 1 person, 1 laptop, 11.2ms\n",
      "Speed: 1.2ms preprocess, 11.2ms inference, 2.6ms postprocess per image at shape (1, 3, 384, 640)\n",
      "\n",
      "0: 384x640 1 person, 12.1ms\n",
      "Speed: 1.1ms preprocess, 12.1ms inference, 1.7ms postprocess per image at shape (1, 3, 384, 640)\n"
     ]
    },
    {
     "name": "stderr",
     "output_type": "stream",
     "text": [
      " 51%|█████     | 158/312 [00:06<00:06, 24.96it/s]"
     ]
    },
    {
     "name": "stdout",
     "output_type": "stream",
     "text": [
      "\n",
      "0: 384x640 1 person, 1 laptop, 11.2ms\n",
      "Speed: 1.2ms preprocess, 11.2ms inference, 1.6ms postprocess per image at shape (1, 3, 384, 640)\n",
      "\n",
      "0: 384x640 1 person, 1 laptop, 11.8ms\n",
      "Speed: 1.3ms preprocess, 11.8ms inference, 1.7ms postprocess per image at shape (1, 3, 384, 640)\n",
      "\n",
      "0: 384x640 1 person, 1 laptop, 11.1ms\n",
      "Speed: 1.2ms preprocess, 11.1ms inference, 2.2ms postprocess per image at shape (1, 3, 384, 640)\n"
     ]
    },
    {
     "name": "stderr",
     "output_type": "stream",
     "text": [
      " 52%|█████▏    | 161/312 [00:06<00:06, 24.57it/s]"
     ]
    },
    {
     "name": "stdout",
     "output_type": "stream",
     "text": [
      "\n",
      "0: 384x640 1 person, 1 cell phone, 11.7ms\n",
      "Speed: 1.3ms preprocess, 11.7ms inference, 2.4ms postprocess per image at shape (1, 3, 384, 640)\n",
      "\n",
      "0: 384x640 1 person, 1 cell phone, 11.7ms\n",
      "Speed: 1.3ms preprocess, 11.7ms inference, 2.1ms postprocess per image at shape (1, 3, 384, 640)\n",
      "\n",
      "0: 384x640 1 person, 1 cell phone, 12.3ms\n",
      "Speed: 1.2ms preprocess, 12.3ms inference, 1.6ms postprocess per image at shape (1, 3, 384, 640)\n"
     ]
    },
    {
     "name": "stderr",
     "output_type": "stream",
     "text": [
      " 53%|█████▎    | 164/312 [00:06<00:06, 24.48it/s]"
     ]
    },
    {
     "name": "stdout",
     "output_type": "stream",
     "text": [
      "\n",
      "0: 384x640 1 person, 1 cell phone, 12.0ms\n",
      "Speed: 1.4ms preprocess, 12.0ms inference, 1.7ms postprocess per image at shape (1, 3, 384, 640)\n",
      "\n",
      "0: 384x640 1 person, 14.1ms\n",
      "Speed: 1.3ms preprocess, 14.1ms inference, 2.3ms postprocess per image at shape (1, 3, 384, 640)\n",
      "\n",
      "0: 384x640 1 person, 1 cell phone, 11.8ms\n",
      "Speed: 1.2ms preprocess, 11.8ms inference, 1.8ms postprocess per image at shape (1, 3, 384, 640)\n"
     ]
    },
    {
     "name": "stderr",
     "output_type": "stream",
     "text": [
      " 54%|█████▎    | 167/312 [00:06<00:05, 24.54it/s]"
     ]
    },
    {
     "name": "stdout",
     "output_type": "stream",
     "text": [
      "\n",
      "0: 384x640 1 person, 1 cell phone, 19.8ms\n",
      "Speed: 1.3ms preprocess, 19.8ms inference, 1.6ms postprocess per image at shape (1, 3, 384, 640)\n",
      "\n",
      "0: 384x640 1 person, 1 cell phone, 12.0ms\n",
      "Speed: 1.2ms preprocess, 12.0ms inference, 1.8ms postprocess per image at shape (1, 3, 384, 640)\n",
      "\n",
      "0: 384x640 1 person, 1 cell phone, 11.7ms\n",
      "Speed: 1.2ms preprocess, 11.7ms inference, 2.3ms postprocess per image at shape (1, 3, 384, 640)\n"
     ]
    },
    {
     "name": "stderr",
     "output_type": "stream",
     "text": [
      " 54%|█████▍    | 170/312 [00:06<00:05, 24.13it/s]"
     ]
    },
    {
     "name": "stdout",
     "output_type": "stream",
     "text": [
      "\n",
      "0: 384x640 1 person, 11.4ms\n",
      "Speed: 1.5ms preprocess, 11.4ms inference, 1.8ms postprocess per image at shape (1, 3, 384, 640)\n",
      "\n",
      "0: 384x640 1 person, 1 cell phone, 11.3ms\n",
      "Speed: 1.2ms preprocess, 11.3ms inference, 2.8ms postprocess per image at shape (1, 3, 384, 640)\n",
      "\n",
      "0: 384x640 1 person, 1 cell phone, 11.3ms\n",
      "Speed: 1.3ms preprocess, 11.3ms inference, 3.0ms postprocess per image at shape (1, 3, 384, 640)\n"
     ]
    },
    {
     "name": "stderr",
     "output_type": "stream",
     "text": [
      " 55%|█████▌    | 173/312 [00:07<00:05, 24.38it/s]"
     ]
    },
    {
     "name": "stdout",
     "output_type": "stream",
     "text": [
      "\n",
      "0: 384x640 1 person, 1 cell phone, 14.7ms\n",
      "Speed: 1.2ms preprocess, 14.7ms inference, 2.5ms postprocess per image at shape (1, 3, 384, 640)\n",
      "\n",
      "0: 384x640 1 person, 1 cell phone, 12.2ms\n",
      "Speed: 1.2ms preprocess, 12.2ms inference, 1.6ms postprocess per image at shape (1, 3, 384, 640)\n",
      "\n",
      "0: 384x640 1 person, 11.9ms\n",
      "Speed: 1.2ms preprocess, 11.9ms inference, 1.8ms postprocess per image at shape (1, 3, 384, 640)\n"
     ]
    },
    {
     "name": "stderr",
     "output_type": "stream",
     "text": [
      " 56%|█████▋    | 176/312 [00:07<00:05, 24.49it/s]"
     ]
    },
    {
     "name": "stdout",
     "output_type": "stream",
     "text": [
      "\n",
      "0: 384x640 1 person, 1 cell phone, 11.6ms\n",
      "Speed: 1.3ms preprocess, 11.6ms inference, 1.6ms postprocess per image at shape (1, 3, 384, 640)\n",
      "\n",
      "0: 384x640 1 person, 1 cell phone, 11.7ms\n",
      "Speed: 1.3ms preprocess, 11.7ms inference, 1.6ms postprocess per image at shape (1, 3, 384, 640)\n",
      "\n",
      "0: 384x640 1 person, 1 cell phone, 12.0ms\n",
      "Speed: 1.2ms preprocess, 12.0ms inference, 1.6ms postprocess per image at shape (1, 3, 384, 640)\n"
     ]
    },
    {
     "name": "stderr",
     "output_type": "stream",
     "text": [
      " 57%|█████▋    | 179/312 [00:07<00:05, 24.47it/s]"
     ]
    },
    {
     "name": "stdout",
     "output_type": "stream",
     "text": [
      "\n",
      "0: 384x640 1 person, 1 cell phone, 24.4ms\n",
      "Speed: 1.4ms preprocess, 24.4ms inference, 4.1ms postprocess per image at shape (1, 3, 384, 640)\n",
      "\n",
      "0: 384x640 1 person, 1 pizza, 1 cell phone, 11.5ms\n",
      "Speed: 1.2ms preprocess, 11.5ms inference, 1.6ms postprocess per image at shape (1, 3, 384, 640)\n",
      "\n",
      "0: 384x640 1 person, 1 cell phone, 12.1ms\n",
      "Speed: 1.1ms preprocess, 12.1ms inference, 1.8ms postprocess per image at shape (1, 3, 384, 640)\n"
     ]
    },
    {
     "name": "stderr",
     "output_type": "stream",
     "text": [
      " 58%|█████▊    | 182/312 [00:07<00:05, 23.54it/s]"
     ]
    },
    {
     "name": "stdout",
     "output_type": "stream",
     "text": [
      "\n",
      "0: 384x640 1 person, 1 cell phone, 12.0ms\n",
      "Speed: 1.2ms preprocess, 12.0ms inference, 1.7ms postprocess per image at shape (1, 3, 384, 640)\n",
      "\n",
      "0: 384x640 1 person, 1 cell phone, 11.8ms\n",
      "Speed: 1.4ms preprocess, 11.8ms inference, 2.1ms postprocess per image at shape (1, 3, 384, 640)\n",
      "\n",
      "0: 384x640 1 person, 1 cell phone, 12.5ms\n",
      "Speed: 1.3ms preprocess, 12.5ms inference, 2.1ms postprocess per image at shape (1, 3, 384, 640)\n"
     ]
    },
    {
     "name": "stderr",
     "output_type": "stream",
     "text": [
      " 59%|█████▉    | 185/312 [00:07<00:05, 23.82it/s]"
     ]
    },
    {
     "name": "stdout",
     "output_type": "stream",
     "text": [
      "\n",
      "0: 384x640 1 person, 1 cell phone, 11.7ms\n",
      "Speed: 1.2ms preprocess, 11.7ms inference, 2.5ms postprocess per image at shape (1, 3, 384, 640)\n",
      "\n",
      "0: 384x640 1 person, 1 cell phone, 13.6ms\n",
      "Speed: 1.2ms preprocess, 13.6ms inference, 3.0ms postprocess per image at shape (1, 3, 384, 640)\n",
      "\n",
      "0: 384x640 1 person, 1 cell phone, 11.9ms\n",
      "Speed: 1.4ms preprocess, 11.9ms inference, 2.0ms postprocess per image at shape (1, 3, 384, 640)\n"
     ]
    },
    {
     "name": "stderr",
     "output_type": "stream",
     "text": [
      " 60%|██████    | 188/312 [00:07<00:05, 23.97it/s]"
     ]
    },
    {
     "name": "stdout",
     "output_type": "stream",
     "text": [
      "\n",
      "0: 384x640 1 person, 1 cell phone, 12.3ms\n",
      "Speed: 1.2ms preprocess, 12.3ms inference, 1.6ms postprocess per image at shape (1, 3, 384, 640)\n",
      "\n",
      "0: 384x640 1 person, 1 cell phone, 22.8ms\n",
      "Speed: 1.7ms preprocess, 22.8ms inference, 4.1ms postprocess per image at shape (1, 3, 384, 640)\n",
      "\n",
      "0: 384x640 1 person, 1 cell phone, 11.9ms\n",
      "Speed: 1.2ms preprocess, 11.9ms inference, 1.7ms postprocess per image at shape (1, 3, 384, 640)\n"
     ]
    },
    {
     "name": "stderr",
     "output_type": "stream",
     "text": [
      " 61%|██████    | 191/312 [00:07<00:05, 22.94it/s]"
     ]
    },
    {
     "name": "stdout",
     "output_type": "stream",
     "text": [
      "\n",
      "0: 384x640 1 person, 1 cell phone, 11.9ms\n",
      "Speed: 1.2ms preprocess, 11.9ms inference, 1.6ms postprocess per image at shape (1, 3, 384, 640)\n",
      "\n",
      "0: 384x640 1 person, 1 cell phone, 12.0ms\n",
      "Speed: 1.1ms preprocess, 12.0ms inference, 1.6ms postprocess per image at shape (1, 3, 384, 640)\n",
      "\n",
      "0: 384x640 1 person, 1 cell phone, 11.7ms\n",
      "Speed: 1.1ms preprocess, 11.7ms inference, 3.2ms postprocess per image at shape (1, 3, 384, 640)\n"
     ]
    },
    {
     "name": "stderr",
     "output_type": "stream",
     "text": [
      " 62%|██████▏   | 194/312 [00:07<00:05, 23.23it/s]"
     ]
    },
    {
     "name": "stdout",
     "output_type": "stream",
     "text": [
      "\n",
      "0: 384x640 1 person, 1 cell phone, 11.9ms\n",
      "Speed: 1.2ms preprocess, 11.9ms inference, 1.6ms postprocess per image at shape (1, 3, 384, 640)\n",
      "\n",
      "0: 384x640 2 persons, 1 cell phone, 10.9ms\n",
      "Speed: 1.2ms preprocess, 10.9ms inference, 2.3ms postprocess per image at shape (1, 3, 384, 640)\n",
      "\n",
      "0: 384x640 2 persons, 1 bed, 1 cell phone, 11.5ms\n",
      "Speed: 1.4ms preprocess, 11.5ms inference, 2.2ms postprocess per image at shape (1, 3, 384, 640)\n"
     ]
    },
    {
     "name": "stderr",
     "output_type": "stream",
     "text": [
      " 63%|██████▎   | 197/312 [00:08<00:04, 23.51it/s]"
     ]
    },
    {
     "name": "stdout",
     "output_type": "stream",
     "text": [
      "\n",
      "0: 384x640 2 persons, 1 cell phone, 22.6ms\n",
      "Speed: 1.3ms preprocess, 22.6ms inference, 4.3ms postprocess per image at shape (1, 3, 384, 640)\n",
      "\n",
      "0: 384x640 2 persons, 1 cell phone, 16.6ms\n",
      "Speed: 1.3ms preprocess, 16.6ms inference, 3.2ms postprocess per image at shape (1, 3, 384, 640)\n",
      "\n",
      "0: 384x640 2 persons, 1 cell phone, 11.3ms\n",
      "Speed: 1.2ms preprocess, 11.3ms inference, 2.0ms postprocess per image at shape (1, 3, 384, 640)\n"
     ]
    },
    {
     "name": "stderr",
     "output_type": "stream",
     "text": [
      " 64%|██████▍   | 200/312 [00:08<00:04, 22.70it/s]"
     ]
    },
    {
     "name": "stdout",
     "output_type": "stream",
     "text": [
      "\n",
      "0: 384x640 2 persons, 1 cell phone, 12.0ms\n",
      "Speed: 1.6ms preprocess, 12.0ms inference, 3.2ms postprocess per image at shape (1, 3, 384, 640)\n",
      "\n",
      "0: 384x640 2 persons, 1 cell phone, 11.1ms\n",
      "Speed: 1.2ms preprocess, 11.1ms inference, 2.8ms postprocess per image at shape (1, 3, 384, 640)\n",
      "\n",
      "0: 384x640 2 persons, 1 cell phone, 11.2ms\n",
      "Speed: 1.2ms preprocess, 11.2ms inference, 3.0ms postprocess per image at shape (1, 3, 384, 640)\n"
     ]
    },
    {
     "name": "stderr",
     "output_type": "stream",
     "text": [
      " 65%|██████▌   | 203/312 [00:08<00:04, 22.80it/s]"
     ]
    },
    {
     "name": "stdout",
     "output_type": "stream",
     "text": [
      "\n",
      "0: 384x640 2 persons, 1 cell phone, 12.7ms\n",
      "Speed: 1.2ms preprocess, 12.7ms inference, 1.6ms postprocess per image at shape (1, 3, 384, 640)\n",
      "\n",
      "0: 384x640 2 persons, 1 cell phone, 11.9ms\n",
      "Speed: 1.3ms preprocess, 11.9ms inference, 2.7ms postprocess per image at shape (1, 3, 384, 640)\n",
      "\n",
      "0: 384x640 2 persons, 1 cell phone, 22.6ms\n",
      "Speed: 1.4ms preprocess, 22.6ms inference, 4.5ms postprocess per image at shape (1, 3, 384, 640)\n"
     ]
    },
    {
     "name": "stderr",
     "output_type": "stream",
     "text": [
      " 66%|██████▌   | 206/312 [00:08<00:04, 22.29it/s]"
     ]
    },
    {
     "name": "stdout",
     "output_type": "stream",
     "text": [
      "\n",
      "0: 384x640 1 person, 1 cell phone, 22.7ms\n",
      "Speed: 1.5ms preprocess, 22.7ms inference, 1.8ms postprocess per image at shape (1, 3, 384, 640)\n",
      "\n",
      "0: 384x640 1 person, 1 cell phone, 21.9ms\n",
      "Speed: 1.3ms preprocess, 21.9ms inference, 3.5ms postprocess per image at shape (1, 3, 384, 640)\n",
      "\n",
      "0: 384x640 2 persons, 1 cell phone, 23.5ms\n",
      "Speed: 1.3ms preprocess, 23.5ms inference, 4.1ms postprocess per image at shape (1, 3, 384, 640)\n"
     ]
    },
    {
     "name": "stderr",
     "output_type": "stream",
     "text": [
      " 67%|██████▋   | 209/312 [00:08<00:04, 20.92it/s]"
     ]
    },
    {
     "name": "stdout",
     "output_type": "stream",
     "text": [
      "\n",
      "0: 384x640 1 person, 1 cell phone, 24.7ms\n",
      "Speed: 1.3ms preprocess, 24.7ms inference, 1.8ms postprocess per image at shape (1, 3, 384, 640)\n",
      "\n",
      "0: 384x640 1 person, 1 cell phone, 20.2ms\n",
      "Speed: 1.3ms preprocess, 20.2ms inference, 1.6ms postprocess per image at shape (1, 3, 384, 640)\n",
      "\n",
      "0: 384x640 1 person, 1 cell phone, 21.0ms\n",
      "Speed: 1.2ms preprocess, 21.0ms inference, 3.7ms postprocess per image at shape (1, 3, 384, 640)\n"
     ]
    },
    {
     "name": "stderr",
     "output_type": "stream",
     "text": [
      " 68%|██████▊   | 212/312 [00:08<00:04, 20.30it/s]"
     ]
    },
    {
     "name": "stdout",
     "output_type": "stream",
     "text": [
      "\n",
      "0: 384x640 1 person, 1 cell phone, 21.8ms\n",
      "Speed: 1.2ms preprocess, 21.8ms inference, 1.8ms postprocess per image at shape (1, 3, 384, 640)\n",
      "\n",
      "0: 384x640 1 person, 1 cell phone, 22.0ms\n",
      "Speed: 1.6ms preprocess, 22.0ms inference, 1.7ms postprocess per image at shape (1, 3, 384, 640)\n",
      "\n",
      "0: 384x640 1 person, 1 cell phone, 18.5ms\n",
      "Speed: 1.2ms preprocess, 18.5ms inference, 2.7ms postprocess per image at shape (1, 3, 384, 640)\n"
     ]
    },
    {
     "name": "stderr",
     "output_type": "stream",
     "text": [
      " 69%|██████▉   | 215/312 [00:08<00:04, 20.20it/s]"
     ]
    },
    {
     "name": "stdout",
     "output_type": "stream",
     "text": [
      "\n",
      "0: 384x640 1 person, 1 cell phone, 18.9ms\n",
      "Speed: 1.3ms preprocess, 18.9ms inference, 3.6ms postprocess per image at shape (1, 3, 384, 640)\n",
      "\n",
      "0: 384x640 1 person, 1 cell phone, 22.4ms\n",
      "Speed: 1.2ms preprocess, 22.4ms inference, 1.6ms postprocess per image at shape (1, 3, 384, 640)\n",
      "\n",
      "0: 384x640 1 person, 1 cell phone, 22.2ms\n",
      "Speed: 1.4ms preprocess, 22.2ms inference, 1.8ms postprocess per image at shape (1, 3, 384, 640)\n"
     ]
    },
    {
     "name": "stderr",
     "output_type": "stream",
     "text": [
      " 70%|██████▉   | 218/312 [00:09<00:04, 20.17it/s]"
     ]
    },
    {
     "name": "stdout",
     "output_type": "stream",
     "text": [
      "\n",
      "0: 384x640 1 person, 1 cell phone, 11.9ms\n",
      "Speed: 1.1ms preprocess, 11.9ms inference, 1.6ms postprocess per image at shape (1, 3, 384, 640)\n",
      "\n",
      "0: 384x640 1 person, 1 cell phone, 12.0ms\n",
      "Speed: 1.2ms preprocess, 12.0ms inference, 1.8ms postprocess per image at shape (1, 3, 384, 640)\n",
      "\n",
      "0: 384x640 1 person, 1 cell phone, 18.2ms\n",
      "Speed: 1.9ms preprocess, 18.2ms inference, 2.2ms postprocess per image at shape (1, 3, 384, 640)\n"
     ]
    },
    {
     "name": "stderr",
     "output_type": "stream",
     "text": [
      " 71%|███████   | 221/312 [00:09<00:04, 20.65it/s]"
     ]
    },
    {
     "name": "stdout",
     "output_type": "stream",
     "text": [
      "\n",
      "0: 384x640 1 person, 1 cell phone, 12.2ms\n",
      "Speed: 1.3ms preprocess, 12.2ms inference, 2.0ms postprocess per image at shape (1, 3, 384, 640)\n",
      "\n",
      "0: 384x640 1 person, 1 cell phone, 21.6ms\n",
      "Speed: 1.4ms preprocess, 21.6ms inference, 2.6ms postprocess per image at shape (1, 3, 384, 640)\n",
      "\n",
      "0: 384x640 1 person, 1 cell phone, 13.5ms\n",
      "Speed: 1.6ms preprocess, 13.5ms inference, 1.8ms postprocess per image at shape (1, 3, 384, 640)\n"
     ]
    },
    {
     "name": "stderr",
     "output_type": "stream",
     "text": [
      " 72%|███████▏  | 224/312 [00:09<00:04, 20.55it/s]"
     ]
    },
    {
     "name": "stdout",
     "output_type": "stream",
     "text": [
      "\n",
      "0: 384x640 1 person, 1 cell phone, 15.8ms\n",
      "Speed: 1.3ms preprocess, 15.8ms inference, 2.5ms postprocess per image at shape (1, 3, 384, 640)\n",
      "\n",
      "0: 384x640 1 person, 1 cell phone, 13.7ms\n",
      "Speed: 1.2ms preprocess, 13.7ms inference, 1.6ms postprocess per image at shape (1, 3, 384, 640)\n",
      "\n",
      "0: 384x640 1 person, 1 cell phone, 11.9ms\n",
      "Speed: 1.5ms preprocess, 11.9ms inference, 2.6ms postprocess per image at shape (1, 3, 384, 640)\n"
     ]
    },
    {
     "name": "stderr",
     "output_type": "stream",
     "text": [
      " 73%|███████▎  | 227/312 [00:09<00:04, 20.63it/s]"
     ]
    },
    {
     "name": "stdout",
     "output_type": "stream",
     "text": [
      "\n",
      "0: 384x640 2 persons, 1 cell phone, 12.4ms\n",
      "Speed: 1.1ms preprocess, 12.4ms inference, 1.8ms postprocess per image at shape (1, 3, 384, 640)\n",
      "\n",
      "0: 384x640 1 person, 1 cell phone, 15.9ms\n",
      "Speed: 1.8ms preprocess, 15.9ms inference, 2.0ms postprocess per image at shape (1, 3, 384, 640)\n",
      "\n",
      "0: 384x640 1 person, 1 cell phone, 15.0ms\n",
      "Speed: 1.3ms preprocess, 15.0ms inference, 1.8ms postprocess per image at shape (1, 3, 384, 640)\n"
     ]
    },
    {
     "name": "stderr",
     "output_type": "stream",
     "text": [
      " 74%|███████▎  | 230/312 [00:09<00:03, 21.26it/s]"
     ]
    },
    {
     "name": "stdout",
     "output_type": "stream",
     "text": [
      "\n",
      "0: 384x640 1 person, 1 cell phone, 17.5ms\n",
      "Speed: 1.3ms preprocess, 17.5ms inference, 2.5ms postprocess per image at shape (1, 3, 384, 640)\n",
      "\n",
      "0: 384x640 1 person, 13.8ms\n",
      "Speed: 1.4ms preprocess, 13.8ms inference, 2.4ms postprocess per image at shape (1, 3, 384, 640)\n",
      "\n",
      "0: 384x640 1 person, 16.0ms\n",
      "Speed: 1.8ms preprocess, 16.0ms inference, 1.6ms postprocess per image at shape (1, 3, 384, 640)\n"
     ]
    },
    {
     "name": "stderr",
     "output_type": "stream",
     "text": [
      " 75%|███████▍  | 233/312 [00:09<00:03, 21.37it/s]"
     ]
    },
    {
     "name": "stdout",
     "output_type": "stream",
     "text": [
      "\n",
      "0: 384x640 2 persons, 11.9ms\n",
      "Speed: 1.4ms preprocess, 11.9ms inference, 2.2ms postprocess per image at shape (1, 3, 384, 640)\n",
      "\n",
      "0: 384x640 1 person, 14.0ms\n",
      "Speed: 2.1ms preprocess, 14.0ms inference, 1.6ms postprocess per image at shape (1, 3, 384, 640)\n",
      "\n",
      "0: 384x640 1 person, 12.7ms\n",
      "Speed: 1.8ms preprocess, 12.7ms inference, 1.6ms postprocess per image at shape (1, 3, 384, 640)\n"
     ]
    },
    {
     "name": "stderr",
     "output_type": "stream",
     "text": [
      " 76%|███████▌  | 236/312 [00:09<00:03, 22.15it/s]"
     ]
    },
    {
     "name": "stdout",
     "output_type": "stream",
     "text": [
      "\n",
      "0: 384x640 1 person, 1 cell phone, 12.3ms\n",
      "Speed: 1.4ms preprocess, 12.3ms inference, 2.6ms postprocess per image at shape (1, 3, 384, 640)\n",
      "\n",
      "0: 384x640 1 person, 1 cell phone, 12.5ms\n",
      "Speed: 1.4ms preprocess, 12.5ms inference, 1.6ms postprocess per image at shape (1, 3, 384, 640)\n",
      "\n",
      "0: 384x640 2 persons, 14.8ms\n",
      "Speed: 2.1ms preprocess, 14.8ms inference, 1.6ms postprocess per image at shape (1, 3, 384, 640)\n"
     ]
    },
    {
     "name": "stderr",
     "output_type": "stream",
     "text": [
      " 77%|███████▋  | 239/312 [00:10<00:03, 22.17it/s]"
     ]
    },
    {
     "name": "stdout",
     "output_type": "stream",
     "text": [
      "\n",
      "0: 384x640 1 person, 1 cell phone, 12.4ms\n",
      "Speed: 1.4ms preprocess, 12.4ms inference, 1.7ms postprocess per image at shape (1, 3, 384, 640)\n",
      "\n",
      "0: 384x640 1 person, 1 cell phone, 22.2ms\n",
      "Speed: 1.6ms preprocess, 22.2ms inference, 1.8ms postprocess per image at shape (1, 3, 384, 640)\n",
      "\n",
      "0: 384x640 1 person, 1 cell phone, 11.9ms\n",
      "Speed: 2.0ms preprocess, 11.9ms inference, 2.1ms postprocess per image at shape (1, 3, 384, 640)\n"
     ]
    },
    {
     "name": "stderr",
     "output_type": "stream",
     "text": [
      " 78%|███████▊  | 242/312 [00:10<00:03, 22.04it/s]"
     ]
    },
    {
     "name": "stdout",
     "output_type": "stream",
     "text": [
      "\n",
      "0: 384x640 1 person, 1 cell phone, 14.9ms\n",
      "Speed: 2.1ms preprocess, 14.9ms inference, 1.6ms postprocess per image at shape (1, 3, 384, 640)\n",
      "\n",
      "0: 384x640 1 person, 1 cell phone, 15.1ms\n",
      "Speed: 1.3ms preprocess, 15.1ms inference, 1.6ms postprocess per image at shape (1, 3, 384, 640)\n",
      "\n",
      "0: 384x640 1 person, 1 cell phone, 20.1ms\n",
      "Speed: 1.5ms preprocess, 20.1ms inference, 1.6ms postprocess per image at shape (1, 3, 384, 640)\n"
     ]
    },
    {
     "name": "stderr",
     "output_type": "stream",
     "text": [
      " 79%|███████▊  | 245/312 [00:10<00:03, 21.35it/s]"
     ]
    },
    {
     "name": "stdout",
     "output_type": "stream",
     "text": [
      "\n",
      "0: 384x640 1 person, 1 laptop, 1 book, 11.9ms\n",
      "Speed: 1.5ms preprocess, 11.9ms inference, 2.4ms postprocess per image at shape (1, 3, 384, 640)\n",
      "\n",
      "0: 384x640 1 person, 1 book, 12.7ms\n",
      "Speed: 1.4ms preprocess, 12.7ms inference, 1.6ms postprocess per image at shape (1, 3, 384, 640)\n",
      "\n",
      "0: 384x640 1 person, 1 laptop, 1 book, 12.1ms\n",
      "Speed: 1.4ms preprocess, 12.1ms inference, 1.7ms postprocess per image at shape (1, 3, 384, 640)\n"
     ]
    },
    {
     "name": "stderr",
     "output_type": "stream",
     "text": [
      " 79%|███████▉  | 248/312 [00:10<00:02, 21.44it/s]"
     ]
    },
    {
     "name": "stdout",
     "output_type": "stream",
     "text": [
      "\n",
      "0: 384x640 1 person, 1 laptop, 1 book, 17.3ms\n",
      "Speed: 1.7ms preprocess, 17.3ms inference, 2.8ms postprocess per image at shape (1, 3, 384, 640)\n",
      "\n",
      "0: 384x640 1 person, 1 laptop, 1 book, 14.7ms\n",
      "Speed: 1.6ms preprocess, 14.7ms inference, 1.6ms postprocess per image at shape (1, 3, 384, 640)\n",
      "\n",
      "0: 384x640 1 person, 1 book, 14.2ms\n",
      "Speed: 1.4ms preprocess, 14.2ms inference, 2.2ms postprocess per image at shape (1, 3, 384, 640)\n"
     ]
    },
    {
     "name": "stderr",
     "output_type": "stream",
     "text": [
      " 80%|████████  | 251/312 [00:10<00:02, 20.82it/s]"
     ]
    },
    {
     "name": "stdout",
     "output_type": "stream",
     "text": [
      "\n",
      "0: 384x640 1 person, 14.3ms\n",
      "Speed: 1.8ms preprocess, 14.3ms inference, 1.9ms postprocess per image at shape (1, 3, 384, 640)\n",
      "\n",
      "0: 384x640 1 person, 15.5ms\n",
      "Speed: 2.4ms preprocess, 15.5ms inference, 1.8ms postprocess per image at shape (1, 3, 384, 640)\n",
      "\n",
      "0: 384x640 1 person, 24.7ms\n",
      "Speed: 1.9ms preprocess, 24.7ms inference, 1.8ms postprocess per image at shape (1, 3, 384, 640)\n"
     ]
    },
    {
     "name": "stderr",
     "output_type": "stream",
     "text": [
      " 81%|████████▏ | 254/312 [00:10<00:02, 20.83it/s]"
     ]
    },
    {
     "name": "stdout",
     "output_type": "stream",
     "text": [
      "\n",
      "0: 384x640 1 person, 15.7ms\n",
      "Speed: 2.2ms preprocess, 15.7ms inference, 1.6ms postprocess per image at shape (1, 3, 384, 640)\n",
      "\n",
      "0: 384x640 1 person, 12.5ms\n",
      "Speed: 1.5ms preprocess, 12.5ms inference, 1.8ms postprocess per image at shape (1, 3, 384, 640)\n",
      "\n",
      "0: 384x640 1 person, 11.4ms\n",
      "Speed: 1.4ms preprocess, 11.4ms inference, 1.7ms postprocess per image at shape (1, 3, 384, 640)\n"
     ]
    },
    {
     "name": "stderr",
     "output_type": "stream",
     "text": [
      " 82%|████████▏ | 257/312 [00:10<00:02, 21.54it/s]"
     ]
    },
    {
     "name": "stdout",
     "output_type": "stream",
     "text": [
      "\n",
      "0: 384x640 2 persons, 14.7ms\n",
      "Speed: 2.3ms preprocess, 14.7ms inference, 1.6ms postprocess per image at shape (1, 3, 384, 640)\n",
      "\n",
      "0: 384x640 2 persons, 14.0ms\n",
      "Speed: 1.3ms preprocess, 14.0ms inference, 1.6ms postprocess per image at shape (1, 3, 384, 640)\n",
      "\n",
      "0: 384x640 2 persons, 11.6ms\n",
      "Speed: 1.6ms preprocess, 11.6ms inference, 1.6ms postprocess per image at shape (1, 3, 384, 640)\n"
     ]
    },
    {
     "name": "stderr",
     "output_type": "stream",
     "text": [
      " 83%|████████▎ | 260/312 [00:11<00:02, 22.09it/s]"
     ]
    },
    {
     "name": "stdout",
     "output_type": "stream",
     "text": [
      "\n",
      "0: 384x640 2 persons, 23.6ms\n",
      "Speed: 1.5ms preprocess, 23.6ms inference, 1.8ms postprocess per image at shape (1, 3, 384, 640)\n",
      "\n",
      "0: 384x640 2 persons, 11.8ms\n",
      "Speed: 1.4ms preprocess, 11.8ms inference, 2.0ms postprocess per image at shape (1, 3, 384, 640)\n",
      "\n",
      "0: 384x640 2 persons, 13.9ms\n",
      "Speed: 1.5ms preprocess, 13.9ms inference, 1.6ms postprocess per image at shape (1, 3, 384, 640)\n"
     ]
    },
    {
     "name": "stderr",
     "output_type": "stream",
     "text": [
      " 84%|████████▍ | 263/312 [00:11<00:02, 21.97it/s]"
     ]
    },
    {
     "name": "stdout",
     "output_type": "stream",
     "text": [
      "\n",
      "0: 384x640 2 persons, 12.4ms\n",
      "Speed: 1.6ms preprocess, 12.4ms inference, 1.6ms postprocess per image at shape (1, 3, 384, 640)\n",
      "\n",
      "0: 384x640 2 persons, 25.1ms\n",
      "Speed: 1.5ms preprocess, 25.1ms inference, 2.8ms postprocess per image at shape (1, 3, 384, 640)\n",
      "\n",
      "0: 384x640 2 persons, 13.9ms\n",
      "Speed: 1.3ms preprocess, 13.9ms inference, 2.1ms postprocess per image at shape (1, 3, 384, 640)\n"
     ]
    },
    {
     "name": "stderr",
     "output_type": "stream",
     "text": [
      " 85%|████████▌ | 266/312 [00:11<00:02, 22.11it/s]"
     ]
    },
    {
     "name": "stdout",
     "output_type": "stream",
     "text": [
      "\n",
      "0: 384x640 2 persons, 15.9ms\n",
      "Speed: 1.5ms preprocess, 15.9ms inference, 2.0ms postprocess per image at shape (1, 3, 384, 640)\n",
      "\n",
      "0: 384x640 2 persons, 24.8ms\n",
      "Speed: 1.7ms preprocess, 24.8ms inference, 4.6ms postprocess per image at shape (1, 3, 384, 640)\n",
      "\n",
      "0: 384x640 3 persons, 12.0ms\n",
      "Speed: 1.6ms preprocess, 12.0ms inference, 1.7ms postprocess per image at shape (1, 3, 384, 640)\n"
     ]
    },
    {
     "name": "stderr",
     "output_type": "stream",
     "text": [
      " 86%|████████▌ | 269/312 [00:11<00:02, 21.47it/s]"
     ]
    },
    {
     "name": "stdout",
     "output_type": "stream",
     "text": [
      "\n",
      "0: 384x640 1 person, 15.6ms\n",
      "Speed: 1.4ms preprocess, 15.6ms inference, 1.7ms postprocess per image at shape (1, 3, 384, 640)\n",
      "\n",
      "0: 384x640 1 person, 12.5ms\n",
      "Speed: 1.5ms preprocess, 12.5ms inference, 2.5ms postprocess per image at shape (1, 3, 384, 640)\n",
      "\n",
      "0: 384x640 1 person, 14.8ms\n",
      "Speed: 1.4ms preprocess, 14.8ms inference, 2.3ms postprocess per image at shape (1, 3, 384, 640)\n"
     ]
    },
    {
     "name": "stderr",
     "output_type": "stream",
     "text": [
      " 87%|████████▋ | 272/312 [00:11<00:01, 21.90it/s]"
     ]
    },
    {
     "name": "stdout",
     "output_type": "stream",
     "text": [
      "\n",
      "0: 384x640 1 person, 16.2ms\n",
      "Speed: 1.9ms preprocess, 16.2ms inference, 2.5ms postprocess per image at shape (1, 3, 384, 640)\n",
      "\n",
      "0: 384x640 1 person, 11.6ms\n",
      "Speed: 1.4ms preprocess, 11.6ms inference, 1.6ms postprocess per image at shape (1, 3, 384, 640)\n",
      "\n",
      "0: 384x640 1 person, 24.1ms\n",
      "Speed: 2.1ms preprocess, 24.1ms inference, 4.5ms postprocess per image at shape (1, 3, 384, 640)\n"
     ]
    },
    {
     "name": "stderr",
     "output_type": "stream",
     "text": [
      " 88%|████████▊ | 275/312 [00:11<00:01, 21.43it/s]"
     ]
    },
    {
     "name": "stdout",
     "output_type": "stream",
     "text": [
      "\n",
      "0: 384x640 1 person, 12.8ms\n",
      "Speed: 1.5ms preprocess, 12.8ms inference, 1.7ms postprocess per image at shape (1, 3, 384, 640)\n",
      "\n",
      "0: 384x640 1 person, 11.9ms\n",
      "Speed: 1.5ms preprocess, 11.9ms inference, 2.0ms postprocess per image at shape (1, 3, 384, 640)\n",
      "\n",
      "0: 384x640 1 person, 12.0ms\n",
      "Speed: 1.4ms preprocess, 12.0ms inference, 1.7ms postprocess per image at shape (1, 3, 384, 640)\n"
     ]
    },
    {
     "name": "stderr",
     "output_type": "stream",
     "text": [
      " 89%|████████▉ | 278/312 [00:11<00:01, 22.31it/s]"
     ]
    },
    {
     "name": "stdout",
     "output_type": "stream",
     "text": [
      "\n",
      "0: 384x640 1 person, 15.4ms\n",
      "Speed: 2.2ms preprocess, 15.4ms inference, 2.5ms postprocess per image at shape (1, 3, 384, 640)\n",
      "\n",
      "0: 384x640 1 person, 12.5ms\n",
      "Speed: 1.4ms preprocess, 12.5ms inference, 1.8ms postprocess per image at shape (1, 3, 384, 640)\n",
      "\n",
      "0: 384x640 1 person, 20.5ms\n",
      "Speed: 1.6ms preprocess, 20.5ms inference, 3.0ms postprocess per image at shape (1, 3, 384, 640)\n"
     ]
    },
    {
     "name": "stderr",
     "output_type": "stream",
     "text": [
      " 90%|█████████ | 281/312 [00:12<00:01, 21.98it/s]"
     ]
    },
    {
     "name": "stdout",
     "output_type": "stream",
     "text": [
      "\n",
      "0: 384x640 1 person, 11.1ms\n",
      "Speed: 1.8ms preprocess, 11.1ms inference, 2.3ms postprocess per image at shape (1, 3, 384, 640)\n",
      "\n",
      "0: 384x640 1 person, 13.0ms\n",
      "Speed: 2.1ms preprocess, 13.0ms inference, 1.9ms postprocess per image at shape (1, 3, 384, 640)\n",
      "\n",
      "0: 384x640 1 person, 15.2ms\n",
      "Speed: 1.7ms preprocess, 15.2ms inference, 1.6ms postprocess per image at shape (1, 3, 384, 640)\n"
     ]
    },
    {
     "name": "stderr",
     "output_type": "stream",
     "text": [
      " 91%|█████████ | 284/312 [00:12<00:01, 22.12it/s]"
     ]
    },
    {
     "name": "stdout",
     "output_type": "stream",
     "text": [
      "\n",
      "0: 384x640 1 person, 13.4ms\n",
      "Speed: 2.2ms preprocess, 13.4ms inference, 1.6ms postprocess per image at shape (1, 3, 384, 640)\n",
      "\n",
      "0: 384x640 1 person, 12.1ms\n",
      "Speed: 1.4ms preprocess, 12.1ms inference, 2.4ms postprocess per image at shape (1, 3, 384, 640)\n",
      "\n",
      "0: 384x640 1 person, 12.5ms\n",
      "Speed: 1.4ms preprocess, 12.5ms inference, 1.6ms postprocess per image at shape (1, 3, 384, 640)\n"
     ]
    },
    {
     "name": "stderr",
     "output_type": "stream",
     "text": [
      " 92%|█████████▏| 287/312 [00:12<00:01, 22.66it/s]"
     ]
    },
    {
     "name": "stdout",
     "output_type": "stream",
     "text": [
      "\n",
      "0: 384x640 1 person, 21.6ms\n",
      "Speed: 1.4ms preprocess, 21.6ms inference, 1.7ms postprocess per image at shape (1, 3, 384, 640)\n",
      "\n",
      "0: 384x640 2 persons, 1 suitcase, 11.6ms\n",
      "Speed: 1.6ms preprocess, 11.6ms inference, 1.9ms postprocess per image at shape (1, 3, 384, 640)\n",
      "\n",
      "0: 384x640 1 person, 14.8ms\n",
      "Speed: 1.8ms preprocess, 14.8ms inference, 1.6ms postprocess per image at shape (1, 3, 384, 640)\n"
     ]
    },
    {
     "name": "stderr",
     "output_type": "stream",
     "text": [
      " 93%|█████████▎| 290/312 [00:12<00:00, 22.58it/s]"
     ]
    },
    {
     "name": "stdout",
     "output_type": "stream",
     "text": [
      "\n",
      "0: 384x640 1 person, 1 chair, 24.5ms\n",
      "Speed: 1.5ms preprocess, 24.5ms inference, 4.1ms postprocess per image at shape (1, 3, 384, 640)\n",
      "\n",
      "0: 384x640 1 person, 1 suitcase, 1 chair, 11.5ms\n",
      "Speed: 1.6ms preprocess, 11.5ms inference, 1.6ms postprocess per image at shape (1, 3, 384, 640)\n",
      "\n",
      "0: 384x640 1 person, 1 backpack, 1 chair, 12.2ms\n",
      "Speed: 1.8ms preprocess, 12.2ms inference, 1.8ms postprocess per image at shape (1, 3, 384, 640)\n"
     ]
    },
    {
     "name": "stderr",
     "output_type": "stream",
     "text": [
      " 94%|█████████▍| 293/312 [00:12<00:00, 21.11it/s]"
     ]
    },
    {
     "name": "stdout",
     "output_type": "stream",
     "text": [
      "\n",
      "0: 384x640 1 person, 11.5ms\n",
      "Speed: 1.5ms preprocess, 11.5ms inference, 1.7ms postprocess per image at shape (1, 3, 384, 640)\n",
      "\n",
      "0: 384x640 1 person, 1 chair, 23.2ms\n",
      "Speed: 1.5ms preprocess, 23.2ms inference, 2.7ms postprocess per image at shape (1, 3, 384, 640)\n",
      "\n",
      "0: 384x640 1 person, 12.0ms\n",
      "Speed: 1.4ms preprocess, 12.0ms inference, 1.6ms postprocess per image at shape (1, 3, 384, 640)\n"
     ]
    },
    {
     "name": "stderr",
     "output_type": "stream",
     "text": [
      " 95%|█████████▍| 296/312 [00:12<00:00, 21.58it/s]"
     ]
    },
    {
     "name": "stdout",
     "output_type": "stream",
     "text": [
      "\n",
      "0: 384x640 1 person, 1 chair, 12.6ms\n",
      "Speed: 1.6ms preprocess, 12.6ms inference, 2.0ms postprocess per image at shape (1, 3, 384, 640)\n",
      "\n",
      "0: 384x640 1 person, 11.7ms\n",
      "Speed: 1.7ms preprocess, 11.7ms inference, 3.0ms postprocess per image at shape (1, 3, 384, 640)\n",
      "\n",
      "0: 384x640 1 person, 11.4ms\n",
      "Speed: 1.4ms preprocess, 11.4ms inference, 1.6ms postprocess per image at shape (1, 3, 384, 640)\n"
     ]
    },
    {
     "name": "stderr",
     "output_type": "stream",
     "text": [
      " 96%|█████████▌| 299/312 [00:12<00:00, 22.44it/s]"
     ]
    },
    {
     "name": "stdout",
     "output_type": "stream",
     "text": [
      "\n",
      "0: 384x640 1 person, 19.9ms\n",
      "Speed: 1.6ms preprocess, 19.9ms inference, 1.6ms postprocess per image at shape (1, 3, 384, 640)\n",
      "\n",
      "0: 384x640 2 persons, 12.3ms\n",
      "Speed: 1.5ms preprocess, 12.3ms inference, 2.0ms postprocess per image at shape (1, 3, 384, 640)\n",
      "\n",
      "0: 384x640 2 persons, 1 suitcase, 12.2ms\n",
      "Speed: 1.2ms preprocess, 12.2ms inference, 1.6ms postprocess per image at shape (1, 3, 384, 640)\n"
     ]
    },
    {
     "name": "stderr",
     "output_type": "stream",
     "text": [
      " 97%|█████████▋| 302/312 [00:12<00:00, 22.91it/s]"
     ]
    },
    {
     "name": "stdout",
     "output_type": "stream",
     "text": [
      "\n",
      "0: 384x640 1 person, 15.3ms\n",
      "Speed: 1.4ms preprocess, 15.3ms inference, 2.2ms postprocess per image at shape (1, 3, 384, 640)\n",
      "\n",
      "0: 384x640 1 person, 24.7ms\n",
      "Speed: 1.7ms preprocess, 24.7ms inference, 4.4ms postprocess per image at shape (1, 3, 384, 640)\n",
      "\n",
      "0: 384x640 1 person, 11.9ms\n",
      "Speed: 1.4ms preprocess, 11.9ms inference, 1.7ms postprocess per image at shape (1, 3, 384, 640)\n"
     ]
    },
    {
     "name": "stderr",
     "output_type": "stream",
     "text": [
      " 98%|█████████▊| 305/312 [00:13<00:00, 22.46it/s]"
     ]
    },
    {
     "name": "stdout",
     "output_type": "stream",
     "text": [
      "\n",
      "0: 384x640 2 persons, 17.0ms\n",
      "Speed: 2.0ms preprocess, 17.0ms inference, 2.5ms postprocess per image at shape (1, 3, 384, 640)\n",
      "\n",
      "0: 384x640 1 person, 11.6ms\n",
      "Speed: 1.5ms preprocess, 11.6ms inference, 1.8ms postprocess per image at shape (1, 3, 384, 640)\n",
      "\n",
      "0: 384x640 1 person, 11.7ms\n",
      "Speed: 1.4ms preprocess, 11.7ms inference, 2.3ms postprocess per image at shape (1, 3, 384, 640)\n"
     ]
    },
    {
     "name": "stderr",
     "output_type": "stream",
     "text": [
      " 99%|█████████▊| 308/312 [00:13<00:00, 22.75it/s]"
     ]
    },
    {
     "name": "stdout",
     "output_type": "stream",
     "text": [
      "\n",
      "0: 384x640 1 person, 12.2ms\n",
      "Speed: 1.4ms preprocess, 12.2ms inference, 4.8ms postprocess per image at shape (1, 3, 384, 640)\n",
      "\n",
      "0: 384x640 1 person, 19.4ms\n",
      "Speed: 2.2ms preprocess, 19.4ms inference, 2.3ms postprocess per image at shape (1, 3, 384, 640)\n",
      "\n",
      "0: 384x640 1 person, 13.0ms\n",
      "Speed: 1.6ms preprocess, 13.0ms inference, 1.8ms postprocess per image at shape (1, 3, 384, 640)\n"
     ]
    },
    {
     "name": "stderr",
     "output_type": "stream",
     "text": [
      "100%|█████████▉| 311/312 [00:13<00:00, 22.84it/s]"
     ]
    },
    {
     "name": "stdout",
     "output_type": "stream",
     "text": [
      "\n",
      "0: 384x640 1 person, 12.4ms\n",
      "Speed: 1.3ms preprocess, 12.4ms inference, 1.6ms postprocess per image at shape (1, 3, 384, 640)\n"
     ]
    },
    {
     "name": "stderr",
     "output_type": "stream",
     "text": [
      "100%|██████████| 312/312 [00:13<00:00, 23.27it/s]"
     ]
    },
    {
     "name": "stdout",
     "output_type": "stream",
     "text": [
      "Video processed and saved as videos/veriff10_annotated.mp4\n"
     ]
    },
    {
     "name": "stderr",
     "output_type": "stream",
     "text": [
      "\n"
     ]
    }
   ],
   "source": [
    "# Process the video and create a new one with bounding boxes\n",
    "output_file = \"videos/veriff10_annotated.mp4\"\n",
    "processed_video = process_video_with_boxes(\"videos/veriff10.mp4\", output_file, model)\n",
    "\n",
    "print(f\"Video processed and saved as {output_file}\")"
   ]
  },
  {
   "cell_type": "code",
   "execution_count": 11,
   "id": "e38fcb79",
   "metadata": {},
   "outputs": [
    {
     "name": "stdout",
     "output_type": "stream",
     "text": [
      "\n",
      "video 1/1 (frame 1/312) c:\\Users\\Ilmar\\hobby_projects\\coercion-check\\src\\videos\\veriff10.mp4: 384x640 1 person, 13.1ms\n",
      "video 1/1 (frame 2/312) c:\\Users\\Ilmar\\hobby_projects\\coercion-check\\src\\videos\\veriff10.mp4: 384x640 1 person, 16.3ms\n",
      "video 1/1 (frame 3/312) c:\\Users\\Ilmar\\hobby_projects\\coercion-check\\src\\videos\\veriff10.mp4: 384x640 1 person, 12.8ms\n",
      "video 1/1 (frame 4/312) c:\\Users\\Ilmar\\hobby_projects\\coercion-check\\src\\videos\\veriff10.mp4: 384x640 1 person, 12.3ms\n",
      "video 1/1 (frame 5/312) c:\\Users\\Ilmar\\hobby_projects\\coercion-check\\src\\videos\\veriff10.mp4: 384x640 1 person, 12.7ms\n",
      "video 1/1 (frame 6/312) c:\\Users\\Ilmar\\hobby_projects\\coercion-check\\src\\videos\\veriff10.mp4: 384x640 1 person, 24.5ms\n",
      "video 1/1 (frame 7/312) c:\\Users\\Ilmar\\hobby_projects\\coercion-check\\src\\videos\\veriff10.mp4: 384x640 1 person, 12.4ms\n",
      "video 1/1 (frame 8/312) c:\\Users\\Ilmar\\hobby_projects\\coercion-check\\src\\videos\\veriff10.mp4: 384x640 1 person, 12.5ms\n",
      "video 1/1 (frame 9/312) c:\\Users\\Ilmar\\hobby_projects\\coercion-check\\src\\videos\\veriff10.mp4: 384x640 1 person, 11.7ms\n",
      "video 1/1 (frame 10/312) c:\\Users\\Ilmar\\hobby_projects\\coercion-check\\src\\videos\\veriff10.mp4: 384x640 1 person, 14.3ms\n",
      "video 1/1 (frame 11/312) c:\\Users\\Ilmar\\hobby_projects\\coercion-check\\src\\videos\\veriff10.mp4: 384x640 1 person, 12.3ms\n",
      "video 1/1 (frame 12/312) c:\\Users\\Ilmar\\hobby_projects\\coercion-check\\src\\videos\\veriff10.mp4: 384x640 1 person, 16.7ms\n",
      "video 1/1 (frame 13/312) c:\\Users\\Ilmar\\hobby_projects\\coercion-check\\src\\videos\\veriff10.mp4: 384x640 1 person, 13.4ms\n",
      "video 1/1 (frame 14/312) c:\\Users\\Ilmar\\hobby_projects\\coercion-check\\src\\videos\\veriff10.mp4: 384x640 1 person, 11.8ms\n",
      "video 1/1 (frame 15/312) c:\\Users\\Ilmar\\hobby_projects\\coercion-check\\src\\videos\\veriff10.mp4: 384x640 1 person, 14.2ms\n",
      "video 1/1 (frame 16/312) c:\\Users\\Ilmar\\hobby_projects\\coercion-check\\src\\videos\\veriff10.mp4: 384x640 1 person, 15.7ms\n",
      "video 1/1 (frame 17/312) c:\\Users\\Ilmar\\hobby_projects\\coercion-check\\src\\videos\\veriff10.mp4: 384x640 1 person, 16.7ms\n",
      "video 1/1 (frame 18/312) c:\\Users\\Ilmar\\hobby_projects\\coercion-check\\src\\videos\\veriff10.mp4: 384x640 1 person, 12.0ms\n",
      "video 1/1 (frame 19/312) c:\\Users\\Ilmar\\hobby_projects\\coercion-check\\src\\videos\\veriff10.mp4: 384x640 1 person, 12.3ms\n",
      "video 1/1 (frame 20/312) c:\\Users\\Ilmar\\hobby_projects\\coercion-check\\src\\videos\\veriff10.mp4: 384x640 1 person, 12.8ms\n",
      "video 1/1 (frame 21/312) c:\\Users\\Ilmar\\hobby_projects\\coercion-check\\src\\videos\\veriff10.mp4: 384x640 1 person, 11.9ms\n",
      "video 1/1 (frame 22/312) c:\\Users\\Ilmar\\hobby_projects\\coercion-check\\src\\videos\\veriff10.mp4: 384x640 1 person, 12.3ms\n",
      "video 1/1 (frame 23/312) c:\\Users\\Ilmar\\hobby_projects\\coercion-check\\src\\videos\\veriff10.mp4: 384x640 1 person, 16.1ms\n",
      "video 1/1 (frame 24/312) c:\\Users\\Ilmar\\hobby_projects\\coercion-check\\src\\videos\\veriff10.mp4: 384x640 1 person, 16.9ms\n",
      "video 1/1 (frame 25/312) c:\\Users\\Ilmar\\hobby_projects\\coercion-check\\src\\videos\\veriff10.mp4: 384x640 1 person, 15.5ms\n",
      "video 1/1 (frame 26/312) c:\\Users\\Ilmar\\hobby_projects\\coercion-check\\src\\videos\\veriff10.mp4: 384x640 1 person, 12.5ms\n",
      "video 1/1 (frame 27/312) c:\\Users\\Ilmar\\hobby_projects\\coercion-check\\src\\videos\\veriff10.mp4: 384x640 1 person, 11.7ms\n",
      "video 1/1 (frame 28/312) c:\\Users\\Ilmar\\hobby_projects\\coercion-check\\src\\videos\\veriff10.mp4: 384x640 1 person, 1 laptop, 11.4ms\n",
      "video 1/1 (frame 29/312) c:\\Users\\Ilmar\\hobby_projects\\coercion-check\\src\\videos\\veriff10.mp4: 384x640 1 person, 1 laptop, 15.8ms\n",
      "video 1/1 (frame 30/312) c:\\Users\\Ilmar\\hobby_projects\\coercion-check\\src\\videos\\veriff10.mp4: 384x640 1 person, 1 cell phone, 15.9ms\n",
      "video 1/1 (frame 31/312) c:\\Users\\Ilmar\\hobby_projects\\coercion-check\\src\\videos\\veriff10.mp4: 384x640 1 person, 1 laptop, 13.1ms\n",
      "video 1/1 (frame 32/312) c:\\Users\\Ilmar\\hobby_projects\\coercion-check\\src\\videos\\veriff10.mp4: 384x640 2 persons, 1 laptop, 1 cell phone, 14.2ms\n",
      "video 1/1 (frame 33/312) c:\\Users\\Ilmar\\hobby_projects\\coercion-check\\src\\videos\\veriff10.mp4: 384x640 1 person, 1 book, 23.5ms\n",
      "video 1/1 (frame 34/312) c:\\Users\\Ilmar\\hobby_projects\\coercion-check\\src\\videos\\veriff10.mp4: 384x640 1 person, 24.0ms\n",
      "video 1/1 (frame 35/312) c:\\Users\\Ilmar\\hobby_projects\\coercion-check\\src\\videos\\veriff10.mp4: 384x640 1 person, 1 cell phone, 17.4ms\n",
      "video 1/1 (frame 36/312) c:\\Users\\Ilmar\\hobby_projects\\coercion-check\\src\\videos\\veriff10.mp4: 384x640 1 person, 1 cell phone, 17.9ms\n",
      "video 1/1 (frame 37/312) c:\\Users\\Ilmar\\hobby_projects\\coercion-check\\src\\videos\\veriff10.mp4: 384x640 1 person, 1 cell phone, 16.9ms\n",
      "video 1/1 (frame 38/312) c:\\Users\\Ilmar\\hobby_projects\\coercion-check\\src\\videos\\veriff10.mp4: 384x640 1 person, 1 cell phone, 17.1ms\n",
      "video 1/1 (frame 39/312) c:\\Users\\Ilmar\\hobby_projects\\coercion-check\\src\\videos\\veriff10.mp4: 384x640 1 person, 1 cell phone, 17.1ms\n",
      "video 1/1 (frame 40/312) c:\\Users\\Ilmar\\hobby_projects\\coercion-check\\src\\videos\\veriff10.mp4: 384x640 1 person, 1 cell phone, 16.8ms\n",
      "video 1/1 (frame 41/312) c:\\Users\\Ilmar\\hobby_projects\\coercion-check\\src\\videos\\veriff10.mp4: 384x640 1 person, 1 cell phone, 17.3ms\n",
      "video 1/1 (frame 42/312) c:\\Users\\Ilmar\\hobby_projects\\coercion-check\\src\\videos\\veriff10.mp4: 384x640 1 person, 1 cell phone, 16.3ms\n",
      "video 1/1 (frame 43/312) c:\\Users\\Ilmar\\hobby_projects\\coercion-check\\src\\videos\\veriff10.mp4: 384x640 1 person, 16.2ms\n",
      "video 1/1 (frame 44/312) c:\\Users\\Ilmar\\hobby_projects\\coercion-check\\src\\videos\\veriff10.mp4: 384x640 1 person, 13.6ms\n",
      "video 1/1 (frame 45/312) c:\\Users\\Ilmar\\hobby_projects\\coercion-check\\src\\videos\\veriff10.mp4: 384x640 1 person, 12.7ms\n",
      "video 1/1 (frame 46/312) c:\\Users\\Ilmar\\hobby_projects\\coercion-check\\src\\videos\\veriff10.mp4: 384x640 1 person, 13.9ms\n",
      "video 1/1 (frame 47/312) c:\\Users\\Ilmar\\hobby_projects\\coercion-check\\src\\videos\\veriff10.mp4: 384x640 1 person, 11.5ms\n",
      "video 1/1 (frame 48/312) c:\\Users\\Ilmar\\hobby_projects\\coercion-check\\src\\videos\\veriff10.mp4: 384x640 1 person, 11.8ms\n",
      "video 1/1 (frame 49/312) c:\\Users\\Ilmar\\hobby_projects\\coercion-check\\src\\videos\\veriff10.mp4: 384x640 1 person, 1 cell phone, 12.2ms\n",
      "video 1/1 (frame 50/312) c:\\Users\\Ilmar\\hobby_projects\\coercion-check\\src\\videos\\veriff10.mp4: 384x640 1 person, 1 dog, 1 cell phone, 14.6ms\n",
      "video 1/1 (frame 51/312) c:\\Users\\Ilmar\\hobby_projects\\coercion-check\\src\\videos\\veriff10.mp4: 384x640 1 person, 1 cell phone, 12.1ms\n",
      "video 1/1 (frame 52/312) c:\\Users\\Ilmar\\hobby_projects\\coercion-check\\src\\videos\\veriff10.mp4: 384x640 1 person, 1 cell phone, 14.1ms\n",
      "video 1/1 (frame 53/312) c:\\Users\\Ilmar\\hobby_projects\\coercion-check\\src\\videos\\veriff10.mp4: 384x640 1 person, 1 cell phone, 14.1ms\n",
      "video 1/1 (frame 54/312) c:\\Users\\Ilmar\\hobby_projects\\coercion-check\\src\\videos\\veriff10.mp4: 384x640 1 person, 1 cell phone, 14.5ms\n",
      "video 1/1 (frame 55/312) c:\\Users\\Ilmar\\hobby_projects\\coercion-check\\src\\videos\\veriff10.mp4: 384x640 1 person, 1 cell phone, 16.8ms\n",
      "video 1/1 (frame 56/312) c:\\Users\\Ilmar\\hobby_projects\\coercion-check\\src\\videos\\veriff10.mp4: 384x640 1 person, 1 cell phone, 14.1ms\n",
      "video 1/1 (frame 57/312) c:\\Users\\Ilmar\\hobby_projects\\coercion-check\\src\\videos\\veriff10.mp4: 384x640 1 person, 1 cell phone, 11.9ms\n",
      "video 1/1 (frame 58/312) c:\\Users\\Ilmar\\hobby_projects\\coercion-check\\src\\videos\\veriff10.mp4: 384x640 1 person, 1 cell phone, 12.8ms\n",
      "video 1/1 (frame 59/312) c:\\Users\\Ilmar\\hobby_projects\\coercion-check\\src\\videos\\veriff10.mp4: 384x640 1 person, 1 cell phone, 15.9ms\n",
      "video 1/1 (frame 60/312) c:\\Users\\Ilmar\\hobby_projects\\coercion-check\\src\\videos\\veriff10.mp4: 384x640 1 person, 1 cell phone, 14.8ms\n",
      "video 1/1 (frame 61/312) c:\\Users\\Ilmar\\hobby_projects\\coercion-check\\src\\videos\\veriff10.mp4: 384x640 1 person, 1 cell phone, 17.6ms\n",
      "video 1/1 (frame 62/312) c:\\Users\\Ilmar\\hobby_projects\\coercion-check\\src\\videos\\veriff10.mp4: 384x640 1 person, 1 cell phone, 16.0ms\n",
      "video 1/1 (frame 63/312) c:\\Users\\Ilmar\\hobby_projects\\coercion-check\\src\\videos\\veriff10.mp4: 384x640 1 person, 1 cell phone, 11.5ms\n",
      "video 1/1 (frame 64/312) c:\\Users\\Ilmar\\hobby_projects\\coercion-check\\src\\videos\\veriff10.mp4: 384x640 1 person, 13.3ms\n",
      "video 1/1 (frame 65/312) c:\\Users\\Ilmar\\hobby_projects\\coercion-check\\src\\videos\\veriff10.mp4: 384x640 1 person, 12.8ms\n",
      "video 1/1 (frame 66/312) c:\\Users\\Ilmar\\hobby_projects\\coercion-check\\src\\videos\\veriff10.mp4: 384x640 1 person, 12.0ms\n",
      "video 1/1 (frame 67/312) c:\\Users\\Ilmar\\hobby_projects\\coercion-check\\src\\videos\\veriff10.mp4: 384x640 1 person, 1 cell phone, 11.2ms\n",
      "video 1/1 (frame 68/312) c:\\Users\\Ilmar\\hobby_projects\\coercion-check\\src\\videos\\veriff10.mp4: 384x640 1 person, 1 cell phone, 15.5ms\n",
      "video 1/1 (frame 69/312) c:\\Users\\Ilmar\\hobby_projects\\coercion-check\\src\\videos\\veriff10.mp4: 384x640 1 person, 1 cell phone, 16.0ms\n",
      "video 1/1 (frame 70/312) c:\\Users\\Ilmar\\hobby_projects\\coercion-check\\src\\videos\\veriff10.mp4: 384x640 1 person, 1 cell phone, 16.7ms\n",
      "video 1/1 (frame 71/312) c:\\Users\\Ilmar\\hobby_projects\\coercion-check\\src\\videos\\veriff10.mp4: 384x640 1 person, 1 cell phone, 17.9ms\n",
      "video 1/1 (frame 72/312) c:\\Users\\Ilmar\\hobby_projects\\coercion-check\\src\\videos\\veriff10.mp4: 384x640 1 person, 1 cell phone, 22.5ms\n",
      "video 1/1 (frame 73/312) c:\\Users\\Ilmar\\hobby_projects\\coercion-check\\src\\videos\\veriff10.mp4: 384x640 1 person, 1 cell phone, 14.8ms\n",
      "video 1/1 (frame 74/312) c:\\Users\\Ilmar\\hobby_projects\\coercion-check\\src\\videos\\veriff10.mp4: 384x640 1 person, 1 cell phone, 16.5ms\n",
      "video 1/1 (frame 75/312) c:\\Users\\Ilmar\\hobby_projects\\coercion-check\\src\\videos\\veriff10.mp4: 384x640 1 person, 1 cell phone, 17.3ms\n",
      "video 1/1 (frame 76/312) c:\\Users\\Ilmar\\hobby_projects\\coercion-check\\src\\videos\\veriff10.mp4: 384x640 1 person, 1 cell phone, 16.9ms\n",
      "video 1/1 (frame 77/312) c:\\Users\\Ilmar\\hobby_projects\\coercion-check\\src\\videos\\veriff10.mp4: 384x640 1 person, 1 cell phone, 16.3ms\n",
      "video 1/1 (frame 78/312) c:\\Users\\Ilmar\\hobby_projects\\coercion-check\\src\\videos\\veriff10.mp4: 384x640 1 person, 1 cell phone, 17.7ms\n",
      "video 1/1 (frame 79/312) c:\\Users\\Ilmar\\hobby_projects\\coercion-check\\src\\videos\\veriff10.mp4: 384x640 1 person, 1 cell phone, 15.2ms\n",
      "video 1/1 (frame 80/312) c:\\Users\\Ilmar\\hobby_projects\\coercion-check\\src\\videos\\veriff10.mp4: 384x640 2 persons, 1 cell phone, 17.3ms\n",
      "video 1/1 (frame 81/312) c:\\Users\\Ilmar\\hobby_projects\\coercion-check\\src\\videos\\veriff10.mp4: 384x640 2 persons, 1 cell phone, 13.4ms\n",
      "video 1/1 (frame 82/312) c:\\Users\\Ilmar\\hobby_projects\\coercion-check\\src\\videos\\veriff10.mp4: 384x640 2 persons, 1 cell phone, 16.8ms\n",
      "video 1/1 (frame 83/312) c:\\Users\\Ilmar\\hobby_projects\\coercion-check\\src\\videos\\veriff10.mp4: 384x640 2 persons, 1 cell phone, 12.0ms\n",
      "video 1/1 (frame 84/312) c:\\Users\\Ilmar\\hobby_projects\\coercion-check\\src\\videos\\veriff10.mp4: 384x640 1 person, 1 cell phone, 15.0ms\n",
      "video 1/1 (frame 85/312) c:\\Users\\Ilmar\\hobby_projects\\coercion-check\\src\\videos\\veriff10.mp4: 384x640 1 person, 13.4ms\n",
      "video 1/1 (frame 86/312) c:\\Users\\Ilmar\\hobby_projects\\coercion-check\\src\\videos\\veriff10.mp4: 384x640 1 person, 1 cell phone, 26.2ms\n",
      "video 1/1 (frame 87/312) c:\\Users\\Ilmar\\hobby_projects\\coercion-check\\src\\videos\\veriff10.mp4: 384x640 1 person, 1 cell phone, 12.7ms\n",
      "video 1/1 (frame 88/312) c:\\Users\\Ilmar\\hobby_projects\\coercion-check\\src\\videos\\veriff10.mp4: 384x640 1 person, 1 cell phone, 17.7ms\n",
      "video 1/1 (frame 89/312) c:\\Users\\Ilmar\\hobby_projects\\coercion-check\\src\\videos\\veriff10.mp4: 384x640 1 person, 1 cell phone, 12.8ms\n",
      "video 1/1 (frame 90/312) c:\\Users\\Ilmar\\hobby_projects\\coercion-check\\src\\videos\\veriff10.mp4: 384x640 1 person, 1 cell phone, 15.8ms\n",
      "video 1/1 (frame 91/312) c:\\Users\\Ilmar\\hobby_projects\\coercion-check\\src\\videos\\veriff10.mp4: 384x640 1 person, 1 remote, 1 cell phone, 16.3ms\n",
      "video 1/1 (frame 92/312) c:\\Users\\Ilmar\\hobby_projects\\coercion-check\\src\\videos\\veriff10.mp4: 384x640 1 person, 1 cell phone, 16.8ms\n",
      "video 1/1 (frame 93/312) c:\\Users\\Ilmar\\hobby_projects\\coercion-check\\src\\videos\\veriff10.mp4: 384x640 1 person, 1 book, 17.1ms\n",
      "video 1/1 (frame 94/312) c:\\Users\\Ilmar\\hobby_projects\\coercion-check\\src\\videos\\veriff10.mp4: 384x640 1 person, 1 book, 26.2ms\n",
      "video 1/1 (frame 95/312) c:\\Users\\Ilmar\\hobby_projects\\coercion-check\\src\\videos\\veriff10.mp4: 384x640 1 person, 1 laptop, 1 book, 30.0ms\n",
      "video 1/1 (frame 96/312) c:\\Users\\Ilmar\\hobby_projects\\coercion-check\\src\\videos\\veriff10.mp4: 384x640 1 person, 1 cup, 15.4ms\n",
      "video 1/1 (frame 97/312) c:\\Users\\Ilmar\\hobby_projects\\coercion-check\\src\\videos\\veriff10.mp4: 384x640 1 person, 1 cup, 16.1ms\n",
      "video 1/1 (frame 98/312) c:\\Users\\Ilmar\\hobby_projects\\coercion-check\\src\\videos\\veriff10.mp4: 384x640 1 person, 1 cup, 20.2ms\n",
      "video 1/1 (frame 99/312) c:\\Users\\Ilmar\\hobby_projects\\coercion-check\\src\\videos\\veriff10.mp4: 384x640 1 person, 16.6ms\n",
      "video 1/1 (frame 100/312) c:\\Users\\Ilmar\\hobby_projects\\coercion-check\\src\\videos\\veriff10.mp4: 384x640 1 person, 19.4ms\n",
      "video 1/1 (frame 101/312) c:\\Users\\Ilmar\\hobby_projects\\coercion-check\\src\\videos\\veriff10.mp4: 384x640 1 person, 19.0ms\n",
      "video 1/1 (frame 102/312) c:\\Users\\Ilmar\\hobby_projects\\coercion-check\\src\\videos\\veriff10.mp4: 384x640 1 person, 16.6ms\n",
      "video 1/1 (frame 103/312) c:\\Users\\Ilmar\\hobby_projects\\coercion-check\\src\\videos\\veriff10.mp4: 384x640 1 person, 13.0ms\n",
      "video 1/1 (frame 104/312) c:\\Users\\Ilmar\\hobby_projects\\coercion-check\\src\\videos\\veriff10.mp4: 384x640 1 person, 14.9ms\n",
      "video 1/1 (frame 105/312) c:\\Users\\Ilmar\\hobby_projects\\coercion-check\\src\\videos\\veriff10.mp4: 384x640 1 person, 15.4ms\n",
      "video 1/1 (frame 106/312) c:\\Users\\Ilmar\\hobby_projects\\coercion-check\\src\\videos\\veriff10.mp4: 384x640 1 person, 12.0ms\n",
      "video 1/1 (frame 107/312) c:\\Users\\Ilmar\\hobby_projects\\coercion-check\\src\\videos\\veriff10.mp4: 384x640 1 person, 15.2ms\n",
      "video 1/1 (frame 108/312) c:\\Users\\Ilmar\\hobby_projects\\coercion-check\\src\\videos\\veriff10.mp4: 384x640 1 person, 12.0ms\n",
      "video 1/1 (frame 109/312) c:\\Users\\Ilmar\\hobby_projects\\coercion-check\\src\\videos\\veriff10.mp4: 384x640 1 person, 13.6ms\n",
      "video 1/1 (frame 110/312) c:\\Users\\Ilmar\\hobby_projects\\coercion-check\\src\\videos\\veriff10.mp4: 384x640 1 person, 14.7ms\n",
      "video 1/1 (frame 111/312) c:\\Users\\Ilmar\\hobby_projects\\coercion-check\\src\\videos\\veriff10.mp4: 384x640 1 person, 16.2ms\n",
      "video 1/1 (frame 112/312) c:\\Users\\Ilmar\\hobby_projects\\coercion-check\\src\\videos\\veriff10.mp4: 384x640 1 person, 23.6ms\n",
      "video 1/1 (frame 113/312) c:\\Users\\Ilmar\\hobby_projects\\coercion-check\\src\\videos\\veriff10.mp4: 384x640 1 person, 15.7ms\n",
      "video 1/1 (frame 114/312) c:\\Users\\Ilmar\\hobby_projects\\coercion-check\\src\\videos\\veriff10.mp4: 384x640 1 person, 15.6ms\n",
      "video 1/1 (frame 115/312) c:\\Users\\Ilmar\\hobby_projects\\coercion-check\\src\\videos\\veriff10.mp4: 384x640 1 person, 11.9ms\n",
      "video 1/1 (frame 116/312) c:\\Users\\Ilmar\\hobby_projects\\coercion-check\\src\\videos\\veriff10.mp4: 384x640 1 person, 16.3ms\n",
      "video 1/1 (frame 117/312) c:\\Users\\Ilmar\\hobby_projects\\coercion-check\\src\\videos\\veriff10.mp4: 384x640 1 person, 22.1ms\n",
      "video 1/1 (frame 118/312) c:\\Users\\Ilmar\\hobby_projects\\coercion-check\\src\\videos\\veriff10.mp4: 384x640 1 person, 11.8ms\n",
      "video 1/1 (frame 119/312) c:\\Users\\Ilmar\\hobby_projects\\coercion-check\\src\\videos\\veriff10.mp4: 384x640 1 person, 14.8ms\n",
      "video 1/1 (frame 120/312) c:\\Users\\Ilmar\\hobby_projects\\coercion-check\\src\\videos\\veriff10.mp4: 384x640 1 person, 13.6ms\n",
      "video 1/1 (frame 121/312) c:\\Users\\Ilmar\\hobby_projects\\coercion-check\\src\\videos\\veriff10.mp4: 384x640 1 person, 18.1ms\n",
      "video 1/1 (frame 122/312) c:\\Users\\Ilmar\\hobby_projects\\coercion-check\\src\\videos\\veriff10.mp4: 384x640 1 person, 25.7ms\n",
      "video 1/1 (frame 123/312) c:\\Users\\Ilmar\\hobby_projects\\coercion-check\\src\\videos\\veriff10.mp4: 384x640 1 person, 13.6ms\n",
      "video 1/1 (frame 124/312) c:\\Users\\Ilmar\\hobby_projects\\coercion-check\\src\\videos\\veriff10.mp4: 384x640 1 person, 23.3ms\n",
      "video 1/1 (frame 125/312) c:\\Users\\Ilmar\\hobby_projects\\coercion-check\\src\\videos\\veriff10.mp4: 384x640 1 person, 15.8ms\n",
      "video 1/1 (frame 126/312) c:\\Users\\Ilmar\\hobby_projects\\coercion-check\\src\\videos\\veriff10.mp4: 384x640 1 person, 16.6ms\n",
      "video 1/1 (frame 127/312) c:\\Users\\Ilmar\\hobby_projects\\coercion-check\\src\\videos\\veriff10.mp4: 384x640 1 person, 17.0ms\n",
      "video 1/1 (frame 128/312) c:\\Users\\Ilmar\\hobby_projects\\coercion-check\\src\\videos\\veriff10.mp4: 384x640 1 person, 17.4ms\n",
      "video 1/1 (frame 129/312) c:\\Users\\Ilmar\\hobby_projects\\coercion-check\\src\\videos\\veriff10.mp4: 384x640 1 person, 16.6ms\n",
      "video 1/1 (frame 130/312) c:\\Users\\Ilmar\\hobby_projects\\coercion-check\\src\\videos\\veriff10.mp4: 384x640 1 person, 13.2ms\n",
      "video 1/1 (frame 131/312) c:\\Users\\Ilmar\\hobby_projects\\coercion-check\\src\\videos\\veriff10.mp4: 384x640 1 person, 16.4ms\n",
      "video 1/1 (frame 132/312) c:\\Users\\Ilmar\\hobby_projects\\coercion-check\\src\\videos\\veriff10.mp4: 384x640 1 person, 14.9ms\n",
      "video 1/1 (frame 133/312) c:\\Users\\Ilmar\\hobby_projects\\coercion-check\\src\\videos\\veriff10.mp4: 384x640 1 person, 15.0ms\n",
      "video 1/1 (frame 134/312) c:\\Users\\Ilmar\\hobby_projects\\coercion-check\\src\\videos\\veriff10.mp4: 384x640 1 person, 15.8ms\n",
      "video 1/1 (frame 135/312) c:\\Users\\Ilmar\\hobby_projects\\coercion-check\\src\\videos\\veriff10.mp4: 384x640 1 person, 12.9ms\n",
      "video 1/1 (frame 136/312) c:\\Users\\Ilmar\\hobby_projects\\coercion-check\\src\\videos\\veriff10.mp4: 384x640 1 person, 15.7ms\n",
      "video 1/1 (frame 137/312) c:\\Users\\Ilmar\\hobby_projects\\coercion-check\\src\\videos\\veriff10.mp4: 384x640 1 person, 12.1ms\n",
      "video 1/1 (frame 138/312) c:\\Users\\Ilmar\\hobby_projects\\coercion-check\\src\\videos\\veriff10.mp4: 384x640 1 person, 14.6ms\n",
      "video 1/1 (frame 139/312) c:\\Users\\Ilmar\\hobby_projects\\coercion-check\\src\\videos\\veriff10.mp4: 384x640 1 person, 16.2ms\n",
      "video 1/1 (frame 140/312) c:\\Users\\Ilmar\\hobby_projects\\coercion-check\\src\\videos\\veriff10.mp4: 384x640 1 person, 13.9ms\n",
      "video 1/1 (frame 141/312) c:\\Users\\Ilmar\\hobby_projects\\coercion-check\\src\\videos\\veriff10.mp4: 384x640 1 person, 14.3ms\n",
      "video 1/1 (frame 142/312) c:\\Users\\Ilmar\\hobby_projects\\coercion-check\\src\\videos\\veriff10.mp4: 384x640 1 person, 16.1ms\n",
      "video 1/1 (frame 143/312) c:\\Users\\Ilmar\\hobby_projects\\coercion-check\\src\\videos\\veriff10.mp4: 384x640 1 person, 15.7ms\n",
      "video 1/1 (frame 144/312) c:\\Users\\Ilmar\\hobby_projects\\coercion-check\\src\\videos\\veriff10.mp4: 384x640 1 person, 19.3ms\n",
      "video 1/1 (frame 145/312) c:\\Users\\Ilmar\\hobby_projects\\coercion-check\\src\\videos\\veriff10.mp4: 384x640 1 person, 12.3ms\n",
      "video 1/1 (frame 146/312) c:\\Users\\Ilmar\\hobby_projects\\coercion-check\\src\\videos\\veriff10.mp4: 384x640 1 person, 14.1ms\n",
      "video 1/1 (frame 147/312) c:\\Users\\Ilmar\\hobby_projects\\coercion-check\\src\\videos\\veriff10.mp4: 384x640 1 person, 15.7ms\n",
      "video 1/1 (frame 148/312) c:\\Users\\Ilmar\\hobby_projects\\coercion-check\\src\\videos\\veriff10.mp4: 384x640 1 person, 11.8ms\n",
      "video 1/1 (frame 149/312) c:\\Users\\Ilmar\\hobby_projects\\coercion-check\\src\\videos\\veriff10.mp4: 384x640 1 person, 14.4ms\n",
      "video 1/1 (frame 150/312) c:\\Users\\Ilmar\\hobby_projects\\coercion-check\\src\\videos\\veriff10.mp4: 384x640 1 person, 13.3ms\n",
      "video 1/1 (frame 151/312) c:\\Users\\Ilmar\\hobby_projects\\coercion-check\\src\\videos\\veriff10.mp4: 384x640 1 person, 17.1ms\n",
      "video 1/1 (frame 152/312) c:\\Users\\Ilmar\\hobby_projects\\coercion-check\\src\\videos\\veriff10.mp4: 384x640 1 person, 16.0ms\n",
      "video 1/1 (frame 153/312) c:\\Users\\Ilmar\\hobby_projects\\coercion-check\\src\\videos\\veriff10.mp4: 384x640 1 person, 1 cell phone, 12.9ms\n",
      "video 1/1 (frame 154/312) c:\\Users\\Ilmar\\hobby_projects\\coercion-check\\src\\videos\\veriff10.mp4: 384x640 1 person, 19.8ms\n",
      "video 1/1 (frame 155/312) c:\\Users\\Ilmar\\hobby_projects\\coercion-check\\src\\videos\\veriff10.mp4: 384x640 1 person, 1 laptop, 13.5ms\n",
      "video 1/1 (frame 156/312) c:\\Users\\Ilmar\\hobby_projects\\coercion-check\\src\\videos\\veriff10.mp4: 384x640 1 person, 1 laptop, 12.9ms\n",
      "video 1/1 (frame 157/312) c:\\Users\\Ilmar\\hobby_projects\\coercion-check\\src\\videos\\veriff10.mp4: 384x640 1 person, 1 laptop, 15.3ms\n",
      "video 1/1 (frame 158/312) c:\\Users\\Ilmar\\hobby_projects\\coercion-check\\src\\videos\\veriff10.mp4: 384x640 1 person, 15.2ms\n",
      "video 1/1 (frame 159/312) c:\\Users\\Ilmar\\hobby_projects\\coercion-check\\src\\videos\\veriff10.mp4: 384x640 1 person, 1 laptop, 17.7ms\n",
      "video 1/1 (frame 160/312) c:\\Users\\Ilmar\\hobby_projects\\coercion-check\\src\\videos\\veriff10.mp4: 384x640 1 person, 1 laptop, 16.1ms\n",
      "video 1/1 (frame 161/312) c:\\Users\\Ilmar\\hobby_projects\\coercion-check\\src\\videos\\veriff10.mp4: 384x640 1 person, 1 laptop, 14.1ms\n",
      "video 1/1 (frame 162/312) c:\\Users\\Ilmar\\hobby_projects\\coercion-check\\src\\videos\\veriff10.mp4: 384x640 1 person, 1 cell phone, 26.9ms\n",
      "video 1/1 (frame 163/312) c:\\Users\\Ilmar\\hobby_projects\\coercion-check\\src\\videos\\veriff10.mp4: 384x640 1 person, 1 cell phone, 12.0ms\n",
      "video 1/1 (frame 164/312) c:\\Users\\Ilmar\\hobby_projects\\coercion-check\\src\\videos\\veriff10.mp4: 384x640 1 person, 1 cell phone, 17.3ms\n",
      "video 1/1 (frame 165/312) c:\\Users\\Ilmar\\hobby_projects\\coercion-check\\src\\videos\\veriff10.mp4: 384x640 1 person, 1 cell phone, 13.5ms\n",
      "video 1/1 (frame 166/312) c:\\Users\\Ilmar\\hobby_projects\\coercion-check\\src\\videos\\veriff10.mp4: 384x640 1 person, 18.0ms\n",
      "video 1/1 (frame 167/312) c:\\Users\\Ilmar\\hobby_projects\\coercion-check\\src\\videos\\veriff10.mp4: 384x640 1 person, 1 cell phone, 15.4ms\n",
      "video 1/1 (frame 168/312) c:\\Users\\Ilmar\\hobby_projects\\coercion-check\\src\\videos\\veriff10.mp4: 384x640 1 person, 1 cell phone, 13.2ms\n",
      "video 1/1 (frame 169/312) c:\\Users\\Ilmar\\hobby_projects\\coercion-check\\src\\videos\\veriff10.mp4: 384x640 1 person, 1 cell phone, 12.9ms\n",
      "video 1/1 (frame 170/312) c:\\Users\\Ilmar\\hobby_projects\\coercion-check\\src\\videos\\veriff10.mp4: 384x640 1 person, 1 cell phone, 12.5ms\n",
      "video 1/1 (frame 171/312) c:\\Users\\Ilmar\\hobby_projects\\coercion-check\\src\\videos\\veriff10.mp4: 384x640 1 person, 14.3ms\n",
      "video 1/1 (frame 172/312) c:\\Users\\Ilmar\\hobby_projects\\coercion-check\\src\\videos\\veriff10.mp4: 384x640 1 person, 1 cell phone, 12.9ms\n",
      "video 1/1 (frame 173/312) c:\\Users\\Ilmar\\hobby_projects\\coercion-check\\src\\videos\\veriff10.mp4: 384x640 1 person, 1 cell phone, 14.4ms\n",
      "video 1/1 (frame 174/312) c:\\Users\\Ilmar\\hobby_projects\\coercion-check\\src\\videos\\veriff10.mp4: 384x640 1 person, 1 cell phone, 15.2ms\n",
      "video 1/1 (frame 175/312) c:\\Users\\Ilmar\\hobby_projects\\coercion-check\\src\\videos\\veriff10.mp4: 384x640 1 person, 1 cell phone, 16.5ms\n",
      "video 1/1 (frame 176/312) c:\\Users\\Ilmar\\hobby_projects\\coercion-check\\src\\videos\\veriff10.mp4: 384x640 1 person, 15.2ms\n",
      "video 1/1 (frame 177/312) c:\\Users\\Ilmar\\hobby_projects\\coercion-check\\src\\videos\\veriff10.mp4: 384x640 1 person, 1 cell phone, 16.1ms\n",
      "video 1/1 (frame 178/312) c:\\Users\\Ilmar\\hobby_projects\\coercion-check\\src\\videos\\veriff10.mp4: 384x640 1 person, 1 cell phone, 20.7ms\n",
      "video 1/1 (frame 179/312) c:\\Users\\Ilmar\\hobby_projects\\coercion-check\\src\\videos\\veriff10.mp4: 384x640 1 person, 1 cell phone, 25.5ms\n",
      "video 1/1 (frame 180/312) c:\\Users\\Ilmar\\hobby_projects\\coercion-check\\src\\videos\\veriff10.mp4: 384x640 1 person, 1 cell phone, 18.2ms\n",
      "video 1/1 (frame 181/312) c:\\Users\\Ilmar\\hobby_projects\\coercion-check\\src\\videos\\veriff10.mp4: 384x640 1 person, 1 pizza, 1 cell phone, 16.1ms\n",
      "video 1/1 (frame 182/312) c:\\Users\\Ilmar\\hobby_projects\\coercion-check\\src\\videos\\veriff10.mp4: 384x640 1 person, 1 cell phone, 17.2ms\n",
      "video 1/1 (frame 183/312) c:\\Users\\Ilmar\\hobby_projects\\coercion-check\\src\\videos\\veriff10.mp4: 384x640 1 person, 1 cell phone, 14.1ms\n",
      "video 1/1 (frame 184/312) c:\\Users\\Ilmar\\hobby_projects\\coercion-check\\src\\videos\\veriff10.mp4: 384x640 1 person, 1 cell phone, 24.0ms\n",
      "video 1/1 (frame 185/312) c:\\Users\\Ilmar\\hobby_projects\\coercion-check\\src\\videos\\veriff10.mp4: 384x640 1 person, 1 cell phone, 14.4ms\n",
      "video 1/1 (frame 186/312) c:\\Users\\Ilmar\\hobby_projects\\coercion-check\\src\\videos\\veriff10.mp4: 384x640 1 person, 1 cell phone, 15.0ms\n",
      "video 1/1 (frame 187/312) c:\\Users\\Ilmar\\hobby_projects\\coercion-check\\src\\videos\\veriff10.mp4: 384x640 1 person, 1 cell phone, 18.0ms\n",
      "video 1/1 (frame 188/312) c:\\Users\\Ilmar\\hobby_projects\\coercion-check\\src\\videos\\veriff10.mp4: 384x640 1 person, 1 cell phone, 17.8ms\n",
      "video 1/1 (frame 189/312) c:\\Users\\Ilmar\\hobby_projects\\coercion-check\\src\\videos\\veriff10.mp4: 384x640 1 person, 1 cell phone, 17.3ms\n",
      "video 1/1 (frame 190/312) c:\\Users\\Ilmar\\hobby_projects\\coercion-check\\src\\videos\\veriff10.mp4: 384x640 1 person, 1 cell phone, 15.5ms\n",
      "video 1/1 (frame 191/312) c:\\Users\\Ilmar\\hobby_projects\\coercion-check\\src\\videos\\veriff10.mp4: 384x640 1 person, 1 cell phone, 14.4ms\n",
      "video 1/1 (frame 192/312) c:\\Users\\Ilmar\\hobby_projects\\coercion-check\\src\\videos\\veriff10.mp4: 384x640 1 person, 1 cell phone, 13.1ms\n",
      "video 1/1 (frame 193/312) c:\\Users\\Ilmar\\hobby_projects\\coercion-check\\src\\videos\\veriff10.mp4: 384x640 1 person, 1 cell phone, 16.7ms\n",
      "video 1/1 (frame 194/312) c:\\Users\\Ilmar\\hobby_projects\\coercion-check\\src\\videos\\veriff10.mp4: 384x640 1 person, 1 cell phone, 15.6ms\n",
      "video 1/1 (frame 195/312) c:\\Users\\Ilmar\\hobby_projects\\coercion-check\\src\\videos\\veriff10.mp4: 384x640 1 person, 1 cell phone, 12.2ms\n",
      "video 1/1 (frame 196/312) c:\\Users\\Ilmar\\hobby_projects\\coercion-check\\src\\videos\\veriff10.mp4: 384x640 2 persons, 1 cell phone, 21.2ms\n",
      "video 1/1 (frame 197/312) c:\\Users\\Ilmar\\hobby_projects\\coercion-check\\src\\videos\\veriff10.mp4: 384x640 2 persons, 1 bed, 1 cell phone, 13.2ms\n",
      "video 1/1 (frame 198/312) c:\\Users\\Ilmar\\hobby_projects\\coercion-check\\src\\videos\\veriff10.mp4: 384x640 2 persons, 1 cell phone, 14.6ms\n",
      "video 1/1 (frame 199/312) c:\\Users\\Ilmar\\hobby_projects\\coercion-check\\src\\videos\\veriff10.mp4: 384x640 2 persons, 1 cell phone, 15.3ms\n",
      "video 1/1 (frame 200/312) c:\\Users\\Ilmar\\hobby_projects\\coercion-check\\src\\videos\\veriff10.mp4: 384x640 2 persons, 1 cell phone, 24.4ms\n",
      "video 1/1 (frame 201/312) c:\\Users\\Ilmar\\hobby_projects\\coercion-check\\src\\videos\\veriff10.mp4: 384x640 2 persons, 1 cell phone, 13.9ms\n",
      "video 1/1 (frame 202/312) c:\\Users\\Ilmar\\hobby_projects\\coercion-check\\src\\videos\\veriff10.mp4: 384x640 2 persons, 1 cell phone, 15.3ms\n",
      "video 1/1 (frame 203/312) c:\\Users\\Ilmar\\hobby_projects\\coercion-check\\src\\videos\\veriff10.mp4: 384x640 2 persons, 1 cell phone, 16.0ms\n",
      "video 1/1 (frame 204/312) c:\\Users\\Ilmar\\hobby_projects\\coercion-check\\src\\videos\\veriff10.mp4: 384x640 2 persons, 1 cell phone, 13.6ms\n",
      "video 1/1 (frame 205/312) c:\\Users\\Ilmar\\hobby_projects\\coercion-check\\src\\videos\\veriff10.mp4: 384x640 2 persons, 1 cell phone, 15.5ms\n",
      "video 1/1 (frame 206/312) c:\\Users\\Ilmar\\hobby_projects\\coercion-check\\src\\videos\\veriff10.mp4: 384x640 2 persons, 1 cell phone, 12.1ms\n",
      "video 1/1 (frame 207/312) c:\\Users\\Ilmar\\hobby_projects\\coercion-check\\src\\videos\\veriff10.mp4: 384x640 1 person, 1 cell phone, 12.3ms\n",
      "video 1/1 (frame 208/312) c:\\Users\\Ilmar\\hobby_projects\\coercion-check\\src\\videos\\veriff10.mp4: 384x640 1 person, 1 cell phone, 20.8ms\n",
      "video 1/1 (frame 209/312) c:\\Users\\Ilmar\\hobby_projects\\coercion-check\\src\\videos\\veriff10.mp4: 384x640 2 persons, 1 cell phone, 13.0ms\n",
      "video 1/1 (frame 210/312) c:\\Users\\Ilmar\\hobby_projects\\coercion-check\\src\\videos\\veriff10.mp4: 384x640 1 person, 1 cell phone, 12.8ms\n",
      "video 1/1 (frame 211/312) c:\\Users\\Ilmar\\hobby_projects\\coercion-check\\src\\videos\\veriff10.mp4: 384x640 1 person, 1 cell phone, 13.5ms\n",
      "video 1/1 (frame 212/312) c:\\Users\\Ilmar\\hobby_projects\\coercion-check\\src\\videos\\veriff10.mp4: 384x640 1 person, 1 cell phone, 17.3ms\n",
      "video 1/1 (frame 213/312) c:\\Users\\Ilmar\\hobby_projects\\coercion-check\\src\\videos\\veriff10.mp4: 384x640 1 person, 1 cell phone, 21.6ms\n",
      "video 1/1 (frame 214/312) c:\\Users\\Ilmar\\hobby_projects\\coercion-check\\src\\videos\\veriff10.mp4: 384x640 1 person, 1 cell phone, 20.2ms\n",
      "video 1/1 (frame 215/312) c:\\Users\\Ilmar\\hobby_projects\\coercion-check\\src\\videos\\veriff10.mp4: 384x640 1 person, 1 cell phone, 15.1ms\n",
      "video 1/1 (frame 216/312) c:\\Users\\Ilmar\\hobby_projects\\coercion-check\\src\\videos\\veriff10.mp4: 384x640 1 person, 1 cell phone, 15.1ms\n",
      "video 1/1 (frame 217/312) c:\\Users\\Ilmar\\hobby_projects\\coercion-check\\src\\videos\\veriff10.mp4: 384x640 1 person, 1 cell phone, 15.2ms\n",
      "video 1/1 (frame 218/312) c:\\Users\\Ilmar\\hobby_projects\\coercion-check\\src\\videos\\veriff10.mp4: 384x640 1 person, 1 cell phone, 11.6ms\n",
      "video 1/1 (frame 219/312) c:\\Users\\Ilmar\\hobby_projects\\coercion-check\\src\\videos\\veriff10.mp4: 384x640 1 person, 1 cell phone, 12.8ms\n",
      "video 1/1 (frame 220/312) c:\\Users\\Ilmar\\hobby_projects\\coercion-check\\src\\videos\\veriff10.mp4: 384x640 1 person, 1 cell phone, 13.8ms\n",
      "video 1/1 (frame 221/312) c:\\Users\\Ilmar\\hobby_projects\\coercion-check\\src\\videos\\veriff10.mp4: 384x640 1 person, 1 cell phone, 14.0ms\n",
      "video 1/1 (frame 222/312) c:\\Users\\Ilmar\\hobby_projects\\coercion-check\\src\\videos\\veriff10.mp4: 384x640 1 person, 1 cell phone, 14.5ms\n",
      "video 1/1 (frame 223/312) c:\\Users\\Ilmar\\hobby_projects\\coercion-check\\src\\videos\\veriff10.mp4: 384x640 1 person, 1 cell phone, 15.3ms\n",
      "video 1/1 (frame 224/312) c:\\Users\\Ilmar\\hobby_projects\\coercion-check\\src\\videos\\veriff10.mp4: 384x640 1 person, 1 cell phone, 17.1ms\n",
      "video 1/1 (frame 225/312) c:\\Users\\Ilmar\\hobby_projects\\coercion-check\\src\\videos\\veriff10.mp4: 384x640 1 person, 1 cell phone, 19.0ms\n",
      "video 1/1 (frame 226/312) c:\\Users\\Ilmar\\hobby_projects\\coercion-check\\src\\videos\\veriff10.mp4: 384x640 1 person, 1 cell phone, 13.1ms\n",
      "video 1/1 (frame 227/312) c:\\Users\\Ilmar\\hobby_projects\\coercion-check\\src\\videos\\veriff10.mp4: 384x640 1 person, 1 cell phone, 14.2ms\n",
      "video 1/1 (frame 228/312) c:\\Users\\Ilmar\\hobby_projects\\coercion-check\\src\\videos\\veriff10.mp4: 384x640 2 persons, 1 cell phone, 18.2ms\n",
      "video 1/1 (frame 229/312) c:\\Users\\Ilmar\\hobby_projects\\coercion-check\\src\\videos\\veriff10.mp4: 384x640 1 person, 1 cell phone, 14.7ms\n",
      "video 1/1 (frame 230/312) c:\\Users\\Ilmar\\hobby_projects\\coercion-check\\src\\videos\\veriff10.mp4: 384x640 1 person, 1 cell phone, 18.7ms\n",
      "video 1/1 (frame 231/312) c:\\Users\\Ilmar\\hobby_projects\\coercion-check\\src\\videos\\veriff10.mp4: 384x640 1 person, 1 cell phone, 18.2ms\n",
      "video 1/1 (frame 232/312) c:\\Users\\Ilmar\\hobby_projects\\coercion-check\\src\\videos\\veriff10.mp4: 384x640 1 person, 27.6ms\n",
      "video 1/1 (frame 233/312) c:\\Users\\Ilmar\\hobby_projects\\coercion-check\\src\\videos\\veriff10.mp4: 384x640 1 person, 13.8ms\n",
      "video 1/1 (frame 234/312) c:\\Users\\Ilmar\\hobby_projects\\coercion-check\\src\\videos\\veriff10.mp4: 384x640 2 persons, 16.1ms\n",
      "video 1/1 (frame 235/312) c:\\Users\\Ilmar\\hobby_projects\\coercion-check\\src\\videos\\veriff10.mp4: 384x640 1 person, 18.6ms\n",
      "video 1/1 (frame 236/312) c:\\Users\\Ilmar\\hobby_projects\\coercion-check\\src\\videos\\veriff10.mp4: 384x640 1 person, 19.2ms\n",
      "video 1/1 (frame 237/312) c:\\Users\\Ilmar\\hobby_projects\\coercion-check\\src\\videos\\veriff10.mp4: 384x640 1 person, 1 cell phone, 14.1ms\n",
      "video 1/1 (frame 238/312) c:\\Users\\Ilmar\\hobby_projects\\coercion-check\\src\\videos\\veriff10.mp4: 384x640 1 person, 1 cell phone, 12.0ms\n",
      "video 1/1 (frame 239/312) c:\\Users\\Ilmar\\hobby_projects\\coercion-check\\src\\videos\\veriff10.mp4: 384x640 2 persons, 14.6ms\n",
      "video 1/1 (frame 240/312) c:\\Users\\Ilmar\\hobby_projects\\coercion-check\\src\\videos\\veriff10.mp4: 384x640 1 person, 1 cell phone, 17.0ms\n",
      "video 1/1 (frame 241/312) c:\\Users\\Ilmar\\hobby_projects\\coercion-check\\src\\videos\\veriff10.mp4: 384x640 1 person, 1 cell phone, 13.2ms\n",
      "video 1/1 (frame 242/312) c:\\Users\\Ilmar\\hobby_projects\\coercion-check\\src\\videos\\veriff10.mp4: 384x640 1 person, 1 cell phone, 26.8ms\n",
      "video 1/1 (frame 243/312) c:\\Users\\Ilmar\\hobby_projects\\coercion-check\\src\\videos\\veriff10.mp4: 384x640 1 person, 1 cell phone, 11.9ms\n",
      "video 1/1 (frame 244/312) c:\\Users\\Ilmar\\hobby_projects\\coercion-check\\src\\videos\\veriff10.mp4: 384x640 1 person, 1 cell phone, 14.0ms\n",
      "video 1/1 (frame 245/312) c:\\Users\\Ilmar\\hobby_projects\\coercion-check\\src\\videos\\veriff10.mp4: 384x640 1 person, 1 cell phone, 12.4ms\n",
      "video 1/1 (frame 246/312) c:\\Users\\Ilmar\\hobby_projects\\coercion-check\\src\\videos\\veriff10.mp4: 384x640 1 person, 1 laptop, 1 book, 11.9ms\n",
      "video 1/1 (frame 247/312) c:\\Users\\Ilmar\\hobby_projects\\coercion-check\\src\\videos\\veriff10.mp4: 384x640 1 person, 1 book, 13.9ms\n",
      "video 1/1 (frame 248/312) c:\\Users\\Ilmar\\hobby_projects\\coercion-check\\src\\videos\\veriff10.mp4: 384x640 1 person, 1 laptop, 1 book, 17.1ms\n",
      "video 1/1 (frame 249/312) c:\\Users\\Ilmar\\hobby_projects\\coercion-check\\src\\videos\\veriff10.mp4: 384x640 1 person, 1 laptop, 1 book, 11.6ms\n",
      "video 1/1 (frame 250/312) c:\\Users\\Ilmar\\hobby_projects\\coercion-check\\src\\videos\\veriff10.mp4: 384x640 1 person, 1 laptop, 1 book, 16.8ms\n",
      "video 1/1 (frame 251/312) c:\\Users\\Ilmar\\hobby_projects\\coercion-check\\src\\videos\\veriff10.mp4: 384x640 1 person, 1 book, 11.6ms\n",
      "video 1/1 (frame 252/312) c:\\Users\\Ilmar\\hobby_projects\\coercion-check\\src\\videos\\veriff10.mp4: 384x640 1 person, 24.6ms\n",
      "video 1/1 (frame 253/312) c:\\Users\\Ilmar\\hobby_projects\\coercion-check\\src\\videos\\veriff10.mp4: 384x640 1 person, 23.4ms\n",
      "video 1/1 (frame 254/312) c:\\Users\\Ilmar\\hobby_projects\\coercion-check\\src\\videos\\veriff10.mp4: 384x640 1 person, 16.4ms\n",
      "video 1/1 (frame 255/312) c:\\Users\\Ilmar\\hobby_projects\\coercion-check\\src\\videos\\veriff10.mp4: 384x640 1 person, 15.5ms\n",
      "video 1/1 (frame 256/312) c:\\Users\\Ilmar\\hobby_projects\\coercion-check\\src\\videos\\veriff10.mp4: 384x640 1 person, 12.7ms\n",
      "video 1/1 (frame 257/312) c:\\Users\\Ilmar\\hobby_projects\\coercion-check\\src\\videos\\veriff10.mp4: 384x640 1 person, 16.9ms\n",
      "video 1/1 (frame 258/312) c:\\Users\\Ilmar\\hobby_projects\\coercion-check\\src\\videos\\veriff10.mp4: 384x640 2 persons, 12.1ms\n",
      "video 1/1 (frame 259/312) c:\\Users\\Ilmar\\hobby_projects\\coercion-check\\src\\videos\\veriff10.mp4: 384x640 2 persons, 21.9ms\n",
      "video 1/1 (frame 260/312) c:\\Users\\Ilmar\\hobby_projects\\coercion-check\\src\\videos\\veriff10.mp4: 384x640 2 persons, 15.1ms\n",
      "video 1/1 (frame 261/312) c:\\Users\\Ilmar\\hobby_projects\\coercion-check\\src\\videos\\veriff10.mp4: 384x640 2 persons, 15.8ms\n",
      "video 1/1 (frame 262/312) c:\\Users\\Ilmar\\hobby_projects\\coercion-check\\src\\videos\\veriff10.mp4: 384x640 2 persons, 14.2ms\n",
      "video 1/1 (frame 263/312) c:\\Users\\Ilmar\\hobby_projects\\coercion-check\\src\\videos\\veriff10.mp4: 384x640 2 persons, 11.8ms\n",
      "video 1/1 (frame 264/312) c:\\Users\\Ilmar\\hobby_projects\\coercion-check\\src\\videos\\veriff10.mp4: 384x640 2 persons, 12.5ms\n",
      "video 1/1 (frame 265/312) c:\\Users\\Ilmar\\hobby_projects\\coercion-check\\src\\videos\\veriff10.mp4: 384x640 2 persons, 13.5ms\n",
      "video 1/1 (frame 266/312) c:\\Users\\Ilmar\\hobby_projects\\coercion-check\\src\\videos\\veriff10.mp4: 384x640 2 persons, 14.6ms\n",
      "video 1/1 (frame 267/312) c:\\Users\\Ilmar\\hobby_projects\\coercion-check\\src\\videos\\veriff10.mp4: 384x640 2 persons, 17.8ms\n",
      "video 1/1 (frame 268/312) c:\\Users\\Ilmar\\hobby_projects\\coercion-check\\src\\videos\\veriff10.mp4: 384x640 2 persons, 15.4ms\n",
      "video 1/1 (frame 269/312) c:\\Users\\Ilmar\\hobby_projects\\coercion-check\\src\\videos\\veriff10.mp4: 384x640 3 persons, 12.3ms\n",
      "video 1/1 (frame 270/312) c:\\Users\\Ilmar\\hobby_projects\\coercion-check\\src\\videos\\veriff10.mp4: 384x640 1 person, 11.9ms\n",
      "video 1/1 (frame 271/312) c:\\Users\\Ilmar\\hobby_projects\\coercion-check\\src\\videos\\veriff10.mp4: 384x640 1 person, 13.7ms\n",
      "video 1/1 (frame 272/312) c:\\Users\\Ilmar\\hobby_projects\\coercion-check\\src\\videos\\veriff10.mp4: 384x640 1 person, 12.7ms\n",
      "video 1/1 (frame 273/312) c:\\Users\\Ilmar\\hobby_projects\\coercion-check\\src\\videos\\veriff10.mp4: 384x640 1 person, 16.2ms\n",
      "video 1/1 (frame 274/312) c:\\Users\\Ilmar\\hobby_projects\\coercion-check\\src\\videos\\veriff10.mp4: 384x640 1 person, 14.3ms\n",
      "video 1/1 (frame 275/312) c:\\Users\\Ilmar\\hobby_projects\\coercion-check\\src\\videos\\veriff10.mp4: 384x640 1 person, 14.2ms\n",
      "video 1/1 (frame 276/312) c:\\Users\\Ilmar\\hobby_projects\\coercion-check\\src\\videos\\veriff10.mp4: 384x640 1 person, 13.9ms\n",
      "video 1/1 (frame 277/312) c:\\Users\\Ilmar\\hobby_projects\\coercion-check\\src\\videos\\veriff10.mp4: 384x640 1 person, 15.3ms\n",
      "video 1/1 (frame 278/312) c:\\Users\\Ilmar\\hobby_projects\\coercion-check\\src\\videos\\veriff10.mp4: 384x640 1 person, 22.9ms\n",
      "video 1/1 (frame 279/312) c:\\Users\\Ilmar\\hobby_projects\\coercion-check\\src\\videos\\veriff10.mp4: 384x640 1 person, 14.3ms\n",
      "video 1/1 (frame 280/312) c:\\Users\\Ilmar\\hobby_projects\\coercion-check\\src\\videos\\veriff10.mp4: 384x640 1 person, 15.6ms\n",
      "video 1/1 (frame 281/312) c:\\Users\\Ilmar\\hobby_projects\\coercion-check\\src\\videos\\veriff10.mp4: 384x640 1 person, 12.4ms\n",
      "video 1/1 (frame 282/312) c:\\Users\\Ilmar\\hobby_projects\\coercion-check\\src\\videos\\veriff10.mp4: 384x640 1 person, 14.3ms\n",
      "video 1/1 (frame 283/312) c:\\Users\\Ilmar\\hobby_projects\\coercion-check\\src\\videos\\veriff10.mp4: 384x640 1 person, 22.0ms\n",
      "video 1/1 (frame 284/312) c:\\Users\\Ilmar\\hobby_projects\\coercion-check\\src\\videos\\veriff10.mp4: 384x640 1 person, 20.8ms\n",
      "video 1/1 (frame 285/312) c:\\Users\\Ilmar\\hobby_projects\\coercion-check\\src\\videos\\veriff10.mp4: 384x640 1 person, 14.9ms\n",
      "video 1/1 (frame 286/312) c:\\Users\\Ilmar\\hobby_projects\\coercion-check\\src\\videos\\veriff10.mp4: 384x640 1 person, 13.5ms\n",
      "video 1/1 (frame 287/312) c:\\Users\\Ilmar\\hobby_projects\\coercion-check\\src\\videos\\veriff10.mp4: 384x640 1 person, 22.6ms\n",
      "video 1/1 (frame 288/312) c:\\Users\\Ilmar\\hobby_projects\\coercion-check\\src\\videos\\veriff10.mp4: 384x640 1 person, 32.2ms\n",
      "video 1/1 (frame 289/312) c:\\Users\\Ilmar\\hobby_projects\\coercion-check\\src\\videos\\veriff10.mp4: 384x640 2 persons, 1 suitcase, 17.2ms\n",
      "video 1/1 (frame 290/312) c:\\Users\\Ilmar\\hobby_projects\\coercion-check\\src\\videos\\veriff10.mp4: 384x640 1 person, 18.3ms\n",
      "video 1/1 (frame 291/312) c:\\Users\\Ilmar\\hobby_projects\\coercion-check\\src\\videos\\veriff10.mp4: 384x640 1 person, 1 chair, 16.0ms\n",
      "video 1/1 (frame 292/312) c:\\Users\\Ilmar\\hobby_projects\\coercion-check\\src\\videos\\veriff10.mp4: 384x640 1 person, 1 suitcase, 1 chair, 15.0ms\n",
      "video 1/1 (frame 293/312) c:\\Users\\Ilmar\\hobby_projects\\coercion-check\\src\\videos\\veriff10.mp4: 384x640 1 person, 1 backpack, 1 chair, 15.6ms\n",
      "video 1/1 (frame 294/312) c:\\Users\\Ilmar\\hobby_projects\\coercion-check\\src\\videos\\veriff10.mp4: 384x640 1 person, 14.1ms\n",
      "video 1/1 (frame 295/312) c:\\Users\\Ilmar\\hobby_projects\\coercion-check\\src\\videos\\veriff10.mp4: 384x640 1 person, 1 chair, 14.2ms\n",
      "video 1/1 (frame 296/312) c:\\Users\\Ilmar\\hobby_projects\\coercion-check\\src\\videos\\veriff10.mp4: 384x640 1 person, 14.5ms\n",
      "video 1/1 (frame 297/312) c:\\Users\\Ilmar\\hobby_projects\\coercion-check\\src\\videos\\veriff10.mp4: 384x640 1 person, 1 chair, 14.3ms\n",
      "video 1/1 (frame 298/312) c:\\Users\\Ilmar\\hobby_projects\\coercion-check\\src\\videos\\veriff10.mp4: 384x640 1 person, 17.0ms\n",
      "video 1/1 (frame 299/312) c:\\Users\\Ilmar\\hobby_projects\\coercion-check\\src\\videos\\veriff10.mp4: 384x640 1 person, 17.2ms\n",
      "video 1/1 (frame 300/312) c:\\Users\\Ilmar\\hobby_projects\\coercion-check\\src\\videos\\veriff10.mp4: 384x640 1 person, 15.1ms\n",
      "video 1/1 (frame 301/312) c:\\Users\\Ilmar\\hobby_projects\\coercion-check\\src\\videos\\veriff10.mp4: 384x640 2 persons, 18.5ms\n",
      "video 1/1 (frame 302/312) c:\\Users\\Ilmar\\hobby_projects\\coercion-check\\src\\videos\\veriff10.mp4: 384x640 2 persons, 1 suitcase, 13.7ms\n",
      "video 1/1 (frame 303/312) c:\\Users\\Ilmar\\hobby_projects\\coercion-check\\src\\videos\\veriff10.mp4: 384x640 1 person, 16.4ms\n",
      "video 1/1 (frame 304/312) c:\\Users\\Ilmar\\hobby_projects\\coercion-check\\src\\videos\\veriff10.mp4: 384x640 1 person, 11.7ms\n",
      "video 1/1 (frame 305/312) c:\\Users\\Ilmar\\hobby_projects\\coercion-check\\src\\videos\\veriff10.mp4: 384x640 1 person, 12.2ms\n",
      "video 1/1 (frame 306/312) c:\\Users\\Ilmar\\hobby_projects\\coercion-check\\src\\videos\\veriff10.mp4: 384x640 2 persons, 14.9ms\n",
      "video 1/1 (frame 307/312) c:\\Users\\Ilmar\\hobby_projects\\coercion-check\\src\\videos\\veriff10.mp4: 384x640 1 person, 17.2ms\n",
      "video 1/1 (frame 308/312) c:\\Users\\Ilmar\\hobby_projects\\coercion-check\\src\\videos\\veriff10.mp4: 384x640 1 person, 12.7ms\n",
      "video 1/1 (frame 309/312) c:\\Users\\Ilmar\\hobby_projects\\coercion-check\\src\\videos\\veriff10.mp4: 384x640 1 person, 14.4ms\n",
      "video 1/1 (frame 310/312) c:\\Users\\Ilmar\\hobby_projects\\coercion-check\\src\\videos\\veriff10.mp4: 384x640 1 person, 11.8ms\n",
      "video 1/1 (frame 311/312) c:\\Users\\Ilmar\\hobby_projects\\coercion-check\\src\\videos\\veriff10.mp4: 384x640 1 person, 12.1ms\n",
      "video 1/1 (frame 312/312) c:\\Users\\Ilmar\\hobby_projects\\coercion-check\\src\\videos\\veriff10.mp4: 384x640 1 person, 13.4ms\n",
      "Speed: 1.5ms preprocess, 15.7ms inference, 2.3ms postprocess per image at shape (1, 3, 384, 640)\n",
      "Processed 312 frames\n",
      "Frames with multiple people: 36 (11.5%)\n",
      "Max people in a frame: 3\n",
      "Average people per frame: 1.12\n"
     ]
    }
   ],
   "source": [
    "# Instead of printing class IDs for every frame, let's collect statistics\n",
    "results = model(\"videos/veriff10.mp4\", stream=True)\n",
    "\n",
    "# Initialize counters\n",
    "person_count_per_frame = []\n",
    "frames_with_multiple_people = 0\n",
    "total_frames = 0\n",
    "\n",
    "# Process each frame silently\n",
    "for result in results:\n",
    "    total_frames += 1\n",
    "    # Count persons in this frame\n",
    "    person_count = sum(1 for cls in result.boxes.cls if int(cls) == 0)\n",
    "    person_count_per_frame.append(person_count)\n",
    "    if person_count > 1:\n",
    "        frames_with_multiple_people += 1\n",
    "\n",
    "# Print just a summary\n",
    "print(f\"Processed {total_frames} frames\")\n",
    "print(f\"Frames with multiple people: {frames_with_multiple_people} ({frames_with_multiple_people/total_frames*100:.1f}%)\")\n",
    "print(f\"Max people in a frame: {max(person_count_per_frame)}\")\n",
    "print(f\"Average people per frame: {sum(person_count_per_frame)/total_frames:.2f}\")"
   ]
  },
  {
   "cell_type": "code",
   "execution_count": 13,
   "id": "f3f58b5b",
   "metadata": {},
   "outputs": [
    {
     "name": "stdout",
     "output_type": "stream",
     "text": [
      "\n",
      "video 1/1 (frame 1/312) c:\\Users\\Ilmar\\hobby_projects\\coercion-check\\src\\videos\\veriff10.mp4: 384x640 1 person, 13.4ms\n",
      "Starting\n",
      "Result: ultralytics.engine.results.Results object with attributes:\n",
      "\n",
      "boxes: ultralytics.engine.results.Boxes object\n",
      "keypoints: None\n",
      "masks: None\n",
      "names: {0: 'person', 1: 'bicycle', 2: 'car', 3: 'motorcycle', 4: 'airplane', 5: 'bus', 6: 'train', 7: 'truck', 8: 'boat', 9: 'traffic light', 10: 'fire hydrant', 11: 'stop sign', 12: 'parking meter', 13: 'bench', 14: 'bird', 15: 'cat', 16: 'dog', 17: 'horse', 18: 'sheep', 19: 'cow', 20: 'elephant', 21: 'bear', 22: 'zebra', 23: 'giraffe', 24: 'backpack', 25: 'umbrella', 26: 'handbag', 27: 'tie', 28: 'suitcase', 29: 'frisbee', 30: 'skis', 31: 'snowboard', 32: 'sports ball', 33: 'kite', 34: 'baseball bat', 35: 'baseball glove', 36: 'skateboard', 37: 'surfboard', 38: 'tennis racket', 39: 'bottle', 40: 'wine glass', 41: 'cup', 42: 'fork', 43: 'knife', 44: 'spoon', 45: 'bowl', 46: 'banana', 47: 'apple', 48: 'sandwich', 49: 'orange', 50: 'broccoli', 51: 'carrot', 52: 'hot dog', 53: 'pizza', 54: 'donut', 55: 'cake', 56: 'chair', 57: 'couch', 58: 'potted plant', 59: 'bed', 60: 'dining table', 61: 'toilet', 62: 'tv', 63: 'laptop', 64: 'mouse', 65: 'remote', 66: 'keyboard', 67: 'cell phone', 68: 'microwave', 69: 'oven', 70: 'toaster', 71: 'sink', 72: 'refrigerator', 73: 'book', 74: 'clock', 75: 'vase', 76: 'scissors', 77: 'teddy bear', 78: 'hair drier', 79: 'toothbrush'}\n",
      "obb: None\n",
      "orig_img: array([[[180, 189, 193],\n",
      "        [180, 189, 193],\n",
      "        [180, 189, 193],\n",
      "        ...,\n",
      "        [ 92,  72,  74],\n",
      "        [ 98,  78,  80],\n",
      "        [ 97,  77,  79]],\n",
      "\n",
      "       [[179, 188, 192],\n",
      "        [179, 188, 192],\n",
      "        [179, 188, 192],\n",
      "        ...,\n",
      "        [ 99,  79,  81],\n",
      "        [100,  80,  82],\n",
      "        [ 96,  76,  78]],\n",
      "\n",
      "       [[179, 188, 192],\n",
      "        [179, 188, 192],\n",
      "        [179, 188, 192],\n",
      "        ...,\n",
      "        [112,  92,  94],\n",
      "        [108,  88,  90],\n",
      "        [100,  80,  82]],\n",
      "\n",
      "       ...,\n",
      "\n",
      "       [[  0,   0,   0],\n",
      "        [  0,   0,   0],\n",
      "        [  0,   0,   0],\n",
      "        ...,\n",
      "        [  0,   0,   0],\n",
      "        [  0,   0,   0],\n",
      "        [  0,   0,   0]],\n",
      "\n",
      "       [[  0,   0,   0],\n",
      "        [  0,   0,   0],\n",
      "        [  0,   0,   0],\n",
      "        ...,\n",
      "        [  0,   0,   0],\n",
      "        [  0,   0,   0],\n",
      "        [  0,   0,   0]],\n",
      "\n",
      "       [[  0,   0,   0],\n",
      "        [  0,   0,   0],\n",
      "        [  0,   0,   0],\n",
      "        ...,\n",
      "        [  0,   0,   0],\n",
      "        [  0,   0,   0],\n",
      "        [  0,   0,   0]]], dtype=uint8)\n",
      "orig_shape: (1080, 1920)\n",
      "path: 'c:\\\\Users\\\\Ilmar\\\\hobby_projects\\\\coercion-check\\\\src\\\\videos\\\\veriff10.mp4'\n",
      "probs: None\n",
      "save_dir: 'runs\\\\detect\\\\predict'\n",
      "speed: {'preprocess': 2.5215000000002874, 'inference': 13.356800000011049, 'postprocess': 2.004299999995851}\n",
      "Boxes: ultralytics.engine.results.Boxes object with attributes:\n",
      "\n",
      "cls: tensor([0.], device='cuda:0')\n",
      "conf: tensor([0.9599], device='cuda:0')\n",
      "data: tensor([[6.1444e+02, 4.5772e+00, 1.9148e+03, 1.0604e+03, 9.5991e-01, 0.0000e+00]], device='cuda:0')\n",
      "id: None\n",
      "is_track: False\n",
      "orig_shape: (1080, 1920)\n",
      "shape: torch.Size([1, 6])\n",
      "xywh: tensor([[1264.6245,  532.4830, 1300.3674, 1055.8116]], device='cuda:0')\n",
      "xywhn: tensor([[0.6587, 0.4930, 0.6773, 0.9776]], device='cuda:0')\n",
      "xyxy: tensor([[ 614.4408,    4.5772, 1914.8082, 1060.3888]], device='cuda:0')\n",
      "xyxyn: tensor([[0.3200, 0.0042, 0.9973, 0.9818]], device='cuda:0')\n",
      "Classes: tensor([0.], device='cuda:0')\n",
      "Confidences: tensor([0.9599], device='cuda:0')\n",
      "Keypoints: None\n",
      "Masks: None\n",
      "Speed: {'preprocess': 2.5215000000002874, 'inference': 13.356800000011049, 'postprocess': 2.004299999995851}\n",
      "Names: {0: 'person', 1: 'bicycle', 2: 'car', 3: 'motorcycle', 4: 'airplane', 5: 'bus', 6: 'train', 7: 'truck', 8: 'boat', 9: 'traffic light', 10: 'fire hydrant', 11: 'stop sign', 12: 'parking meter', 13: 'bench', 14: 'bird', 15: 'cat', 16: 'dog', 17: 'horse', 18: 'sheep', 19: 'cow', 20: 'elephant', 21: 'bear', 22: 'zebra', 23: 'giraffe', 24: 'backpack', 25: 'umbrella', 26: 'handbag', 27: 'tie', 28: 'suitcase', 29: 'frisbee', 30: 'skis', 31: 'snowboard', 32: 'sports ball', 33: 'kite', 34: 'baseball bat', 35: 'baseball glove', 36: 'skateboard', 37: 'surfboard', 38: 'tennis racket', 39: 'bottle', 40: 'wine glass', 41: 'cup', 42: 'fork', 43: 'knife', 44: 'spoon', 45: 'bowl', 46: 'banana', 47: 'apple', 48: 'sandwich', 49: 'orange', 50: 'broccoli', 51: 'carrot', 52: 'hot dog', 53: 'pizza', 54: 'donut', 55: 'cake', 56: 'chair', 57: 'couch', 58: 'potted plant', 59: 'bed', 60: 'dining table', 61: 'toilet', 62: 'tv', 63: 'laptop', 64: 'mouse', 65: 'remote', 66: 'keyboard', 67: 'cell phone', 68: 'microwave', 69: 'oven', 70: 'toaster', 71: 'sink', 72: 'refrigerator', 73: 'book', 74: 'clock', 75: 'vase', 76: 'scissors', 77: 'teddy bear', 78: 'hair drier', 79: 'toothbrush'}\n"
     ]
    }
   ],
   "source": [
    "# Instead of printing class IDs for every frame, let's collect statistics\n",
    "results = model(\"videos/veriff10.mp4\", stream=True)\n",
    "\n",
    "for result in results:\n",
    "    print(\"Starting\")\n",
    "    print(f\"Result: {result}\")\n",
    "    print(f\"Boxes: {result.boxes}\")\n",
    "    print(f\"Classes: {result.boxes.cls}\")\n",
    "    print(f\"Confidences: {result.boxes.conf}\")\n",
    "    print(f\"Keypoints: {result.keypoints}\")\n",
    "    print(f\"Masks: {result.masks}\")\n",
    "    print(f\"Speed: {result.speed}\")\n",
    "    print(f\"Names: {model.names}\")  # Class names\n",
    "    break  # Just inspect the first result"
   ]
  },
  {
   "cell_type": "markdown",
   "id": "f526cb93",
   "metadata": {},
   "source": [
    "Person is class 0. With each frame and class info, there's also a confidence between 0 to 1. It sometimes happens the the YOLO object detection model 'detects' people, but it's actually a false positive. To combat this issue, we can add a threshold for confidence and classify frames under that threshold to not contain people."
   ]
  },
  {
   "cell_type": "markdown",
   "id": "b82f1dd8",
   "metadata": {},
   "source": [
    "## Adding object tracking (Deep SORT)\n",
    "\n",
    "We want to track and label different people across frames (e.g. Person 1, Person 2 etc), so we need to combine our object detection model (YOLO) with multi-object tracking. Deep SORT does this by using a Kalman filter for motion prediction and ReID embeddings for appearance similarity, resulting in each person getting a persistent ID like Person 3, Person 7 etc."
   ]
  },
  {
   "cell_type": "code",
   "execution_count": null,
   "id": "b60cd954",
   "metadata": {},
   "outputs": [
    {
     "name": "stdout",
     "output_type": "stream",
     "text": [
      "\n",
      "🧾 Person Appearance Log:\n",
      "Person 1: seen in 310 frames, avg confidence: 0.64\n",
      "    First appearance: frame 2, confidence: 0.95\n",
      "    Last appearance: frame 311, confidence: 0.92\n",
      "Person 2: seen in 32 frames, avg confidence: 0.00\n",
      "    First appearance: frame 203, confidence: 0.00\n",
      "    Last appearance: frame 234, confidence: 0.00\n"
     ]
    }
   ],
   "source": [
    "# Initialize Deep SORT tracker\n",
    "tracker = DeepSort(max_age=30)\n",
    "\n",
    "# Load video\n",
    "video_path = \"videos/veriff10.mp4\"\n",
    "cap = cv2.VideoCapture(video_path)\n",
    "\n",
    "# Output video\n",
    "output = cv2.VideoWriter(\"videos/veriff10_tracked.mp4\", cv2.VideoWriter_fourcc(*'mp4v'),\n",
    "                         cap.get(cv2.CAP_PROP_FPS),\n",
    "                         (int(cap.get(3)), int(cap.get(4))))\n",
    "\n",
    "# Tracking dictionary with nested structure for frames and confidences\n",
    "person_items = defaultdict(lambda: {\"frames\": [], \"confidences\": []})\n",
    "\n",
    "frame_idx = 0\n",
    "while True:\n",
    "    ret, frame = cap.read()\n",
    "    if not ret:\n",
    "        break\n",
    "\n",
    "    results = model(frame, verbose=False, conf = 0.6)[0]\n",
    "\n",
    "    detections = []\n",
    "    for box in results.boxes:\n",
    "        cls = int(box.cls[0])\n",
    "        conf = float(box.conf[0])\n",
    "        if cls == 0:  # person class only\n",
    "            x1, y1, x2, y2 = map(int, box.xyxy[0])\n",
    "            detections.append([[x1, y1, x2 - x1, y2 - y1], conf, 'person'])\n",
    "\n",
    "    # Update Deep SORT\n",
    "    tracks = tracker.update_tracks(detections, frame=frame)\n",
    "\n",
    "    for track in tracks:\n",
    "        if not track.is_confirmed():\n",
    "            continue\n",
    "        track_id = track.track_id\n",
    "        l, t, r, b = map(int, track.to_ltrb())\n",
    "\n",
    "        # Find the corresponding detection and its confidence\n",
    "        detection_conf = 0\n",
    "        for det, conf, _ in detections:\n",
    "            det_x1, det_y1, det_w, det_h = det\n",
    "            det_x2, det_y2 = det_x1 + det_w, det_y1 + det_h\n",
    "            # Check if this detection box matches the track box\n",
    "            if abs(l - det_x1) < 20 and abs(t - det_y1) < 20 and abs(r - det_x2) < 20 and abs(b - det_y2) < 20:\n",
    "                detection_conf = conf\n",
    "                break\n",
    "\n",
    "        # Log the current frame and confidence for this person\n",
    "        person_items[track_id][\"frames\"].append(frame_idx)\n",
    "        person_items[track_id][\"confidences\"].append(detection_conf)\n",
    "\n",
    "        # Draw box and label with confidence\n",
    "        cv2.rectangle(frame, (l, t), (r, b), (0, 255, 0), 2)\n",
    "        label = f\"Person {track_id} ({detection_conf:.2f})\"\n",
    "        cv2.putText(frame, label, (l, t - 10),\n",
    "                    cv2.FONT_HERSHEY_SIMPLEX, 0.6, (0, 255, 0), 2)\n",
    "\n",
    "    output.write(frame)\n",
    "    cv2.imshow(\"Tracking\", frame)\n",
    "    frame_idx += 1\n",
    "\n",
    "    if cv2.waitKey(1) & 0xFF == ord('q'):\n",
    "        break\n",
    "\n",
    "cap.release()\n",
    "output.release()\n",
    "cv2.destroyAllWindows()\n",
    "\n",
    "# Output the log with confidence information\n",
    "print(\"\\n🧾 Person Appearance Log:\")\n",
    "for pid, data in person_items.items():\n",
    "    frames = data[\"frames\"]\n",
    "    confidences = data[\"confidences\"]\n",
    "    avg_conf = sum(confidences) / len(confidences) if confidences else 0\n",
    "    print(f\"Person {pid}: seen in {len(frames)} frames, avg confidence: {avg_conf:.2f}\")\n",
    "    print(f\"    First appearance: frame {frames[0]}, confidence: {confidences[0]:.2f}\")\n",
    "    print(f\"    Last appearance: frame {frames[-1]}, confidence: {confidences[-1]:.2f}\")"
   ]
  },
  {
   "cell_type": "markdown",
   "id": "5fd9b170",
   "metadata": {},
   "source": [
    "### Defining function for whole ETL and predict pipeline"
   ]
  },
  {
   "cell_type": "code",
   "execution_count": 97,
   "id": "b2a03f14",
   "metadata": {},
   "outputs": [],
   "source": [
    "def make_coercion_check(video_paths, model, conf_threshold=0.5):\n",
    "    coercion_results = []\n",
    "    tracker = DeepSort(max_age=30)\n",
    "    \n",
    "    for video_path in video_paths:\n",
    "        print(f\"Processing {video_path}...\")\n",
    "        results = person_detection_and_tracking(video_path, model, tracker, conf_threshold)\n",
    "        \n",
    "        print(f\"Found {len(results)} unique persons in {video_path}\\n\")\n",
    "        coercion_detected = int(len(results) > 1)   \n",
    "        for person_id, data in results.items():\n",
    "            frames = data[\"frames\"]\n",
    "            confidences = data[\"confidences\"]\n",
    "            avg_conf = sum(confidences) / len(confidences) if confidences else 0\n",
    "            \n",
    "            coercion_results.append({\n",
    "                \"video_path\": video_path,\n",
    "                \"video\": video_path.split(\"\\\\\")[-1][:-4],\n",
    "                \"person_id\": person_id,\n",
    "                \"num_frames\": len(frames),\n",
    "                \"avg_confidence\": avg_conf,\n",
    "                \"confidence_threshold\": conf_threshold,\n",
    "                \"first_frame\": frames[0],\n",
    "                \"last_frame\": frames[-1],\n",
    "                \"coercion_detected\": coercion_detected\n",
    "            })\n",
    "\n",
    "    coercion_results_df = pd.DataFrame(coercion_results)\n",
    "    print(f\"Processed {coercion_results_df.video.nunique()} unique videos with coercion detection results.\")\n",
    "    return coercion_results_df\n",
    "\n",
    "def person_detection_and_tracking(video_path, model, tracker, conf_threshold=0.5):\n",
    "    # Initialize Deep SORT tracker\n",
    "    cap = cv2.VideoCapture(video_path)\n",
    "\n",
    "    # Tracking dictionary with nested structure for frames and confidences\n",
    "    person_items = defaultdict(lambda: {\"frames\": [], \"confidences\": []})\n",
    "\n",
    "    frame_idx = 0\n",
    "    while True:\n",
    "        ret, frame = cap.read()\n",
    "        if not ret:\n",
    "            break\n",
    "\n",
    "        results = model(frame, verbose=False, conf = conf_threshold)[0]\n",
    "\n",
    "        detections = []\n",
    "        for box in results.boxes:\n",
    "            cls = int(box.cls[0])\n",
    "            conf = float(box.conf[0])\n",
    "            if cls == 0:  # person class only\n",
    "                x1, y1, x2, y2 = map(int, box.xyxy[0])\n",
    "                detections.append([[x1, y1, x2 - x1, y2 - y1], conf, 'person'])\n",
    "\n",
    "        # Update Deep SORT\n",
    "        tracks = tracker.update_tracks(detections, frame=frame)\n",
    "\n",
    "        for track in tracks:\n",
    "            if not track.is_confirmed():\n",
    "                continue\n",
    "            track_id = track.track_id\n",
    "            l, t, r, b = map(int, track.to_ltrb())\n",
    "\n",
    "            # Find the corresponding detection and its confidence\n",
    "            detection_conf = 0\n",
    "            for det, conf, _ in detections:\n",
    "                det_x1, det_y1, det_w, det_h = det\n",
    "                det_x2, det_y2 = det_x1 + det_w, det_y1 + det_h\n",
    "                # Check if this detection box matches the track box\n",
    "                if abs(l - det_x1) < 20 and abs(t - det_y1) < 20 and abs(r - det_x2) < 20 and abs(b - det_y2) < 20:\n",
    "                    detection_conf = conf\n",
    "                    break\n",
    "\n",
    "            # Log the current frame and confidence for this person\n",
    "            person_items[track_id][\"frames\"].append(frame_idx)\n",
    "            person_items[track_id][\"confidences\"].append(detection_conf)\n",
    "\n",
    "\n",
    "    cap.release()\n",
    "\n",
    "    return person_items"
   ]
  },
  {
   "cell_type": "markdown",
   "id": "c9f816fd",
   "metadata": {},
   "source": [
    "## Fine-tuning model\n",
    "\n",
    "### Loading labels"
   ]
  },
  {
   "cell_type": "code",
   "execution_count": 21,
   "id": "389fcc0c",
   "metadata": {},
   "outputs": [],
   "source": [
    "import pandas as pd"
   ]
  },
  {
   "cell_type": "code",
   "execution_count": null,
   "id": "90133915",
   "metadata": {},
   "outputs": [
    {
     "data": {
      "text/html": [
       "<div>\n",
       "<style scoped>\n",
       "    .dataframe tbody tr th:only-of-type {\n",
       "        vertical-align: middle;\n",
       "    }\n",
       "\n",
       "    .dataframe tbody tr th {\n",
       "        vertical-align: top;\n",
       "    }\n",
       "\n",
       "    .dataframe thead th {\n",
       "        text-align: right;\n",
       "    }\n",
       "</style>\n",
       "<table border=\"1\" class=\"dataframe\">\n",
       "  <thead>\n",
       "    <tr style=\"text-align: right;\">\n",
       "      <th></th>\n",
       "      <th>video</th>\n",
       "      <th>label</th>\n",
       "    </tr>\n",
       "  </thead>\n",
       "  <tbody>\n",
       "    <tr>\n",
       "      <th>0</th>\n",
       "      <td>veriff1</td>\n",
       "      <td>0</td>\n",
       "    </tr>\n",
       "    <tr>\n",
       "      <th>1</th>\n",
       "      <td>veriff2</td>\n",
       "      <td>1</td>\n",
       "    </tr>\n",
       "    <tr>\n",
       "      <th>2</th>\n",
       "      <td>veriff3</td>\n",
       "      <td>0</td>\n",
       "    </tr>\n",
       "    <tr>\n",
       "      <th>3</th>\n",
       "      <td>veriff4</td>\n",
       "      <td>1</td>\n",
       "    </tr>\n",
       "    <tr>\n",
       "      <th>4</th>\n",
       "      <td>veriff5</td>\n",
       "      <td>0</td>\n",
       "    </tr>\n",
       "  </tbody>\n",
       "</table>\n",
       "</div>"
      ],
      "text/plain": [
       "     video  label\n",
       "0  veriff1      0\n",
       "1  veriff2      1\n",
       "2  veriff3      0\n",
       "3  veriff4      1\n",
       "4  veriff5      0"
      ]
     },
     "execution_count": 24,
     "metadata": {},
     "output_type": "execute_result"
    }
   ],
   "source": [
    "labels = pd.read_csv(\"videos/labels.txt\", sep = \"\\t\")\n",
    "print(\"labels.info()\")\n",
    "labels.head()"
   ]
  },
  {
   "cell_type": "code",
   "execution_count": 63,
   "id": "055de684",
   "metadata": {},
   "outputs": [
    {
     "name": "stdout",
     "output_type": "stream",
     "text": [
      "<class 'pandas.core.frame.DataFrame'>\n",
      "RangeIndex: 17 entries, 0 to 16\n",
      "Data columns (total 2 columns):\n",
      " #   Column  Non-Null Count  Dtype \n",
      "---  ------  --------------  ----- \n",
      " 0   video   17 non-null     object\n",
      " 1   label   17 non-null     int64 \n",
      "dtypes: int64(1), object(1)\n",
      "memory usage: 400.0+ bytes\n"
     ]
    }
   ],
   "source": [
    "labels.info()"
   ]
  },
  {
   "cell_type": "markdown",
   "id": "df0c3768",
   "metadata": {},
   "source": [
    "### Functions for prediction and comparing results/labels"
   ]
  },
  {
   "cell_type": "code",
   "execution_count": null,
   "id": "af2fd661",
   "metadata": {},
   "outputs": [
    {
     "name": "stdout",
     "output_type": "stream",
     "text": [
      "Processing videos\\veriff2.mp4...\n",
      "Found 1 unique persons in videos\\veriff2.mp4\n",
      "\n",
      "Processed 1 unique videos with coercion detection results.\n"
     ]
    },
    {
     "data": {
      "text/html": [
       "<div>\n",
       "<style scoped>\n",
       "    .dataframe tbody tr th:only-of-type {\n",
       "        vertical-align: middle;\n",
       "    }\n",
       "\n",
       "    .dataframe tbody tr th {\n",
       "        vertical-align: top;\n",
       "    }\n",
       "\n",
       "    .dataframe thead th {\n",
       "        text-align: right;\n",
       "    }\n",
       "</style>\n",
       "<table border=\"1\" class=\"dataframe\">\n",
       "  <thead>\n",
       "    <tr style=\"text-align: right;\">\n",
       "      <th></th>\n",
       "      <th>video_path</th>\n",
       "      <th>video</th>\n",
       "      <th>person_id</th>\n",
       "      <th>num_frames</th>\n",
       "      <th>avg_confidence</th>\n",
       "      <th>confidence_threshold</th>\n",
       "      <th>first_frame</th>\n",
       "      <th>last_frame</th>\n",
       "      <th>coercion_detected</th>\n",
       "    </tr>\n",
       "  </thead>\n",
       "  <tbody>\n",
       "    <tr>\n",
       "      <th>0</th>\n",
       "      <td>videos\\veriff2.mp4</td>\n",
       "      <td>veriff2</td>\n",
       "      <td>1</td>\n",
       "      <td>207</td>\n",
       "      <td>0.834001</td>\n",
       "      <td>0.4</td>\n",
       "      <td>0</td>\n",
       "      <td>0</td>\n",
       "      <td>0</td>\n",
       "    </tr>\n",
       "  </tbody>\n",
       "</table>\n",
       "</div>"
      ],
      "text/plain": [
       "           video_path    video person_id  num_frames  avg_confidence  \\\n",
       "0  videos\\veriff2.mp4  veriff2         1         207        0.834001   \n",
       "\n",
       "   confidence_threshold  first_frame  last_frame  coercion_detected  \n",
       "0                   0.4            0           0                  0  "
      ]
     },
     "execution_count": 80,
     "metadata": {},
     "output_type": "execute_result"
    }
   ],
   "source": [
    "model = YOLO(\"models/yolov8m.pt\")  # yolov8n.pt, yolov8s.pt or yolov8m.pt for better accuracy\n",
    "\n",
    "video_paths = glob.glob(\"videos/veriff*.mp4\")\n",
    "\n",
    "coercion_results = make_coercion_check(video_paths, model, conf_threshold=0.4)\n",
    "coercion_results"
   ]
  },
  {
   "cell_type": "code",
   "execution_count": 98,
   "id": "254d2f4a",
   "metadata": {},
   "outputs": [
    {
     "name": "stdout",
     "output_type": "stream",
     "text": [
      "Coercion detection accuracy: 70.59%\n"
     ]
    },
    {
     "data": {
      "text/plain": [
       "(       video  coercion_detected  label  match\n",
       " 0    veriff1                  0      0   True\n",
       " 1    veriff2                  1      1   True\n",
       " 2    veriff3                  0      0   True\n",
       " 3    veriff4                  1      1   True\n",
       " 4    veriff5                  1      0  False\n",
       " 5    veriff6                  0      0   True\n",
       " 6    veriff7                  0      0   True\n",
       " 7    veriff8                  0      0   True\n",
       " 8    veriff9                  0      1  False\n",
       " 9   veriff10                  1      1   True\n",
       " 10  veriff11                  0      0   True\n",
       " 11  veriff12                  1      1   True\n",
       " 12  veriff14                  0      0   True\n",
       " 13  veriff16                  1      1   True\n",
       " 14  veriff17                  1      0  False\n",
       " 15  veriff18                  1      0  False\n",
       " 16  veriff19                  0      1  False,\n",
       " np.float64(70.58823529411765))"
      ]
     },
     "execution_count": 98,
     "metadata": {},
     "output_type": "execute_result"
    }
   ],
   "source": [
    "def coercion_check_results(coercion_results, labels):\n",
    "    final_results = pd.DataFrame(coercion_results.groupby(\"video\")['coercion_detected'].mean())\n",
    "    final_results = final_results.reset_index()\n",
    "    final_results.columns = ['video', 'coercion_detected']\n",
    "    final_results['coercion_detected'] = final_results['coercion_detected'].astype(int)\n",
    "    final_results = final_results.merge(labels, on='video', how='right')\n",
    "    final_results['match'] = final_results['coercion_detected'] == final_results['label']\n",
    "    accuracy = final_results['match'].mean() * 100\n",
    "    print(f\"Coercion detection accuracy: {accuracy:.2f}%\")\n",
    "\n",
    "    return final_results, accuracy\n",
    "\n",
    "coercion_check_results(coercion_results, labels)"
   ]
  },
  {
   "cell_type": "markdown",
   "id": "2a2a2c2f",
   "metadata": {},
   "source": [
    "### Testing different detection confidence thresholds\n",
    "\n",
    "I need to check how different detection confidence thresholds affect prediction results and recall. "
   ]
  },
  {
   "cell_type": "code",
   "execution_count": 99,
   "id": "1dce72e7",
   "metadata": {},
   "outputs": [],
   "source": [
    "def test_with_confidence_thresholds(video_paths, model, thresholds):\n",
    "    results_dict = {}\n",
    "    for threshold in thresholds:\n",
    "        print(f\"Testing with confidence threshold: {threshold}\")\n",
    "        coercion_df = make_coercion_check(video_paths, model, conf_threshold=threshold)\n",
    "        coercion_results, accuracy = coercion_check_results(coercion_df, labels)\n",
    "        coercion_df['confidence_threshold'] = threshold\n",
    "        results_dict[threshold] = (coercion_results, accuracy)\n",
    "\n",
    "    return results_dict"
   ]
  },
  {
   "cell_type": "code",
   "execution_count": 100,
   "id": "4da30eba",
   "metadata": {},
   "outputs": [
    {
     "name": "stdout",
     "output_type": "stream",
     "text": [
      "Testing with confidence threshold: 0.3\n",
      "Processing videos\\veriff1.mp4...\n",
      "Found 2 unique persons in videos\\veriff1.mp4\n",
      "\n",
      "Processing videos\\veriff10.mp4...\n",
      "Found 3 unique persons in videos\\veriff10.mp4\n",
      "\n",
      "Processing videos\\veriff11.mp4...\n",
      "Found 3 unique persons in videos\\veriff11.mp4\n",
      "\n",
      "Processing videos\\veriff12.mp4...\n",
      "Found 12 unique persons in videos\\veriff12.mp4\n",
      "\n",
      "Processing videos\\veriff14.mp4...\n",
      "Found 5 unique persons in videos\\veriff14.mp4\n",
      "\n",
      "Processing videos\\veriff16.mp4...\n",
      "Found 9 unique persons in videos\\veriff16.mp4\n",
      "\n",
      "Processing videos\\veriff17.mp4...\n",
      "Found 15 unique persons in videos\\veriff17.mp4\n",
      "\n",
      "Processing videos\\veriff18.mp4...\n",
      "Found 14 unique persons in videos\\veriff18.mp4\n",
      "\n",
      "Processing videos\\veriff19.mp4...\n",
      "Found 2 unique persons in videos\\veriff19.mp4\n",
      "\n",
      "Processing videos\\veriff2.mp4...\n",
      "Found 1 unique persons in videos\\veriff2.mp4\n",
      "\n",
      "Processing videos\\veriff3.mp4...\n",
      "Found 1 unique persons in videos\\veriff3.mp4\n",
      "\n",
      "Processing videos\\veriff4.mp4...\n",
      "Found 160 unique persons in videos\\veriff4.mp4\n",
      "\n",
      "Processing videos\\veriff5.mp4...\n",
      "Found 18 unique persons in videos\\veriff5.mp4\n",
      "\n",
      "Processing videos\\veriff6.mp4...\n",
      "Found 1 unique persons in videos\\veriff6.mp4\n",
      "\n",
      "Processing videos\\veriff7.mp4...\n",
      "Found 1 unique persons in videos\\veriff7.mp4\n",
      "\n",
      "Processing videos\\veriff8.mp4...\n",
      "Found 3 unique persons in videos\\veriff8.mp4\n",
      "\n",
      "Processing videos\\veriff9.mp4...\n",
      "Found 6 unique persons in videos\\veriff9.mp4\n",
      "\n",
      "Processed 17 unique videos with coercion detection results.\n",
      "Coercion detection accuracy: 52.94%\n",
      "Testing with confidence threshold: 0.45\n",
      "Processing videos\\veriff1.mp4...\n",
      "Found 2 unique persons in videos\\veriff1.mp4\n",
      "\n",
      "Processing videos\\veriff10.mp4...\n",
      "Found 3 unique persons in videos\\veriff10.mp4\n",
      "\n",
      "Processing videos\\veriff11.mp4...\n",
      "Found 1 unique persons in videos\\veriff11.mp4\n",
      "\n",
      "Processing videos\\veriff12.mp4...\n",
      "Found 7 unique persons in videos\\veriff12.mp4\n",
      "\n",
      "Processing videos\\veriff14.mp4...\n",
      "Found 2 unique persons in videos\\veriff14.mp4\n",
      "\n",
      "Processing videos\\veriff16.mp4...\n",
      "Found 6 unique persons in videos\\veriff16.mp4\n",
      "\n",
      "Processing videos\\veriff17.mp4...\n",
      "Found 13 unique persons in videos\\veriff17.mp4\n",
      "\n",
      "Processing videos\\veriff18.mp4...\n",
      "Found 13 unique persons in videos\\veriff18.mp4\n",
      "\n",
      "Processing videos\\veriff19.mp4...\n",
      "Found 1 unique persons in videos\\veriff19.mp4\n",
      "\n",
      "Processing videos\\veriff2.mp4...\n",
      "Found 1 unique persons in videos\\veriff2.mp4\n",
      "\n",
      "Processing videos\\veriff3.mp4...\n",
      "Found 1 unique persons in videos\\veriff3.mp4\n",
      "\n",
      "Processing videos\\veriff4.mp4...\n",
      "Found 118 unique persons in videos\\veriff4.mp4\n",
      "\n",
      "Processing videos\\veriff5.mp4...\n",
      "Found 14 unique persons in videos\\veriff5.mp4\n",
      "\n",
      "Processing videos\\veriff6.mp4...\n",
      "Found 1 unique persons in videos\\veriff6.mp4\n",
      "\n",
      "Processing videos\\veriff7.mp4...\n",
      "Found 1 unique persons in videos\\veriff7.mp4\n",
      "\n",
      "Processing videos\\veriff8.mp4...\n",
      "Found 1 unique persons in videos\\veriff8.mp4\n",
      "\n",
      "Processing videos\\veriff9.mp4...\n",
      "Found 4 unique persons in videos\\veriff9.mp4\n",
      "\n",
      "Processed 17 unique videos with coercion detection results.\n",
      "Coercion detection accuracy: 58.82%\n",
      "Testing with confidence threshold: 0.5\n",
      "Processing videos\\veriff1.mp4...\n",
      "Found 2 unique persons in videos\\veriff1.mp4\n",
      "\n",
      "Processing videos\\veriff10.mp4...\n",
      "Found 3 unique persons in videos\\veriff10.mp4\n",
      "\n",
      "Processing videos\\veriff11.mp4...\n",
      "Found 1 unique persons in videos\\veriff11.mp4\n",
      "\n",
      "Processing videos\\veriff12.mp4...\n",
      "Found 7 unique persons in videos\\veriff12.mp4\n",
      "\n",
      "Processing videos\\veriff14.mp4...\n",
      "Found 3 unique persons in videos\\veriff14.mp4\n",
      "\n",
      "Processing videos\\veriff16.mp4...\n",
      "Found 4 unique persons in videos\\veriff16.mp4\n",
      "\n",
      "Processing videos\\veriff17.mp4...\n",
      "Found 13 unique persons in videos\\veriff17.mp4\n",
      "\n",
      "Processing videos\\veriff18.mp4...\n",
      "Found 9 unique persons in videos\\veriff18.mp4\n",
      "\n",
      "Processing videos\\veriff19.mp4...\n",
      "Found 1 unique persons in videos\\veriff19.mp4\n",
      "\n",
      "Processing videos\\veriff2.mp4...\n",
      "Found 1 unique persons in videos\\veriff2.mp4\n",
      "\n",
      "Processing videos\\veriff3.mp4...\n",
      "Found 1 unique persons in videos\\veriff3.mp4\n",
      "\n",
      "Processing videos\\veriff4.mp4...\n",
      "Found 116 unique persons in videos\\veriff4.mp4\n",
      "\n",
      "Processing videos\\veriff5.mp4...\n",
      "Found 14 unique persons in videos\\veriff5.mp4\n",
      "\n",
      "Processing videos\\veriff6.mp4...\n",
      "Found 1 unique persons in videos\\veriff6.mp4\n",
      "\n",
      "Processing videos\\veriff7.mp4...\n",
      "Found 1 unique persons in videos\\veriff7.mp4\n",
      "\n",
      "Processing videos\\veriff8.mp4...\n",
      "Found 1 unique persons in videos\\veriff8.mp4\n",
      "\n",
      "Processing videos\\veriff9.mp4...\n",
      "Found 2 unique persons in videos\\veriff9.mp4\n",
      "\n",
      "Processed 17 unique videos with coercion detection results.\n",
      "Coercion detection accuracy: 58.82%\n",
      "Testing with confidence threshold: 0.55\n",
      "Processing videos\\veriff1.mp4...\n",
      "Found 2 unique persons in videos\\veriff1.mp4\n",
      "\n",
      "Processing videos\\veriff10.mp4...\n",
      "Found 3 unique persons in videos\\veriff10.mp4\n",
      "\n",
      "Processing videos\\veriff11.mp4...\n",
      "Found 1 unique persons in videos\\veriff11.mp4\n",
      "\n",
      "Processing videos\\veriff12.mp4...\n",
      "Found 8 unique persons in videos\\veriff12.mp4\n",
      "\n",
      "Processing videos\\veriff14.mp4...\n",
      "Found 2 unique persons in videos\\veriff14.mp4\n",
      "\n",
      "Processing videos\\veriff16.mp4...\n",
      "Found 4 unique persons in videos\\veriff16.mp4\n",
      "\n",
      "Processing videos\\veriff17.mp4...\n",
      "Found 11 unique persons in videos\\veriff17.mp4\n",
      "\n",
      "Processing videos\\veriff18.mp4...\n",
      "Found 10 unique persons in videos\\veriff18.mp4\n",
      "\n",
      "Processing videos\\veriff19.mp4...\n",
      "Found 1 unique persons in videos\\veriff19.mp4\n",
      "\n",
      "Processing videos\\veriff2.mp4...\n",
      "Found 1 unique persons in videos\\veriff2.mp4\n",
      "\n",
      "Processing videos\\veriff3.mp4...\n",
      "Found 1 unique persons in videos\\veriff3.mp4\n",
      "\n",
      "Processing videos\\veriff4.mp4...\n",
      "Found 104 unique persons in videos\\veriff4.mp4\n",
      "\n",
      "Processing videos\\veriff5.mp4...\n",
      "Found 13 unique persons in videos\\veriff5.mp4\n",
      "\n",
      "Processing videos\\veriff6.mp4...\n",
      "Found 1 unique persons in videos\\veriff6.mp4\n",
      "\n",
      "Processing videos\\veriff7.mp4...\n",
      "Found 1 unique persons in videos\\veriff7.mp4\n",
      "\n",
      "Processing videos\\veriff8.mp4...\n",
      "Found 1 unique persons in videos\\veriff8.mp4\n",
      "\n",
      "Processing videos\\veriff9.mp4...\n",
      "Found 2 unique persons in videos\\veriff9.mp4\n",
      "\n",
      "Processed 17 unique videos with coercion detection results.\n",
      "Coercion detection accuracy: 58.82%\n",
      "Testing with confidence threshold: 0.6\n",
      "Processing videos\\veriff1.mp4...\n",
      "Found 1 unique persons in videos\\veriff1.mp4\n",
      "\n",
      "Processing videos\\veriff10.mp4...\n",
      "Found 2 unique persons in videos\\veriff10.mp4\n",
      "\n",
      "Processing videos\\veriff11.mp4...\n",
      "Found 1 unique persons in videos\\veriff11.mp4\n",
      "\n",
      "Processing videos\\veriff12.mp4...\n",
      "Found 7 unique persons in videos\\veriff12.mp4\n",
      "\n",
      "Processing videos\\veriff14.mp4...\n",
      "Found 1 unique persons in videos\\veriff14.mp4\n",
      "\n",
      "Processing videos\\veriff16.mp4...\n",
      "Found 2 unique persons in videos\\veriff16.mp4\n",
      "\n",
      "Processing videos\\veriff17.mp4...\n",
      "Found 11 unique persons in videos\\veriff17.mp4\n",
      "\n",
      "Processing videos\\veriff18.mp4...\n",
      "Found 8 unique persons in videos\\veriff18.mp4\n",
      "\n",
      "Processing videos\\veriff19.mp4...\n",
      "Found 1 unique persons in videos\\veriff19.mp4\n",
      "\n",
      "Processing videos\\veriff2.mp4...\n",
      "Found 2 unique persons in videos\\veriff2.mp4\n",
      "\n",
      "Processing videos\\veriff3.mp4...\n",
      "Found 1 unique persons in videos\\veriff3.mp4\n",
      "\n",
      "Processing videos\\veriff4.mp4...\n",
      "Found 96 unique persons in videos\\veriff4.mp4\n",
      "\n",
      "Processing videos\\veriff5.mp4...\n",
      "Found 11 unique persons in videos\\veriff5.mp4\n",
      "\n",
      "Processing videos\\veriff6.mp4...\n",
      "Found 1 unique persons in videos\\veriff6.mp4\n",
      "\n",
      "Processing videos\\veriff7.mp4...\n",
      "Found 1 unique persons in videos\\veriff7.mp4\n",
      "\n",
      "Processing videos\\veriff8.mp4...\n",
      "Found 1 unique persons in videos\\veriff8.mp4\n",
      "\n",
      "Processing videos\\veriff9.mp4...\n",
      "Found 1 unique persons in videos\\veriff9.mp4\n",
      "\n",
      "Processed 17 unique videos with coercion detection results.\n",
      "Coercion detection accuracy: 70.59%\n",
      "Testing with confidence threshold: 0.65\n",
      "Processing videos\\veriff1.mp4...\n",
      "Found 1 unique persons in videos\\veriff1.mp4\n",
      "\n",
      "Processing videos\\veriff10.mp4...\n",
      "Found 2 unique persons in videos\\veriff10.mp4\n",
      "\n",
      "Processing videos\\veriff11.mp4...\n",
      "Found 1 unique persons in videos\\veriff11.mp4\n",
      "\n",
      "Processing videos\\veriff12.mp4...\n",
      "Found 5 unique persons in videos\\veriff12.mp4\n",
      "\n",
      "Processing videos\\veriff14.mp4...\n",
      "Found 2 unique persons in videos\\veriff14.mp4\n",
      "\n",
      "Processing videos\\veriff16.mp4...\n",
      "Found 2 unique persons in videos\\veriff16.mp4\n",
      "\n",
      "Processing videos\\veriff17.mp4...\n",
      "Found 11 unique persons in videos\\veriff17.mp4\n",
      "\n",
      "Processing videos\\veriff18.mp4...\n",
      "Found 7 unique persons in videos\\veriff18.mp4\n",
      "\n",
      "Processing videos\\veriff19.mp4...\n",
      "Found 1 unique persons in videos\\veriff19.mp4\n",
      "\n",
      "Processing videos\\veriff2.mp4...\n",
      "Found 2 unique persons in videos\\veriff2.mp4\n",
      "\n",
      "Processing videos\\veriff3.mp4...\n",
      "Found 1 unique persons in videos\\veriff3.mp4\n",
      "\n",
      "Processing videos\\veriff4.mp4...\n",
      "Found 93 unique persons in videos\\veriff4.mp4\n",
      "\n",
      "Processing videos\\veriff5.mp4...\n",
      "Found 11 unique persons in videos\\veriff5.mp4\n",
      "\n",
      "Processing videos\\veriff6.mp4...\n",
      "Found 1 unique persons in videos\\veriff6.mp4\n",
      "\n",
      "Processing videos\\veriff7.mp4...\n",
      "Found 2 unique persons in videos\\veriff7.mp4\n",
      "\n",
      "Processing videos\\veriff8.mp4...\n",
      "Found 1 unique persons in videos\\veriff8.mp4\n",
      "\n",
      "Processing videos\\veriff9.mp4...\n",
      "Found 1 unique persons in videos\\veriff9.mp4\n",
      "\n",
      "Processed 17 unique videos with coercion detection results.\n",
      "Coercion detection accuracy: 58.82%\n",
      "\n",
      "Confidence Threshold: 0.3\n",
      "Coercion Detection Accuracy: 52.94%\n",
      "\n",
      "Confidence Threshold: 0.45\n",
      "Coercion Detection Accuracy: 58.82%\n",
      "\n",
      "Confidence Threshold: 0.5\n",
      "Coercion Detection Accuracy: 58.82%\n",
      "\n",
      "Confidence Threshold: 0.55\n",
      "Coercion Detection Accuracy: 58.82%\n",
      "\n",
      "Confidence Threshold: 0.6\n",
      "Coercion Detection Accuracy: 70.59%\n",
      "\n",
      "Confidence Threshold: 0.65\n",
      "Coercion Detection Accuracy: 58.82%\n"
     ]
    }
   ],
   "source": [
    "video_paths = glob.glob(\"videos/veriff*.mp4\")\n",
    "\n",
    "different_confidences_result = test_with_confidence_thresholds(video_paths, model, thresholds=[0.3, 0.45, 0.5, 0.55, 0.6, 0.65])\n",
    "# different_confidences_result = test_with_confidence_thresholds(video_paths, model, thresholds=[0.3])\n",
    "\n",
    "for threshold, (coercion_results, accuracy) in different_confidences_result.items():\n",
    "    print(f\"\\nConfidence Threshold: {threshold}\")\n",
    "    print(f\"Coercion Detection Accuracy: {accuracy:.2f}%\")"
   ]
  },
  {
   "cell_type": "markdown",
   "id": "327df565",
   "metadata": {},
   "source": [
    "## Metrics\n",
    "\n",
    "Visualizing confusion matrices and looking at prediction accuracy metrics (accuracy, precision, recall, F1-score)."
   ]
  },
  {
   "cell_type": "code",
   "execution_count": 103,
   "id": "aa44865c",
   "metadata": {},
   "outputs": [],
   "source": [
    "import seaborn as sns\n",
    "from sklearn.metrics import confusion_matrix, ConfusionMatrixDisplay\n",
    "\n",
    "import matplotlib.pyplot as plt"
   ]
  },
  {
   "cell_type": "code",
   "execution_count": 109,
   "id": "ce995be5",
   "metadata": {},
   "outputs": [],
   "source": [
    "def plot_confusion_matrix(coercion_results, threshold):\n",
    "    # Create confusion matrix\n",
    "    cm = confusion_matrix(coercion_results['label'], coercion_results['coercion_detected'])\n",
    "\n",
    "    # Plot with better formatting\n",
    "    plt.figure(figsize=(8, 6))\n",
    "    disp = ConfusionMatrixDisplay(\n",
    "        confusion_matrix=cm,\n",
    "        display_labels=['No Coercion', 'Coercion']\n",
    "    )\n",
    "    disp.plot(cmap=plt.cm.Blues, values_format='d')\n",
    "    plt.title(f'Coercion Detection Confusion Matrix (Threshold: {threshold})')\n",
    "    plt.ylabel('True Label')\n",
    "    plt.xlabel('Predicted Label')\n",
    "    plt.tight_layout()\n",
    "    plt.show()\n",
    "\n",
    "    # Calculate and display metrics\n",
    "    tn, fp, fn, tp = cm.ravel()\n",
    "    accuracy = (tp + tn) / (tp + tn + fp + fn)\n",
    "    precision = tp / (tp + fp) if (tp + fp) > 0 else 0\n",
    "    recall = tp / (tp + fn) if (tp + fn) > 0 else 0\n",
    "    f1 = 2 * precision * recall / (precision + recall) if (precision + recall) > 0 else 0\n",
    "\n",
    "    print(f\"Accuracy: {accuracy:.2f}\")\n",
    "    print(f\"Precision: {precision:.2f}\")\n",
    "    print(f\"Recall: {recall:.2f}\")\n",
    "    print(f\"F1 Score: {f1:.2f}\")"
   ]
  },
  {
   "cell_type": "code",
   "execution_count": 111,
   "id": "62b635d6",
   "metadata": {},
   "outputs": [
    {
     "name": "stdout",
     "output_type": "stream",
     "text": [
      "\n",
      "\n",
      "\n",
      "---- Confidence Threshold: 0.3 ----\n",
      "Coercion Detection Accuracy: 52.94%\n",
      "     video  coercion_detected  label  match\n",
      "0  veriff1                  1      0  False\n",
      "1  veriff2                  0      1  False\n",
      "2  veriff3                  0      0   True\n",
      "3  veriff4                  1      1   True\n",
      "4  veriff5                  1      0  False\n"
     ]
    },
    {
     "data": {
      "text/plain": [
       "<Figure size 800x600 with 0 Axes>"
      ]
     },
     "metadata": {},
     "output_type": "display_data"
    },
    {
     "data": {
      "image/png": "[encoded data removed]",
      "text/plain": [
       "<Figure size 640x480 with 2 Axes>"
      ]
     },
     "metadata": {},
     "output_type": "display_data"
    },
    {
     "name": "stdout",
     "output_type": "stream",
     "text": [
      "Accuracy: 0.53\n",
      "Precision: 0.46\n",
      "Recall: 0.86\n",
      "F1 Score: 0.60\n",
      "\n",
      "\n",
      "\n",
      "---- Confidence Threshold: 0.45 ----\n",
      "Coercion Detection Accuracy: 58.82%\n",
      "     video  coercion_detected  label  match\n",
      "0  veriff1                  1      0  False\n",
      "1  veriff2                  0      1  False\n",
      "2  veriff3                  0      0   True\n",
      "3  veriff4                  1      1   True\n",
      "4  veriff5                  1      0  False\n"
     ]
    },
    {
     "data": {
      "text/plain": [
       "<Figure size 800x600 with 0 Axes>"
      ]
     },
     "metadata": {},
     "output_type": "display_data"
    },
    {
     "data": {
      "image/png": "[encoded data removed]",
      "text/plain": [
       "<Figure size 640x480 with 2 Axes>"
      ]
     },
     "metadata": {},
     "output_type": "display_data"
    },
    {
     "name": "stdout",
     "output_type": "stream",
     "text": [
      "Accuracy: 0.59\n",
      "Precision: 0.50\n",
      "Recall: 0.71\n",
      "F1 Score: 0.59\n",
      "\n",
      "\n",
      "\n",
      "---- Confidence Threshold: 0.5 ----\n",
      "Coercion Detection Accuracy: 58.82%\n",
      "     video  coercion_detected  label  match\n",
      "0  veriff1                  1      0  False\n",
      "1  veriff2                  0      1  False\n",
      "2  veriff3                  0      0   True\n",
      "3  veriff4                  1      1   True\n",
      "4  veriff5                  1      0  False\n"
     ]
    },
    {
     "data": {
      "text/plain": [
       "<Figure size 800x600 with 0 Axes>"
      ]
     },
     "metadata": {},
     "output_type": "display_data"
    },
    {
     "data": {
      "image/png": "[encoded data removed]",
      "text/plain": [
       "<Figure size 640x480 with 2 Axes>"
      ]
     },
     "metadata": {},
     "output_type": "display_data"
    },
    {
     "name": "stdout",
     "output_type": "stream",
     "text": [
      "Accuracy: 0.59\n",
      "Precision: 0.50\n",
      "Recall: 0.71\n",
      "F1 Score: 0.59\n",
      "\n",
      "\n",
      "\n",
      "---- Confidence Threshold: 0.55 ----\n",
      "Coercion Detection Accuracy: 58.82%\n",
      "     video  coercion_detected  label  match\n",
      "0  veriff1                  1      0  False\n",
      "1  veriff2                  0      1  False\n",
      "2  veriff3                  0      0   True\n",
      "3  veriff4                  1      1   True\n",
      "4  veriff5                  1      0  False\n"
     ]
    },
    {
     "data": {
      "text/plain": [
       "<Figure size 800x600 with 0 Axes>"
      ]
     },
     "metadata": {},
     "output_type": "display_data"
    },
    {
     "data": {
      "image/png": "[encoded data removed]",
      "text/plain": [
       "<Figure size 640x480 with 2 Axes>"
      ]
     },
     "metadata": {},
     "output_type": "display_data"
    },
    {
     "name": "stdout",
     "output_type": "stream",
     "text": [
      "Accuracy: 0.59\n",
      "Precision: 0.50\n",
      "Recall: 0.71\n",
      "F1 Score: 0.59\n",
      "\n",
      "\n",
      "\n",
      "---- Confidence Threshold: 0.6 ----\n",
      "Coercion Detection Accuracy: 70.59%\n",
      "     video  coercion_detected  label  match\n",
      "0  veriff1                  0      0   True\n",
      "1  veriff2                  1      1   True\n",
      "2  veriff3                  0      0   True\n",
      "3  veriff4                  1      1   True\n",
      "4  veriff5                  1      0  False\n"
     ]
    },
    {
     "data": {
      "text/plain": [
       "<Figure size 800x600 with 0 Axes>"
      ]
     },
     "metadata": {},
     "output_type": "display_data"
    },
    {
     "data": {
      "image/png": "[encoded data removed]",
      "text/plain": [
       "<Figure size 640x480 with 2 Axes>"
      ]
     },
     "metadata": {},
     "output_type": "display_data"
    },
    {
     "name": "stdout",
     "output_type": "stream",
     "text": [
      "Accuracy: 0.71\n",
      "Precision: 0.62\n",
      "Recall: 0.71\n",
      "F1 Score: 0.67\n",
      "\n",
      "\n",
      "\n",
      "---- Confidence Threshold: 0.65 ----\n",
      "Coercion Detection Accuracy: 58.82%\n",
      "     video  coercion_detected  label  match\n",
      "0  veriff1                  0      0   True\n",
      "1  veriff2                  1      1   True\n",
      "2  veriff3                  0      0   True\n",
      "3  veriff4                  1      1   True\n",
      "4  veriff5                  1      0  False\n"
     ]
    },
    {
     "data": {
      "text/plain": [
       "<Figure size 800x600 with 0 Axes>"
      ]
     },
     "metadata": {},
     "output_type": "display_data"
    },
    {
     "data": {
      "image/png": "[encoded data removed]",
      "text/plain": [
       "<Figure size 640x480 with 2 Axes>"
      ]
     },
     "metadata": {},
     "output_type": "display_data"
    },
    {
     "name": "stdout",
     "output_type": "stream",
     "text": [
      "Accuracy: 0.59\n",
      "Precision: 0.50\n",
      "Recall: 0.71\n",
      "F1 Score: 0.59\n"
     ]
    }
   ],
   "source": [
    "for threshold, (coercion_results, accuracy) in different_confidences_result.items():\n",
    "    print(f\"\\n\\n\\n---- Confidence Threshold: {threshold} ----\")\n",
    "    print(f\"Coercion Detection Accuracy: {accuracy:.2f}%\")\n",
    "    print(coercion_results.head())\n",
    "    plot_confusion_matrix(coercion_results, threshold)\n"
   ]
  },
  {
   "cell_type": "markdown",
   "id": "55acee30",
   "metadata": {},
   "source": [
    "Based on this quite limited dataset and analysis, I would go with either the confidence=0.3 for great recall (meaning I'd catch most coerced videos) or confidence=0.6 (giving the best F1-score and balance between recall and precision, meaning we wouldn't bother non-coerced videos with false positives that much) models. Considering that the real-life dataset might be imbalanced towards there being fewer coerced videos, I would go with a higher confidence threshold conf=0.6."
   ]
  },
  {
   "cell_type": "markdown",
   "id": "c5a73f74",
   "metadata": {},
   "source": [
    "# Results"
   ]
  },
  {
   "cell_type": "markdown",
   "id": "2c37c0db",
   "metadata": {},
   "source": [
    "I built a proof-of-concept for a coercion detection system that uses object-detection and tracking ML models. I then also fine-tuned the confidence threshold for object (face) detection and visualized its prediction accuracy metrics. I finally settled on a YOLOv8 (conf=0.6) + Deep SORT system and built the entire app around that. "
   ]
  }
 ],
 "metadata": {
  "kernelspec": {
   "display_name": "coercion-check",
   "language": "python",
   "name": "python3"
  },
  "language_info": {
   "codemirror_mode": {
    "name": "ipython",
    "version": 3
   },
   "file_extension": ".py",
   "mimetype": "text/x-python",
   "name": "python",
   "nbconvert_exporter": "python",
   "pygments_lexer": "ipython3",
   "version": "3.9.23"
  }
 },
 "nbformat": 4,
 "nbformat_minor": 5
}
